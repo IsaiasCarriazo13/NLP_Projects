{
  "cells": [
    {
      "cell_type": "markdown",
      "metadata": {
        "id": "view-in-github",
        "colab_type": "text"
      },
      "source": [
        "<a href=\"https://colab.research.google.com/github/IsaiasCarriazo13/NLP_Projects/blob/main/Final_Project_main.ipynb\" target=\"_parent\"><img src=\"https://colab.research.google.com/assets/colab-badge.svg\" alt=\"Open In Colab\"/></a>"
      ]
    },
    {
      "cell_type": "markdown",
      "metadata": {
        "id": "QDy3qlQ2NEMf"
      },
      "source": [
        "# Main.py group Assignment  "
      ]
    },
    {
      "cell_type": "code",
      "execution_count": null,
      "metadata": {
        "colab": {
          "base_uri": "https://localhost:8080/",
          "height": 67
        },
        "id": "OQLCJN4dMUQf",
        "outputId": "51441da0-59f4-415d-e45f-38d5ada2cce7"
      },
      "outputs": [
        {
          "output_type": "execute_result",
          "data": {
            "text/plain": [
              "<IPython.core.display.HTML object>"
            ],
            "text/html": [
              "\n",
              "<div style=\"background-color: #012020; padding: 10px; text-align: center; font-size: 24px; color: #f0f0f0; font-family: 'Courier New', Courier, monospace; letter-spacing: 2px; text-shadow: 2px 2px 4px #aaa;\">\n",
              "    <b>DATA VISUALIZATION & TEXT MINING</b>\n",
              "</div>\n"
            ]
          },
          "metadata": {},
          "execution_count": 1
        }
      ],
      "source": [
        "from IPython.display import HTML\n",
        "\n",
        "# HTML and CSS code to make the title look good\n",
        "title_html = '''\n",
        "<div style=\"background-color: #012020; padding: 10px; text-align: center; font-size: 24px; color: #f0f0f0; font-family: 'Courier New', Courier, monospace; letter-spacing: 2px; text-shadow: 2px 2px 4px #aaa;\">\n",
        "    <b>DATA VISUALIZATION & TEXT MINING</b>\n",
        "</div>\n",
        "'''\n",
        "HTML(title_html)"
      ]
    },
    {
      "cell_type": "markdown",
      "metadata": {
        "id": "uM2VcD5sbhgd"
      },
      "source": [
        "#Data Visualization and Exploratory Analysis"
      ]
    },
    {
      "cell_type": "markdown",
      "metadata": {
        "id": "sfO3SU9N5S1c"
      },
      "source": [
        "\n",
        "The **re3d dataset** was developed by Aleph Insights and Committed Software for the Defence Science and Technology Laboratory (DSTL). They generated a 'gold standard' dataset for training and validating natural language processing (NLP) in machine learning.\n",
        "This is specifically tailored for defense and security intelligence analysis and uses mainly documents focused on the conflict in **Syria and Iraq**."
      ]
    },
    {
      "cell_type": "code",
      "execution_count": null,
      "metadata": {
        "id": "5Fr1luX7DUgR"
      },
      "outputs": [],
      "source": [
        "%%capture\n",
        "!pip install requests beautifulsoup4 seqeval"
      ]
    },
    {
      "cell_type": "code",
      "execution_count": null,
      "metadata": {
        "id": "nArYWa3YbXDg"
      },
      "outputs": [],
      "source": [
        "%%capture\n",
        "!python -m spacy download en_core_web_lg"
      ]
    },
    {
      "cell_type": "markdown",
      "metadata": {
        "id": "5TXi3UcJbywz"
      },
      "source": [
        "### Data Processing"
      ]
    },
    {
      "cell_type": "markdown",
      "metadata": {
        "id": "f8YhclBIb53D"
      },
      "source": [
        "We obtained our dataset in .conll format directly from the GitHub URL, eliminating the need to download the files to a local machine.\n",
        "Given the topic of the documents used in our dataset, some of the sentences have arabic characters, this characters might add some noise to the analysis and given that are only the translation of some names that are already indicated in the phrases we will proceed to remove them from our data. First, creating a dataframe to perform some manipulations:"
      ]
    },
    {
      "cell_type": "code",
      "execution_count": null,
      "metadata": {
        "id": "qPyhysWlcSx4"
      },
      "outputs": [],
      "source": [
        "import pandas as pd\n",
        "import numpy as np\n",
        "import requests\n",
        "import codecs\n",
        "\n",
        "from bs4 import BeautifulSoup"
      ]
    },
    {
      "cell_type": "code",
      "execution_count": null,
      "metadata": {
        "id": "b59g-JB9bvug"
      },
      "outputs": [],
      "source": [
        "url_raw_test = 'https://raw.githubusercontent.com/nluninja/nlp_datasets/main/re3d/data/re3d-test.conll'\n",
        "url_raw_train = 'https://raw.githubusercontent.com/nluninja/nlp_datasets/main/re3d/data/re3d-train.conll'"
      ]
    },
    {
      "cell_type": "code",
      "execution_count": null,
      "metadata": {
        "id": "BQBfT73dcNv4"
      },
      "outputs": [],
      "source": [
        "data_test_1 = pd.read_csv(url_raw_test, sep='\\t', header=None, names=['Token', 'Tag'], quoting=3, skip_blank_lines = False)\n",
        "data_train_1 = pd.read_csv(url_raw_train, sep='\\t', header=None, names=['Token', 'Tag'], quoting=3, skip_blank_lines = False)"
      ]
    },
    {
      "cell_type": "markdown",
      "metadata": {
        "id": "_R2RxssHcm_T"
      },
      "source": [
        "We created a function to get the *utf-8* encoding of the words in our data set and add it as a column in our dataframe."
      ]
    },
    {
      "cell_type": "code",
      "execution_count": null,
      "metadata": {
        "id": "z64breNRcjbD"
      },
      "outputs": [],
      "source": [
        "def encode_to_utf8(text):\n",
        "    if pd.notna(text):\n",
        "        return text.encode('utf-8')\n",
        "    return text"
      ]
    },
    {
      "cell_type": "code",
      "execution_count": null,
      "metadata": {
        "id": "jMWd9E4AdECE"
      },
      "outputs": [],
      "source": [
        "data_test_1['Encoding(UTF-8)'] = data_test_1['Token'].apply(encode_to_utf8)\n",
        "data_train_1['Encoding(UTF-8)'] = data_train_1['Token'].apply(encode_to_utf8)"
      ]
    },
    {
      "cell_type": "code",
      "execution_count": null,
      "metadata": {
        "colab": {
          "base_uri": "https://localhost:8080/",
          "height": 519
        },
        "id": "UYWbxI89eg1d",
        "outputId": "5dc0fef5-fe85-45e6-e952-65b34fe291be"
      },
      "outputs": [
        {
          "output_type": "execute_result",
          "data": {
            "text/plain": [
              "        Token  Tag Encoding(UTF-8)\n",
              "0         NaN  NaN             NaN\n",
              "1   Operation    O    b'Operation'\n",
              "2       Steel    O        b'Steel'\n",
              "3     Curtain    O      b'Curtain'\n",
              "4           (    O            b'('\n",
              "5      Arabic    O       b'Arabic'\n",
              "6           :    O            b':'\n",
              "7           ا    O     b'\\xd8\\xa7'\n",
              "8           ل    O     b'\\xd9\\x84'\n",
              "9           ح    O     b'\\xd8\\xad'\n",
              "10          ج    O     b'\\xd8\\xac'\n",
              "11          ا    O     b'\\xd8\\xa7'\n",
              "12          ب    O     b'\\xd8\\xa8'\n",
              "13          ا    O     b'\\xd8\\xa7'\n",
              "14          ل    O     b'\\xd9\\x84'"
            ],
            "text/html": [
              "\n",
              "  <div id=\"df-5793b974-68c4-4ab1-b961-a950c0f53559\" class=\"colab-df-container\">\n",
              "    <div>\n",
              "<style scoped>\n",
              "    .dataframe tbody tr th:only-of-type {\n",
              "        vertical-align: middle;\n",
              "    }\n",
              "\n",
              "    .dataframe tbody tr th {\n",
              "        vertical-align: top;\n",
              "    }\n",
              "\n",
              "    .dataframe thead th {\n",
              "        text-align: right;\n",
              "    }\n",
              "</style>\n",
              "<table border=\"1\" class=\"dataframe\">\n",
              "  <thead>\n",
              "    <tr style=\"text-align: right;\">\n",
              "      <th></th>\n",
              "      <th>Token</th>\n",
              "      <th>Tag</th>\n",
              "      <th>Encoding(UTF-8)</th>\n",
              "    </tr>\n",
              "  </thead>\n",
              "  <tbody>\n",
              "    <tr>\n",
              "      <th>0</th>\n",
              "      <td>NaN</td>\n",
              "      <td>NaN</td>\n",
              "      <td>NaN</td>\n",
              "    </tr>\n",
              "    <tr>\n",
              "      <th>1</th>\n",
              "      <td>Operation</td>\n",
              "      <td>O</td>\n",
              "      <td>b'Operation'</td>\n",
              "    </tr>\n",
              "    <tr>\n",
              "      <th>2</th>\n",
              "      <td>Steel</td>\n",
              "      <td>O</td>\n",
              "      <td>b'Steel'</td>\n",
              "    </tr>\n",
              "    <tr>\n",
              "      <th>3</th>\n",
              "      <td>Curtain</td>\n",
              "      <td>O</td>\n",
              "      <td>b'Curtain'</td>\n",
              "    </tr>\n",
              "    <tr>\n",
              "      <th>4</th>\n",
              "      <td>(</td>\n",
              "      <td>O</td>\n",
              "      <td>b'('</td>\n",
              "    </tr>\n",
              "    <tr>\n",
              "      <th>5</th>\n",
              "      <td>Arabic</td>\n",
              "      <td>O</td>\n",
              "      <td>b'Arabic'</td>\n",
              "    </tr>\n",
              "    <tr>\n",
              "      <th>6</th>\n",
              "      <td>:</td>\n",
              "      <td>O</td>\n",
              "      <td>b':'</td>\n",
              "    </tr>\n",
              "    <tr>\n",
              "      <th>7</th>\n",
              "      <td>ا</td>\n",
              "      <td>O</td>\n",
              "      <td>b'\\xd8\\xa7'</td>\n",
              "    </tr>\n",
              "    <tr>\n",
              "      <th>8</th>\n",
              "      <td>ل</td>\n",
              "      <td>O</td>\n",
              "      <td>b'\\xd9\\x84'</td>\n",
              "    </tr>\n",
              "    <tr>\n",
              "      <th>9</th>\n",
              "      <td>ح</td>\n",
              "      <td>O</td>\n",
              "      <td>b'\\xd8\\xad'</td>\n",
              "    </tr>\n",
              "    <tr>\n",
              "      <th>10</th>\n",
              "      <td>ج</td>\n",
              "      <td>O</td>\n",
              "      <td>b'\\xd8\\xac'</td>\n",
              "    </tr>\n",
              "    <tr>\n",
              "      <th>11</th>\n",
              "      <td>ا</td>\n",
              "      <td>O</td>\n",
              "      <td>b'\\xd8\\xa7'</td>\n",
              "    </tr>\n",
              "    <tr>\n",
              "      <th>12</th>\n",
              "      <td>ب</td>\n",
              "      <td>O</td>\n",
              "      <td>b'\\xd8\\xa8'</td>\n",
              "    </tr>\n",
              "    <tr>\n",
              "      <th>13</th>\n",
              "      <td>ا</td>\n",
              "      <td>O</td>\n",
              "      <td>b'\\xd8\\xa7'</td>\n",
              "    </tr>\n",
              "    <tr>\n",
              "      <th>14</th>\n",
              "      <td>ل</td>\n",
              "      <td>O</td>\n",
              "      <td>b'\\xd9\\x84'</td>\n",
              "    </tr>\n",
              "  </tbody>\n",
              "</table>\n",
              "</div>\n",
              "    <div class=\"colab-df-buttons\">\n",
              "\n",
              "  <div class=\"colab-df-container\">\n",
              "    <button class=\"colab-df-convert\" onclick=\"convertToInteractive('df-5793b974-68c4-4ab1-b961-a950c0f53559')\"\n",
              "            title=\"Convert this dataframe to an interactive table.\"\n",
              "            style=\"display:none;\">\n",
              "\n",
              "  <svg xmlns=\"http://www.w3.org/2000/svg\" height=\"24px\" viewBox=\"0 -960 960 960\">\n",
              "    <path d=\"M120-120v-720h720v720H120Zm60-500h600v-160H180v160Zm220 220h160v-160H400v160Zm0 220h160v-160H400v160ZM180-400h160v-160H180v160Zm440 0h160v-160H620v160ZM180-180h160v-160H180v160Zm440 0h160v-160H620v160Z\"/>\n",
              "  </svg>\n",
              "    </button>\n",
              "\n",
              "  <style>\n",
              "    .colab-df-container {\n",
              "      display:flex;\n",
              "      gap: 12px;\n",
              "    }\n",
              "\n",
              "    .colab-df-convert {\n",
              "      background-color: #E8F0FE;\n",
              "      border: none;\n",
              "      border-radius: 50%;\n",
              "      cursor: pointer;\n",
              "      display: none;\n",
              "      fill: #1967D2;\n",
              "      height: 32px;\n",
              "      padding: 0 0 0 0;\n",
              "      width: 32px;\n",
              "    }\n",
              "\n",
              "    .colab-df-convert:hover {\n",
              "      background-color: #E2EBFA;\n",
              "      box-shadow: 0px 1px 2px rgba(60, 64, 67, 0.3), 0px 1px 3px 1px rgba(60, 64, 67, 0.15);\n",
              "      fill: #174EA6;\n",
              "    }\n",
              "\n",
              "    .colab-df-buttons div {\n",
              "      margin-bottom: 4px;\n",
              "    }\n",
              "\n",
              "    [theme=dark] .colab-df-convert {\n",
              "      background-color: #3B4455;\n",
              "      fill: #D2E3FC;\n",
              "    }\n",
              "\n",
              "    [theme=dark] .colab-df-convert:hover {\n",
              "      background-color: #434B5C;\n",
              "      box-shadow: 0px 1px 3px 1px rgba(0, 0, 0, 0.15);\n",
              "      filter: drop-shadow(0px 1px 2px rgba(0, 0, 0, 0.3));\n",
              "      fill: #FFFFFF;\n",
              "    }\n",
              "  </style>\n",
              "\n",
              "    <script>\n",
              "      const buttonEl =\n",
              "        document.querySelector('#df-5793b974-68c4-4ab1-b961-a950c0f53559 button.colab-df-convert');\n",
              "      buttonEl.style.display =\n",
              "        google.colab.kernel.accessAllowed ? 'block' : 'none';\n",
              "\n",
              "      async function convertToInteractive(key) {\n",
              "        const element = document.querySelector('#df-5793b974-68c4-4ab1-b961-a950c0f53559');\n",
              "        const dataTable =\n",
              "          await google.colab.kernel.invokeFunction('convertToInteractive',\n",
              "                                                    [key], {});\n",
              "        if (!dataTable) return;\n",
              "\n",
              "        const docLinkHtml = 'Like what you see? Visit the ' +\n",
              "          '<a target=\"_blank\" href=https://colab.research.google.com/notebooks/data_table.ipynb>data table notebook</a>'\n",
              "          + ' to learn more about interactive tables.';\n",
              "        element.innerHTML = '';\n",
              "        dataTable['output_type'] = 'display_data';\n",
              "        await google.colab.output.renderOutput(dataTable, element);\n",
              "        const docLink = document.createElement('div');\n",
              "        docLink.innerHTML = docLinkHtml;\n",
              "        element.appendChild(docLink);\n",
              "      }\n",
              "    </script>\n",
              "  </div>\n",
              "\n",
              "\n",
              "<div id=\"df-9ac1be62-b1cc-4a1f-a278-5a972d733001\">\n",
              "  <button class=\"colab-df-quickchart\" onclick=\"quickchart('df-9ac1be62-b1cc-4a1f-a278-5a972d733001')\"\n",
              "            title=\"Suggest charts\"\n",
              "            style=\"display:none;\">\n",
              "\n",
              "<svg xmlns=\"http://www.w3.org/2000/svg\" height=\"24px\"viewBox=\"0 0 24 24\"\n",
              "     width=\"24px\">\n",
              "    <g>\n",
              "        <path d=\"M19 3H5c-1.1 0-2 .9-2 2v14c0 1.1.9 2 2 2h14c1.1 0 2-.9 2-2V5c0-1.1-.9-2-2-2zM9 17H7v-7h2v7zm4 0h-2V7h2v10zm4 0h-2v-4h2v4z\"/>\n",
              "    </g>\n",
              "</svg>\n",
              "  </button>\n",
              "\n",
              "<style>\n",
              "  .colab-df-quickchart {\n",
              "      --bg-color: #E8F0FE;\n",
              "      --fill-color: #1967D2;\n",
              "      --hover-bg-color: #E2EBFA;\n",
              "      --hover-fill-color: #174EA6;\n",
              "      --disabled-fill-color: #AAA;\n",
              "      --disabled-bg-color: #DDD;\n",
              "  }\n",
              "\n",
              "  [theme=dark] .colab-df-quickchart {\n",
              "      --bg-color: #3B4455;\n",
              "      --fill-color: #D2E3FC;\n",
              "      --hover-bg-color: #434B5C;\n",
              "      --hover-fill-color: #FFFFFF;\n",
              "      --disabled-bg-color: #3B4455;\n",
              "      --disabled-fill-color: #666;\n",
              "  }\n",
              "\n",
              "  .colab-df-quickchart {\n",
              "    background-color: var(--bg-color);\n",
              "    border: none;\n",
              "    border-radius: 50%;\n",
              "    cursor: pointer;\n",
              "    display: none;\n",
              "    fill: var(--fill-color);\n",
              "    height: 32px;\n",
              "    padding: 0;\n",
              "    width: 32px;\n",
              "  }\n",
              "\n",
              "  .colab-df-quickchart:hover {\n",
              "    background-color: var(--hover-bg-color);\n",
              "    box-shadow: 0 1px 2px rgba(60, 64, 67, 0.3), 0 1px 3px 1px rgba(60, 64, 67, 0.15);\n",
              "    fill: var(--button-hover-fill-color);\n",
              "  }\n",
              "\n",
              "  .colab-df-quickchart-complete:disabled,\n",
              "  .colab-df-quickchart-complete:disabled:hover {\n",
              "    background-color: var(--disabled-bg-color);\n",
              "    fill: var(--disabled-fill-color);\n",
              "    box-shadow: none;\n",
              "  }\n",
              "\n",
              "  .colab-df-spinner {\n",
              "    border: 2px solid var(--fill-color);\n",
              "    border-color: transparent;\n",
              "    border-bottom-color: var(--fill-color);\n",
              "    animation:\n",
              "      spin 1s steps(1) infinite;\n",
              "  }\n",
              "\n",
              "  @keyframes spin {\n",
              "    0% {\n",
              "      border-color: transparent;\n",
              "      border-bottom-color: var(--fill-color);\n",
              "      border-left-color: var(--fill-color);\n",
              "    }\n",
              "    20% {\n",
              "      border-color: transparent;\n",
              "      border-left-color: var(--fill-color);\n",
              "      border-top-color: var(--fill-color);\n",
              "    }\n",
              "    30% {\n",
              "      border-color: transparent;\n",
              "      border-left-color: var(--fill-color);\n",
              "      border-top-color: var(--fill-color);\n",
              "      border-right-color: var(--fill-color);\n",
              "    }\n",
              "    40% {\n",
              "      border-color: transparent;\n",
              "      border-right-color: var(--fill-color);\n",
              "      border-top-color: var(--fill-color);\n",
              "    }\n",
              "    60% {\n",
              "      border-color: transparent;\n",
              "      border-right-color: var(--fill-color);\n",
              "    }\n",
              "    80% {\n",
              "      border-color: transparent;\n",
              "      border-right-color: var(--fill-color);\n",
              "      border-bottom-color: var(--fill-color);\n",
              "    }\n",
              "    90% {\n",
              "      border-color: transparent;\n",
              "      border-bottom-color: var(--fill-color);\n",
              "    }\n",
              "  }\n",
              "</style>\n",
              "\n",
              "  <script>\n",
              "    async function quickchart(key) {\n",
              "      const quickchartButtonEl =\n",
              "        document.querySelector('#' + key + ' button');\n",
              "      quickchartButtonEl.disabled = true;  // To prevent multiple clicks.\n",
              "      quickchartButtonEl.classList.add('colab-df-spinner');\n",
              "      try {\n",
              "        const charts = await google.colab.kernel.invokeFunction(\n",
              "            'suggestCharts', [key], {});\n",
              "      } catch (error) {\n",
              "        console.error('Error during call to suggestCharts:', error);\n",
              "      }\n",
              "      quickchartButtonEl.classList.remove('colab-df-spinner');\n",
              "      quickchartButtonEl.classList.add('colab-df-quickchart-complete');\n",
              "    }\n",
              "    (() => {\n",
              "      let quickchartButtonEl =\n",
              "        document.querySelector('#df-9ac1be62-b1cc-4a1f-a278-5a972d733001 button');\n",
              "      quickchartButtonEl.style.display =\n",
              "        google.colab.kernel.accessAllowed ? 'block' : 'none';\n",
              "    })();\n",
              "  </script>\n",
              "</div>\n",
              "    </div>\n",
              "  </div>\n"
            ]
          },
          "metadata": {},
          "execution_count": 9
        }
      ],
      "source": [
        "data_train_1.iloc[0:15]"
      ]
    },
    {
      "cell_type": "markdown",
      "metadata": {
        "id": "1a9zCAOodjSW"
      },
      "source": [
        "We proceeded to gather the complete set of encodings for Arabic characters from the website www.utf8-chartable.de. Our goal is to eliminate entries that share encoding with any of those obtained from the website.\n"
      ]
    },
    {
      "cell_type": "code",
      "execution_count": null,
      "metadata": {
        "colab": {
          "base_uri": "https://localhost:8080/"
        },
        "id": "YsiOEc8PdiNW",
        "outputId": "98fff28c-a8b6-44d9-e6b5-1ec0502c743f"
      },
      "outputs": [
        {
          "output_type": "stream",
          "name": "stdout",
          "text": [
            "    Unicodecode point character UTF-8(in literal)  \\\n",
            "0              U+0600         ؀          \\xd8\\x80   \n",
            "1              U+0601         ؁          \\xd8\\x81   \n",
            "2              U+0602         ؂          \\xd8\\x82   \n",
            "3              U+0603         ؃          \\xd8\\x83   \n",
            "4              U+0604         ؄          \\xd8\\x84   \n",
            "..                ...       ...               ...   \n",
            "251            U+06FB         ۻ          \\xdb\\xbb   \n",
            "252            U+06FC         ۼ          \\xdb\\xbc   \n",
            "253            U+06FD         ۽          \\xdb\\xbd   \n",
            "254            U+06FE         ۾          \\xdb\\xbe   \n",
            "255            U+06FF         ۿ          \\xdb\\xbf   \n",
            "\n",
            "                                    name  \n",
            "0                     ARABIC NUMBER SIGN  \n",
            "1                      ARABIC SIGN SANAH  \n",
            "2                 ARABIC FOOTNOTE MARKER  \n",
            "3                      ARABIC SIGN SAFHA  \n",
            "4                     ARABIC SIGN SAMVAT  \n",
            "..                                   ...  \n",
            "251     ARABIC LETTER DAD WITH DOT BELOW  \n",
            "252   ARABIC LETTER GHAIN WITH DOT BELOW  \n",
            "253         ARABIC SIGN SINDHI AMPERSAND  \n",
            "254  ARABIC SIGN SINDHI POSTPOSITION MEN  \n",
            "255    ARABIC LETTER HEH WITH INVERTED V  \n",
            "\n",
            "[256 rows x 4 columns]\n"
          ]
        }
      ],
      "source": [
        "url = 'https://www.utf8-chartable.de/unicode-utf8-table.pl?start=1536&utf8=string-literal'\n",
        "response = requests.get(url)\n",
        "\n",
        "# Check if the request was successful (status code 200)\n",
        "if response.status_code == 200:\n",
        "    # Parse the HTML content of the page\n",
        "    soup = BeautifulSoup(response.text, 'html.parser')\n",
        "\n",
        "    tables = soup.find_all('table')\n",
        "\n",
        "    # Check if there are at least three tables\n",
        "    if len(tables) >= 3:\n",
        "        # Extract data from the third table and create a list of lists\n",
        "        table_data = []\n",
        "        for row in tables[2].find_all('tr'):\n",
        "            row_data = [cell.text.strip().replace('\\\\\\\\', '\\\\') for cell in row.find_all(['th', 'td'])]\n",
        "            table_data.append(row_data)\n",
        "\n",
        "        # Create a DataFrame using pandas\n",
        "        arab_encode = pd.DataFrame(table_data[1:], columns=table_data[0])\n",
        "\n",
        "        # Print the DataFrame\n",
        "        print(arab_encode)\n",
        "    else:\n",
        "        print(\"There are fewer than three tables on the page.\")\n",
        "\n",
        "else:\n",
        "    print(f\"Failed to retrieve the webpage. Status code: {response.status_code}\")"
      ]
    },
    {
      "cell_type": "markdown",
      "metadata": {
        "id": "sHUxFW8Aezgk"
      },
      "source": [
        "We had to make adjustments to the encoding format in our dataset to align it with the format obtained from the website. After completing this task, we proceeded to remove the matching characters, leaving our data prepared for analysis."
      ]
    },
    {
      "cell_type": "code",
      "execution_count": null,
      "metadata": {
        "id": "2Kno2s4bexg6"
      },
      "outputs": [],
      "source": [
        "#Adjusting the encoding format\n",
        "data_train_1['Encoding(UTF-8)'] = data_train_1['Encoding(UTF-8)'].apply(lambda x: repr(x).lstrip('b').replace('\\'', ''))\n",
        "data_test_1['Encoding(UTF-8)'] = data_test_1['Encoding(UTF-8)'].apply(lambda x: repr(x).lstrip('b').replace('\\'', ''))\n",
        "\n",
        "#Eliminating the arab characters\n",
        "all_arab_encoding = arab_encode['UTF-8(in literal)'].tolist()\n",
        "data_train_1 = data_train_1[~data_train_1['Encoding(UTF-8)'].isin(all_arab_encoding)]\n",
        "data_test_1 = data_test_1[~data_test_1['Encoding(UTF-8)'].isin(all_arab_encoding)]\n",
        "\n",
        "#Eliminating the Encoding Column\n",
        "data_train_1 = data_train_1.drop('Encoding(UTF-8)',axis=1)\n",
        "data_test_1 = data_test_1.drop('Encoding(UTF-8)',axis=1)"
      ]
    },
    {
      "cell_type": "markdown",
      "metadata": {
        "id": "zaJp1LkvfzVp"
      },
      "source": [
        "We created a new .txt file that will have a similar structure as the original .conll file but without the arab characters."
      ]
    },
    {
      "cell_type": "code",
      "execution_count": null,
      "metadata": {
        "colab": {
          "base_uri": "https://localhost:8080/"
        },
        "id": "A2Pkr2fSftBZ",
        "outputId": "ea4a8bfd-d155-445d-9a59-fb4969a030f3"
      },
      "outputs": [
        {
          "output_type": "stream",
          "name": "stderr",
          "text": [
            "<ipython-input-12-3564f74fc508>:2: FutureWarning: the 'line_terminator'' keyword is deprecated, use 'lineterminator' instead.\n",
            "  data_test_1.to_csv('test.txt', sep=' ', header=False, index=False, na_rep='', line_terminator='\\n')\n",
            "<ipython-input-12-3564f74fc508>:3: FutureWarning: the 'line_terminator'' keyword is deprecated, use 'lineterminator' instead.\n",
            "  data_train_1.to_csv('train.txt', sep=' ', header=False, index=False, na_rep='', line_terminator='\\n')\n"
          ]
        }
      ],
      "source": [
        "# Write to a text file with tab-separated values and blank lines for NaN values\n",
        "data_test_1.to_csv('test.txt', sep=' ', header=False, index=False, na_rep='', line_terminator='\\n')\n",
        "data_train_1.to_csv('train.txt', sep=' ', header=False, index=False, na_rep='', line_terminator='\\n')"
      ]
    },
    {
      "cell_type": "markdown",
      "metadata": {
        "id": "RL8nt3NnjrqG"
      },
      "source": [
        "#### Functions\n",
        "The *.txt* files follow the format of a *.conll* file, where each line represents a word in a sentence, and the IOB annotation associated with that word is separated by spaces. To achieve this, we employed custom functions to transform the data into two lists of tuples.\n",
        "\n",
        "The first list consists of sentences represented as tuples, while the second list are tuples corresponding to the associated Named Entity Recognition (NER) tags for each word of each sentence."
      ]
    },
    {
      "cell_type": "code",
      "execution_count": null,
      "metadata": {
        "id": "xr3Z6HD3gH7U"
      },
      "outputs": [],
      "source": [
        "import urllib\n",
        "import sklearn\n",
        "import logging\n",
        "import os\n",
        "\n",
        "from seqeval.metrics import classification_report\n",
        "from tensorflow.keras.preprocessing.text import Tokenizer\n",
        "from tensorflow.keras.preprocessing.sequence import pad_sequences\n",
        "from tensorflow.keras.utils import to_categorical, plot_model\n",
        "from tensorflow.keras.callbacks import ModelCheckpoint, EarlyStopping"
      ]
    },
    {
      "cell_type": "code",
      "execution_count": null,
      "metadata": {
        "id": "IgNvXOt-jFAS"
      },
      "outputs": [],
      "source": [
        "def read_raw_conll(filename):\n",
        "    #Read a file which contains a conll dataset\n",
        "    lines = []\n",
        "    full_path = os.path.join('/content/', filename)  # Assuming the file is in the current working directory\n",
        "\n",
        "    if os.path.isfile(full_path):\n",
        "        # read from file\n",
        "        print(f'Reading file {full_path}')\n",
        "        with open(full_path, 'r') as f:\n",
        "            lines = f.readlines()\n",
        "    else:\n",
        "        print(f\"Error: File not found at {full_path}\")\n",
        "    return lines[1:]\n",
        "\n",
        "def is_real_sentence(only_token, sentence):\n",
        "    #Chek if a sentence is a real sentence or a document separator\n",
        "    first_word = \"\"\n",
        "    if only_token:\n",
        "        first_word = sentence[0]\n",
        "    else:\n",
        "        first_word = sentence[0][0]\n",
        "\n",
        "    if '---------------------' in first_word or first_word == '-DOCSTART-':\n",
        "        return False\n",
        "    else:\n",
        "        return True\n",
        "\n",
        "def load_conll_data(filename, only_tokens=False):\n",
        "\n",
        "    #Take a filename, load data, and save it into a list of tuples data structure.\n",
        "\n",
        "    #The file structure has a word in each line with word and entity tag separated by a whitespace. Sentences are\n",
        "    #separated by an empty line.\n",
        "\n",
        "    lines = read_raw_conll(filename)\n",
        "\n",
        "    X = []\n",
        "    Y = []\n",
        "    sentence = []\n",
        "    labels = []\n",
        "    output_labels = set()\n",
        "\n",
        "    for line in lines:\n",
        "        if line == \" \\n\":\n",
        "            if len(sentence) != len(labels):\n",
        "                print(f\"Error: we have {len(sentence)} words but {len(labels)} labels\")\n",
        "            if sentence and is_real_sentence(only_tokens, sentence):\n",
        "                X.append(sentence)\n",
        "                Y.append(labels)\n",
        "            sentence = []\n",
        "            labels = []\n",
        "        else:\n",
        "            features = line.split()\n",
        "            tag = features.pop()\n",
        "            labels.append(tag)\n",
        "            output_labels.add(tag)\n",
        "            if only_tokens:\n",
        "                sentence.append(features.pop(0))\n",
        "            else:\n",
        "                sentence.append(tuple(features))\n",
        "\n",
        "    print(f\"Read {len(X)} sentences\")\n",
        "    if len(X) != len(Y):\n",
        "        print(\"ERROR in reading data.\")\n",
        "    return X, Y, output_labels"
      ]
    },
    {
      "cell_type": "markdown",
      "metadata": {
        "id": "R18QGvaNQIvf"
      },
      "source": [
        "Now we can clearly see how many sentence we have in both our train data set and our test data set:"
      ]
    },
    {
      "cell_type": "code",
      "execution_count": null,
      "metadata": {
        "colab": {
          "base_uri": "https://localhost:8080/"
        },
        "id": "ohDu60qojqE1",
        "outputId": "7dd70f33-a25c-4595-ffec-e7b29ccb6ded"
      },
      "outputs": [
        {
          "output_type": "stream",
          "name": "stdout",
          "text": [
            "Reading file /content/train.txt\n",
            "Read 764 sentences\n",
            "Reading file /content/test.txt\n",
            "Read 199 sentences\n"
          ]
        }
      ],
      "source": [
        "train_raw, train_NER, labels = load_conll_data('train.txt', only_tokens=True)\n",
        "test_raw, test_NER, _ = load_conll_data('test.txt', only_tokens=True)"
      ]
    },
    {
      "cell_type": "markdown",
      "metadata": {
        "id": "3-G-IrZnokv2"
      },
      "source": [
        "#### Glance of the data"
      ]
    },
    {
      "cell_type": "code",
      "execution_count": null,
      "metadata": {
        "colab": {
          "base_uri": "https://localhost:8080/"
        },
        "id": "N6twdaI1otRQ",
        "outputId": "03baea17-9835-4998-a1c3-fc09dd77d83e"
      },
      "outputs": [
        {
          "output_type": "stream",
          "name": "stdout",
          "text": [
            "['The', 'operation', 'was', 'important', 'in', 'that', 'it', 'was', 'the', 'first', 'large', 'scale', 'deployment', 'of', 'the', 'New', 'Iraqi', 'Army', '.']\n",
            "['O', 'O', 'O', 'O', 'O', 'O', 'O', 'O', 'O', 'O', 'O', 'O', 'O', 'O', 'B-Organisation', 'I-Organisation', 'I-Organisation', 'I-Organisation', 'O']\n"
          ]
        }
      ],
      "source": [
        "print(train_raw[2])\n",
        "print(train_NER[2])"
      ]
    },
    {
      "cell_type": "markdown",
      "metadata": {
        "id": "9huzKIUdkGvx"
      },
      "source": [
        "## Data Visualization"
      ]
    },
    {
      "cell_type": "markdown",
      "metadata": {
        "id": "L7cgfAoS-RDH"
      },
      "source": [
        "\n",
        "\n",
        "---\n",
        "\n",
        "\n",
        "To better understand what data are we using and how they are built, we decided to visualize them in various and interactive ways.\n"
      ]
    },
    {
      "cell_type": "code",
      "execution_count": null,
      "metadata": {
        "id": "SvBz2PRWkXQA"
      },
      "outputs": [],
      "source": [
        "import spacy\n",
        "import ipywidgets as widgets\n",
        "\n",
        "#from ipywidgets import interact, interactive, fixed, interact_manual\n",
        "from IPython.display import display, clear_output\n",
        "from spacy.tokens import Doc, Span\n",
        "from spacy import displacy"
      ]
    },
    {
      "cell_type": "code",
      "execution_count": null,
      "metadata": {
        "id": "33qXlU8ZnU9E"
      },
      "outputs": [],
      "source": [
        "nlp = spacy.load('en_core_web_lg', disable=['parser', 'tagger', 'ner'])"
      ]
    },
    {
      "cell_type": "markdown",
      "metadata": {
        "id": "An_-5S-xkOSK"
      },
      "source": [
        "We wanted to give the possibility to the user to navigate through the used text and to do this we needed to build a dashboard.\n",
        "\n",
        "1. First, we built a function to visualize named entities.\n",
        "\n",
        " The text tags that we had at the beginning was of the IOB type but we wanted to remove the part refering to the position of the word ( Input, Output or Beginning) and use only the name of the entity. To do so, we did a list comprehension that creates a list of tuples, where each tuple represents the start index, end index, and entity label for words that are part of named entities. The condition ensures that only words with entity tags (containing \" - \") are considered. For each entity type we then assigned a unique color using a hash function.\n",
        "\n",
        "  Before displaying the new visualization, it clears the output widget to prevent multiple visualizations from stacking. Additionally, it prints each word along with its corresponding named entity tag below the sentence visualization.\n",
        "2. Secondly, we created a BoundedIntText widget using ipywidgets. It provides a range of integer values. After we designed a second function to call whenever the value of the BoundedIntText widget changes. It takes the new value (change['new']), retrieves the corresponding sentence and named entity tags from the training data, and then calls visualize_entities to update the visualization.\n"
      ]
    },
    {
      "cell_type": "code",
      "execution_count": null,
      "metadata": {
        "colab": {
          "base_uri": "https://localhost:8080/",
          "height": 674,
          "referenced_widgets": [
            "3858c59c93944ee19aa359e7acf07cc8",
            "380545abf6a34b01aa4fd65912dba1c2",
            "99f0cd50e9454e0798f17a7b925961e5",
            "4076897e00b644228c8be722babe52f6",
            "dee935487e3d4b88aaf23c6debc48e20",
            "448ff99ce5da4374a6b36252c12168d7",
            "c0cb4713fc9b414fafa6b06735b822ce"
          ]
        },
        "id": "wY0zGkTaj6sx",
        "outputId": "9dec06a8-a595-49ab-9a6e-d163387783f8"
      },
      "outputs": [
        {
          "output_type": "display_data",
          "data": {
            "text/plain": [
              "VBox(children=(BoundedIntText(value=0, description='Sentence:', max=763), Output()))"
            ],
            "application/vnd.jupyter.widget-view+json": {
              "version_major": 2,
              "version_minor": 0,
              "model_id": "3858c59c93944ee19aa359e7acf07cc8"
            }
          },
          "metadata": {}
        }
      ],
      "source": [
        "# Function to visualize named entities using spaCy's displacy\n",
        "def visualize_entities(words, tags):\n",
        "    # Create a spaCy Doc object for the sentence\n",
        "    doc = Doc(nlp.vocab, words=words)\n",
        "\n",
        "    # Extract entities for the sentence\n",
        "    entities = [(i, i + 1, tag.split('-')[-1]) for i, tag in enumerate(tags) if '-' in tag]\n",
        "    selected_entities = [(start, end, label) for start, end, label in entities\n",
        "                         if 0 <= start < len(words) and 0 <= end <= len(words)]\n",
        "\n",
        "    doc.ents = [Span(doc, start, end, label=label) for start, end, label in selected_entities]\n",
        "\n",
        "    # Clear the output before displaying the new visualization\n",
        "    with output:\n",
        "        clear_output(wait=True)\n",
        "        # Create a list of colors for each unique entity type\n",
        "        unique_entities = set(entity[2] for entity in selected_entities)\n",
        "        entity_colors = {entity: f'#{hash(entity) & 0xFFFFFF:06x}' for entity in unique_entities}\n",
        "\n",
        "        # Set up options for displacy.render\n",
        "        options = {'ents': list(unique_entities), 'colors': entity_colors}\n",
        "\n",
        "        # Visualize named entities using spaCy's displacy\n",
        "        displacy.render(doc, style='ent', jupyter=True, options=options)\n",
        "\n",
        "        # Display words with their corresponding tags below the sentence\n",
        "        for word, tag in zip(words, tags):\n",
        "            print(f\"{word}: {tag}\")\n",
        "\n",
        "# Create a BoundedIntText widget\n",
        "bounded_int_text = widgets.BoundedIntText(\n",
        "    value=0,\n",
        "    min=0,\n",
        "    max=len(train_raw)-1,\n",
        "    step=1,\n",
        "    description='Sentence:',\n",
        "    disabled=False)\n",
        "\n",
        "# Create an output widget\n",
        "output = widgets.Output()\n",
        "\n",
        "# Define a function to update the visualization based on the widget value\n",
        "def update_visualization(change):\n",
        "    value = change['new']\n",
        "    visualize_entities(train_raw[value], train_NER[value])\n",
        "\n",
        "# Attach the update_visualization function to the widget's value change\n",
        "bounded_int_text.observe(update_visualization, 'value')\n",
        "\n",
        "# Display the container with the BoundedIntText widget and the output area\n",
        "display(widgets.VBox([bounded_int_text, output]))\n",
        "\n",
        "# Initial visualization\n",
        "update_visualization({'new': bounded_int_text.value})"
      ]
    },
    {
      "cell_type": "markdown",
      "metadata": {
        "id": "0iJDt1KxGtIX"
      },
      "source": [
        "\n",
        "\n",
        "---\n",
        "\n",
        "\n",
        "To facilitate analysis, we applied a text processing function 'processed text' to the 'Token' column in both datasets: the new column 'Processed' stores the the processed tokens, then the proccessed tokens are converted into space-separated strings.\n",
        "\n",
        "We also defined a custom stopword \" ' \" since it was not automatically removed as punctuation"
      ]
    },
    {
      "cell_type": "code",
      "execution_count": null,
      "metadata": {
        "id": "4JclCrUvrpra"
      },
      "outputs": [],
      "source": [
        "from collections import Counter"
      ]
    },
    {
      "cell_type": "code",
      "execution_count": null,
      "metadata": {
        "id": "5MnAPZP6o4Ks"
      },
      "outputs": [],
      "source": [
        "# Define additional stopwords\n",
        "custom_stopwords = [\"'\"]\n",
        "\n",
        "# Define a function to remove punctuation, single letters, and stopwords\n",
        "def preprocess_text(text):\n",
        "    doc = nlp(text)\n",
        "    processed_tokens = [token.lemma_ for token in doc if not (token.is_stop or token.is_punct or len(token.text) == 1 or token.text in custom_stopwords)]\n",
        "    return ' '.join(processed_tokens)"
      ]
    },
    {
      "cell_type": "code",
      "execution_count": null,
      "metadata": {
        "id": "tOIe0DjssQ9B"
      },
      "outputs": [],
      "source": [
        "data_train_1 = data_train_1.dropna()"
      ]
    },
    {
      "cell_type": "markdown",
      "metadata": {
        "id": "AjAHzACgtuCm"
      },
      "source": [
        "We also created a dataframe to see the words in the train dataset ordered by frequency. The frequency will be needed in the next part of the code."
      ]
    },
    {
      "cell_type": "code",
      "execution_count": null,
      "metadata": {
        "colab": {
          "base_uri": "https://localhost:8080/"
        },
        "id": "a13ulv0esEI4",
        "outputId": "10438170-9c6e-49fd-e990-33118d5cbf8f"
      },
      "outputs": [
        {
          "output_type": "stream",
          "name": "stderr",
          "text": [
            "/usr/local/lib/python3.10/dist-packages/spacy/pipeline/lemmatizer.py:211: UserWarning: [W108] The rule-based lemmatizer did not find POS annotation for one or more tokens. Check that your pipeline includes components that assign token.pos, typically 'tagger'+'attribute_ruler' or 'morphologizer'.\n",
            "  warnings.warn(Warnings.W108)\n"
          ]
        }
      ],
      "source": [
        "# Apply preprocessing and count word frequencies from the 'Processed' column\n",
        "#data_train_0['Processed'] = data_train_0['Processed'].apply(remove_punctuation)\n",
        "data_train_1['Token'] = data_train_1['Token'].apply(preprocess_text)\n",
        "\n",
        "# Filter out rows with empty 'Processed' column\n",
        "data_train_1 = data_train_1[data_train_1['Token'].str.strip() != '']\n",
        "\n",
        "# Count word frequencies\n",
        "word_freq = Counter(data_train_1['Token'])\n",
        "\n",
        "# Get the top 100 words\n",
        "top_words = word_freq.most_common(100)\n",
        "\n",
        "# Create a DataFrame\n",
        "word_df = pd.DataFrame(top_words, columns=['Word', 'Frequency'])"
      ]
    },
    {
      "cell_type": "markdown",
      "metadata": {
        "id": "11M_lCvtxCso"
      },
      "source": [
        "\n",
        "\n",
        "---\n",
        "\n",
        "\n",
        "#### Wordcloud\n",
        "\n",
        "We also decided to use a Wordcloud chart and a Bubble Chart with the most frequent words in the dataset to give a first visual impression of the data allowing the user to get an insight of the general context.\n",
        "\n",
        "The word cloud is done with the shape of Syria and Iraq's borders put together."
      ]
    },
    {
      "cell_type": "code",
      "execution_count": null,
      "metadata": {
        "id": "ICtvvLTzwJpm"
      },
      "outputs": [],
      "source": [
        "import matplotlib.pyplot as plt\n",
        "import io\n",
        "\n",
        "from io import BytesIO\n",
        "from wordcloud import WordCloud\n",
        "from PIL import Image"
      ]
    },
    {
      "cell_type": "code",
      "execution_count": null,
      "metadata": {
        "colab": {
          "base_uri": "https://localhost:8080/",
          "height": 501
        },
        "id": "pPpRplzKvy-8",
        "outputId": "50e4bb50-7f8a-4839-f0aa-36d17f614919"
      },
      "outputs": [
        {
          "output_type": "display_data",
          "data": {
            "text/plain": [
              "<Figure size 800x1000 with 1 Axes>"
            ],
            "image/png": "[encoded data removed]"
          },
          "metadata": {}
        }
      ],
      "source": [
        "# Create a dictionary from the DataFrame\n",
        "word_freq_dict = dict(zip(word_df['Word'], word_df['Frequency']))\n",
        "\n",
        "png_url = \"https://i.ibb.co/VTtj887/Iraq8.png\"\n",
        "response = requests.get(png_url)\n",
        "img = Image.open(io.BytesIO(response.content))\n",
        "mask_map = np.array(img)\n",
        "\n",
        "# Generate a word cloud\n",
        "wordcloud = WordCloud(background_color='white',\n",
        "                      mask = mask_map,contour_width=1,  # Adjust this value to make the contours visible\n",
        "                      contour_color='black')\n",
        "wordcloud.generate_from_frequencies(word_freq_dict)\n",
        "\n",
        "\n",
        "# Display the word cloud using Matplotlib\n",
        "fig = plt.figure(figsize=(8,10))\n",
        "plt.imshow(wordcloud, interpolation='bilinear')\n",
        "plt.axis('off')  # Turn off the axis\n",
        "plt.show()"
      ]
    },
    {
      "cell_type": "markdown",
      "metadata": {
        "id": "9B3U1tIexFP_"
      },
      "source": [
        "#### Bubble Chart\n",
        "\n",
        "For the Bubble Chart we considered only the 30 words with the highest frequency in order to make it neat."
      ]
    },
    {
      "cell_type": "code",
      "execution_count": null,
      "metadata": {
        "id": "7O-MFG_qxHCW"
      },
      "outputs": [],
      "source": [
        "import plotly.express as px"
      ]
    },
    {
      "cell_type": "code",
      "execution_count": null,
      "metadata": {
        "colab": {
          "base_uri": "https://localhost:8080/",
          "height": 542
        },
        "id": "McRQOvIHx5je",
        "outputId": "cf96d425-3f12-443e-857b-9da1ebdf4858"
      },
      "outputs": [
        {
          "output_type": "display_data",
          "data": {
            "text/html": [
              "<html>\n",
              "<head><meta charset=\"utf-8\" /></head>\n",
              "<body>\n",
              "    <div>            <script src=\"https://cdnjs.cloudflare.com/ajax/libs/mathjax/2.7.5/MathJax.js?config=TeX-AMS-MML_SVG\"></script><script type=\"text/javascript\">if (window.MathJax && window.MathJax.Hub && window.MathJax.Hub.Config) {window.MathJax.Hub.Config({SVG: {font: \"STIX-Web\"}});}</script>                <script type=\"text/javascript\">window.PlotlyConfig = {MathJaxConfig: 'local'};</script>\n",
              "        <script charset=\"utf-8\" src=\"https://cdn.plot.ly/plotly-2.24.1.min.js\"></script>                <div id=\"aa1ec351-3f44-44dc-af5c-40915ab8ec27\" class=\"plotly-graph-div\" style=\"height:525px; width:100%;\"></div>            <script type=\"text/javascript\">                                    window.PLOTLYENV=window.PLOTLYENV || {};                                    if (document.getElementById(\"aa1ec351-3f44-44dc-af5c-40915ab8ec27\")) {                    Plotly.newPlot(                        \"aa1ec351-3f44-44dc-af5c-40915ab8ec27\",                        [{\"hovertemplate\":\"Word=%{x}\\u003cbr\\u003eFrequency=%{marker.size}\\u003cextra\\u003e\\u003c\\u002fextra\\u003e\",\"legendgroup\":\"\",\"marker\":{\"color\":\"#636efa\",\"size\":[40,28,29,45,29,129,55,62,29,66,44,30,37,34,103,40,62,53,69,41,39,31,99,30,42,33,28,41,27,63],\"sizemode\":\"area\",\"sizeref\":0.3225,\"symbol\":\"circle\",\"line\":{\"color\":\"DarkSlateGrey\",\"width\":2}},\"mode\":\"markers\",\"name\":\"\",\"orientation\":\"v\",\"showlegend\":false,\"x\":[\"government\",\"city\",\"international\",\"security\",\"military\",\"isil\",\"al\",\"said\",\"killed\",\"iraqi\",\"united\",\"strike\",\"strikes\",\"secretary\",\"iraq\",\"mosul\",\"support\",\"syrian\",\"coalition\",\"people\",\"foreign\",\"operation\",\"syria\",\"attack\",\"u.s.\",\"group\",\"un\",\"minister\",\"work\",\"forces\"],\"xaxis\":\"x\",\"y\":[40,28,29,45,29,129,55,62,29,66,44,30,37,34,103,40,62,53,69,41,39,31,99,30,42,33,28,41,27,63],\"yaxis\":\"y\",\"type\":\"scatter\"}],                        {\"template\":{\"data\":{\"histogram2dcontour\":[{\"type\":\"histogram2dcontour\",\"colorbar\":{\"outlinewidth\":0,\"ticks\":\"\"},\"colorscale\":[[0.0,\"#0d0887\"],[0.1111111111111111,\"#46039f\"],[0.2222222222222222,\"#7201a8\"],[0.3333333333333333,\"#9c179e\"],[0.4444444444444444,\"#bd3786\"],[0.5555555555555556,\"#d8576b\"],[0.6666666666666666,\"#ed7953\"],[0.7777777777777778,\"#fb9f3a\"],[0.8888888888888888,\"#fdca26\"],[1.0,\"#f0f921\"]]}],\"choropleth\":[{\"type\":\"choropleth\",\"colorbar\":{\"outlinewidth\":0,\"ticks\":\"\"}}],\"histogram2d\":[{\"type\":\"histogram2d\",\"colorbar\":{\"outlinewidth\":0,\"ticks\":\"\"},\"colorscale\":[[0.0,\"#0d0887\"],[0.1111111111111111,\"#46039f\"],[0.2222222222222222,\"#7201a8\"],[0.3333333333333333,\"#9c179e\"],[0.4444444444444444,\"#bd3786\"],[0.5555555555555556,\"#d8576b\"],[0.6666666666666666,\"#ed7953\"],[0.7777777777777778,\"#fb9f3a\"],[0.8888888888888888,\"#fdca26\"],[1.0,\"#f0f921\"]]}],\"heatmap\":[{\"type\":\"heatmap\",\"colorbar\":{\"outlinewidth\":0,\"ticks\":\"\"},\"colorscale\":[[0.0,\"#0d0887\"],[0.1111111111111111,\"#46039f\"],[0.2222222222222222,\"#7201a8\"],[0.3333333333333333,\"#9c179e\"],[0.4444444444444444,\"#bd3786\"],[0.5555555555555556,\"#d8576b\"],[0.6666666666666666,\"#ed7953\"],[0.7777777777777778,\"#fb9f3a\"],[0.8888888888888888,\"#fdca26\"],[1.0,\"#f0f921\"]]}],\"heatmapgl\":[{\"type\":\"heatmapgl\",\"colorbar\":{\"outlinewidth\":0,\"ticks\":\"\"},\"colorscale\":[[0.0,\"#0d0887\"],[0.1111111111111111,\"#46039f\"],[0.2222222222222222,\"#7201a8\"],[0.3333333333333333,\"#9c179e\"],[0.4444444444444444,\"#bd3786\"],[0.5555555555555556,\"#d8576b\"],[0.6666666666666666,\"#ed7953\"],[0.7777777777777778,\"#fb9f3a\"],[0.8888888888888888,\"#fdca26\"],[1.0,\"#f0f921\"]]}],\"contourcarpet\":[{\"type\":\"contourcarpet\",\"colorbar\":{\"outlinewidth\":0,\"ticks\":\"\"}}],\"contour\":[{\"type\":\"contour\",\"colorbar\":{\"outlinewidth\":0,\"ticks\":\"\"},\"colorscale\":[[0.0,\"#0d0887\"],[0.1111111111111111,\"#46039f\"],[0.2222222222222222,\"#7201a8\"],[0.3333333333333333,\"#9c179e\"],[0.4444444444444444,\"#bd3786\"],[0.5555555555555556,\"#d8576b\"],[0.6666666666666666,\"#ed7953\"],[0.7777777777777778,\"#fb9f3a\"],[0.8888888888888888,\"#fdca26\"],[1.0,\"#f0f921\"]]}],\"surface\":[{\"type\":\"surface\",\"colorbar\":{\"outlinewidth\":0,\"ticks\":\"\"},\"colorscale\":[[0.0,\"#0d0887\"],[0.1111111111111111,\"#46039f\"],[0.2222222222222222,\"#7201a8\"],[0.3333333333333333,\"#9c179e\"],[0.4444444444444444,\"#bd3786\"],[0.5555555555555556,\"#d8576b\"],[0.6666666666666666,\"#ed7953\"],[0.7777777777777778,\"#fb9f3a\"],[0.8888888888888888,\"#fdca26\"],[1.0,\"#f0f921\"]]}],\"mesh3d\":[{\"type\":\"mesh3d\",\"colorbar\":{\"outlinewidth\":0,\"ticks\":\"\"}}],\"scatter\":[{\"fillpattern\":{\"fillmode\":\"overlay\",\"size\":10,\"solidity\":0.2},\"type\":\"scatter\"}],\"parcoords\":[{\"type\":\"parcoords\",\"line\":{\"colorbar\":{\"outlinewidth\":0,\"ticks\":\"\"}}}],\"scatterpolargl\":[{\"type\":\"scatterpolargl\",\"marker\":{\"colorbar\":{\"outlinewidth\":0,\"ticks\":\"\"}}}],\"bar\":[{\"error_x\":{\"color\":\"#2a3f5f\"},\"error_y\":{\"color\":\"#2a3f5f\"},\"marker\":{\"line\":{\"color\":\"#E5ECF6\",\"width\":0.5},\"pattern\":{\"fillmode\":\"overlay\",\"size\":10,\"solidity\":0.2}},\"type\":\"bar\"}],\"scattergeo\":[{\"type\":\"scattergeo\",\"marker\":{\"colorbar\":{\"outlinewidth\":0,\"ticks\":\"\"}}}],\"scatterpolar\":[{\"type\":\"scatterpolar\",\"marker\":{\"colorbar\":{\"outlinewidth\":0,\"ticks\":\"\"}}}],\"histogram\":[{\"marker\":{\"pattern\":{\"fillmode\":\"overlay\",\"size\":10,\"solidity\":0.2}},\"type\":\"histogram\"}],\"scattergl\":[{\"type\":\"scattergl\",\"marker\":{\"colorbar\":{\"outlinewidth\":0,\"ticks\":\"\"}}}],\"scatter3d\":[{\"type\":\"scatter3d\",\"line\":{\"colorbar\":{\"outlinewidth\":0,\"ticks\":\"\"}},\"marker\":{\"colorbar\":{\"outlinewidth\":0,\"ticks\":\"\"}}}],\"scattermapbox\":[{\"type\":\"scattermapbox\",\"marker\":{\"colorbar\":{\"outlinewidth\":0,\"ticks\":\"\"}}}],\"scatterternary\":[{\"type\":\"scatterternary\",\"marker\":{\"colorbar\":{\"outlinewidth\":0,\"ticks\":\"\"}}}],\"scattercarpet\":[{\"type\":\"scattercarpet\",\"marker\":{\"colorbar\":{\"outlinewidth\":0,\"ticks\":\"\"}}}],\"carpet\":[{\"aaxis\":{\"endlinecolor\":\"#2a3f5f\",\"gridcolor\":\"white\",\"linecolor\":\"white\",\"minorgridcolor\":\"white\",\"startlinecolor\":\"#2a3f5f\"},\"baxis\":{\"endlinecolor\":\"#2a3f5f\",\"gridcolor\":\"white\",\"linecolor\":\"white\",\"minorgridcolor\":\"white\",\"startlinecolor\":\"#2a3f5f\"},\"type\":\"carpet\"}],\"table\":[{\"cells\":{\"fill\":{\"color\":\"#EBF0F8\"},\"line\":{\"color\":\"white\"}},\"header\":{\"fill\":{\"color\":\"#C8D4E3\"},\"line\":{\"color\":\"white\"}},\"type\":\"table\"}],\"barpolar\":[{\"marker\":{\"line\":{\"color\":\"#E5ECF6\",\"width\":0.5},\"pattern\":{\"fillmode\":\"overlay\",\"size\":10,\"solidity\":0.2}},\"type\":\"barpolar\"}],\"pie\":[{\"automargin\":true,\"type\":\"pie\"}]},\"layout\":{\"autotypenumbers\":\"strict\",\"colorway\":[\"#636efa\",\"#EF553B\",\"#00cc96\",\"#ab63fa\",\"#FFA15A\",\"#19d3f3\",\"#FF6692\",\"#B6E880\",\"#FF97FF\",\"#FECB52\"],\"font\":{\"color\":\"#2a3f5f\"},\"hovermode\":\"closest\",\"hoverlabel\":{\"align\":\"left\"},\"paper_bgcolor\":\"white\",\"plot_bgcolor\":\"#E5ECF6\",\"polar\":{\"bgcolor\":\"#E5ECF6\",\"angularaxis\":{\"gridcolor\":\"white\",\"linecolor\":\"white\",\"ticks\":\"\"},\"radialaxis\":{\"gridcolor\":\"white\",\"linecolor\":\"white\",\"ticks\":\"\"}},\"ternary\":{\"bgcolor\":\"#E5ECF6\",\"aaxis\":{\"gridcolor\":\"white\",\"linecolor\":\"white\",\"ticks\":\"\"},\"baxis\":{\"gridcolor\":\"white\",\"linecolor\":\"white\",\"ticks\":\"\"},\"caxis\":{\"gridcolor\":\"white\",\"linecolor\":\"white\",\"ticks\":\"\"}},\"coloraxis\":{\"colorbar\":{\"outlinewidth\":0,\"ticks\":\"\"}},\"colorscale\":{\"sequential\":[[0.0,\"#0d0887\"],[0.1111111111111111,\"#46039f\"],[0.2222222222222222,\"#7201a8\"],[0.3333333333333333,\"#9c179e\"],[0.4444444444444444,\"#bd3786\"],[0.5555555555555556,\"#d8576b\"],[0.6666666666666666,\"#ed7953\"],[0.7777777777777778,\"#fb9f3a\"],[0.8888888888888888,\"#fdca26\"],[1.0,\"#f0f921\"]],\"sequentialminus\":[[0.0,\"#0d0887\"],[0.1111111111111111,\"#46039f\"],[0.2222222222222222,\"#7201a8\"],[0.3333333333333333,\"#9c179e\"],[0.4444444444444444,\"#bd3786\"],[0.5555555555555556,\"#d8576b\"],[0.6666666666666666,\"#ed7953\"],[0.7777777777777778,\"#fb9f3a\"],[0.8888888888888888,\"#fdca26\"],[1.0,\"#f0f921\"]],\"diverging\":[[0,\"#8e0152\"],[0.1,\"#c51b7d\"],[0.2,\"#de77ae\"],[0.3,\"#f1b6da\"],[0.4,\"#fde0ef\"],[0.5,\"#f7f7f7\"],[0.6,\"#e6f5d0\"],[0.7,\"#b8e186\"],[0.8,\"#7fbc41\"],[0.9,\"#4d9221\"],[1,\"#276419\"]]},\"xaxis\":{\"gridcolor\":\"white\",\"linecolor\":\"white\",\"ticks\":\"\",\"title\":{\"standoff\":15},\"zerolinecolor\":\"white\",\"automargin\":true,\"zerolinewidth\":2},\"yaxis\":{\"gridcolor\":\"white\",\"linecolor\":\"white\",\"ticks\":\"\",\"title\":{\"standoff\":15},\"zerolinecolor\":\"white\",\"automargin\":true,\"zerolinewidth\":2},\"scene\":{\"xaxis\":{\"backgroundcolor\":\"#E5ECF6\",\"gridcolor\":\"white\",\"linecolor\":\"white\",\"showbackground\":true,\"ticks\":\"\",\"zerolinecolor\":\"white\",\"gridwidth\":2},\"yaxis\":{\"backgroundcolor\":\"#E5ECF6\",\"gridcolor\":\"white\",\"linecolor\":\"white\",\"showbackground\":true,\"ticks\":\"\",\"zerolinecolor\":\"white\",\"gridwidth\":2},\"zaxis\":{\"backgroundcolor\":\"#E5ECF6\",\"gridcolor\":\"white\",\"linecolor\":\"white\",\"showbackground\":true,\"ticks\":\"\",\"zerolinecolor\":\"white\",\"gridwidth\":2}},\"shapedefaults\":{\"line\":{\"color\":\"#2a3f5f\"}},\"annotationdefaults\":{\"arrowcolor\":\"#2a3f5f\",\"arrowhead\":0,\"arrowwidth\":1},\"geo\":{\"bgcolor\":\"white\",\"landcolor\":\"#E5ECF6\",\"subunitcolor\":\"white\",\"showland\":true,\"showlakes\":true,\"lakecolor\":\"white\"},\"title\":{\"x\":0.05},\"mapbox\":{\"style\":\"light\"}}},\"xaxis\":{\"anchor\":\"y\",\"domain\":[0.0,1.0],\"title\":{\"text\":\"Word\"}},\"yaxis\":{\"anchor\":\"x\",\"domain\":[0.0,1.0],\"title\":{\"text\":\"Frequency\"}},\"legend\":{\"tracegroupgap\":0,\"itemsizing\":\"constant\"},\"title\":{\"text\":\"Top 30 Words Bubble Chart\"}},                        {\"responsive\": true}                    ).then(function(){\n",
              "                            \n",
              "var gd = document.getElementById('aa1ec351-3f44-44dc-af5c-40915ab8ec27');\n",
              "var x = new MutationObserver(function (mutations, observer) {{\n",
              "        var display = window.getComputedStyle(gd).display;\n",
              "        if (!display || display === 'none') {{\n",
              "            console.log([gd, 'removed!']);\n",
              "            Plotly.purge(gd);\n",
              "            observer.disconnect();\n",
              "        }}\n",
              "}});\n",
              "\n",
              "// Listen for the removal of the full notebook cells\n",
              "var notebookContainer = gd.closest('#notebook-container');\n",
              "if (notebookContainer) {{\n",
              "    x.observe(notebookContainer, {childList: true});\n",
              "}}\n",
              "\n",
              "// Listen for the clearing of the current output cell\n",
              "var outputEl = gd.closest('.output');\n",
              "if (outputEl) {{\n",
              "    x.observe(outputEl, {childList: true});\n",
              "}}\n",
              "\n",
              "                        })                };                            </script>        </div>\n",
              "</body>\n",
              "</html>"
            ]
          },
          "metadata": {}
        }
      ],
      "source": [
        "# Get the top 30 words from 'word_df'\n",
        "top_30_words_df = word_df.head(30)\n",
        "\n",
        "# Random position of the words\n",
        "top_30_words_df_1 = top_30_words_df.sample(frac=1,random_state=30).reset_index(drop=True)\n",
        "\n",
        "# Create the bubble chart\n",
        "fig = px.scatter(top_30_words_df_1, x='Word', y='Frequency', size='Frequency', title='Top 30 Words Bubble Chart')\n",
        "\n",
        "# Customize the appearance of the chart\n",
        "fig.update_traces(marker=dict(line=dict(width=2, color='DarkSlateGrey')))\n",
        "\n",
        "# Set the axis labels\n",
        "fig.update_xaxes(title_text='Word')\n",
        "fig.update_yaxes(title_text='Frequency')\n",
        "\n",
        "# Show the chart\n",
        "fig.show()"
      ]
    },
    {
      "cell_type": "markdown",
      "metadata": {
        "id": "rdi5599jyHT7"
      },
      "source": [
        "### LDA"
      ]
    },
    {
      "cell_type": "markdown",
      "metadata": {
        "id": "PzNBM2hYORvS"
      },
      "source": [
        "Despite that our document has a clear general topic which is the conflict in Syria and Iraq, we wanted to analyze if there were any underlying topics by using the LDA (Latent Dirichlet Allocation) algorithm used for topic modeling.\n",
        "\n"
      ]
    },
    {
      "cell_type": "code",
      "execution_count": null,
      "metadata": {
        "colab": {
          "base_uri": "https://localhost:8080/"
        },
        "id": "Ua8H20asyFQn",
        "outputId": "8995f8cf-2b10-4541-cffe-5c5ff97c5330"
      },
      "outputs": [
        {
          "output_type": "stream",
          "name": "stdout",
          "text": [
            "Collecting pyLDAvis\n",
            "  Downloading pyLDAvis-3.4.1-py3-none-any.whl (2.6 MB)\n",
            "\u001b[2K     \u001b[90m━━━━━━━━━━━━━━━━━━━━━━━━━━━━━━━━━━━━━━━━\u001b[0m \u001b[32m2.6/2.6 MB\u001b[0m \u001b[31m29.5 MB/s\u001b[0m eta \u001b[36m0:00:00\u001b[0m\n",
            "\u001b[?25hInstalling collected packages: pyLDAvis\n",
            "Successfully installed pyLDAvis-3.4.1\n",
            "Collecting funcy\n",
            "  Downloading funcy-2.0-py2.py3-none-any.whl (30 kB)\n",
            "Installing collected packages: funcy\n",
            "Successfully installed funcy-2.0\n"
          ]
        }
      ],
      "source": [
        "!pip install --no-deps pyLDAvis\n",
        "!pip install --no-deps funcy"
      ]
    },
    {
      "cell_type": "code",
      "execution_count": null,
      "metadata": {
        "id": "WD2Nz4nczeQw"
      },
      "outputs": [],
      "source": [
        "from sklearn.feature_extraction.text import CountVectorizer\n",
        "from sklearn.decomposition import LatentDirichletAllocation"
      ]
    },
    {
      "cell_type": "code",
      "execution_count": null,
      "metadata": {
        "colab": {
          "base_uri": "https://localhost:8080/"
        },
        "id": "6u_sRWGHyTw-",
        "outputId": "06256754-708b-4779-a531-5c10ae515f6c"
      },
      "outputs": [
        {
          "output_type": "execute_result",
          "data": {
            "text/plain": [
              "0      Operation Steel Curtain ( Arabic : Al Hejab El...\n",
              "1      The hospital has facilities for MRI and CT sca...\n",
              "2      The operation was important in that it was the...\n",
              "3      This was my first visit to Uzbekistan and an i...\n",
              "4      The group was founded by Sheikh Abu Omar al - ...\n",
              "                             ...                        \n",
              "958    The head of the country ' s counter - terroris...\n",
              "959    . Near Rawah , one strike engaged an ISIL tact...\n",
              "960    The SDF , made up in part by local Arabs and i...\n",
              "961    The regime and those who back it must immediat...\n",
              "962    Defeating ISIL will take time and patience but...\n",
              "Name: Sentences, Length: 963, dtype: object"
            ]
          },
          "metadata": {},
          "execution_count": 29
        }
      ],
      "source": [
        "all_raw = train_raw + test_raw\n",
        "\n",
        "sentences = [' '.join(words) for words in all_raw]\n",
        "\n",
        "sentences = pd.DataFrame(sentences, columns=['Sentences'])\n",
        "\n",
        "sentences['Sentences']"
      ]
    },
    {
      "cell_type": "markdown",
      "metadata": {
        "id": "r2ZGSuOyRPvM"
      },
      "source": [
        "First we need to create a vocabulary of words from the provided text data while excluding terms that are either too common or too rare. Additionally, we remove common English stopwords. We set the maximum treshold 0.99 and the minimum threshold 0.01 because we tried with different thresholds and the results were not consistent.\n",
        "\n",
        "Then we need to assign to each token a unique integer and create a Document-Term matrix with all of unique integer."
      ]
    },
    {
      "cell_type": "code",
      "execution_count": null,
      "metadata": {
        "colab": {
          "base_uri": "https://localhost:8080/"
        },
        "id": "W58iOb3vzVyW",
        "outputId": "15652537-b03c-4efa-dcb4-c4ee5dbe6bad"
      },
      "outputs": [
        {
          "output_type": "execute_result",
          "data": {
            "text/plain": [
              "<963x216 sparse matrix of type '<class 'numpy.int64'>'\n",
              "\twith 4467 stored elements in Compressed Sparse Row format>"
            ]
          },
          "metadata": {},
          "execution_count": 30
        }
      ],
      "source": [
        "#convert a collection of text documents to a matrix of token counts.\n",
        "cv = CountVectorizer(max_df=0.99, min_df=0.01, stop_words='english')\n",
        "\n",
        "dtm = cv.fit_transform(sentences['Sentences'])\n",
        "\n",
        "#dtm represents the frequency of words in the sentences.\n",
        "dtm"
      ]
    },
    {
      "cell_type": "markdown",
      "metadata": {
        "id": "vaB8Hb5qRzJv"
      },
      "source": [
        "After some trial and error tests we found that the algorithm gave the most reasonable results when working with 5 topics."
      ]
    },
    {
      "cell_type": "code",
      "execution_count": null,
      "metadata": {
        "colab": {
          "base_uri": "https://localhost:8080/",
          "height": 74
        },
        "id": "vjZ-DueI2Nkc",
        "outputId": "3ac0ec17-f720-4be6-ad2e-dd60e6fe8ddd"
      },
      "outputs": [
        {
          "output_type": "execute_result",
          "data": {
            "text/plain": [
              "LatentDirichletAllocation(n_components=5, random_state=42)"
            ],
            "text/html": [
              "<style>#sk-container-id-1 {color: black;background-color: white;}#sk-container-id-1 pre{padding: 0;}#sk-container-id-1 div.sk-toggleable {background-color: white;}#sk-container-id-1 label.sk-toggleable__label {cursor: pointer;display: block;width: 100%;margin-bottom: 0;padding: 0.3em;box-sizing: border-box;text-align: center;}#sk-container-id-1 label.sk-toggleable__label-arrow:before {content: \"▸\";float: left;margin-right: 0.25em;color: #696969;}#sk-container-id-1 label.sk-toggleable__label-arrow:hover:before {color: black;}#sk-container-id-1 div.sk-estimator:hover label.sk-toggleable__label-arrow:before {color: black;}#sk-container-id-1 div.sk-toggleable__content {max-height: 0;max-width: 0;overflow: hidden;text-align: left;background-color: #f0f8ff;}#sk-container-id-1 div.sk-toggleable__content pre {margin: 0.2em;color: black;border-radius: 0.25em;background-color: #f0f8ff;}#sk-container-id-1 input.sk-toggleable__control:checked~div.sk-toggleable__content {max-height: 200px;max-width: 100%;overflow: auto;}#sk-container-id-1 input.sk-toggleable__control:checked~label.sk-toggleable__label-arrow:before {content: \"▾\";}#sk-container-id-1 div.sk-estimator input.sk-toggleable__control:checked~label.sk-toggleable__label {background-color: #d4ebff;}#sk-container-id-1 div.sk-label input.sk-toggleable__control:checked~label.sk-toggleable__label {background-color: #d4ebff;}#sk-container-id-1 input.sk-hidden--visually {border: 0;clip: rect(1px 1px 1px 1px);clip: rect(1px, 1px, 1px, 1px);height: 1px;margin: -1px;overflow: hidden;padding: 0;position: absolute;width: 1px;}#sk-container-id-1 div.sk-estimator {font-family: monospace;background-color: #f0f8ff;border: 1px dotted black;border-radius: 0.25em;box-sizing: border-box;margin-bottom: 0.5em;}#sk-container-id-1 div.sk-estimator:hover {background-color: #d4ebff;}#sk-container-id-1 div.sk-parallel-item::after {content: \"\";width: 100%;border-bottom: 1px solid gray;flex-grow: 1;}#sk-container-id-1 div.sk-label:hover label.sk-toggleable__label {background-color: #d4ebff;}#sk-container-id-1 div.sk-serial::before {content: \"\";position: absolute;border-left: 1px solid gray;box-sizing: border-box;top: 0;bottom: 0;left: 50%;z-index: 0;}#sk-container-id-1 div.sk-serial {display: flex;flex-direction: column;align-items: center;background-color: white;padding-right: 0.2em;padding-left: 0.2em;position: relative;}#sk-container-id-1 div.sk-item {position: relative;z-index: 1;}#sk-container-id-1 div.sk-parallel {display: flex;align-items: stretch;justify-content: center;background-color: white;position: relative;}#sk-container-id-1 div.sk-item::before, #sk-container-id-1 div.sk-parallel-item::before {content: \"\";position: absolute;border-left: 1px solid gray;box-sizing: border-box;top: 0;bottom: 0;left: 50%;z-index: -1;}#sk-container-id-1 div.sk-parallel-item {display: flex;flex-direction: column;z-index: 1;position: relative;background-color: white;}#sk-container-id-1 div.sk-parallel-item:first-child::after {align-self: flex-end;width: 50%;}#sk-container-id-1 div.sk-parallel-item:last-child::after {align-self: flex-start;width: 50%;}#sk-container-id-1 div.sk-parallel-item:only-child::after {width: 0;}#sk-container-id-1 div.sk-dashed-wrapped {border: 1px dashed gray;margin: 0 0.4em 0.5em 0.4em;box-sizing: border-box;padding-bottom: 0.4em;background-color: white;}#sk-container-id-1 div.sk-label label {font-family: monospace;font-weight: bold;display: inline-block;line-height: 1.2em;}#sk-container-id-1 div.sk-label-container {text-align: center;}#sk-container-id-1 div.sk-container {/* jupyter's `normalize.less` sets `[hidden] { display: none; }` but bootstrap.min.css set `[hidden] { display: none !important; }` so we also need the `!important` here to be able to override the default hidden behavior on the sphinx rendered scikit-learn.org. See: https://github.com/scikit-learn/scikit-learn/issues/21755 */display: inline-block !important;position: relative;}#sk-container-id-1 div.sk-text-repr-fallback {display: none;}</style><div id=\"sk-container-id-1\" class=\"sk-top-container\"><div class=\"sk-text-repr-fallback\"><pre>LatentDirichletAllocation(n_components=5, random_state=42)</pre><b>In a Jupyter environment, please rerun this cell to show the HTML representation or trust the notebook. <br />On GitHub, the HTML representation is unable to render, please try loading this page with nbviewer.org.</b></div><div class=\"sk-container\" hidden><div class=\"sk-item\"><div class=\"sk-estimator sk-toggleable\"><input class=\"sk-toggleable__control sk-hidden--visually\" id=\"sk-estimator-id-1\" type=\"checkbox\" checked><label for=\"sk-estimator-id-1\" class=\"sk-toggleable__label sk-toggleable__label-arrow\">LatentDirichletAllocation</label><div class=\"sk-toggleable__content\"><pre>LatentDirichletAllocation(n_components=5, random_state=42)</pre></div></div></div></div></div>"
            ]
          },
          "metadata": {},
          "execution_count": 31
        }
      ],
      "source": [
        "LDA = LatentDirichletAllocation(n_components=5, random_state=42)\n",
        "LDA.fit(dtm)"
      ]
    },
    {
      "cell_type": "markdown",
      "metadata": {
        "id": "SY_SyfdLeJQ8"
      },
      "source": [
        "Now we want to print the 15 most representative words for each topic so we can understand the underlying topics."
      ]
    },
    {
      "cell_type": "code",
      "execution_count": null,
      "metadata": {
        "colab": {
          "base_uri": "https://localhost:8080/"
        },
        "id": "iW5ZNkaY5cyt",
        "outputId": "3f355506-6e3e-4d08-a65e-13ae7a0cc9f4"
      },
      "outputs": [
        {
          "output_type": "stream",
          "name": "stdout",
          "text": [
            "THE TOP 15 WORDS FOR TOPIC #1\n",
            "['attacks', 'iraq', 'attack', 'terrorist', 'political', 'iraqi', 'today', 'said', 'state', 'killed', 'foreign', 'secretary', 'syria', 'syrian', 'al']\n",
            "\n",
            "\n",
            "THE TOP 15 WORDS FOR TOPIC #2\n",
            "['states', 'group', 'said', 'air', 'conducted', 'strikes', 'operations', 'security', 'military', 'united', 'support', 'iraqi', 'forces', 'coalition', 'iraq']\n",
            "\n",
            "\n",
            "THE TOP 15 WORDS FOR TOPIC #3\n",
            "['daesh', 'reports', 'oil', 'weapons', 'council', 'access', 'regime', 'defeat', 'international', 'humanitarian', 'security', 'government', 'syria', 'iraq', 'isil']\n",
            "\n",
            "\n",
            "THE TOP 15 WORDS FOR TOPIC #4\n",
            "['fighters', 'place', 'karim', 'long', 'coalition', 'syrians', 'just', 'says', 'library', 'books', 'support', '000', 'work', 'uk', 'people']\n",
            "\n",
            "\n",
            "THE TOP 15 WORDS FOR TOPIC #5\n",
            "['east', 'forces', 'aircraft', 'city', 'tobias', 'held', 'tactical', 'minister', 'ellwood', 'destroyed', 'said', 'strike', 'near', 'operation', 'isil']\n",
            "\n",
            "\n"
          ]
        }
      ],
      "source": [
        "for index,topic in enumerate(LDA.components_):\n",
        "    print(f'THE TOP 15 WORDS FOR TOPIC #{index+1}')\n",
        "    print([cv.get_feature_names_out()[i] for i in topic.argsort()[-15:]])\n",
        "    print('\\n')"
      ]
    },
    {
      "cell_type": "markdown",
      "metadata": {
        "id": "JThD7vFleXAe"
      },
      "source": [
        "Based on the most representative words for each topic we came up with these underlying topics:\n",
        "\n",
        "**Topic #1**: political terrorist attack\n",
        "\n",
        "**Topic #2:**  military coalition operations\n",
        "\n",
        "**Topic #3:** international humanitarian support\n",
        "\n",
        "**Topic #4:** uk support\n",
        "\n",
        "**Topic #5:** strategic tactical operations\n"
      ]
    },
    {
      "cell_type": "markdown",
      "source": [
        "Then we attached to the each sentence of our dataframe the topic in which they belong."
      ],
      "metadata": {
        "id": "yCUgkniG9eJ4"
      }
    },
    {
      "cell_type": "code",
      "execution_count": null,
      "metadata": {
        "colab": {
          "base_uri": "https://localhost:8080/",
          "height": 206
        },
        "id": "NbJb91Dc5pji",
        "outputId": "92f1cad6-1fed-4c69-80c5-0b6d650afc5c"
      },
      "outputs": [
        {
          "output_type": "execute_result",
          "data": {
            "text/plain": [
              "                                           Sentences  Topic\n",
              "0  Operation Steel Curtain ( Arabic : Al Hejab El...      1\n",
              "1  The hospital has facilities for MRI and CT sca...      3\n",
              "2  The operation was important in that it was the...      0\n",
              "3  This was my first visit to Uzbekistan and an i...      3\n",
              "4  The group was founded by Sheikh Abu Omar al - ...      0"
            ],
            "text/html": [
              "\n",
              "  <div id=\"df-ce5395a0-f92e-4ee1-a207-d1d0dd58551b\" class=\"colab-df-container\">\n",
              "    <div>\n",
              "<style scoped>\n",
              "    .dataframe tbody tr th:only-of-type {\n",
              "        vertical-align: middle;\n",
              "    }\n",
              "\n",
              "    .dataframe tbody tr th {\n",
              "        vertical-align: top;\n",
              "    }\n",
              "\n",
              "    .dataframe thead th {\n",
              "        text-align: right;\n",
              "    }\n",
              "</style>\n",
              "<table border=\"1\" class=\"dataframe\">\n",
              "  <thead>\n",
              "    <tr style=\"text-align: right;\">\n",
              "      <th></th>\n",
              "      <th>Sentences</th>\n",
              "      <th>Topic</th>\n",
              "    </tr>\n",
              "  </thead>\n",
              "  <tbody>\n",
              "    <tr>\n",
              "      <th>0</th>\n",
              "      <td>Operation Steel Curtain ( Arabic : Al Hejab El...</td>\n",
              "      <td>1</td>\n",
              "    </tr>\n",
              "    <tr>\n",
              "      <th>1</th>\n",
              "      <td>The hospital has facilities for MRI and CT sca...</td>\n",
              "      <td>3</td>\n",
              "    </tr>\n",
              "    <tr>\n",
              "      <th>2</th>\n",
              "      <td>The operation was important in that it was the...</td>\n",
              "      <td>0</td>\n",
              "    </tr>\n",
              "    <tr>\n",
              "      <th>3</th>\n",
              "      <td>This was my first visit to Uzbekistan and an i...</td>\n",
              "      <td>3</td>\n",
              "    </tr>\n",
              "    <tr>\n",
              "      <th>4</th>\n",
              "      <td>The group was founded by Sheikh Abu Omar al - ...</td>\n",
              "      <td>0</td>\n",
              "    </tr>\n",
              "  </tbody>\n",
              "</table>\n",
              "</div>\n",
              "    <div class=\"colab-df-buttons\">\n",
              "\n",
              "  <div class=\"colab-df-container\">\n",
              "    <button class=\"colab-df-convert\" onclick=\"convertToInteractive('df-ce5395a0-f92e-4ee1-a207-d1d0dd58551b')\"\n",
              "            title=\"Convert this dataframe to an interactive table.\"\n",
              "            style=\"display:none;\">\n",
              "\n",
              "  <svg xmlns=\"http://www.w3.org/2000/svg\" height=\"24px\" viewBox=\"0 -960 960 960\">\n",
              "    <path d=\"M120-120v-720h720v720H120Zm60-500h600v-160H180v160Zm220 220h160v-160H400v160Zm0 220h160v-160H400v160ZM180-400h160v-160H180v160Zm440 0h160v-160H620v160ZM180-180h160v-160H180v160Zm440 0h160v-160H620v160Z\"/>\n",
              "  </svg>\n",
              "    </button>\n",
              "\n",
              "  <style>\n",
              "    .colab-df-container {\n",
              "      display:flex;\n",
              "      gap: 12px;\n",
              "    }\n",
              "\n",
              "    .colab-df-convert {\n",
              "      background-color: #E8F0FE;\n",
              "      border: none;\n",
              "      border-radius: 50%;\n",
              "      cursor: pointer;\n",
              "      display: none;\n",
              "      fill: #1967D2;\n",
              "      height: 32px;\n",
              "      padding: 0 0 0 0;\n",
              "      width: 32px;\n",
              "    }\n",
              "\n",
              "    .colab-df-convert:hover {\n",
              "      background-color: #E2EBFA;\n",
              "      box-shadow: 0px 1px 2px rgba(60, 64, 67, 0.3), 0px 1px 3px 1px rgba(60, 64, 67, 0.15);\n",
              "      fill: #174EA6;\n",
              "    }\n",
              "\n",
              "    .colab-df-buttons div {\n",
              "      margin-bottom: 4px;\n",
              "    }\n",
              "\n",
              "    [theme=dark] .colab-df-convert {\n",
              "      background-color: #3B4455;\n",
              "      fill: #D2E3FC;\n",
              "    }\n",
              "\n",
              "    [theme=dark] .colab-df-convert:hover {\n",
              "      background-color: #434B5C;\n",
              "      box-shadow: 0px 1px 3px 1px rgba(0, 0, 0, 0.15);\n",
              "      filter: drop-shadow(0px 1px 2px rgba(0, 0, 0, 0.3));\n",
              "      fill: #FFFFFF;\n",
              "    }\n",
              "  </style>\n",
              "\n",
              "    <script>\n",
              "      const buttonEl =\n",
              "        document.querySelector('#df-ce5395a0-f92e-4ee1-a207-d1d0dd58551b button.colab-df-convert');\n",
              "      buttonEl.style.display =\n",
              "        google.colab.kernel.accessAllowed ? 'block' : 'none';\n",
              "\n",
              "      async function convertToInteractive(key) {\n",
              "        const element = document.querySelector('#df-ce5395a0-f92e-4ee1-a207-d1d0dd58551b');\n",
              "        const dataTable =\n",
              "          await google.colab.kernel.invokeFunction('convertToInteractive',\n",
              "                                                    [key], {});\n",
              "        if (!dataTable) return;\n",
              "\n",
              "        const docLinkHtml = 'Like what you see? Visit the ' +\n",
              "          '<a target=\"_blank\" href=https://colab.research.google.com/notebooks/data_table.ipynb>data table notebook</a>'\n",
              "          + ' to learn more about interactive tables.';\n",
              "        element.innerHTML = '';\n",
              "        dataTable['output_type'] = 'display_data';\n",
              "        await google.colab.output.renderOutput(dataTable, element);\n",
              "        const docLink = document.createElement('div');\n",
              "        docLink.innerHTML = docLinkHtml;\n",
              "        element.appendChild(docLink);\n",
              "      }\n",
              "    </script>\n",
              "  </div>\n",
              "\n",
              "\n",
              "<div id=\"df-7f780b28-5997-40ba-93cf-2126a8b4d4cc\">\n",
              "  <button class=\"colab-df-quickchart\" onclick=\"quickchart('df-7f780b28-5997-40ba-93cf-2126a8b4d4cc')\"\n",
              "            title=\"Suggest charts\"\n",
              "            style=\"display:none;\">\n",
              "\n",
              "<svg xmlns=\"http://www.w3.org/2000/svg\" height=\"24px\"viewBox=\"0 0 24 24\"\n",
              "     width=\"24px\">\n",
              "    <g>\n",
              "        <path d=\"M19 3H5c-1.1 0-2 .9-2 2v14c0 1.1.9 2 2 2h14c1.1 0 2-.9 2-2V5c0-1.1-.9-2-2-2zM9 17H7v-7h2v7zm4 0h-2V7h2v10zm4 0h-2v-4h2v4z\"/>\n",
              "    </g>\n",
              "</svg>\n",
              "  </button>\n",
              "\n",
              "<style>\n",
              "  .colab-df-quickchart {\n",
              "      --bg-color: #E8F0FE;\n",
              "      --fill-color: #1967D2;\n",
              "      --hover-bg-color: #E2EBFA;\n",
              "      --hover-fill-color: #174EA6;\n",
              "      --disabled-fill-color: #AAA;\n",
              "      --disabled-bg-color: #DDD;\n",
              "  }\n",
              "\n",
              "  [theme=dark] .colab-df-quickchart {\n",
              "      --bg-color: #3B4455;\n",
              "      --fill-color: #D2E3FC;\n",
              "      --hover-bg-color: #434B5C;\n",
              "      --hover-fill-color: #FFFFFF;\n",
              "      --disabled-bg-color: #3B4455;\n",
              "      --disabled-fill-color: #666;\n",
              "  }\n",
              "\n",
              "  .colab-df-quickchart {\n",
              "    background-color: var(--bg-color);\n",
              "    border: none;\n",
              "    border-radius: 50%;\n",
              "    cursor: pointer;\n",
              "    display: none;\n",
              "    fill: var(--fill-color);\n",
              "    height: 32px;\n",
              "    padding: 0;\n",
              "    width: 32px;\n",
              "  }\n",
              "\n",
              "  .colab-df-quickchart:hover {\n",
              "    background-color: var(--hover-bg-color);\n",
              "    box-shadow: 0 1px 2px rgba(60, 64, 67, 0.3), 0 1px 3px 1px rgba(60, 64, 67, 0.15);\n",
              "    fill: var(--button-hover-fill-color);\n",
              "  }\n",
              "\n",
              "  .colab-df-quickchart-complete:disabled,\n",
              "  .colab-df-quickchart-complete:disabled:hover {\n",
              "    background-color: var(--disabled-bg-color);\n",
              "    fill: var(--disabled-fill-color);\n",
              "    box-shadow: none;\n",
              "  }\n",
              "\n",
              "  .colab-df-spinner {\n",
              "    border: 2px solid var(--fill-color);\n",
              "    border-color: transparent;\n",
              "    border-bottom-color: var(--fill-color);\n",
              "    animation:\n",
              "      spin 1s steps(1) infinite;\n",
              "  }\n",
              "\n",
              "  @keyframes spin {\n",
              "    0% {\n",
              "      border-color: transparent;\n",
              "      border-bottom-color: var(--fill-color);\n",
              "      border-left-color: var(--fill-color);\n",
              "    }\n",
              "    20% {\n",
              "      border-color: transparent;\n",
              "      border-left-color: var(--fill-color);\n",
              "      border-top-color: var(--fill-color);\n",
              "    }\n",
              "    30% {\n",
              "      border-color: transparent;\n",
              "      border-left-color: var(--fill-color);\n",
              "      border-top-color: var(--fill-color);\n",
              "      border-right-color: var(--fill-color);\n",
              "    }\n",
              "    40% {\n",
              "      border-color: transparent;\n",
              "      border-right-color: var(--fill-color);\n",
              "      border-top-color: var(--fill-color);\n",
              "    }\n",
              "    60% {\n",
              "      border-color: transparent;\n",
              "      border-right-color: var(--fill-color);\n",
              "    }\n",
              "    80% {\n",
              "      border-color: transparent;\n",
              "      border-right-color: var(--fill-color);\n",
              "      border-bottom-color: var(--fill-color);\n",
              "    }\n",
              "    90% {\n",
              "      border-color: transparent;\n",
              "      border-bottom-color: var(--fill-color);\n",
              "    }\n",
              "  }\n",
              "</style>\n",
              "\n",
              "  <script>\n",
              "    async function quickchart(key) {\n",
              "      const quickchartButtonEl =\n",
              "        document.querySelector('#' + key + ' button');\n",
              "      quickchartButtonEl.disabled = true;  // To prevent multiple clicks.\n",
              "      quickchartButtonEl.classList.add('colab-df-spinner');\n",
              "      try {\n",
              "        const charts = await google.colab.kernel.invokeFunction(\n",
              "            'suggestCharts', [key], {});\n",
              "      } catch (error) {\n",
              "        console.error('Error during call to suggestCharts:', error);\n",
              "      }\n",
              "      quickchartButtonEl.classList.remove('colab-df-spinner');\n",
              "      quickchartButtonEl.classList.add('colab-df-quickchart-complete');\n",
              "    }\n",
              "    (() => {\n",
              "      let quickchartButtonEl =\n",
              "        document.querySelector('#df-7f780b28-5997-40ba-93cf-2126a8b4d4cc button');\n",
              "      quickchartButtonEl.style.display =\n",
              "        google.colab.kernel.accessAllowed ? 'block' : 'none';\n",
              "    })();\n",
              "  </script>\n",
              "</div>\n",
              "    </div>\n",
              "  </div>\n"
            ]
          },
          "metadata": {},
          "execution_count": 33
        }
      ],
      "source": [
        "topic_results = LDA.transform(dtm)\n",
        "sentences['Topic'] = topic_results.argmax(axis=1)\n",
        "sentences.head()"
      ]
    },
    {
      "cell_type": "code",
      "execution_count": null,
      "metadata": {
        "id": "xx-uC7lQ9z02"
      },
      "outputs": [],
      "source": [
        "import pyLDAvis\n",
        "import pyLDAvis.lda_model"
      ]
    },
    {
      "cell_type": "code",
      "execution_count": null,
      "metadata": {
        "id": "K5WSg06jBCwq"
      },
      "outputs": [],
      "source": [
        "#Run twice\n",
        "import warnings\n",
        "\n",
        "# Suppress DeprecationWarning\n",
        "warnings.filterwarnings(\"ignore\", category=DeprecationWarning)"
      ]
    },
    {
      "cell_type": "markdown",
      "source": [
        "To complete our analysis in topic modelling we created a interactive plot, using the pyLDAvis package, for a better understanding of the underlying topics."
      ],
      "metadata": {
        "id": "QtJlAxtQ-Rdn"
      }
    },
    {
      "cell_type": "code",
      "execution_count": null,
      "metadata": {
        "colab": {
          "base_uri": "https://localhost:8080/",
          "height": 881
        },
        "id": "RAOPG1Bp-JS9",
        "outputId": "a334e34a-d261-4a87-eb97-46db0685b5e4"
      },
      "outputs": [
        {
          "output_type": "execute_result",
          "data": {
            "text/plain": [
              "PreparedData(topic_coordinates=              x         y  topics  cluster       Freq\n",
              "topic                                                \n",
              "0      0.079132  0.229038       1        1  23.299098\n",
              "2      0.081630  0.041160       2        1  21.930840\n",
              "1      0.004048 -0.014628       3        1  21.021507\n",
              "4     -0.304198 -0.032009       4        1  18.742006\n",
              "3      0.139388 -0.223561       5        1  15.006550, topic_info=           Term        Freq       Total Category  logprob  loglift\n",
              "147      people   47.000000   47.000000  Default  30.0000  30.0000\n",
              "80       forces   76.000000   76.000000  Default  29.0000  29.0000\n",
              "42    coalition   83.000000   83.000000  Default  28.0000  28.0000\n",
              "12           al   60.000000   60.000000  Default  27.0000  27.0000\n",
              "106        isil  159.000000  159.000000  Default  26.0000  26.0000\n",
              "..          ...         ...         ...      ...      ...      ...\n",
              "43      command    9.688823   19.952278   Topic5  -4.2870   1.1743\n",
              "174     support   18.575521   70.132144   Topic5  -3.6362   0.5681\n",
              "42    coalition   14.403426   83.261945   Topic5  -3.8905   0.1422\n",
              "88   government   11.505438   47.455146   Topic5  -4.1152   0.4797\n",
              "53      counter    9.177484   27.643194   Topic5  -4.3412   0.7941\n",
              "\n",
              "[233 rows x 6 columns], token_table=      Topic      Freq   Term\n",
              "term                        \n",
              "0         5  0.968829    000\n",
              "2         2  0.696405     15\n",
              "2         4  0.261152     15\n",
              "3         4  0.302425   2016\n",
              "3         5  0.680456   2016\n",
              "...     ...       ...    ...\n",
              "213       2  0.814023   year\n",
              "213       3  0.058144   year\n",
              "213       4  0.058144   year\n",
              "214       5  0.972423  years\n",
              "215       5  0.972438  young\n",
              "\n",
              "[353 rows x 3 columns], R=30, lambda_step=0.01, plot_opts={'xlab': 'PC1', 'ylab': 'PC2'}, topic_order=[1, 3, 2, 5, 4])"
            ],
            "text/html": [
              "\n",
              "<link rel=\"stylesheet\" type=\"text/css\" href=\"https://cdn.jsdelivr.net/gh/bmabey/pyLDAvis@3.4.0/pyLDAvis/js/ldavis.v1.0.0.css\">\n",
              "\n",
              "\n",
              "<div id=\"ldavis_el3311340581110678406228619327\" style=\"background-color:white;\"></div>\n",
              "<script type=\"text/javascript\">\n",
              "\n",
              "var ldavis_el3311340581110678406228619327_data = {\"mdsDat\": {\"x\": [0.0791319321707316, 0.08162964049703067, 0.004048152506070861, -0.3041981375914251, 0.139388412417592], \"y\": [0.229037685432165, 0.04116026860850854, -0.014628310880841463, -0.032008571805906945, -0.22356107135392544], \"topics\": [1, 2, 3, 4, 5], \"cluster\": [1, 1, 1, 1, 1], \"Freq\": [23.299097830601255, 21.93083956122443, 21.02150672192746, 18.742005529616744, 15.006550356630116]}, \"tinfo\": {\"Term\": [\"people\", \"forces\", \"coalition\", \"al\", \"isil\", \"secretary\", \"near\", \"iraq\", \"syrian\", \"operation\", \"destroyed\", \"support\", \"united\", \"foreign\", \"iraqi\", \"killed\", \"military\", \"security\", \"ellwood\", \"strike\", \"strikes\", \"tactical\", \"conducted\", \"work\", \"held\", \"uk\", \"000\", \"government\", \"state\", \"books\", \"secretary\", \"killed\", \"political\", \"department\", \"day\", \"family\", \"northern\", \"known\", \"release\", \"condolences\", \"called\", \"news\", \"transition\", \"al\", \"abu\", \"foreign\", \"state\", \"rights\", \"assad\", \"victims\", \"syrian\", \"defense\", \"discuss\", \"opposition\", \"terrorist\", \"friends\", \"conflict\", \"today\", \"meeting\", \"navy\", \"committed\", \"attacks\", \"syria\", \"attack\", \"civilians\", \"said\", \"iraqi\", \"including\", \"states\", \"group\", \"iraq\", \"united\", \"baghdad\", \"new\", \"humanitarian\", \"access\", \"council\", \"weapons\", \"oil\", \"aleppo\", \"free\", \"liberation\", \"remain\", \"december\", \"step\", \"using\", \"asad\", \"following\", \"terror\", \"reports\", \"parties\", \"used\", \"defeat\", \"year\", \"chemical\", \"regional\", \"agreement\", \"welcome\", \"use\", \"areas\", \"targets\", \"clear\", \"aid\", \"15\", \"regime\", \"government\", \"daesh\", \"international\", \"fight\", \"isil\", \"syria\", \"iraq\", \"security\", \"campaign\", \"work\", \"continue\", \"minister\", \"civilians\", \"conducted\", \"arab\", \"artillery\", \"nations\", \"arabic\", \"officials\", \"military\", \"sdf\", \"air\", \"force\", \"operations\", \"airstrikes\", \"area\", \"24\", \"past\", \"country\", \"jordan\", \"terrorists\", \"united\", \"forces\", \"coalition\", \"include\", \"ongoing\", \"community\", \"iraqi\", \"strikes\", \"states\", \"support\", \"led\", \"security\", \"iraq\", \"group\", \"mosul\", \"said\", \"international\", \"syria\", \"isil\", \"efforts\", \"counter\", \"near\", \"destroyed\", \"ellwood\", \"tactical\", \"held\", \"tobias\", \"east\", \"engaged\", \"middle\", \"vbied\", \"unit\", \"units\", \"building\", \"began\", \"fighting\", \"buildings\", \"office\", \"like\", \"inherent\", \"raqqah\", \"operation\", \"vehicles\", \"systems\", \"war\", \"strike\", \"cjtf\", \"gen\", \"aircraft\", \"november\", \"dec\", \"isil\", \"city\", \"minister\", \"said\", \"resolve\", \"strikes\", \"forces\", \"control\", \"mosul\", \"syria\", \"000\", \"books\", \"library\", \"says\", \"just\", \"long\", \"karim\", \"sadiq\", \"young\", \"years\", \"iraqis\", \"da\", \"esh\", \"help\", \"people\", \"global\", \"syrians\", \"hospital\", \"place\", \"uk\", \"bring\", \"2016\", \"fighters\", \"town\", \"time\", \"women\", \"work\", \"terrorism\", \"threat\", \"important\", \"turkey\", \"command\", \"support\", \"coalition\", \"government\", \"counter\"], \"Freq\": [47.0, 76.0, 83.0, 60.0, 159.0, 42.0, 35.0, 132.0, 62.0, 42.0, 31.0, 70.0, 51.0, 46.0, 75.0, 32.0, 36.0, 54.0, 27.0, 42.0, 45.0, 25.0, 26.0, 32.0, 23.0, 26.0, 19.0, 47.0, 34.0, 18.0, 41.604260545730924, 32.21686503582775, 20.90738390718688, 14.314125323938491, 13.371456790615902, 12.43320546355127, 11.487360458947258, 11.444853675920609, 10.541516850017919, 9.608709615255693, 9.606675132031064, 9.606429844715096, 9.602134293541686, 52.7112285516255, 10.5401842353437, 39.696765655390166, 29.12464023480066, 11.252302486045101, 16.594141805679058, 8.681479334576151, 51.90186165022322, 10.919918156966952, 10.080875522983826, 9.20890674298145, 20.81077809189495, 10.41578201657084, 15.267290002393011, 22.878360729243735, 11.870343974062248, 7.24485694525221, 12.319382501086201, 16.644375617665073, 45.8703835059708, 19.489644211846258, 15.758969158647803, 25.181565950886768, 21.116501935150644, 13.113093159684917, 13.265867862746667, 13.798018378738682, 17.161097807062657, 13.614115214994403, 11.51030110261001, 11.517065253593376, 23.047385563358823, 19.236902129410836, 19.23464091228931, 19.222752391372897, 18.130493405596276, 14.472739371406423, 11.611399830018692, 11.611328421147245, 10.663285484428876, 10.663020944741865, 10.662982125470991, 10.661251999514802, 10.660456722438258, 10.657698591861827, 9.710707969446053, 17.486557962919253, 11.609351653204993, 11.504553444422825, 22.318611432688055, 14.325570006642483, 11.114334250579896, 9.376344815755173, 8.4037447693203, 8.234125054270702, 15.960983860530654, 8.69484668540579, 10.7196401321706, 8.520117888538518, 12.432192416918209, 8.344978826882011, 19.927551795787416, 31.669362552783713, 16.89182131133161, 22.78785268744286, 12.942208682969234, 57.51280237216166, 42.17627157646315, 45.06505689479796, 24.832471365771575, 13.652684545789969, 12.75232711418886, 11.855226069820706, 12.219018337803028, 10.98511213263421, 25.523345025522502, 18.741625425396734, 14.831189984196838, 13.862999438162952, 12.881976644754683, 9.953794063289658, 32.76591309464715, 14.640180865128569, 25.443639777102273, 13.72505576020738, 28.3136288970775, 9.553012213108298, 14.991919208486864, 8.933292087732056, 7.8687600188981435, 7.8065811847730755, 16.272441228100515, 10.578021914639463, 37.05279468103757, 54.17374512458983, 58.22333700299726, 9.433561798933827, 7.638939715701808, 10.893379201081649, 47.02129725967951, 27.543970694716887, 18.862285297418286, 40.33717662926498, 6.64472716674632, 28.48586307814589, 64.35377769288057, 19.025477840231883, 17.420850609629856, 20.98618204912814, 14.230351439199897, 16.796044554889665, 17.377201521691067, 10.215862814281918, 10.265695976661606, 34.306810701726135, 30.408168496965637, 26.508435935828164, 24.56028730159224, 22.60508700330083, 19.68653570781461, 17.73634650022633, 15.78791803427777, 14.81273084454483, 13.840361290643408, 13.8385526111806, 11.886974917529987, 11.883001499993064, 10.909928292434527, 15.44575818718346, 9.940386506062582, 9.932960122458828, 9.931767639183144, 13.13226443350954, 17.381323352691368, 35.27567605084008, 14.288332657101343, 9.209807596333786, 12.579021931859595, 31.869771312117475, 10.12561616710169, 7.673556048888868, 19.05517447902523, 8.167631322794898, 7.297554446046309, 70.25013393896928, 19.15921017112865, 24.77144595761968, 30.634154568360273, 12.58771727843713, 17.60556870935749, 17.82471017904638, 10.804964083372331, 12.077273897749444, 10.955009532211799, 18.8378049923971, 17.90744431344105, 16.97505499546173, 16.974229511151954, 15.107009892273522, 14.172726012256788, 14.002332490698874, 10.4454200396226, 9.513819474016383, 9.509677967615321, 10.989237898410352, 10.031906312190856, 10.031906293083003, 10.760987931078859, 38.889814306015715, 12.034379884062293, 14.883545703039191, 11.131916854859107, 13.267294798560435, 20.392821945276484, 7.6016105142948245, 9.090211300721153, 13.065365950456739, 8.858910186507645, 12.780223049897064, 6.2416789058023845, 19.59662939149445, 6.582536680549383, 7.650585064894486, 8.187882759558166, 11.717427272918101, 9.688822935874176, 18.57552087389551, 14.403425790784455, 11.50543793849466, 9.177484080178482], \"Total\": [47.0, 76.0, 83.0, 60.0, 159.0, 42.0, 35.0, 132.0, 62.0, 42.0, 31.0, 70.0, 51.0, 46.0, 75.0, 32.0, 36.0, 54.0, 27.0, 42.0, 45.0, 25.0, 26.0, 32.0, 23.0, 26.0, 19.0, 47.0, 34.0, 18.0, 42.4105138638227, 32.98872413130287, 21.68295869939381, 15.087978225831574, 14.145810909143208, 13.203586918990753, 12.261620956288251, 12.263061541648439, 11.319480074088698, 10.377178761466874, 10.37724294540435, 10.377236133953412, 10.377212460583682, 60.54657453229748, 12.27197276583521, 46.37586648847516, 34.07772584950192, 13.216692005189774, 19.774924383125658, 10.410972818921717, 62.41425756905928, 13.189041020376445, 12.31281014797655, 11.30604321685809, 25.58509383848845, 13.183519723203249, 19.868057708012234, 31.23574882360421, 16.92921060367113, 10.463235844799778, 17.866601341416654, 24.587731460109293, 116.35240684782427, 36.12995055648042, 28.4347696256822, 79.03632339793025, 75.1550565319525, 29.319859353037458, 32.70243096573975, 42.246696212955406, 132.71625063816626, 51.24240011530392, 20.07238172532549, 20.913634426712377, 23.81676260444383, 20.006586880879194, 20.006586975069315, 20.006990348394446, 19.05787764435194, 15.243849138406581, 12.38629945587915, 12.38641920623507, 11.433683690734929, 11.433738988938842, 11.43372861971969, 11.433785185197127, 11.433607607878505, 11.433758806372007, 10.481178191441257, 20.046575983349502, 13.318850356932462, 13.327204472814522, 26.600623687873984, 17.198541679943165, 13.375349005193748, 11.45940689609524, 10.514099369680649, 10.465011785636621, 20.871572546032603, 11.41242965601516, 14.36170957886096, 11.483461981778898, 17.10587337808512, 11.487565727188676, 28.493411659451354, 47.4551458290249, 24.691641319335194, 38.431053943456895, 18.943391180464968, 159.8976186408158, 116.35240684782427, 132.71625063816626, 54.0354212839045, 22.825023809769363, 32.93074633507061, 25.514390874229242, 48.98324397854126, 28.4347696256822, 26.342163518227522, 19.508173478355896, 15.60251387248305, 14.626044290572501, 13.649439429065568, 10.720143599977582, 36.997394388755, 16.549765069096477, 29.135858962461185, 16.502527623440272, 34.09495440187458, 11.648268169145018, 18.407654893110806, 11.62639050521821, 10.716406756869684, 10.644622927453048, 22.19604261814811, 14.500292485977887, 51.24240011530392, 76.02359964971168, 83.26194532668289, 13.495092345507961, 11.58095587598326, 17.41098356088273, 75.1550565319525, 45.837884121073316, 32.70243096573975, 70.13214438272755, 11.565708841662929, 54.0354212839045, 132.71625063816626, 42.246696212955406, 43.42154822307734, 79.03632339793025, 38.431053943456895, 116.35240684782427, 159.8976186408158, 22.02754201700484, 27.64319355295533, 35.069424931742404, 31.1707188088619, 27.271978567233262, 25.32269494263095, 23.373177574578996, 20.44925937486432, 18.499896227408264, 16.550538362763522, 15.575852924961213, 14.601227122992622, 14.601203754349637, 12.65185128915345, 12.651638778942749, 11.677014158535018, 16.542785608511004, 10.702471381676473, 10.702210753464758, 10.702239874757327, 14.571774986291047, 19.444380600921644, 42.573441055479236, 17.469011647314662, 11.680273737450907, 16.412707178877334, 42.686359587934, 13.631546659708244, 10.650988203132783, 27.102942848454703, 11.681924302846129, 10.58908563907346, 159.8976186408158, 33.90755980765209, 48.98324397854126, 79.03632339793025, 21.135185125424083, 45.837884121073316, 76.02359964971168, 17.26938582388209, 43.42154822307734, 116.35240684782427, 19.611309242715137, 18.678406983924468, 17.745637683950033, 17.745676980662203, 15.880130540600081, 14.947472519199321, 14.955356544292037, 11.21622957244259, 10.283433468717812, 10.283594208671973, 12.16699050162771, 11.220419035545593, 11.220419035737779, 13.15436231006773, 47.747348125634645, 15.047619015400565, 18.74250562593192, 14.035815455294086, 16.84080477782321, 26.246104908417088, 10.316184659649824, 13.22641923713882, 20.6117732431072, 14.058629597272315, 20.692207928412607, 10.3163539972394, 32.93074633507061, 11.288773589162101, 13.291063525969252, 15.07425280375898, 21.89091763167597, 19.952278015386852, 70.13214438272755, 83.26194532668289, 47.4551458290249, 27.64319355295533], \"Category\": [\"Default\", \"Default\", \"Default\", \"Default\", \"Default\", \"Default\", \"Default\", \"Default\", \"Default\", \"Default\", \"Default\", \"Default\", \"Default\", \"Default\", \"Default\", \"Default\", \"Default\", \"Default\", \"Default\", \"Default\", \"Default\", \"Default\", \"Default\", \"Default\", \"Default\", \"Default\", \"Default\", \"Default\", \"Default\", \"Default\", \"Topic1\", \"Topic1\", \"Topic1\", \"Topic1\", \"Topic1\", \"Topic1\", \"Topic1\", \"Topic1\", \"Topic1\", \"Topic1\", \"Topic1\", \"Topic1\", \"Topic1\", \"Topic1\", \"Topic1\", \"Topic1\", \"Topic1\", \"Topic1\", \"Topic1\", \"Topic1\", \"Topic1\", \"Topic1\", \"Topic1\", \"Topic1\", \"Topic1\", \"Topic1\", \"Topic1\", \"Topic1\", \"Topic1\", \"Topic1\", \"Topic1\", \"Topic1\", \"Topic1\", \"Topic1\", \"Topic1\", \"Topic1\", \"Topic1\", \"Topic1\", \"Topic1\", \"Topic1\", \"Topic1\", \"Topic1\", \"Topic1\", \"Topic1\", \"Topic2\", \"Topic2\", \"Topic2\", \"Topic2\", \"Topic2\", \"Topic2\", \"Topic2\", \"Topic2\", \"Topic2\", \"Topic2\", \"Topic2\", \"Topic2\", \"Topic2\", \"Topic2\", \"Topic2\", \"Topic2\", \"Topic2\", \"Topic2\", \"Topic2\", \"Topic2\", \"Topic2\", \"Topic2\", \"Topic2\", \"Topic2\", \"Topic2\", \"Topic2\", \"Topic2\", \"Topic2\", \"Topic2\", \"Topic2\", \"Topic2\", \"Topic2\", \"Topic2\", \"Topic2\", \"Topic2\", \"Topic2\", \"Topic2\", \"Topic2\", \"Topic2\", \"Topic2\", \"Topic2\", \"Topic2\", \"Topic2\", \"Topic2\", \"Topic3\", \"Topic3\", \"Topic3\", \"Topic3\", \"Topic3\", \"Topic3\", \"Topic3\", \"Topic3\", \"Topic3\", \"Topic3\", \"Topic3\", \"Topic3\", \"Topic3\", \"Topic3\", \"Topic3\", \"Topic3\", \"Topic3\", \"Topic3\", \"Topic3\", \"Topic3\", \"Topic3\", \"Topic3\", \"Topic3\", \"Topic3\", \"Topic3\", \"Topic3\", \"Topic3\", \"Topic3\", \"Topic3\", \"Topic3\", \"Topic3\", \"Topic3\", \"Topic3\", \"Topic3\", \"Topic3\", \"Topic3\", \"Topic3\", \"Topic3\", \"Topic3\", \"Topic4\", \"Topic4\", \"Topic4\", \"Topic4\", \"Topic4\", \"Topic4\", \"Topic4\", \"Topic4\", \"Topic4\", \"Topic4\", \"Topic4\", \"Topic4\", \"Topic4\", \"Topic4\", \"Topic4\", \"Topic4\", \"Topic4\", \"Topic4\", \"Topic4\", \"Topic4\", \"Topic4\", \"Topic4\", \"Topic4\", \"Topic4\", \"Topic4\", \"Topic4\", \"Topic4\", \"Topic4\", \"Topic4\", \"Topic4\", \"Topic4\", \"Topic4\", \"Topic4\", \"Topic4\", \"Topic4\", \"Topic4\", \"Topic4\", \"Topic4\", \"Topic4\", \"Topic4\", \"Topic5\", \"Topic5\", \"Topic5\", \"Topic5\", \"Topic5\", \"Topic5\", \"Topic5\", \"Topic5\", \"Topic5\", \"Topic5\", \"Topic5\", \"Topic5\", \"Topic5\", \"Topic5\", \"Topic5\", \"Topic5\", \"Topic5\", \"Topic5\", \"Topic5\", \"Topic5\", \"Topic5\", \"Topic5\", \"Topic5\", \"Topic5\", \"Topic5\", \"Topic5\", \"Topic5\", \"Topic5\", \"Topic5\", \"Topic5\", \"Topic5\", \"Topic5\", \"Topic5\", \"Topic5\", \"Topic5\", \"Topic5\"], \"logprob\": [30.0, 29.0, 28.0, 27.0, 26.0, 25.0, 24.0, 23.0, 22.0, 21.0, 20.0, 19.0, 18.0, 17.0, 16.0, 15.0, 14.0, 13.0, 12.0, 11.0, 10.0, 9.0, 8.0, 7.0, 6.0, 5.0, 4.0, 3.0, 2.0, 1.0, -3.2697, -3.5254, -3.9578, -4.3367, -4.4048, -4.4776, -4.5567, -4.5604, -4.6426, -4.7353, -4.7355, -4.7355, -4.7359, -3.0331, -4.6427, -3.3167, -3.6263, -4.5774, -4.1889, -4.8367, -3.0486, -4.6073, -4.6873, -4.7778, -3.9625, -4.6546, -4.2722, -3.8677, -4.5239, -5.0176, -4.4867, -4.1859, -3.1721, -4.028, -4.2405, -3.7718, -3.9479, -4.4243, -4.4127, -4.3734, -4.1553, -4.3868, -4.5547, -4.5541, -3.7999, -3.9806, -3.9807, -3.9813, -4.0398, -4.2651, -4.4854, -4.4854, -4.5706, -4.5706, -4.5706, -4.5708, -4.5709, -4.5711, -4.6642, -4.076, -4.4856, -4.4947, -3.832, -4.2754, -4.5292, -4.6992, -4.8087, -4.8291, -4.1673, -4.7747, -4.5653, -4.795, -4.4171, -4.8157, -3.9453, -3.4821, -4.1106, -3.8112, -4.3769, -2.8854, -3.1955, -3.1293, -3.7253, -4.3235, -4.3917, -4.4646, -4.4344, -4.5409, -3.6555, -3.9643, -4.1983, -4.2658, -4.3392, -4.5971, -3.4057, -4.2113, -3.6586, -4.2758, -3.5517, -4.6382, -4.1875, -4.7053, -4.8322, -4.8401, -4.1056, -4.5363, -3.2827, -2.9029, -2.8308, -4.6508, -4.8618, -4.5069, -3.0445, -3.5793, -3.9579, -3.1978, -5.0012, -3.5456, -2.7307, -3.9493, -4.0374, -3.8512, -4.2397, -4.0739, -4.0399, -4.5711, -4.5662, -3.2449, -3.3656, -3.5028, -3.5791, -3.6621, -3.8003, -3.9047, -4.021, -4.0848, -4.1527, -4.1528, -4.3048, -4.3052, -4.3906, -4.0429, -4.4837, -4.4844, -4.4845, -4.2052, -3.9249, -3.2171, -4.1208, -4.56, -4.2482, -3.3186, -4.4652, -4.7425, -3.8329, -4.6801, -4.7927, -2.5282, -3.8275, -3.5706, -3.3582, -4.2476, -3.9121, -3.8997, -4.4003, -4.289, -4.3865, -3.6221, -3.6728, -3.7263, -3.7263, -3.8428, -3.9067, -3.9188, -4.2118, -4.3053, -4.3057, -4.1611, -4.2522, -4.2522, -4.1821, -2.8973, -4.0702, -3.8577, -4.1482, -3.9727, -3.5428, -4.5296, -4.3508, -3.988, -4.3766, -4.0101, -4.7267, -3.5826, -4.6736, -4.5232, -4.4553, -4.0969, -4.287, -3.6362, -3.8905, -4.1152, -4.3412], \"loglift\": [30.0, 29.0, 28.0, 27.0, 26.0, 25.0, 24.0, 23.0, 22.0, 21.0, 20.0, 19.0, 18.0, 17.0, 16.0, 15.0, 14.0, 13.0, 12.0, 11.0, 10.0, 9.0, 8.0, 7.0, 6.0, 5.0, 4.0, 3.0, 2.0, 1.0, 1.4376, 1.4331, 1.4203, 1.4041, 1.4005, 1.3966, 1.3915, 1.3877, 1.3856, 1.3798, 1.3796, 1.3796, 1.3791, 1.3182, 1.3046, 1.3012, 1.2997, 1.2958, 1.2814, 1.2751, 1.2723, 1.268, 1.2568, 1.2516, 1.2502, 1.2211, 1.1934, 1.1454, 1.1018, 1.0892, 1.085, 1.0666, 0.526, 0.8395, 0.8666, 0.313, 0.1873, 0.6521, 0.5545, 0.3378, -0.5888, 0.1313, 0.9007, 0.8602, 1.4844, 1.478, 1.4779, 1.4773, 1.4674, 1.4654, 1.4527, 1.4527, 1.4475, 1.4475, 1.4475, 1.4473, 1.4473, 1.447, 1.4409, 1.3807, 1.3799, 1.3702, 1.3418, 1.3345, 1.3321, 1.3167, 1.2932, 1.2775, 1.249, 1.2453, 1.2248, 1.2188, 1.1981, 1.1977, 1.1597, 1.1128, 1.1376, 0.9946, 1.1363, 0.4948, 0.5025, 0.4372, 0.7398, 1.0034, 0.5686, 0.7508, 0.1288, 0.5662, 1.528, 1.5195, 1.5089, 1.506, 1.5018, 1.4855, 1.4382, 1.437, 1.4241, 1.3753, 1.3738, 1.3613, 1.3544, 1.2961, 1.2507, 1.2495, 1.2492, 1.2442, 1.2354, 1.2208, 1.2019, 1.2016, 1.1435, 1.0907, 1.0907, 1.0503, 1.0093, 1.0065, 1.0054, 0.9194, 0.8358, 0.7619, 0.6463, 0.2336, 0.5661, -0.3759, -0.6598, 0.7913, 0.5691, 1.6524, 1.6496, 1.646, 1.6438, 1.641, 1.6364, 1.6323, 1.6272, 1.6242, 1.6209, 1.6208, 1.612, 1.6117, 1.6065, 1.6058, 1.6005, 1.5998, 1.5997, 1.5704, 1.5622, 1.4864, 1.4734, 1.4368, 1.4084, 1.3822, 1.3771, 1.3465, 1.3221, 1.3165, 1.3021, 0.8519, 1.1035, 0.9926, 0.7266, 1.1562, 0.7175, 0.2239, 1.2055, 0.3948, -0.6884, 1.8564, 1.8545, 1.8523, 1.8522, 1.8468, 1.8435, 1.8308, 1.8255, 1.8189, 1.8184, 1.7949, 1.7847, 1.7847, 1.6959, 1.6915, 1.6732, 1.6661, 1.6649, 1.6582, 1.6443, 1.5913, 1.5217, 1.4408, 1.4349, 1.4148, 1.3942, 1.3776, 1.3573, 1.3444, 1.2864, 1.2717, 1.1743, 0.5681, 0.1422, 0.4797, 0.7941]}, \"token.table\": {\"Topic\": [5, 2, 4, 4, 5, 1, 3, 1, 2, 2, 2, 3, 1, 2, 3, 5, 2, 4, 1, 3, 1, 4, 2, 3, 3, 3, 5, 1, 2, 3, 2, 1, 5, 1, 2, 3, 4, 1, 2, 1, 3, 4, 5, 1, 3, 5, 4, 4, 1, 1, 2, 3, 2, 3, 1, 3, 4, 5, 1, 2, 3, 3, 4, 2, 4, 2, 3, 4, 5, 2, 3, 4, 5, 1, 5, 2, 3, 1, 3, 1, 2, 3, 1, 2, 5, 4, 5, 2, 1, 3, 4, 5, 1, 3, 1, 5, 1, 2, 1, 4, 5, 2, 2, 5, 1, 5, 1, 4, 1, 3, 4, 1, 2, 3, 5, 4, 4, 1, 5, 1, 2, 5, 1, 5, 2, 4, 2, 1, 3, 2, 3, 4, 1, 4, 2, 1, 5, 2, 4, 3, 5, 1, 2, 3, 5, 1, 2, 3, 4, 5, 4, 3, 5, 1, 5, 2, 2, 5, 3, 5, 1, 2, 3, 5, 4, 5, 2, 3, 5, 1, 2, 3, 5, 1, 2, 3, 5, 5, 1, 2, 3, 4, 5, 3, 5, 5, 5, 1, 1, 1, 2, 3, 2, 5, 4, 5, 1, 5, 4, 2, 3, 1, 2, 4, 5, 1, 2, 3, 4, 5, 3, 1, 3, 4, 1, 2, 4, 1, 1, 3, 4, 4, 3, 2, 1, 3, 4, 5, 2, 3, 4, 1, 5, 2, 5, 3, 4, 1, 2, 5, 1, 5, 1, 2, 4, 1, 2, 2, 3, 1, 2, 2, 4, 1, 2, 4, 5, 1, 2, 5, 1, 2, 3, 4, 5, 2, 3, 1, 2, 3, 1, 3, 1, 3, 2, 2, 3, 4, 3, 4, 2, 3, 5, 1, 2, 3, 4, 5, 1, 2, 4, 5, 2, 5, 3, 4, 4, 2, 3, 2, 1, 3, 5, 1, 4, 1, 3, 5, 4, 5, 2, 5, 4, 1, 2, 3, 5, 1, 5, 1, 3, 4, 5, 2, 5, 4, 1, 3, 4, 2, 5, 1, 2, 2, 4, 2, 4, 1, 3, 4, 5, 2, 1, 2, 1, 5, 2, 5, 2, 3, 4, 5, 5], \"Freq\": [0.9688287388083375, 0.6964051557995151, 0.2611519334248182, 0.3024250122639612, 0.6804562775939127, 0.17202243457265184, 0.7741009555769333, 0.8963514024919984, 0.08148649113563622, 0.9496872261684368, 0.7608830503418562, 0.19022076258546405, 0.2338378118199172, 0.7015134354597516, 0.8580491837295804, 0.10296590204754966, 0.258274536427291, 0.7010308845883613, 0.17169934370997572, 0.8584967185498786, 0.8753591827350713, 0.11561347696500941, 0.9184032112156812, 0.9739507402412784, 0.9524200658612668, 0.8148783800599095, 0.1629756760119819, 0.17524752049147205, 0.7886138422116242, 0.9613835387420705, 0.9620760460959216, 0.8596745894263162, 0.151707280486997, 0.5258794907648187, 0.2767786793499045, 0.08303360380497136, 0.11071147173996182, 0.6914017272223956, 0.28469482885628056, 0.5978363785728278, 0.39855758571521854, 0.9420216376084316, 0.9636796122652035, 0.193870124080145, 0.0969350620400725, 0.77548049632058, 0.9484937255695816, 0.934363629051215, 0.9636470932222498, 0.30668095062419704, 0.6133619012483941, 0.08762312874977059, 0.8224084467424826, 0.1495288084986332, 0.14745974137813433, 0.2654275344806418, 0.5603470172369105, 0.02949194827562687, 0.5626913884172583, 0.38685032953686505, 0.035168211776078644, 0.22007774135178063, 0.7335924711726021, 0.783735777092355, 0.17416350602052333, 0.012010288686823785, 0.6965967438357795, 0.12010288686823785, 0.16814404161553298, 0.15035877094768085, 0.15035877094768085, 0.15035877094768085, 0.5011959031589361, 0.6716442467534518, 0.2798517694806049, 0.3446100548552699, 0.6317851005679948, 0.9636530534804474, 0.987010804257184, 0.7549806941596973, 0.15099613883193946, 0.05033204627731315, 0.27435497223922894, 0.4703228095529639, 0.27435497223922894, 0.636965327671812, 0.34743563327553384, 0.9496872216973516, 0.21705162207492268, 0.3617527034582045, 0.0723505406916409, 0.325577433112384, 0.18788829004378294, 0.7515531601751317, 0.08912323121195936, 0.8912323121195936, 0.28349674731904256, 0.6884921006319605, 0.9189999840587005, 0.6610580213054634, 0.2833105805594843, 0.9620649912195436, 0.8270482774442917, 0.1503724140807803, 0.8340257629804563, 0.15164104781462842, 0.9278910527608738, 0.9624417128125687, 0.8121622830059935, 0.1624324566011987, 0.9729784307293762, 0.04539771161158241, 0.22698855805791204, 0.4539771161158241, 0.2723862696694944, 0.9900271787555583, 0.9667359241919188, 0.08912323121043285, 0.8912323121043284, 0.9088439432121561, 0.6862551628773848, 0.26394429341437875, 0.33961173148170914, 0.6307075013231741, 0.06044931148025733, 0.90673967220386, 0.962063323731276, 0.12119355565623717, 0.8483548895936602, 0.05261524077300344, 0.7103057504355464, 0.23676858347851545, 0.8625175771096455, 0.12937763656644682, 0.9688123593931202, 0.7585227776767237, 0.15170455553534473, 0.1877760036774558, 0.7511040147098232, 0.13291139268964008, 0.7974683561378406, 0.02107253033428404, 0.6743209706970893, 0.06321759100285212, 0.2528703640114085, 0.33138685991987105, 0.023670489994276504, 0.44973930989125355, 0.11835244997138251, 0.09468195997710602, 0.984033939185707, 0.15204081755215865, 0.8362244965368726, 0.14249261158856516, 0.7837093637371083, 0.9657063968764824, 0.39802967869185624, 0.5307062382558083, 0.6669091081096441, 0.22230303603654805, 0.44338548297480956, 0.306959180521022, 0.06821315122689378, 0.17053287806723444, 0.8921356534965882, 0.06862581949973755, 0.5984743492551517, 0.3642887343292228, 0.026020623880658775, 0.12809282901118346, 0.33906925326489745, 0.4822318268656319, 0.04520923376865299, 0.2794223165951816, 0.05322329839908221, 0.6253737561892159, 0.039917473799311654, 0.9040855253834883, 0.043778012827848115, 0.3627321062878844, 0.10631803115334541, 0.4377801282784811, 0.05003201466039785, 0.7208492196225083, 0.22526538113203384, 0.9445766180353563, 0.9361194404518115, 0.9700284216095321, 0.8970027560117215, 0.259387473873902, 0.1729249825826013, 0.6052374390391047, 0.9688029930360701, 0.9579819166135449, 0.9343838408617944, 0.9366131954427521, 0.7088339959216868, 0.2362779986405623, 0.9630291241362214, 0.10811572182542027, 0.8919547050597172, 0.1633211553629373, 0.24498173304440596, 0.5103786105091791, 0.06124543326110149, 0.09212016069648368, 0.11515020087060461, 0.39151068296005564, 0.2763604820894511, 0.11515020087060461, 0.957196609135388, 0.6690091004188724, 0.2867181858938025, 0.9695054899296499, 0.5737883600314228, 0.23907848334642617, 0.19126278667714092, 0.9636477257447069, 0.8971081424890042, 0.256807005612003, 0.684818681632008, 0.9343863833706113, 0.9328233252417357, 0.9444913193329554, 0.259045974453753, 0.6907892652100079, 0.8221087873632303, 0.16442175747264606, 0.05865970596194837, 0.821235883467277, 0.08798955894292254, 0.7960344593925114, 0.1768965465316692, 0.9009786639545807, 0.0750815553295484, 0.7465188828215811, 0.18662972070539527, 0.04188714302493876, 0.14660500058728565, 0.8167992889863058, 0.17813875521854786, 0.7719346059470408, 0.9685025134778814, 0.05142874028872902, 0.8742885849083935, 0.2807666591707131, 0.7019166479267827, 0.785380960952414, 0.0872645512169349, 0.9717760822937428, 0.9620696441789485, 0.8480251198069955, 0.09976766115376418, 0.1419433982809651, 0.047314466093655035, 0.6150880592175154, 0.18925786437462014, 0.8322808760074495, 0.07566189781885906, 0.8915652033878861, 0.3163102599564327, 0.025304820796514617, 0.2657006183634035, 0.39222472234597655, 0.9579797952214062, 0.060423818454517456, 0.9063572768177618, 0.9903204694679996, 0.46265948161390086, 0.5181786194075689, 0.850995753885492, 0.11737872467386096, 0.3975239643077076, 0.5809965632189572, 0.962065863713816, 0.18741349876697688, 0.04685337469174422, 0.7496539950679075, 0.6108484398198345, 0.39268828274132217, 0.15684676544282494, 0.5703518743375452, 0.270917140310334, 0.39535065278162035, 0.36097233514843596, 0.14610784994103362, 0.09454037349125705, 0.008594579408296095, 0.8331429712588305, 0.04806594064954791, 0.09613188129909582, 0.01602198021651597, 0.16006397756387672, 0.8003198878193837, 0.1712288637198051, 0.7705298867391229, 0.9872566903577198, 0.7659255285450787, 0.20888878051229418, 0.9540912116317057, 0.26575074575684465, 0.0885835819189482, 0.6200850734326374, 0.820790423227178, 0.15634103299565297, 0.1379282522703625, 0.7586053874869938, 0.06896412613518126, 0.3761926192159536, 0.6019081907455257, 0.3382915938317174, 0.6282558171160466, 0.9780305307576793, 0.7363357968424747, 0.12805839945086517, 0.09604379958814888, 0.03201459986271629, 0.35565344156802525, 0.6401761948224455, 0.9636499240989362, 0.2740862718024233, 0.18272418120161554, 0.5481725436048466, 0.19050445837380262, 0.7620178334952105, 0.9588250554910214, 0.2732112463213603, 0.7220582938493093, 0.9484777939405367, 0.7665929323107654, 0.19164823307769135, 0.07503449069456752, 0.9004138883348104, 0.9620611041600876, 0.9588235209323012, 0.17173266928705497, 0.8014191233395898, 0.864472528796031, 0.09605250319955899, 0.7920692094434374, 0.18278520217925479, 0.9496680744650203, 0.19111301936086003, 0.7644520774434401, 0.2908004127042154, 0.5816008254084308, 0.39476785213808685, 0.6073351571355182, 0.8140225061248486, 0.058144464723203476, 0.058144464723203476, 0.9724226566201122, 0.9724378565213636], \"Term\": [\"000\", \"15\", \"15\", \"2016\", \"2016\", \"24\", \"24\", \"abu\", \"abu\", \"access\", \"agreement\", \"agreement\", \"aid\", \"aid\", \"air\", \"air\", \"aircraft\", \"aircraft\", \"airstrikes\", \"airstrikes\", \"al\", \"al\", \"aleppo\", \"arab\", \"arabic\", \"area\", \"area\", \"areas\", \"areas\", \"artillery\", \"asad\", \"assad\", \"assad\", \"attack\", \"attack\", \"attack\", \"attack\", \"attacks\", \"attacks\", \"baghdad\", \"baghdad\", \"began\", \"books\", \"bring\", \"bring\", \"bring\", \"building\", \"buildings\", \"called\", \"campaign\", \"campaign\", \"campaign\", \"chemical\", \"chemical\", \"city\", \"city\", \"city\", \"city\", \"civilians\", \"civilians\", \"civilians\", \"cjtf\", \"cjtf\", \"clear\", \"clear\", \"coalition\", \"coalition\", \"coalition\", \"coalition\", \"command\", \"command\", \"command\", \"command\", \"committed\", \"committed\", \"community\", \"community\", \"condolences\", \"conducted\", \"conflict\", \"conflict\", \"conflict\", \"continue\", \"continue\", \"continue\", \"control\", \"control\", \"council\", \"counter\", \"counter\", \"counter\", \"counter\", \"country\", \"country\", \"da\", \"da\", \"daesh\", \"daesh\", \"day\", \"dec\", \"dec\", \"december\", \"defeat\", \"defeat\", \"defense\", \"defense\", \"department\", \"destroyed\", \"discuss\", \"discuss\", \"east\", \"efforts\", \"efforts\", \"efforts\", \"efforts\", \"ellwood\", \"engaged\", \"esh\", \"esh\", \"family\", \"fight\", \"fight\", \"fighters\", \"fighters\", \"fighting\", \"fighting\", \"following\", \"force\", \"force\", \"forces\", \"forces\", \"forces\", \"foreign\", \"foreign\", \"free\", \"friends\", \"friends\", \"gen\", \"gen\", \"global\", \"global\", \"government\", \"government\", \"government\", \"government\", \"group\", \"group\", \"group\", \"group\", \"group\", \"held\", \"help\", \"help\", \"hospital\", \"hospital\", \"humanitarian\", \"important\", \"important\", \"include\", \"include\", \"including\", \"including\", \"including\", \"including\", \"inherent\", \"inherent\", \"international\", \"international\", \"international\", \"iraq\", \"iraq\", \"iraq\", \"iraq\", \"iraqi\", \"iraqi\", \"iraqi\", \"iraqi\", \"iraqis\", \"isil\", \"isil\", \"isil\", \"isil\", \"isil\", \"jordan\", \"jordan\", \"just\", \"karim\", \"killed\", \"known\", \"led\", \"led\", \"led\", \"liberation\", \"library\", \"like\", \"long\", \"meeting\", \"meeting\", \"middle\", \"military\", \"military\", \"minister\", \"minister\", \"minister\", \"minister\", \"mosul\", \"mosul\", \"mosul\", \"mosul\", \"mosul\", \"nations\", \"navy\", \"navy\", \"near\", \"new\", \"new\", \"new\", \"news\", \"northern\", \"november\", \"november\", \"office\", \"officials\", \"oil\", \"ongoing\", \"ongoing\", \"operation\", \"operation\", \"operations\", \"operations\", \"operations\", \"opposition\", \"opposition\", \"parties\", \"parties\", \"past\", \"past\", \"people\", \"people\", \"people\", \"place\", \"place\", \"political\", \"raqqah\", \"raqqah\", \"regime\", \"regime\", \"regional\", \"regional\", \"release\", \"remain\", \"reports\", \"reports\", \"resolve\", \"resolve\", \"resolve\", \"resolve\", \"rights\", \"rights\", \"sadiq\", \"said\", \"said\", \"said\", \"said\", \"says\", \"sdf\", \"sdf\", \"secretary\", \"security\", \"security\", \"state\", \"state\", \"states\", \"states\", \"step\", \"strike\", \"strike\", \"strike\", \"strikes\", \"strikes\", \"support\", \"support\", \"support\", \"syria\", \"syria\", \"syria\", \"syria\", \"syria\", \"syrian\", \"syrian\", \"syrian\", \"syrian\", \"syrians\", \"syrians\", \"systems\", \"systems\", \"tactical\", \"targets\", \"targets\", \"terror\", \"terrorism\", \"terrorism\", \"terrorism\", \"terrorist\", \"terrorist\", \"terrorists\", \"terrorists\", \"terrorists\", \"threat\", \"threat\", \"time\", \"time\", \"tobias\", \"today\", \"today\", \"today\", \"today\", \"town\", \"town\", \"transition\", \"turkey\", \"turkey\", \"turkey\", \"uk\", \"uk\", \"unit\", \"united\", \"united\", \"units\", \"use\", \"use\", \"used\", \"used\", \"using\", \"vbied\", \"vehicles\", \"vehicles\", \"victims\", \"victims\", \"war\", \"war\", \"weapons\", \"welcome\", \"welcome\", \"women\", \"women\", \"work\", \"work\", \"year\", \"year\", \"year\", \"years\", \"young\"]}, \"R\": 30, \"lambda.step\": 0.01, \"plot.opts\": {\"xlab\": \"PC1\", \"ylab\": \"PC2\"}, \"topic.order\": [1, 3, 2, 5, 4]};\n",
              "\n",
              "function LDAvis_load_lib(url, callback){\n",
              "  var s = document.createElement('script');\n",
              "  s.src = url;\n",
              "  s.async = true;\n",
              "  s.onreadystatechange = s.onload = callback;\n",
              "  s.onerror = function(){console.warn(\"failed to load library \" + url);};\n",
              "  document.getElementsByTagName(\"head\")[0].appendChild(s);\n",
              "}\n",
              "\n",
              "if(typeof(LDAvis) !== \"undefined\"){\n",
              "   // already loaded: just create the visualization\n",
              "   !function(LDAvis){\n",
              "       new LDAvis(\"#\" + \"ldavis_el3311340581110678406228619327\", ldavis_el3311340581110678406228619327_data);\n",
              "   }(LDAvis);\n",
              "}else if(typeof define === \"function\" && define.amd){\n",
              "   // require.js is available: use it to load d3/LDAvis\n",
              "   require.config({paths: {d3: \"https://d3js.org/d3.v5\"}});\n",
              "   require([\"d3\"], function(d3){\n",
              "      window.d3 = d3;\n",
              "      LDAvis_load_lib(\"https://cdn.jsdelivr.net/gh/bmabey/pyLDAvis@3.4.0/pyLDAvis/js/ldavis.v3.0.0.js\", function(){\n",
              "        new LDAvis(\"#\" + \"ldavis_el3311340581110678406228619327\", ldavis_el3311340581110678406228619327_data);\n",
              "      });\n",
              "    });\n",
              "}else{\n",
              "    // require.js not available: dynamically load d3 & LDAvis\n",
              "    LDAvis_load_lib(\"https://d3js.org/d3.v5.js\", function(){\n",
              "         LDAvis_load_lib(\"https://cdn.jsdelivr.net/gh/bmabey/pyLDAvis@3.4.0/pyLDAvis/js/ldavis.v3.0.0.js\", function(){\n",
              "                 new LDAvis(\"#\" + \"ldavis_el3311340581110678406228619327\", ldavis_el3311340581110678406228619327_data);\n",
              "            })\n",
              "         });\n",
              "}\n",
              "</script>"
            ]
          },
          "metadata": {},
          "execution_count": 37
        }
      ],
      "source": [
        "pyLDAvis.enable_notebook()\n",
        "vis = pyLDAvis.lda_model.prepare(LDA, dtm, cv)\n",
        "vis"
      ]
    },
    {
      "cell_type": "markdown",
      "metadata": {
        "id": "dFFbUYF8kVmg"
      },
      "source": [
        "From this graph we can see how the 4th topic is the most different from the others, while the 2nd and the 3rd are similar and for each topic there are between 15% and 20% of token usage."
      ]
    },
    {
      "cell_type": "markdown",
      "metadata": {
        "id": "MXXSDHWI-cnG"
      },
      "source": [
        "# BiLSTM Model to clasify the data"
      ]
    },
    {
      "cell_type": "code",
      "execution_count": null,
      "metadata": {
        "id": "QOkafgh0-3aR"
      },
      "outputs": [],
      "source": [
        "import urllib\n",
        "import sklearn\n",
        "import logging\n",
        "import random\n",
        "\n",
        "from io import StringIO\n",
        "from seqeval.metrics import classification_report\n",
        "from tensorflow.keras.preprocessing.text import Tokenizer\n",
        "from tensorflow.keras.preprocessing.sequence import pad_sequences\n",
        "from tensorflow.keras.utils import to_categorical, plot_model\n",
        "from tensorflow.keras.callbacks import ModelCheckpoint, EarlyStopping"
      ]
    },
    {
      "cell_type": "markdown",
      "metadata": {
        "id": "_e9ljiRYQRFx"
      },
      "source": [
        "To address our named entity recognition task, we constructed a Bidirectional Long Short-Term Memory (BiLSTM) model with the Keras framework. This kind of architecture is very useful for our objective as BiLSTM models has the capability to capture contextual information from both preceding and succeeding tokens within a sequence.\n",
        "\n",
        "This bidirectional approach increases the model's ability to understand the context surrounding each entity, thereby improving the overall accuracy and effectiveness of the named entity recognition process."
      ]
    },
    {
      "cell_type": "markdown",
      "metadata": {
        "id": "k09l18GLCdio"
      },
      "source": [
        "### Creating a validation set and adjusting the data for the model"
      ]
    },
    {
      "cell_type": "markdown",
      "metadata": {
        "id": "Q1lsCxewTzUb"
      },
      "source": [
        "As a validation set was not initially available, we divided our training set into two distinct subsets.\n",
        "\n",
        "85% of the data was kept as the training set, while the remaining 15% was designated as the newly created validation set. This strategic split enables us to assess the model's performance on an independent dataset, enhancing the reliability of our training and validation processes."
      ]
    },
    {
      "cell_type": "code",
      "execution_count": null,
      "metadata": {
        "id": "eu8foZp9_vmv"
      },
      "outputs": [],
      "source": [
        "# Calculate the number of indices to select (20% of the length of the original list)\n",
        "num_indices_to_select = int(0.15 * len(train_raw))\n",
        "\n",
        "# Use random.sample to select random indices without replacement\n",
        "random.seed(320)\n",
        "validation_indices = random.sample(range(len(train_raw)), num_indices_to_select)"
      ]
    },
    {
      "cell_type": "code",
      "execution_count": null,
      "metadata": {
        "colab": {
          "base_uri": "https://localhost:8080/"
        },
        "id": "StZeLV7YBgFR",
        "outputId": "f734e145-64b5-4415-bc85-8cf04cac8689"
      },
      "outputs": [
        {
          "output_type": "stream",
          "name": "stdout",
          "text": [
            "Length of validation set: 114\n",
            "Length of validation NER set: 114\n",
            "Length of updated training set: 650\n",
            "Length of updated training NER set: 650\n"
          ]
        }
      ],
      "source": [
        "validation_raw = [train_raw[i] for i in validation_indices]\n",
        "validation_NER = [train_NER[i] for i in validation_indices]\n",
        "\n",
        "train_raw = [train_raw[i] for i in range(len(train_raw)) if i not in validation_indices]\n",
        "train_NER = [train_NER[i] for i in range(len(train_NER)) if i not in validation_indices]\n",
        "\n",
        "print(\"Length of validation set:\", len(validation_raw))\n",
        "print(\"Length of validation NER set:\", len(validation_NER))\n",
        "print(\"Length of updated training set:\", len(train_raw))\n",
        "print(\"Length of updated training NER set:\", len(train_NER))"
      ]
    },
    {
      "cell_type": "markdown",
      "metadata": {
        "id": "ZSIRSxnm38f8"
      },
      "source": [
        "Now we want to prepare the data for our named entity recognition task by tokenizing the text and assigning an integer ID to each token.\n",
        "\n",
        "We also encode the labels into integers by enumerating them and created 2 dictionares to associate each ID (integer) to it's tag and viceversa."
      ]
    },
    {
      "cell_type": "code",
      "execution_count": null,
      "metadata": {
        "id": "gm0w6Y4cBmuS"
      },
      "outputs": [],
      "source": [
        "# integer encode sequences of words\n",
        "tokenizer = Tokenizer()    #lowers tokens\n",
        "tokenizer.fit_on_texts(train_raw + test_raw + validation_raw)\n",
        "\n",
        "train_seqs = tokenizer.texts_to_sequences(train_raw)\n",
        "validation_seqs = tokenizer.texts_to_sequences(validation_raw)\n",
        "test_seqs = tokenizer.texts_to_sequences(test_raw)\n",
        "\n",
        "#Dictionary with the tags and it's corresponding id\n",
        "tag_2_id = { tag: id for id, tag in enumerate(labels) }\n",
        "#Dictionary with the id's and it's corresponding tag\n",
        "id_2_tag = { id: tag for tag, id in tag_2_id.items() }\n",
        "\n",
        "#creates a list of tuples that contain the id of each tag for each phrase\n",
        "NER_train_seqs = [[tag_2_id[tag] for tag in sentence] for sentence in train_NER]\n",
        "NER_validation_seqs = [[tag_2_id[tag] for tag in sentence] for sentence in validation_NER]\n",
        "NER_test_seqs  = [[tag_2_id[tag] for tag in sentence] for sentence in test_NER ]"
      ]
    },
    {
      "cell_type": "code",
      "execution_count": null,
      "metadata": {
        "colab": {
          "base_uri": "https://localhost:8080/"
        },
        "id": "jGpfIGp_BxmO",
        "outputId": "e3968524-e076-405c-d1ac-30b526abbb2d"
      },
      "outputs": [
        {
          "output_type": "execute_result",
          "data": {
            "text/plain": [
              "{'I-DocumentReference': 0,\n",
              " 'B-Temporal': 1,\n",
              " 'I-Quantity': 2,\n",
              " 'O': 3,\n",
              " 'I-Temporal': 4,\n",
              " 'I-Location': 5,\n",
              " 'B-Organisation': 6,\n",
              " 'I-Nationality': 7,\n",
              " 'B-Nationality': 8,\n",
              " 'I-Organisation': 9,\n",
              " 'B-MilitaryPlatform': 10,\n",
              " 'B-Weapon': 11,\n",
              " 'I-Weapon': 12,\n",
              " 'I-MilitaryPlatform': 13,\n",
              " 'B-Quantity': 14,\n",
              " 'B-Location': 15,\n",
              " 'B-Money': 16,\n",
              " 'B-Person': 17,\n",
              " 'I-Money': 18,\n",
              " 'I-Person': 19,\n",
              " 'B-DocumentReference': 20}"
            ]
          },
          "metadata": {},
          "execution_count": 42
        }
      ],
      "source": [
        "tag_2_id"
      ]
    },
    {
      "cell_type": "code",
      "execution_count": null,
      "metadata": {
        "colab": {
          "base_uri": "https://localhost:8080/"
        },
        "id": "m5KOOfVxB3cU",
        "outputId": "44db9c12-04ee-4cfb-d59d-d034576c4615"
      },
      "outputs": [
        {
          "output_type": "stream",
          "name": "stdout",
          "text": [
            "['Operation', 'Steel', 'Curtain', '(', 'Arabic', ':', 'Al', 'Hejab', 'Elfulathi', ')', 'was', 'a', 'military', 'operation', 'executed', 'by', 'coalition', 'forces', 'in', 'early', 'November', '2005', 'to', 'reduce', 'the', 'flow', 'of', 'foreign', 'insurgents', 'crossing', 'the', 'border', 'and', 'joining', 'the', 'Iraqi', 'insurgency', '.']\n",
            "[72, 650, 651, 67, 242, 40, 45, 1946, 1947, 68, 28, 8, 79, 72, 1948, 21, 32, 35, 7, 551, 289, 1312, 6, 971, 1, 972, 5, 59, 973, 763, 1, 552, 4, 1313, 1, 36, 974, 3]\n",
            "72 : operation\n",
            "650 : steel\n",
            "651 : curtain\n",
            "67 : (\n",
            "242 : arabic\n",
            "40 : :\n",
            "45 : al\n",
            "1946 : hejab\n",
            "1947 : elfulathi\n",
            "68 : )\n",
            "28 : was\n",
            "8 : a\n",
            "79 : military\n",
            "72 : operation\n",
            "1948 : executed\n",
            "21 : by\n",
            "32 : coalition\n",
            "35 : forces\n",
            "7 : in\n",
            "551 : early\n",
            "289 : november\n",
            "1312 : 2005\n",
            "6 : to\n",
            "971 : reduce\n",
            "1 : the\n",
            "972 : flow\n",
            "5 : of\n",
            "59 : foreign\n",
            "973 : insurgents\n",
            "763 : crossing\n",
            "1 : the\n",
            "552 : border\n",
            "4 : and\n",
            "1313 : joining\n",
            "1 : the\n",
            "36 : iraqi\n",
            "974 : insurgency\n",
            "3 : .\n"
          ]
        }
      ],
      "source": [
        "print(train_raw[0])\n",
        "print(train_seqs[0])\n",
        "for i in train_seqs[0]:\n",
        "    print(f'{i} : {tokenizer.index_word[i]}')"
      ]
    },
    {
      "cell_type": "markdown",
      "metadata": {
        "id": "kt6iYSjG8Lih"
      },
      "source": [
        "We now see the size of or vocabulary and also the distribution of the sentences length:"
      ]
    },
    {
      "cell_type": "code",
      "execution_count": null,
      "metadata": {
        "colab": {
          "base_uri": "https://localhost:8080/"
        },
        "id": "kQazYtr0CHnY",
        "outputId": "eab7b04c-295d-4328-b93f-0db31dcbe0ca"
      },
      "outputs": [
        {
          "output_type": "stream",
          "name": "stdout",
          "text": [
            "3925\n"
          ]
        }
      ],
      "source": [
        "#Size of the vocabulary\n",
        "vocab_size = len(tokenizer.word_counts)\n",
        "print(vocab_size)"
      ]
    },
    {
      "cell_type": "code",
      "execution_count": null,
      "metadata": {
        "colab": {
          "base_uri": "https://localhost:8080/"
        },
        "id": "X9AUZV9OCKxP",
        "outputId": "b69c78ba-6217-41c1-a54e-95dd4ed1c434"
      },
      "outputs": [
        {
          "output_type": "stream",
          "name": "stdout",
          "text": [
            "Length of the longest sequence: 154\n",
            "[('75%', 34.0), ('80%', 36.0), ('85%', 39.0), ('90%', 43.0), ('95%', 49.0), ('100%', 154.0)]\n"
          ]
        }
      ],
      "source": [
        "seq_lens = np.array([len(s) for s in train_seqs])\n",
        "longest_sequence = seq_lens.max()\n",
        "print(\"Length of the longest sequence:\",longest_sequence)\n",
        "\n",
        "print([(str(p) + '%', np.percentile(seq_lens, p)) for p in range(75,101, 5)])"
      ]
    },
    {
      "cell_type": "markdown",
      "metadata": {
        "id": "iqRiTmz48j0u"
      },
      "source": [
        "To ensure consistent sequence lengths for our NLP task, we applied padding to token sequences for training, validation, and test sets, fixing their length at 40 words to cover over 85% of the data.\n",
        "\n",
        "Simultaneously, we created vectors to represent class labels that will be defined as our target variable."
      ]
    },
    {
      "cell_type": "code",
      "execution_count": null,
      "metadata": {
        "id": "2lhO1259Ctop"
      },
      "outputs": [],
      "source": [
        "#Padding\n",
        "max_seq_len = 40\n",
        "X_train = pad_sequences(train_seqs, maxlen=max_seq_len, padding='post', truncating='post')\n",
        "X_validation = pad_sequences(validation_seqs, maxlen=max_seq_len, padding='post', truncating='post')\n",
        "X_test = pad_sequences(test_seqs, maxlen=max_seq_len, padding='post', truncating='post')\n",
        "\n",
        "Y_train = pad_sequences(NER_train_seqs, maxlen=max_seq_len, value=tag_2_id['O'], padding='post', truncating='post')\n",
        "Y_validation = pad_sequences(NER_validation_seqs, maxlen=max_seq_len, value=tag_2_id['O'], padding='post', truncating='post')\n",
        "Y_test = pad_sequences(NER_test_seqs, maxlen=max_seq_len, value=tag_2_id['O'], padding='post', truncating='post')\n",
        "\n",
        "#Categorical list\n",
        "Y_train = to_categorical(Y_train, num_classes=len(labels), dtype='int32')\n",
        "Y_validation = to_categorical(Y_validation, num_classes=len(labels), dtype='int32')\n",
        "Y_test = to_categorical(Y_test, num_classes=len(labels), dtype='int32')"
      ]
    },
    {
      "cell_type": "code",
      "execution_count": null,
      "metadata": {
        "colab": {
          "base_uri": "https://localhost:8080/"
        },
        "id": "nJRjylJ2DhRd",
        "outputId": "99556e53-efd9-4afe-9222-1dbd2f852771"
      },
      "outputs": [
        {
          "output_type": "stream",
          "name": "stdout",
          "text": [
            "[  72  650  651   67  242   40   45 1946 1947   68   28    8   79   72\n",
            " 1948   21   32   35    7  551  289 1312    6  971    1  972    5   59\n",
            "  973  763    1  552    4 1313    1   36  974    3    0    0]\n",
            "[[0 0 0 1 0 0 0 0 0 0 0 0 0 0 0 0 0 0 0 0 0]\n",
            " [0 0 0 1 0 0 0 0 0 0 0 0 0 0 0 0 0 0 0 0 0]\n",
            " [0 0 0 1 0 0 0 0 0 0 0 0 0 0 0 0 0 0 0 0 0]\n",
            " [0 0 0 1 0 0 0 0 0 0 0 0 0 0 0 0 0 0 0 0 0]\n",
            " [0 0 0 1 0 0 0 0 0 0 0 0 0 0 0 0 0 0 0 0 0]\n",
            " [0 0 0 1 0 0 0 0 0 0 0 0 0 0 0 0 0 0 0 0 0]\n",
            " [0 0 0 1 0 0 0 0 0 0 0 0 0 0 0 0 0 0 0 0 0]\n",
            " [0 0 0 1 0 0 0 0 0 0 0 0 0 0 0 0 0 0 0 0 0]\n",
            " [0 0 0 1 0 0 0 0 0 0 0 0 0 0 0 0 0 0 0 0 0]\n",
            " [0 0 0 1 0 0 0 0 0 0 0 0 0 0 0 0 0 0 0 0 0]\n",
            " [0 0 0 1 0 0 0 0 0 0 0 0 0 0 0 0 0 0 0 0 0]\n",
            " [0 0 0 1 0 0 0 0 0 0 0 0 0 0 0 0 0 0 0 0 0]\n",
            " [0 0 0 1 0 0 0 0 0 0 0 0 0 0 0 0 0 0 0 0 0]\n",
            " [0 0 0 1 0 0 0 0 0 0 0 0 0 0 0 0 0 0 0 0 0]\n",
            " [0 0 0 1 0 0 0 0 0 0 0 0 0 0 0 0 0 0 0 0 0]\n",
            " [0 0 0 1 0 0 0 0 0 0 0 0 0 0 0 0 0 0 0 0 0]\n",
            " [0 0 0 0 0 0 1 0 0 0 0 0 0 0 0 0 0 0 0 0 0]\n",
            " [0 0 0 0 0 0 0 0 0 1 0 0 0 0 0 0 0 0 0 0 0]\n",
            " [0 0 0 1 0 0 0 0 0 0 0 0 0 0 0 0 0 0 0 0 0]\n",
            " [0 1 0 0 0 0 0 0 0 0 0 0 0 0 0 0 0 0 0 0 0]\n",
            " [0 0 0 0 1 0 0 0 0 0 0 0 0 0 0 0 0 0 0 0 0]\n",
            " [0 0 0 0 1 0 0 0 0 0 0 0 0 0 0 0 0 0 0 0 0]\n",
            " [0 0 0 1 0 0 0 0 0 0 0 0 0 0 0 0 0 0 0 0 0]\n",
            " [0 0 0 1 0 0 0 0 0 0 0 0 0 0 0 0 0 0 0 0 0]\n",
            " [0 0 0 1 0 0 0 0 0 0 0 0 0 0 0 0 0 0 0 0 0]\n",
            " [0 0 0 1 0 0 0 0 0 0 0 0 0 0 0 0 0 0 0 0 0]\n",
            " [0 0 0 1 0 0 0 0 0 0 0 0 0 0 0 0 0 0 0 0 0]\n",
            " [0 0 0 0 0 0 1 0 0 0 0 0 0 0 0 0 0 0 0 0 0]\n",
            " [0 0 0 0 0 0 0 0 0 1 0 0 0 0 0 0 0 0 0 0 0]\n",
            " [0 0 0 1 0 0 0 0 0 0 0 0 0 0 0 0 0 0 0 0 0]\n",
            " [0 0 0 1 0 0 0 0 0 0 0 0 0 0 0 0 0 0 0 0 0]\n",
            " [0 0 0 1 0 0 0 0 0 0 0 0 0 0 0 0 0 0 0 0 0]\n",
            " [0 0 0 1 0 0 0 0 0 0 0 0 0 0 0 0 0 0 0 0 0]\n",
            " [0 0 0 1 0 0 0 0 0 0 0 0 0 0 0 0 0 0 0 0 0]\n",
            " [0 0 0 1 0 0 0 0 0 0 0 0 0 0 0 0 0 0 0 0 0]\n",
            " [0 0 0 0 0 0 0 0 1 0 0 0 0 0 0 0 0 0 0 0 0]\n",
            " [0 0 0 1 0 0 0 0 0 0 0 0 0 0 0 0 0 0 0 0 0]\n",
            " [0 0 0 1 0 0 0 0 0 0 0 0 0 0 0 0 0 0 0 0 0]\n",
            " [0 0 0 1 0 0 0 0 0 0 0 0 0 0 0 0 0 0 0 0 0]\n",
            " [0 0 0 1 0 0 0 0 0 0 0 0 0 0 0 0 0 0 0 0 0]]\n"
          ]
        }
      ],
      "source": [
        "print(X_train[0])\n",
        "print(Y_train[0])"
      ]
    },
    {
      "cell_type": "markdown",
      "metadata": {
        "id": "SKxX2DM9-xyL"
      },
      "source": [
        "We assign the index 0 to the padding character and transform the data into numpy arrays so we are able to work with it for the model."
      ]
    },
    {
      "cell_type": "code",
      "execution_count": null,
      "metadata": {
        "colab": {
          "base_uri": "https://localhost:8080/"
        },
        "id": "iD_KM-T1Djxw",
        "outputId": "3c90578a-906f-41b2-dfb9-4a0b414a66c5"
      },
      "outputs": [
        {
          "output_type": "stream",
          "name": "stdout",
          "text": [
            "(650, 40)\n",
            "(650, 40, 21)\n"
          ]
        }
      ],
      "source": [
        "tokenizer.index_word[0] = '_PAD_'\n",
        "\n",
        "X_train = np.array(X_train)\n",
        "Y_train = np.array(Y_train)\n",
        "\n",
        "X_validation = np.array(X_validation)\n",
        "Y_validation = np.array(Y_validation)\n",
        "\n",
        "X_test = np.array(X_test)\n",
        "Y_test = np.array(Y_test)\n",
        "\n",
        "# 650 phrases, 40 words, for Y 21 labels\n",
        "print(X_train.shape)\n",
        "print(Y_train.shape)"
      ]
    },
    {
      "cell_type": "markdown",
      "metadata": {
        "id": "6iT5a00_EB_w"
      },
      "source": [
        "To increase the capacity of our model, we use pretrained embeddings generated using the GloVe method, sourced directly from the Stanford University webpage.\n",
        "\n",
        "We also defined a custom-built function designed to generate an embedding matrix. This matrix serves as a input to our model when the variable *glove_bool* is set to True."
      ]
    },
    {
      "cell_type": "code",
      "execution_count": null,
      "metadata": {
        "id": "0QfunO1wDxDU"
      },
      "outputs": [],
      "source": [
        "glove_BOOL=True"
      ]
    },
    {
      "cell_type": "code",
      "execution_count": null,
      "metadata": {
        "id": "pPQXlvBbDyO4"
      },
      "outputs": [],
      "source": [
        "#create the embedding matrix using pretrained Glove embeddings\n",
        "def load_glove_embedding_matrix(path, word_index, embed_dim):\n",
        "    embeddings_index = {}\n",
        "    with open(path, encoding='utf-8') as f:\n",
        "        for line in f:\n",
        "            values = line.split()\n",
        "            word = values[0]\n",
        "            coefs = np.asarray(values[1:], dtype='float32')\n",
        "            embeddings_index[word] = coefs\n",
        "\n",
        "    print('Found %s word vectors.' % len(embeddings_index))\n",
        "    embedding_matrix = np.zeros((len(word_index) + 1, embed_dim))\n",
        "    for word, i in word_index.items():\n",
        "        embedding_vector = embeddings_index.get(word)\n",
        "        if embedding_vector is not None:\n",
        "            # words not found in embedding index will be all-zeros.\n",
        "            embedding_matrix[i] = embedding_vector\n",
        "\n",
        "    return embedding_matrix"
      ]
    },
    {
      "cell_type": "code",
      "execution_count": null,
      "metadata": {
        "colab": {
          "base_uri": "https://localhost:8080/"
        },
        "id": "8kG48KuGEAyx",
        "outputId": "fa8928a1-567e-43e7-f4ee-0c20e1ab5502"
      },
      "outputs": [
        {
          "output_type": "stream",
          "name": "stdout",
          "text": [
            "--2023-11-28 16:16:13--  https://nlp.stanford.edu/data/glove.6B.zip\n",
            "Resolving nlp.stanford.edu (nlp.stanford.edu)... 171.64.67.140\n",
            "Connecting to nlp.stanford.edu (nlp.stanford.edu)|171.64.67.140|:443... connected.\n",
            "HTTP request sent, awaiting response... 301 Moved Permanently\n",
            "Location: https://downloads.cs.stanford.edu/nlp/data/glove.6B.zip [following]\n",
            "--2023-11-28 16:16:14--  https://downloads.cs.stanford.edu/nlp/data/glove.6B.zip\n",
            "Resolving downloads.cs.stanford.edu (downloads.cs.stanford.edu)... 171.64.64.22\n",
            "Connecting to downloads.cs.stanford.edu (downloads.cs.stanford.edu)|171.64.64.22|:443... connected.\n",
            "HTTP request sent, awaiting response... 200 OK\n",
            "Length: 862182613 (822M) [application/zip]\n",
            "Saving to: ‘glove.6B.zip’\n",
            "\n",
            "glove.6B.zip        100%[===================>] 822.24M  5.10MB/s    in 2m 43s  \n",
            "\n",
            "2023-11-28 16:18:58 (5.05 MB/s) - ‘glove.6B.zip’ saved [862182613/862182613]\n",
            "\n",
            "Archive:  glove.6B.zip\n",
            "  inflating: glove.6B.50d.txt        \n",
            "  inflating: glove.6B.100d.txt       \n",
            "  inflating: glove.6B.200d.txt       \n",
            "  inflating: glove.6B.300d.txt       \n",
            "mv: 'glove.6B.100d.txt' and '/content/glove.6B.100d.txt' are the same file\n"
          ]
        }
      ],
      "source": [
        "# Download GloVe file\n",
        "!wget https://nlp.stanford.edu/data/glove.6B.zip\n",
        "\n",
        "# Unzip the downloaded file\n",
        "!unzip glove.6B.zip\n",
        "\n",
        "# Move the required file to the current directory\n",
        "!mv glove.6B.100d.txt /content"
      ]
    },
    {
      "cell_type": "code",
      "execution_count": null,
      "metadata": {
        "id": "hOP6qn3yFYkn"
      },
      "outputs": [],
      "source": [
        "#Run only once\n",
        "os.remove('/content/glove.6B.300d.txt')\n",
        "os.remove('/content/glove.6B.200d.txt')\n",
        "os.remove('/content/glove.6B.50d.txt')\n",
        "os.remove('/content/glove.6B.zip')"
      ]
    },
    {
      "cell_type": "code",
      "execution_count": null,
      "metadata": {
        "colab": {
          "base_uri": "https://localhost:8080/"
        },
        "id": "lcYSfw0SFeiD",
        "outputId": "964d95e5-8471-4c8f-97a7-91eefb02f6c8"
      },
      "outputs": [
        {
          "output_type": "stream",
          "name": "stdout",
          "text": [
            "Found 400000 word vectors.\n"
          ]
        }
      ],
      "source": [
        "glove_emb_matrix=None\n",
        "glove_embedding_path = os.path.join('/content/', 'glove.6B.100d.txt')\n",
        "embedding_dim = 100\n",
        "glove_emb_matrix = load_glove_embedding_matrix(glove_embedding_path, tokenizer.word_index, embedding_dim)"
      ]
    },
    {
      "cell_type": "code",
      "execution_count": null,
      "metadata": {
        "colab": {
          "base_uri": "https://localhost:8080/"
        },
        "id": "dowQvZiuFm1u",
        "outputId": "a2aaa85f-1c93-4452-e5e5-c2d476ef8467"
      },
      "outputs": [
        {
          "output_type": "stream",
          "name": "stdout",
          "text": [
            "Words not found in pre-trained embeddings: ['the', '-', 's', 'attacks', '000', 'since', 'under', 'e', 'forward', 'each', 'kerry', 'almost', 'language', 'contribution', 'markets', 'square', 'entrance', 'myself', 'sale', 'ensuring', 'feel', 'barbarity', 'record', 'ambassador', 'mistura', 'ā', 'minutes', 'born', 'thank', '167988', 'bloodshed', 'hemr', 'î', '269635', 'kirkuk', 'executed', 'latakia', 'posture', 'nationwide', 'bbcnewsmagazine', 'facebook', 'eurobird', 'clan', 'credibility', 'sarmin', 'talamenes', 'cruel', 'responds', 'pittsburgh', 'facilitating', 'ü', 'lu', 'reaffirms', 'ū', 'zumar', 'broken', 'uscentcom', 'vertical', 'chronicled', 'clarify', 'marketplace', 'forefront', 'shortly', 'distance', 'neighbourhood', 'obstruction', 'stratotanker', 'alahmar', '20s', 'license', 'declared', 'uncontested', 'conductor', 'premiere', \"'s\", 'transliterated', 'kurmanji', 'glance', 'q', 'warfighter', 'mutual', 'fault', 'middleman', 'custom', 'coode', 'unified', 'southwest', 'monetary', 'kasasbeh', 'hopper', 'mazidi', 'kubra', 'briefly', 'naser']\n",
            "Total words missing: 94\n"
          ]
        }
      ],
      "source": [
        "def check_for_missing_words(embedding_matrix):\n",
        "    # Find the indices of zero rows\n",
        "    zero_rows = np.all(embedding_matrix == 0, axis=1)\n",
        "\n",
        "    # Extract the words that have zero rows\n",
        "    missing_words = [word for word, is_zero in zip(tokenizer.word_index.keys(), zero_rows) if is_zero]\n",
        "\n",
        "    return missing_words\n",
        "\n",
        "# Check for missing words in the embedding matrix\n",
        "missing_words = check_for_missing_words(glove_emb_matrix)\n",
        "\n",
        "print(\"Words not found in pre-trained embeddings:\", missing_words)\n",
        "print(\"Total words missing:\", len(missing_words))"
      ]
    },
    {
      "cell_type": "markdown",
      "metadata": {
        "id": "nvQE2nLxFzY4"
      },
      "source": [
        "#### Constructing the model"
      ]
    },
    {
      "cell_type": "markdown",
      "metadata": {
        "id": "JkGpZWGYEn0B"
      },
      "source": [
        "The chosen architecture for named entity recognition (NER) and text classification employs a Bidirectional Long Short-Term Memory\n",
        "We decided to move with an architecture employing a\n",
        "BiLSTM model with bidirectional processing, embedding layer, dropout regularization, and dense layers.\n",
        "\n",
        "The bidirectional LSTM layers capture contextual information for understanding the sequence of words. The embedding layer provides semantic representation, and in our case we will use pre-trained GloVe embeddings to initialize the weights hoping that this will improve the performance.\n",
        "Dropout layers prevent overfitting, and dense layers allow high-level feature extraction.\n",
        "\n",
        "A final dense layer using softmax activation and incorporating categorical cross-entropy loss, the Adam optimizer, and the metrics of interest will be the accuracy, precision, and recall."
      ]
    },
    {
      "cell_type": "code",
      "execution_count": null,
      "metadata": {
        "id": "VQpadJrfFo-o"
      },
      "outputs": [],
      "source": [
        "from tensorflow.keras.models import Sequential\n",
        "from tensorflow.keras.layers import Dense, Dropout, Embedding, Bidirectional, LSTM\n",
        "from tensorflow.keras.metrics import Precision, Recall"
      ]
    },
    {
      "cell_type": "code",
      "execution_count": null,
      "metadata": {
        "id": "MoVMlz_TF4EP"
      },
      "outputs": [],
      "source": [
        "def BiLSTM_model(vocabulary_size, seq_len, n_classes, hidden_cells=146,\n",
        "                  embed_dim=100, drop=0.4, glove_bool=False, glove_matrix=None):\n",
        "\n",
        "    model = Sequential()\n",
        "    if glove_bool: #embedding layer to initialize the weights\n",
        "        model.add(Embedding(vocabulary_size, embed_dim,\n",
        "                            weights=[glove_matrix], input_length=seq_len,\n",
        "                            mask_zero=True, trainable=True))\n",
        "    else:\n",
        "        model.add(Embedding(vocabulary_size, embed_dim, input_length=seq_len,\n",
        "                            mask_zero=True))\n",
        "    model.add(Dropout(drop)) #Drop-out layer to avoid overfitting\n",
        "    model.add(Bidirectional(LSTM(hidden_cells, return_sequences=True,    #return sequence is to ensure\n",
        "                                 dropout=drop, recurrent_dropout=drop))) #the output of the layer has\n",
        "    model.add(Bidirectional(LSTM(hidden_cells, return_sequences=True,    #the same sequence length of the\n",
        "                                 dropout=drop, recurrent_dropout=drop))) #output\n",
        "    model.add(Dense(hidden_cells))\n",
        "    model.add(Dropout(drop))\n",
        "    model.add(Dense(n_classes, activation='softmax')) #softmax because of multi-class classification\n",
        "    model.compile(loss='categorical_crossentropy',\n",
        "                  optimizer='adam',\n",
        "                  metrics=['accuracy',\n",
        "                           Precision(),\n",
        "                           Recall()])\n",
        "    model.summary()\n",
        "    return model"
      ]
    },
    {
      "cell_type": "code",
      "execution_count": null,
      "metadata": {
        "colab": {
          "base_uri": "https://localhost:8080/"
        },
        "id": "XMV3j9RNF92y",
        "outputId": "45105169-48fb-4e97-e242-ed68ea7bbe10"
      },
      "outputs": [
        {
          "output_type": "stream",
          "name": "stderr",
          "text": [
            "WARNING:tensorflow:Layer lstm will not use cuDNN kernels since it doesn't meet the criteria. It will use a generic GPU kernel as fallback when running on GPU.\n",
            "WARNING:tensorflow:Layer lstm will not use cuDNN kernels since it doesn't meet the criteria. It will use a generic GPU kernel as fallback when running on GPU.\n",
            "WARNING:tensorflow:Layer lstm will not use cuDNN kernels since it doesn't meet the criteria. It will use a generic GPU kernel as fallback when running on GPU.\n",
            "WARNING:tensorflow:Layer lstm_1 will not use cuDNN kernels since it doesn't meet the criteria. It will use a generic GPU kernel as fallback when running on GPU.\n",
            "WARNING:tensorflow:Layer lstm_1 will not use cuDNN kernels since it doesn't meet the criteria. It will use a generic GPU kernel as fallback when running on GPU.\n",
            "WARNING:tensorflow:Layer lstm_1 will not use cuDNN kernels since it doesn't meet the criteria. It will use a generic GPU kernel as fallback when running on GPU.\n"
          ]
        },
        {
          "output_type": "stream",
          "name": "stdout",
          "text": [
            "Model: \"sequential\"\n",
            "_________________________________________________________________\n",
            " Layer (type)                Output Shape              Param #   \n",
            "=================================================================\n",
            " embedding (Embedding)       (None, 40, 100)           392600    \n",
            "                                                                 \n",
            " dropout (Dropout)           (None, 40, 100)           0         \n",
            "                                                                 \n",
            " bidirectional (Bidirection  (None, 40, 292)           288496    \n",
            " al)                                                             \n",
            "                                                                 \n",
            " bidirectional_1 (Bidirecti  (None, 40, 292)           512752    \n",
            " onal)                                                           \n",
            "                                                                 \n",
            " dense (Dense)               (None, 40, 146)           42778     \n",
            "                                                                 \n",
            " dropout_1 (Dropout)         (None, 40, 146)           0         \n",
            "                                                                 \n",
            " dense_1 (Dense)             (None, 40, 21)            3087      \n",
            "                                                                 \n",
            "=================================================================\n",
            "Total params: 1239713 (4.73 MB)\n",
            "Trainable params: 1239713 (4.73 MB)\n",
            "Non-trainable params: 0 (0.00 Byte)\n",
            "_________________________________________________________________\n"
          ]
        }
      ],
      "source": [
        "BiLSTM_model = BiLSTM_model(vocab_size+1,max_seq_len,len(labels),glove_bool=glove_BOOL,\n",
        "                            glove_matrix=glove_emb_matrix)"
      ]
    },
    {
      "cell_type": "code",
      "execution_count": null,
      "metadata": {
        "colab": {
          "base_uri": "https://localhost:8080/",
          "height": 865
        },
        "id": "XqTFI_FPGBQF",
        "outputId": "97fb2522-5120-4117-f4b4-d021771447ee"
      },
      "outputs": [
        {
          "output_type": "execute_result",
          "data": {
            "image/png": "[encoded data removed]",
            "text/plain": [
              "<IPython.core.display.Image object>"
            ]
          },
          "metadata": {},
          "execution_count": 58
        }
      ],
      "source": [
        "plot_model(BiLSTM_model,show_shapes=True, show_layer_names=True)"
      ]
    },
    {
      "cell_type": "code",
      "execution_count": null,
      "metadata": {
        "colab": {
          "base_uri": "https://localhost:8080/"
        },
        "id": "uh7hg-TBGGPj",
        "outputId": "44628e07-8af5-46d5-cbad-f88d10e72265"
      },
      "outputs": [
        {
          "output_type": "stream",
          "name": "stdout",
          "text": [
            "Requirement already satisfied: pyyaml in /usr/local/lib/python3.10/dist-packages (6.0.1)\n",
            "Requirement already satisfied: h5py in /usr/local/lib/python3.10/dist-packages (3.9.0)\n",
            "Requirement already satisfied: numpy>=1.17.3 in /usr/local/lib/python3.10/dist-packages (from h5py) (1.23.5)\n"
          ]
        }
      ],
      "source": [
        "!pip install pyyaml h5py  # Required to save models in HDF5 format"
      ]
    },
    {
      "cell_type": "markdown",
      "metadata": {
        "id": "ySFVbqU4iVtr"
      },
      "source": [
        "We also added some callbacks like **ModelCheckpoint** to save only the model weights that lead to the best performance on the validation set trying to avoid overfitting on the training data.\n",
        "\n",
        "And an **EarlyStopping** that prevents overfitting by interrupting training when performance on the validation set stalls and saves computation time by avoiding unnecessary epochs when the model is no longer improving."
      ]
    },
    {
      "cell_type": "code",
      "execution_count": null,
      "metadata": {
        "id": "OOcy1vG9GIM6"
      },
      "outputs": [],
      "source": [
        "from tensorflow.keras.callbacks import ModelCheckpoint, EarlyStopping"
      ]
    },
    {
      "cell_type": "code",
      "execution_count": null,
      "metadata": {
        "colab": {
          "base_uri": "https://localhost:8080/"
        },
        "id": "2rVNACAbGQ1u",
        "outputId": "dc22e9aa-9b5a-49a6-ee1a-f3a19ce30df6"
      },
      "outputs": [
        {
          "output_type": "stream",
          "name": "stderr",
          "text": [
            "/usr/local/lib/python3.10/dist-packages/keras/src/engine/training.py:3079: UserWarning:\n",
            "\n",
            "You are saving your model as an HDF5 file via `model.save()`. This file format is considered legacy. We recommend using instead the native Keras format, e.g. `model.save('my_model.keras')`.\n",
            "\n"
          ]
        }
      ],
      "source": [
        "BiLSTM_model.save('bilstm_model.h5')\n",
        "model_path = os.path.join('/content/', 'bilstm_model.h5')\n",
        "checkpoint = ModelCheckpoint(\n",
        "    model_path,\n",
        "    save_weights_only=True,\n",
        "    save_best_only=True,\n",
        ")\n",
        "\n",
        "early_stopping_callback = EarlyStopping(monitor=\"val_loss\", min_delta=0.01, patience=3,\n",
        "                                        verbose=1, mode=\"auto\", restore_best_weights=True)"
      ]
    },
    {
      "cell_type": "markdown",
      "metadata": {
        "id": "zLHXs6L2Glv2"
      },
      "source": [
        "#### Training the model"
      ]
    },
    {
      "cell_type": "markdown",
      "metadata": {
        "id": "67KR5mF6qkaW"
      },
      "source": [
        "After fine-tuning the model, we determined that the best results were obtained using a batch size of 15 and training for 15 epochs. This configuration takes approximately just over 9 minutes to complete the training process, without any interruptions from the early stopping callback."
      ]
    },
    {
      "cell_type": "code",
      "execution_count": null,
      "metadata": {
        "id": "8-0J6igl1KvE"
      },
      "outputs": [],
      "source": [
        "import tensorflow as tf"
      ]
    },
    {
      "cell_type": "code",
      "execution_count": null,
      "metadata": {
        "colab": {
          "base_uri": "https://localhost:8080/"
        },
        "id": "4-s-LKykGW1P",
        "outputId": "7edc0dd0-99c4-4dc7-82d4-009792f6d143"
      },
      "outputs": [
        {
          "output_type": "stream",
          "name": "stdout",
          "text": [
            "Epoch 1/15\n",
            "44/44 - 94s - loss: 1.4732 - accuracy: 0.6725 - precision: 0.7161 - recall: 0.5210 - val_loss: 1.1912 - val_accuracy: 0.6866 - val_precision: 0.7660 - val_recall: 0.5946 - 94s/epoch - 2s/step\n",
            "Epoch 2/15\n",
            "44/44 - 58s - loss: 1.1651 - accuracy: 0.6927 - precision: 0.7661 - recall: 0.6023 - val_loss: 0.9891 - val_accuracy: 0.7202 - val_precision: 0.7967 - val_recall: 0.6523 - 58s/epoch - 1s/step\n",
            "Epoch 3/15\n",
            "44/44 - 48s - loss: 1.0065 - accuracy: 0.7184 - precision: 0.7991 - recall: 0.6361 - val_loss: 0.8303 - val_accuracy: 0.7437 - val_precision: 0.8416 - val_recall: 0.6635 - 48s/epoch - 1s/step\n",
            "Epoch 4/15\n",
            "44/44 - 51s - loss: 0.8813 - accuracy: 0.7380 - precision: 0.8164 - recall: 0.6614 - val_loss: 0.6968 - val_accuracy: 0.7787 - val_precision: 0.8544 - val_recall: 0.7119 - 51s/epoch - 1s/step\n",
            "Epoch 5/15\n",
            "44/44 - 39s - loss: 0.8129 - accuracy: 0.7527 - precision: 0.8250 - recall: 0.6826 - val_loss: 0.6886 - val_accuracy: 0.7812 - val_precision: 0.8581 - val_recall: 0.7245 - 39s/epoch - 876ms/step\n",
            "Epoch 6/15\n",
            "44/44 - 40s - loss: 0.7491 - accuracy: 0.7664 - precision: 0.8360 - recall: 0.7028 - val_loss: 0.6558 - val_accuracy: 0.8029 - val_precision: 0.8594 - val_recall: 0.7523 - 40s/epoch - 911ms/step\n",
            "Epoch 7/15\n",
            "44/44 - 40s - loss: 0.6838 - accuracy: 0.7878 - precision: 0.8473 - recall: 0.7265 - val_loss: 0.6013 - val_accuracy: 0.8170 - val_precision: 0.8533 - val_recall: 0.7729 - 40s/epoch - 914ms/step\n",
            "Epoch 8/15\n",
            "44/44 - 42s - loss: 0.6159 - accuracy: 0.8056 - precision: 0.8566 - recall: 0.7555 - val_loss: 0.5324 - val_accuracy: 0.8314 - val_precision: 0.8671 - val_recall: 0.7888 - 42s/epoch - 950ms/step\n",
            "Epoch 9/15\n",
            "44/44 - 41s - loss: 0.6015 - accuracy: 0.8112 - precision: 0.8593 - recall: 0.7637 - val_loss: 0.5407 - val_accuracy: 0.8300 - val_precision: 0.8666 - val_recall: 0.7975 - 41s/epoch - 931ms/step\n",
            "Epoch 10/15\n",
            "44/44 - 42s - loss: 0.5702 - accuracy: 0.8201 - precision: 0.8647 - recall: 0.7762 - val_loss: 0.5065 - val_accuracy: 0.8383 - val_precision: 0.8690 - val_recall: 0.8069 - 42s/epoch - 952ms/step\n",
            "Epoch 11/15\n",
            "44/44 - 40s - loss: 0.5159 - accuracy: 0.8308 - precision: 0.8717 - recall: 0.7932 - val_loss: 0.5193 - val_accuracy: 0.8339 - val_precision: 0.8642 - val_recall: 0.8061 - 40s/epoch - 913ms/step\n",
            "Epoch 12/15\n",
            "44/44 - 39s - loss: 0.4912 - accuracy: 0.8418 - precision: 0.8782 - recall: 0.8052 - val_loss: 0.4849 - val_accuracy: 0.8451 - val_precision: 0.8730 - val_recall: 0.8242 - 39s/epoch - 893ms/step\n",
            "Epoch 13/15\n",
            "44/44 - 37s - loss: 0.4608 - accuracy: 0.8474 - precision: 0.8807 - recall: 0.8156 - val_loss: 0.4959 - val_accuracy: 0.8491 - val_precision: 0.8750 - val_recall: 0.8264 - 37s/epoch - 841ms/step\n",
            "Epoch 14/15\n",
            "44/44 - 39s - loss: 0.4504 - accuracy: 0.8507 - precision: 0.8844 - recall: 0.8194 - val_loss: 0.4846 - val_accuracy: 0.8502 - val_precision: 0.8733 - val_recall: 0.8314 - 39s/epoch - 888ms/step\n",
            "Epoch 15/15\n",
            "Restoring model weights from the end of the best epoch: 12.\n",
            "44/44 - 40s - loss: 0.4230 - accuracy: 0.8617 - precision: 0.8901 - recall: 0.8343 - val_loss: 0.4869 - val_accuracy: 0.8523 - val_precision: 0.8727 - val_recall: 0.8394 - 40s/epoch - 919ms/step\n",
            "Epoch 15: early stopping\n",
            "CPU times: user 14min 13s, sys: 1min 21s, total: 15min 34s\n",
            "Wall time: 11min 50s\n"
          ]
        }
      ],
      "source": [
        "%%time\n",
        "np.random.seed(320)\n",
        "random.seed(320)\n",
        "tf.random.set_seed(320)\n",
        "batch_size = 15\n",
        "history = BiLSTM_model.fit(X_train,\n",
        "          Y_train,\n",
        "          batch_size=batch_size,\n",
        "          epochs=15,\n",
        "          verbose=2,\n",
        "          callbacks=[checkpoint,early_stopping_callback],\n",
        "          validation_data=(X_validation, Y_validation)#,\n",
        "          #class_weight=class_weight_dict\n",
        "         )"
      ]
    },
    {
      "cell_type": "markdown",
      "metadata": {
        "id": "XDRabZW_G2tI"
      },
      "source": [
        "##### Summarizing results"
      ]
    },
    {
      "cell_type": "markdown",
      "metadata": {
        "id": "PzO25HxTuiRL"
      },
      "source": [
        "The following graph illustrates the progressive improvement of accuracy with each epoch in the training set. For the validation set also demonstrates an ascending trend in accuracy, despite occasional decreases in certain epochs. This suggests that on the whole, the model effectively achieves a good level of fitting for new data."
      ]
    },
    {
      "cell_type": "code",
      "execution_count": null,
      "metadata": {
        "id": "fuvqrBj5Go1B"
      },
      "outputs": [],
      "source": [
        "import matplotlib.pyplot as plt"
      ]
    },
    {
      "cell_type": "code",
      "execution_count": null,
      "metadata": {
        "colab": {
          "base_uri": "https://localhost:8080/",
          "height": 449
        },
        "id": "u_TOZqPMGrsJ",
        "outputId": "440f7ff3-7638-49c4-9d83-698767ea7f0b"
      },
      "outputs": [
        {
          "output_type": "display_data",
          "data": {
            "text/plain": [
              "<Figure size 640x480 with 1 Axes>"
            ],
            "image/png": "[encoded data removed]"
          },
          "metadata": {}
        }
      ],
      "source": [
        "# Plotting training accuracy\n",
        "plt.plot(history.history['accuracy'], label='Training Accuracy')\n",
        "plt.plot(history.history['val_accuracy'], label='Validation Accuracy')\n",
        "plt.xlabel('Epoch')\n",
        "plt.ylabel('Accuracy')\n",
        "plt.legend()\n",
        "plt.show()"
      ]
    },
    {
      "cell_type": "markdown",
      "metadata": {
        "id": "R_UeHoHxw0Fm"
      },
      "source": [
        "In order to be able to see the actual precision and recall of our model we first need to remove the padding tokens from our target variable and our prediction and, also to retrieve the actual label of the prediction using the id that is the position of the maximum argument of each tuple."
      ]
    },
    {
      "cell_type": "code",
      "execution_count": null,
      "metadata": {
        "id": "xLUM1toAGxKa"
      },
      "outputs": [],
      "source": [
        "def remove_seq_padding(X, y_true, y_pred, pad=0):\n",
        "    #Remove padding predictions from list of sequences\n",
        "    new_true = []\n",
        "    new_pred = []\n",
        "    for sent_idx in range(len(X)): #to iterate over each sentence of X\n",
        "        true_sent = []\n",
        "        pred_sent = []\n",
        "        for tok_idx in range(len(X[sent_idx])): #to iterate over each token for each sentence\n",
        "            if X[sent_idx][tok_idx] != pad:\n",
        "                true_sent.append(y_true[sent_idx][tok_idx])\n",
        "                pred_sent.append(y_pred[sent_idx][tok_idx])\n",
        "        new_true.append(true_sent)\n",
        "        new_pred.append(pred_sent)\n",
        "    return np.array(new_true,dtype=\"object\"), np.array(new_pred,dtype=\"object\")\n",
        "\n",
        "def from_encode_to_literal_labels(y_true, y_pred, idx2tag):\n",
        "    #Transform sequences of encoded labels in sequences of string labels\n",
        "    let_y_true = list()\n",
        "    let_y_pred = list()\n",
        "    for sent_idx in range(len(y_true)): #to iterate over each sentence of Y\n",
        "        let_sent_true = []\n",
        "        let_sent_pred = []\n",
        "        for token_idx in range(len(y_true[sent_idx])): #to iterate over each token for each sentence\n",
        "            let_sent_true.append(idx2tag[y_true[sent_idx][token_idx]])\n",
        "            let_sent_pred.append(idx2tag[y_pred[sent_idx][token_idx]])\n",
        "        let_y_true.append(let_sent_true)\n",
        "        let_y_pred.append(let_sent_pred)\n",
        "\n",
        "    return let_y_true, let_y_pred"
      ]
    },
    {
      "cell_type": "markdown",
      "metadata": {
        "id": "JnsE2DoCyqrt"
      },
      "source": [
        "Our model seems to have a moderate precission, which measures the accuracy of the positive predictions, indicating that we might have a high number of false positives.\n",
        "\n",
        "For the recall the results across the sets improve significantly which suggest that that our model effectively minimizes the occurrence of false negatives."
      ]
    },
    {
      "cell_type": "code",
      "execution_count": null,
      "metadata": {
        "colab": {
          "base_uri": "https://localhost:8080/"
        },
        "id": "iaY3Js17HCYR",
        "outputId": "942f53a7-a733-4b63-9314-5367d9d0db6e"
      },
      "outputs": [
        {
          "output_type": "stream",
          "name": "stdout",
          "text": [
            "44/44 [==============================] - 5s 93ms/step\n",
            "Training Set\n"
          ]
        },
        {
          "output_type": "stream",
          "name": "stderr",
          "text": [
            "/usr/local/lib/python3.10/dist-packages/seqeval/metrics/v1.py:57: UndefinedMetricWarning:\n",
            "\n",
            "Precision and F-score are ill-defined and being set to 0.0 in labels with no predicted samples. Use `zero_division` parameter to control this behavior.\n",
            "\n"
          ]
        },
        {
          "output_type": "stream",
          "name": "stdout",
          "text": [
            "                   precision    recall  f1-score   support\n",
            "\n",
            "DocumentReference      0.189     0.263     0.220        38\n",
            "         Location      0.633     0.728     0.677       500\n",
            " MilitaryPlatform      0.385     0.405     0.395        37\n",
            "            Money      0.353     0.400     0.375        15\n",
            "      Nationality      0.000     0.000     0.000        25\n",
            "     Organisation      0.614     0.703     0.655       917\n",
            "           Person      0.737     0.870     0.798       338\n",
            "         Quantity      0.659     0.680     0.669       122\n",
            "         Temporal      0.594     0.607     0.601       140\n",
            "           Weapon      0.400     0.411     0.405        73\n",
            "\n",
            "        micro avg      0.618     0.695     0.654      2205\n",
            "        macro avg      0.456     0.507     0.480      2205\n",
            "     weighted avg      0.611     0.695     0.650      2205\n",
            "\n",
            "\n",
            "\n",
            "14/14 [==============================] - 1s 63ms/step\n",
            "Test Set\n",
            "                   precision    recall  f1-score   support\n",
            "\n",
            "DocumentReference      0.071     0.125     0.091         8\n",
            "         Location      0.527     0.660     0.586       150\n",
            " MilitaryPlatform      0.000     0.000     0.000        16\n",
            "            Money      0.000     0.000     0.000         4\n",
            "      Nationality      0.000     0.000     0.000         8\n",
            "     Organisation      0.504     0.636     0.562       269\n",
            "           Person      0.556     0.705     0.622       105\n",
            "         Quantity      0.462     0.643     0.537        28\n",
            "         Temporal      0.389     0.467     0.424        45\n",
            "           Weapon      0.172     0.312     0.222        16\n",
            "\n",
            "        micro avg      0.483     0.599     0.535       649\n",
            "        macro avg      0.268     0.355     0.304       649\n",
            "     weighted avg      0.473     0.599     0.528       649\n",
            "\n",
            "\n",
            "\n",
            "8/8 [==============================] - 1s 115ms/step\n",
            "Validation Set\n",
            "                   precision    recall  f1-score   support\n",
            "\n",
            "DocumentReference      0.222     0.250     0.235         8\n",
            "         Location      0.565     0.613     0.588       106\n",
            " MilitaryPlatform      0.667     0.800     0.727         5\n",
            "            Money      0.000     0.000     0.000         4\n",
            "      Nationality      0.000     0.000     0.000         4\n",
            "     Organisation      0.455     0.591     0.514       137\n",
            "           Person      0.742     0.836     0.786        55\n",
            "         Quantity      0.522     0.571     0.545        21\n",
            "         Temporal      0.378     0.519     0.438        27\n",
            "           Weapon      0.500     0.667     0.571         6\n",
            "\n",
            "        micro avg      0.519     0.611     0.562       373\n",
            "        macro avg      0.405     0.485     0.441       373\n",
            "     weighted avg      0.516     0.611     0.558       373\n",
            "\n",
            "\n",
            "\n"
          ]
        }
      ],
      "source": [
        "datasets = [('Training Set', X_train, Y_train), ('Test Set', X_test, Y_test), ('Validation Set', X_validation, Y_validation)]\n",
        "\n",
        "for title, X, Y in datasets:\n",
        "    Y_pred = BiLSTM_model.predict(X, batch_size=batch_size)\n",
        "    Y_pred = np.array(np.argmax(Y_pred, axis=-1))\n",
        "    Y = np.array(np.argmax(Y, axis=-1))\n",
        "    Y, Y_pred = remove_seq_padding(X, Y, Y_pred)\n",
        "    let_y_true, let_y_pred = from_encode_to_literal_labels(Y, Y_pred, id_2_tag)\n",
        "\n",
        "    print(title)\n",
        "    print(classification_report(let_y_true, let_y_pred, digits=3))\n",
        "    print('\\n')"
      ]
    },
    {
      "cell_type": "code",
      "execution_count": null,
      "metadata": {
        "id": "DES4jImbHH3r"
      },
      "outputs": [],
      "source": [
        "from sklearn.metrics import accuracy_score"
      ]
    },
    {
      "cell_type": "markdown",
      "metadata": {
        "id": "V78rqCsE1ORT"
      },
      "source": [
        "Despite not having the best results in terms of precission our model manages to get very decent levels of accuracy across all sets, with more than 80% of accuracy for the train, validation and test set."
      ]
    },
    {
      "cell_type": "code",
      "execution_count": null,
      "metadata": {
        "colab": {
          "base_uri": "https://localhost:8080/"
        },
        "id": "iyU7BiabHK3y",
        "outputId": "992f1715-4167-4694-f16d-f46d77b3254a"
      },
      "outputs": [
        {
          "output_type": "stream",
          "name": "stdout",
          "text": [
            "44/44 [==============================] - 6s 132ms/step\n",
            "Training Set Accuracy: 0.894\n",
            "14/14 [==============================] - 3s 245ms/step\n",
            "Test Set Accuracy: 0.838\n",
            "8/8 [==============================] - 1s 133ms/step\n",
            "Validation Set Accuracy: 0.845\n"
          ]
        }
      ],
      "source": [
        "accuracies = []\n",
        "\n",
        "for title, X, Y in datasets:\n",
        "    Y_pred = BiLSTM_model.predict(X, batch_size=batch_size)\n",
        "    Y_pred = np.array(np.argmax(Y_pred, axis=-1))\n",
        "    Y = np.array(np.argmax(Y, axis=-1))\n",
        "    Y, Y_pred = remove_seq_padding(X, Y, Y_pred)\n",
        "    let_y_true, let_y_pred = from_encode_to_literal_labels(Y, Y_pred, id_2_tag)\n",
        "\n",
        "    # Convert lists of 2D arrays to a single 2D array\n",
        "    let_y_true_2d = np.concatenate(let_y_true, axis=0)\n",
        "    let_y_pred_2d = np.concatenate(let_y_pred, axis=0)\n",
        "\n",
        "    # Flatten the 2D arrays to 1D\n",
        "    let_y_true_flat = np.ravel(let_y_true_2d)\n",
        "    let_y_pred_flat = np.ravel(let_y_pred_2d)\n",
        "\n",
        "    accuracy = accuracy_score(let_y_true_flat, let_y_pred_flat)\n",
        "    accuracies.append(accuracy)\n",
        "    print(f'{title} Accuracy: {accuracy:.3f}')"
      ]
    },
    {
      "cell_type": "markdown",
      "metadata": {
        "id": "ePBuegokH7V1"
      },
      "source": [
        "# BERT Model"
      ]
    },
    {
      "cell_type": "markdown",
      "source": [
        "The 'simpletransformers'  package is built on top of the 'transformer' library, it simplyfies the process by making it more user friendly and limiting the customization and control.\n"
      ],
      "metadata": {
        "id": "iAaIshnf02mD"
      }
    },
    {
      "cell_type": "code",
      "execution_count": null,
      "metadata": {
        "id": "-D3OShPuKqDh"
      },
      "outputs": [],
      "source": [
        "!pip install simpletransformers"
      ]
    },
    {
      "cell_type": "code",
      "execution_count": null,
      "metadata": {
        "id": "7a6nvR-PH9JI"
      },
      "outputs": [],
      "source": [
        "from sklearn.preprocessing import LabelEncoder\n",
        "from sklearn.model_selection import train_test_split"
      ]
    },
    {
      "cell_type": "markdown",
      "source": [
        "The test and train dataset have been concatenated together to apply easily the sentence counter and then the label encoder in order to prepare the data to be used in the Model.\n",
        "\n"
      ],
      "metadata": {
        "id": "WEUX3uYB0_nj"
      }
    },
    {
      "cell_type": "code",
      "execution_count": null,
      "metadata": {
        "colab": {
          "base_uri": "https://localhost:8080/"
        },
        "id": "MxSuAKW-Jv3L",
        "outputId": "06de8d45-0112-43df-ed59-73bc6cb18b56"
      },
      "outputs": [
        {
          "output_type": "stream",
          "name": "stdout",
          "text": [
            "           Token         Tag     Sentence #\n",
            "0      Operation           O    Sentence: 1\n",
            "1          Steel           O    Sentence: 1\n",
            "2        Curtain           O    Sentence: 1\n",
            "3              (           O    Sentence: 1\n",
            "4         Arabic           O    Sentence: 1\n",
            "...          ...         ...            ...\n",
            "25283       time  B-Temporal  Sentence: 977\n",
            "25284         of  I-Temporal  Sentence: 977\n",
            "25285        the  I-Temporal  Sentence: 977\n",
            "25286     attack  I-Temporal  Sentence: 977\n",
            "25287          .           O  Sentence: 977\n",
            "\n",
            "[25288 rows x 3 columns]\n"
          ]
        }
      ],
      "source": [
        "# Read the data from the URL into Pandas DataFrames\n",
        "data_test_model = pd.read_csv(url_raw_test, sep='\\t', header=None, names=['Token', 'Tag'], quoting=3)\n",
        "data_train_model  = pd.read_csv(url_raw_train, sep='\\t', header=None, names=['Token', 'Tag'], quoting=3)\n",
        "\n",
        "# Concatenate the two DataFrames\n",
        "combined_data = pd.concat([data_train_model, data_test_model], ignore_index=True)\n",
        "\n",
        "# Initialize the 'Sentence #' column\n",
        "combined_data['Sentence #'] = None\n",
        "\n",
        "# Counter to keep track of sentence number\n",
        "sentence_counter = 1\n",
        "\n",
        "# Iterate through the rows\n",
        "for i in range(len(combined_data)):\n",
        "    # Update the 'Sentence #' column\n",
        "    combined_data.at[i, 'Sentence #'] = f'Sentence: {sentence_counter}'\n",
        "\n",
        "    # Check if the token is \".\"\n",
        "    if combined_data.at[i, 'Token'] == \".\":\n",
        "        sentence_counter += 1\n",
        "\n",
        "# Print the updated DataFrame\n",
        "print(combined_data)"
      ]
    },
    {
      "cell_type": "markdown",
      "source": [
        "The 'combined_data' dataset has been splitted again respecting the initial train-test proportion, X contains the features (sentence_id and words) and  Y contains the corresponding labels."
      ],
      "metadata": {
        "id": "z704SlUT1DZT"
      }
    },
    {
      "cell_type": "code",
      "execution_count": null,
      "metadata": {
        "id": "3sCdCThrJ-w7"
      },
      "outputs": [],
      "source": [
        "combined_data['Sentence #'] = LabelEncoder().fit_transform(combined_data['Sentence #'])\n",
        "\n",
        "combined_data.rename(columns={\"Sentence #\":\"sentence_id\",\"Token\":\"words\", \"Tag\":\"labels\"},inplace=True)\n",
        "combined_data[\"labels\"]=combined_data[\"labels\"].str.upper()\n",
        "\n",
        "X = combined_data[[\"sentence_id\",\"words\"]]\n",
        "Y = combined_data[\"labels\"]"
      ]
    },
    {
      "cell_type": "code",
      "execution_count": null,
      "metadata": {
        "id": "Y_U0f0DoKA_u"
      },
      "outputs": [],
      "source": [
        "#x_train, x_test, y_train, y_test = train_test_split(X,Y, test_size=0.2)\n",
        "# Specify the number of rows for training\n",
        "train_size = 20030\n",
        "\n",
        "# Extract the first train_size rows for training and reset the index to start from 0\n",
        "train_data = combined_data.head(train_size).reset_index(drop=True)\n",
        "\n",
        "# Extract the remaining rows for testing and reset the index to start from 0\n",
        "test_data = combined_data.tail(len(combined_data) - train_size).reset_index(drop=True)"
      ]
    },
    {
      "cell_type": "code",
      "execution_count": null,
      "metadata": {
        "id": "O2_OQ3kiKK2P"
      },
      "outputs": [],
      "source": [
        "x_train = train_data[[\"sentence_id\", \"words\"]]\n",
        "y_train = train_data[\"labels\"]\n",
        "\n",
        "x_test = test_data[[\"sentence_id\", \"words\"]]\n",
        "y_test = test_data[\"labels\"]\n",
        "\n",
        "train = pd.DataFrame({\"sentence_id\": x_train[\"sentence_id\"], \"words\": x_train[\"words\"], \"labels\": y_train})\n",
        "test = pd.DataFrame({\"sentence_id\": x_test[\"sentence_id\"], \"words\": x_test[\"words\"], \"labels\": y_test})"
      ]
    },
    {
      "cell_type": "code",
      "execution_count": null,
      "metadata": {
        "id": "E3C3b3VCKL3p"
      },
      "outputs": [],
      "source": [
        "from simpletransformers.ner import NERModel, NERArgs"
      ]
    },
    {
      "cell_type": "markdown",
      "source": [
        "'args' are used to initialize the model, setting epochs, learning rate and batch size, the seed has been set manually to have reproducible results.\n",
        "A small batch size (15) has been chosen for memory efficiency during training which is beneficial for limited GPU capacity, the number of epochs, such as the batch size and the learning rate, have been set after several experiments to optimize the trade-off between memory efficiency, precision and computational time."
      ],
      "metadata": {
        "id": "WpHgJkxa1Hsz"
      }
    },
    {
      "cell_type": "code",
      "execution_count": null,
      "metadata": {
        "id": "hyzGgIUiKPQE"
      },
      "outputs": [],
      "source": [
        "label = combined_data[\"labels\"].unique().tolist()\n",
        "\n",
        "args=NERArgs()\n",
        "args.num_train_epochs = 15\n",
        "args.learning_rate = 1e-4\n",
        "args.overwrite_output_dir = True\n",
        "args.t rain_batch_size = 15\n",
        "args.eval_batch_size = 15\n",
        "args.manual_seed = 246"
      ]
    },
    {
      "cell_type": "markdown",
      "source": [
        "'NERModel' is a function from the simpletransformer package specific for NER, it provides a simplified and user-friendly interface for Name Entity Recognition tasks, reducing complexity such as tokenization, training loops and evaluation."
      ],
      "metadata": {
        "id": "-v2XOG2z1MxN"
      }
    },
    {
      "cell_type": "code",
      "execution_count": null,
      "metadata": {
        "id": "4xm6fk66KT2C",
        "colab": {
          "base_uri": "https://localhost:8080/",
          "height": 232,
          "referenced_widgets": [
            "73e31aeb15a0467ab70b5243854a1ca2",
            "3f687c434f6c4f9d95416330a707105f",
            "71154c1619aa4648a35828350e7871ce",
            "f51166f53c304a03b2fd3ca56557dd38",
            "73d08106677f45afa46447a5969a541e",
            "b884c908e7d4472ab8f58af653b95869",
            "4e043d3da53a4603b84aba7d85b8d836",
            "c4a34f3930e64428ba89ede092589412",
            "653597b2a32c4cada125c7a5dea05fc0",
            "842281de308542dc9c13126017ab468f",
            "d0e8f5888d074da0af872239758e3914",
            "0d7124b2a0bc4515ba8b0ce431fe364a",
            "c68d7fa5aacc40a29bd717735b89e6bb",
            "d40f41d0cb874d32a31084142f649ffc",
            "34d5591a9f2c4344a3527a932d132927",
            "66d8a08a5b684400b588082885efdbbf",
            "5316d7781a7f4b50afc947188988f048",
            "f58808d32a8a4a51b86e1d92a8f80b33",
            "a802a7661642488fb4827db5f37db396",
            "01028cb410dd4dfd8ca62ae65ae03d65",
            "86e63020e31b45959b8acc11e547ca8b",
            "2cc2770af2304dfba9bc1ac2f2617a84",
            "b14b6b5dad294d93af53b146e40b2e7d",
            "e66a4b17389d47d090879f5fc40173b8",
            "66e1a656aa9e408eb561ca4a100791c6",
            "41d06f1e05684dfbbe7df95440d02988",
            "0cbb2e32702d43ee88ea2a2c8e6125c9",
            "1f8300c8e43a4213b4c27d487c87fa08",
            "922e756803b0466cbb6bc39992598b6b",
            "ec47166b4c674d028dd2d8cd91cc6c79",
            "23b97acb04694fffa2717e419c986ade",
            "c3eee3944b1346ce872f8b174d0e42bd",
            "8d542e01e29c4e5a9b9ff93ab4643352",
            "c474baf7c636445ebccda187b32bc5cf",
            "e0491a51d66c43c59bc009a910482053",
            "42ec4054ce5d4675bd63cf4ced93fa7d",
            "6cdf6de90ff741e5850fe183949ac390",
            "1a3f49c42010451694fd503c6814be27",
            "0f0c6a47e65648138f96ce42ca7f825c",
            "2ae4be66d3eb4d3fb0e74864c8c41385",
            "2e6dda0e3a7f49619a509f18f7a5f03b",
            "fcf4d059357f438b85b0455f3a52a9b8",
            "6566f44d299f43e5b431287ee3bfb501",
            "504b21b12b8044c9995a480027a61b02",
            "9146217fd43e41d19db49382f5058f73",
            "3c2719339e704e939a3ddf200bb154a6",
            "357fff308a35485aac440fdbcc724fe9",
            "b2d80c80afb449839f573f875270027b",
            "fb50d4eabac241edbbef320e2bf3e442",
            "bd31500b08f44b42a5fa5ca17ff481f6",
            "295541b2052c4ddb88f40eac38914ac2",
            "bf4344da68014f35b061721c0fd30112",
            "5b507eb03e08423ea5b1557139f78fc8",
            "8bbc52d2433e4746983d99889b6b1ca4",
            "2236e304c4c34d10874df745c3657905"
          ]
        },
        "outputId": "b9939c50-d2a6-4b8c-b7cc-8f9aeb3c8d41"
      },
      "outputs": [
        {
          "output_type": "display_data",
          "data": {
            "text/plain": [
              "config.json:   0%|          | 0.00/570 [00:00<?, ?B/s]"
            ],
            "application/vnd.jupyter.widget-view+json": {
              "version_major": 2,
              "version_minor": 0,
              "model_id": "73e31aeb15a0467ab70b5243854a1ca2"
            }
          },
          "metadata": {}
        },
        {
          "output_type": "display_data",
          "data": {
            "text/plain": [
              "model.safetensors:   0%|          | 0.00/436M [00:00<?, ?B/s]"
            ],
            "application/vnd.jupyter.widget-view+json": {
              "version_major": 2,
              "version_minor": 0,
              "model_id": "0d7124b2a0bc4515ba8b0ce431fe364a"
            }
          },
          "metadata": {}
        },
        {
          "output_type": "stream",
          "name": "stderr",
          "text": [
            "Some weights of BertForTokenClassification were not initialized from the model checkpoint at bert-base-cased and are newly initialized: ['classifier.bias', 'classifier.weight']\n",
            "You should probably TRAIN this model on a down-stream task to be able to use it for predictions and inference.\n"
          ]
        },
        {
          "output_type": "display_data",
          "data": {
            "text/plain": [
              "tokenizer_config.json:   0%|          | 0.00/29.0 [00:00<?, ?B/s]"
            ],
            "application/vnd.jupyter.widget-view+json": {
              "version_major": 2,
              "version_minor": 0,
              "model_id": "b14b6b5dad294d93af53b146e40b2e7d"
            }
          },
          "metadata": {}
        },
        {
          "output_type": "display_data",
          "data": {
            "text/plain": [
              "vocab.txt:   0%|          | 0.00/213k [00:00<?, ?B/s]"
            ],
            "application/vnd.jupyter.widget-view+json": {
              "version_major": 2,
              "version_minor": 0,
              "model_id": "c474baf7c636445ebccda187b32bc5cf"
            }
          },
          "metadata": {}
        },
        {
          "output_type": "display_data",
          "data": {
            "text/plain": [
              "tokenizer.json:   0%|          | 0.00/436k [00:00<?, ?B/s]"
            ],
            "application/vnd.jupyter.widget-view+json": {
              "version_major": 2,
              "version_minor": 0,
              "model_id": "9146217fd43e41d19db49382f5058f73"
            }
          },
          "metadata": {}
        }
      ],
      "source": [
        "BERT_model = NERModel('bert','bert-base-cased', labels = label, args = args)"
      ]
    },
    {
      "cell_type": "code",
      "execution_count": null,
      "metadata": {
        "id": "0JFdAi8tKWqO",
        "colab": {
          "base_uri": "https://localhost:8080/",
          "height": 737,
          "referenced_widgets": [
            "ca0b73f81f904b6bb40a9e998ae377bd",
            "f770e7e1799b4c0dbd4636ab8049e981",
            "d10a106ec0b84cefa4337c1bd5c4ebf0",
            "e1abc2b5cbe740139ce3b82cfad76351",
            "f656c0ea1d874c4d89d8c73964a4c422",
            "84d319ee34954b1cb7580b1478d55d6a",
            "948b042b551c4edc91de525655339e27",
            "b907b50d4a18404e994582e596803566",
            "15dc2c128233472692b47acc9668d157",
            "3c676648afa64aed825d3a5381980f9f",
            "8ca98c08eee443f6be6367ae44e0e669",
            "429d01a80c164103891e3af40da2b606",
            "00a82237a95a4207813b4aaee4a79144",
            "d08b2c4530d14581a8ec01a14f6018d9",
            "403518148f464a0485cdb10cc26450df",
            "c8c039a2848241108d813be93e1703b5",
            "9edb28620e9647afa7f6bfa21bb62ae1",
            "47d4d8db0b36451789e67eb367395df0",
            "baa45497930743ab9b650a39718a30b2",
            "653815912a3d4fa88d318c397f53932d",
            "88027103711448d3a838bb1b652d9f2c",
            "ec5c3a14340c4f9fa516c13623c453d7",
            "2a556bd5e0de42cc85aa93cce9a6dae1",
            "f2d8e7f81f454e138fd207cb50f852d0",
            "61e92f98f1694c7aab85893f9a26d163",
            "6820cb9317584381a79b717b413fb1ee",
            "0e3b78a9481746bd9ed7dcab7b57732b",
            "33be9fee6f724cfebb0b5b2715180310",
            "0b8347d61e404f52b3e764d01ada1119",
            "138711baf12a46558f46673986b38184",
            "5fd690611eeb4261add298c640f19dff",
            "3133343c210f434187bdd620daef77ad",
            "6c4469559dc8482392d63da7e0b33dba",
            "48c38cd3a341442d85564fee5e3963a7",
            "594a97ddf1cb41b5b53442b1e15b262a",
            "f325d74fe1b54c4b8970fffe89ec375e",
            "a872cc90d4d54a868d29a39528b2d8f9",
            "5230b31ea7c24168b5fcdffc1be7aac7",
            "131bf9825ad44577bee03de7a65fd342",
            "86751a2d58da46b6b11b6ebbc2b8b7db",
            "39b01633b1b9496793051a84d97f2c20",
            "22801fae32f841abbd0320f7ab194c6a",
            "f757e9c8e2644c46a0ba4dbc0a4f215d",
            "577faf20734c4116a914cd7b8ce032af",
            "4ba7048ac4144e65bcf5e0c9ee1d302c",
            "eb6afe17e76a460db8425a21d1c99632",
            "79406a53565d47ec8baca9d0e464b5e9",
            "7c59e47ed0e141f3b88a6aabc5db507f",
            "06870aff0a89460ba2f5d6280e183019",
            "eaa8226b9be4480088a18b8923cdbba2",
            "87a748eaa95c48efbbf73c5675a36ab2",
            "c2ec519405f74472a7a27b19ee00955f",
            "1b55d98414c74f7f93fb6df828e011a3",
            "c0cf0d36a2c5487eb9baa2edee13c13b",
            "dd59fc2b11d14116a579d1f46e4d216c",
            "5eef6ce3957546b98c6a6ff863265fd9",
            "bfef4a9306424ae8ae90ead573f82085",
            "479e086ad5d04ccca5dca6847066e0b1",
            "971f386f763e4696a18b9fe45c7551ca",
            "7e7661f88076470087dd2698fd38c6c7",
            "d6f415baf9584c3494abdace2bf2d0d8",
            "9850e527526844e5bf52b90d5cee72f3",
            "a652ccd77f6c4c5180cab92f6d9762d8",
            "ebd4f3c55cbf4433911ee3bc392d9559",
            "af6e503451b1469796587fbf702edb50",
            "a82dda6d7af94ccca8638c3c56c6a535",
            "54acad78c9604e17a5ce868b33f3723a",
            "87c4b9132fac4b6986bdec4d9c19c4f1",
            "979850c45aa44a26be6454f3b4723d70",
            "822ab94b918f469ea993cf0e10cbbead",
            "c0d8da727c274fad970fe75ad20f7842",
            "5dd51f34e7084da88be7c65d80748345",
            "7b3c926752f24d9bb243d40c27558647",
            "8bd3556f91ac4e2eb6624ffb05b80122",
            "d020d05312eb496a8471ea70b5e17fa2",
            "ab2449b7db904a35881ca2a4975a2d20",
            "305e3890fcea42238bc966f6a882648f",
            "eebc25016e444891b64dd8f10fa78432",
            "52f3d757ab32487aa818d3176c75590a",
            "f8983d3a85ba424b9c63d6b622f7b530",
            "e846df3b38a54753bb56939fe431b908",
            "67fe810608fe4191a7a22bd032277817",
            "f5fcbf877070420c8052cdd70a4a8287",
            "64e2a9628e2b486ab73890261a326223",
            "41e283db4a7046cba4ce0335b248a9bf",
            "0a0f645e18e1481ea5b3d0b0d4eeb28f",
            "34c358abca63435196b117610d634dc0",
            "d30f211c7a6b45ed8881202d0c8988c0",
            "ecc6ecfb835347d780449a3d8f9e091d",
            "24d19db38a8c4964ae32155b4afcbe8d",
            "da0250f8196a42a1aac0a93f01864247",
            "7379b83c3454405e8535bb7746d347c1",
            "d3a11e2ff1b54a878ccca65fd82e7db1",
            "524d8e3e8f9a4914bdcc437f47d0dc1d",
            "b57dde5a68d345c1a351209276947ec2",
            "18aa7e3cfcf84d58933dc91f28a346db",
            "ac9d3ad413cb445aac4ddf62353c23cd",
            "c1424d6bf4cd4dfc8b58f83132db439b",
            "4a9b3bd2cbf740baa05526a1e2ab582a",
            "2565b919f7f443db8c78aefd4394c379",
            "cd126ec702e74a55b6d3f965e98ffb69",
            "4d1fcc4f423144e28e4ccbe3efbfa09b",
            "6b9d1f3417e44d38a777a1edd2eb2c5e",
            "88b6930432274ffabf5c16d345702223",
            "9703b31b9a814737a5355de49f059417",
            "bcfe56cef4bf4d0fb4b87ccfcbb06658",
            "b1b9b6cc48cb48df9ebb8b94723fa083",
            "b58679a56c32471788ccf516b48240d3",
            "e32a3b4eddbe498cbcb5e37879a8b329",
            "5cfeb60aeb1c43d9aa7215d080c3db12",
            "214adcceccdd4867b7fd89c36c07e3bb",
            "6537588d3d23487986acbf8317835223",
            "731af7e859e64930bb8c1b07f825f523",
            "dcf5a214ca564088adbaa1e706d11ddb",
            "9bb06d92e6224908817f45a870b95870",
            "34aedb91a20d4549a498d2f7b4dc6ea1",
            "9488a00ff5ec4197b841cfece1b76070",
            "f3ed65332ea34ae8b23686b7f35f019f",
            "eb2b3ad291a7466a953fc24578e3bd5e",
            "ae390c6b79134e72b7d8e502b879f18d",
            "66690aff96ca4b9ba5ed491f80781f86",
            "3b25384d324a485282357b116660e3e5",
            "7ac1e4ac5ec847d5b315a88b04207e57",
            "62ce7add796241889321adedcbcd893e",
            "7afe1bfaef914c12b8ae75b681177244",
            "8b47856d4561406da30bc2c3d83b062a",
            "09221f3a808d41de82ec3e82a56f9fac",
            "e7dd9ae58a784113bacb759ab9bd9896",
            "25cd55bee7b740b383cade808536b132",
            "d51f691c301b401b9c2c27452fa4765c",
            "5ec8f906713d4eea832472d3e4fa1939",
            "d03bee27d3344e8cb9ec5bd8eebe06db",
            "e944bb40939b489089e71d58fd0448d2",
            "2c2236f58cd54e7eabe7f8a70ca12065",
            "98631527432b4594b85fde3da589d082",
            "d93d284d99fd4281834ccc1839356304",
            "03487eec59454907aefaa107f81ed972",
            "5f997a9bb2f74474acace05e9847d9f7",
            "bda2a62f7ae7440bbe6de57ff7db3b79",
            "f77499da70a544acad45c00770086279",
            "cdc3f532b08c472bbfa02f2b44929a79",
            "81a1da2800244249a7277ba7ca7ba21b",
            "1ce0e276b1964c56a449880c9b433104",
            "2416abdc7a9042dc94895dc76b5a95e1",
            "046473738a0d4ad9a42187da35606d32",
            "9ebc89d7e11b490297d99a80464cc180",
            "b20f74a03a134a0ea50d3e5314543885",
            "0db07bbc00cb406f8bdeebac3a54f664",
            "aa394d2cf3e34257a72ad4fe092f09c9",
            "92baec113831454c81e191c44dd19371",
            "a7cc4b0dcf054f2ca2213b66ac37ba4c",
            "ba6dc1d1e4ad486cb7afa80d8523c246",
            "f45488b0d5d24f3bad2ca0ea7391a6f2",
            "38f56d281ad54d4b895dc4402e3274f4",
            "398b0fbe1c194555bc9cf3fae05c18f1",
            "1b98b6396dae468cbe5a7e3a543bd904",
            "2e529b267bf841fe9ed9c34835db476f",
            "62cd7bd706a3434daa4940a3e5b3de64",
            "0051cd2d79004c5198aae8e0d436d112",
            "5d0f4973090d4405beeaff662f86e144",
            "98bfe10456484eed826bd17db57736fe",
            "aaee81bfec1942a288a5c8a53a30b6fc",
            "52a9b041e5c945b8b7557c4cd722e21a",
            "350aa0a6fc7344e8b210a9c7b0f97379",
            "53312797668543a7bcbbdbf82a5aae40",
            "7f8d4e725c2041749399cd5b245416da",
            "b5750e4a8b13475b92fa9e662a6d15f2",
            "31f616e365a541a085a012b986cb60fc",
            "5e69f096e97744dca3ad976b47c8553c",
            "7e8ca92e9ae049f7a347b16fa3536332",
            "600d3a696cba447fb18fcf1699319980",
            "262fe531fe47407f8f16c73a655a6313",
            "833cfbd029bb44efb8c4dcdcbca4cee6",
            "90fcef38f1ab4b638f684f36a9fc6dc7",
            "7ee028c1e242455d9dfbfa8a486edb4e",
            "e2badc05300e445ab168632c68e10117",
            "ea61f8a044bd4502bd4e0c8b745804db",
            "b9196034b4714a8ead333f4c18da31be",
            "4fd07ae3b82e41f9b8523c6085c850ea",
            "b39a025b1f794c0a85f83a4017f39839",
            "6c9a10496c0a458080356ff9745e4302",
            "b79a42ca5f624fb5b2558d11ae6b5af1",
            "4d2557f49d7d4c63bd4b95afd5c5a19b",
            "dfcf88dc780b42fbaf75d1e675956c64",
            "2c0624b54e1649e2b751f8e1df84268a",
            "a6cb22100e2248fcb233984870b001ef",
            "dd313523d88741d3ac492091e7f6c3a2"
          ]
        },
        "outputId": "c4de7d7d-55fd-4e93-cc22-e80e685bf29b"
      },
      "outputs": [
        {
          "output_type": "stream",
          "name": "stderr",
          "text": [
            "/usr/local/lib/python3.10/dist-packages/simpletransformers/ner/ner_utils.py:190: FutureWarning:\n",
            "\n",
            "In a future version of pandas, a length 1 tuple will be returned when iterating over a groupby with a grouper equal to a list of length 1. Don't supply a list with a single grouper to avoid this warning.\n",
            "\n"
          ]
        },
        {
          "output_type": "display_data",
          "data": {
            "text/plain": [
              "  0%|          | 0/2 [00:00<?, ?it/s]"
            ],
            "application/vnd.jupyter.widget-view+json": {
              "version_major": 2,
              "version_minor": 0,
              "model_id": "ca0b73f81f904b6bb40a9e998ae377bd"
            }
          },
          "metadata": {}
        },
        {
          "output_type": "display_data",
          "data": {
            "text/plain": [
              "Epoch:   0%|          | 0/15 [00:00<?, ?it/s]"
            ],
            "application/vnd.jupyter.widget-view+json": {
              "version_major": 2,
              "version_minor": 0,
              "model_id": "429d01a80c164103891e3af40da2b606"
            }
          },
          "metadata": {}
        },
        {
          "output_type": "display_data",
          "data": {
            "text/plain": [
              "Running Epoch 0 of 15:   0%|          | 0/52 [00:00<?, ?it/s]"
            ],
            "application/vnd.jupyter.widget-view+json": {
              "version_major": 2,
              "version_minor": 0,
              "model_id": "2a556bd5e0de42cc85aa93cce9a6dae1"
            }
          },
          "metadata": {}
        },
        {
          "output_type": "stream",
          "name": "stderr",
          "text": [
            "/usr/local/lib/python3.10/dist-packages/torch/optim/lr_scheduler.py:136: UserWarning:\n",
            "\n",
            "Detected call of `lr_scheduler.step()` before `optimizer.step()`. In PyTorch 1.1.0 and later, you should call them in the opposite order: `optimizer.step()` before `lr_scheduler.step()`.  Failure to do this will result in PyTorch skipping the first value of the learning rate schedule. See more details at https://pytorch.org/docs/stable/optim.html#how-to-adjust-learning-rate\n",
            "\n"
          ]
        },
        {
          "output_type": "display_data",
          "data": {
            "text/plain": [
              "Running Epoch 1 of 15:   0%|          | 0/52 [00:00<?, ?it/s]"
            ],
            "application/vnd.jupyter.widget-view+json": {
              "version_major": 2,
              "version_minor": 0,
              "model_id": "48c38cd3a341442d85564fee5e3963a7"
            }
          },
          "metadata": {}
        },
        {
          "output_type": "display_data",
          "data": {
            "text/plain": [
              "Running Epoch 2 of 15:   0%|          | 0/52 [00:00<?, ?it/s]"
            ],
            "application/vnd.jupyter.widget-view+json": {
              "version_major": 2,
              "version_minor": 0,
              "model_id": "4ba7048ac4144e65bcf5e0c9ee1d302c"
            }
          },
          "metadata": {}
        },
        {
          "output_type": "display_data",
          "data": {
            "text/plain": [
              "Running Epoch 3 of 15:   0%|          | 0/52 [00:00<?, ?it/s]"
            ],
            "application/vnd.jupyter.widget-view+json": {
              "version_major": 2,
              "version_minor": 0,
              "model_id": "5eef6ce3957546b98c6a6ff863265fd9"
            }
          },
          "metadata": {}
        },
        {
          "output_type": "display_data",
          "data": {
            "text/plain": [
              "Running Epoch 4 of 15:   0%|          | 0/52 [00:00<?, ?it/s]"
            ],
            "application/vnd.jupyter.widget-view+json": {
              "version_major": 2,
              "version_minor": 0,
              "model_id": "54acad78c9604e17a5ce868b33f3723a"
            }
          },
          "metadata": {}
        },
        {
          "output_type": "display_data",
          "data": {
            "text/plain": [
              "Running Epoch 5 of 15:   0%|          | 0/52 [00:00<?, ?it/s]"
            ],
            "application/vnd.jupyter.widget-view+json": {
              "version_major": 2,
              "version_minor": 0,
              "model_id": "eebc25016e444891b64dd8f10fa78432"
            }
          },
          "metadata": {}
        },
        {
          "output_type": "display_data",
          "data": {
            "text/plain": [
              "Running Epoch 6 of 15:   0%|          | 0/52 [00:00<?, ?it/s]"
            ],
            "application/vnd.jupyter.widget-view+json": {
              "version_major": 2,
              "version_minor": 0,
              "model_id": "ecc6ecfb835347d780449a3d8f9e091d"
            }
          },
          "metadata": {}
        },
        {
          "output_type": "display_data",
          "data": {
            "text/plain": [
              "Running Epoch 7 of 15:   0%|          | 0/52 [00:00<?, ?it/s]"
            ],
            "application/vnd.jupyter.widget-view+json": {
              "version_major": 2,
              "version_minor": 0,
              "model_id": "2565b919f7f443db8c78aefd4394c379"
            }
          },
          "metadata": {}
        },
        {
          "output_type": "display_data",
          "data": {
            "text/plain": [
              "Running Epoch 8 of 15:   0%|          | 0/52 [00:00<?, ?it/s]"
            ],
            "application/vnd.jupyter.widget-view+json": {
              "version_major": 2,
              "version_minor": 0,
              "model_id": "214adcceccdd4867b7fd89c36c07e3bb"
            }
          },
          "metadata": {}
        },
        {
          "output_type": "display_data",
          "data": {
            "text/plain": [
              "Running Epoch 9 of 15:   0%|          | 0/52 [00:00<?, ?it/s]"
            ],
            "application/vnd.jupyter.widget-view+json": {
              "version_major": 2,
              "version_minor": 0,
              "model_id": "3b25384d324a485282357b116660e3e5"
            }
          },
          "metadata": {}
        },
        {
          "output_type": "display_data",
          "data": {
            "text/plain": [
              "Running Epoch 10 of 15:   0%|          | 0/52 [00:00<?, ?it/s]"
            ],
            "application/vnd.jupyter.widget-view+json": {
              "version_major": 2,
              "version_minor": 0,
              "model_id": "e944bb40939b489089e71d58fd0448d2"
            }
          },
          "metadata": {}
        },
        {
          "output_type": "display_data",
          "data": {
            "text/plain": [
              "Running Epoch 11 of 15:   0%|          | 0/52 [00:00<?, ?it/s]"
            ],
            "application/vnd.jupyter.widget-view+json": {
              "version_major": 2,
              "version_minor": 0,
              "model_id": "2416abdc7a9042dc94895dc76b5a95e1"
            }
          },
          "metadata": {}
        },
        {
          "output_type": "display_data",
          "data": {
            "text/plain": [
              "Running Epoch 12 of 15:   0%|          | 0/52 [00:00<?, ?it/s]"
            ],
            "application/vnd.jupyter.widget-view+json": {
              "version_major": 2,
              "version_minor": 0,
              "model_id": "398b0fbe1c194555bc9cf3fae05c18f1"
            }
          },
          "metadata": {}
        },
        {
          "output_type": "display_data",
          "data": {
            "text/plain": [
              "Running Epoch 13 of 15:   0%|          | 0/52 [00:00<?, ?it/s]"
            ],
            "application/vnd.jupyter.widget-view+json": {
              "version_major": 2,
              "version_minor": 0,
              "model_id": "7f8d4e725c2041749399cd5b245416da"
            }
          },
          "metadata": {}
        },
        {
          "output_type": "display_data",
          "data": {
            "text/plain": [
              "Running Epoch 14 of 15:   0%|          | 0/52 [00:00<?, ?it/s]"
            ],
            "application/vnd.jupyter.widget-view+json": {
              "version_major": 2,
              "version_minor": 0,
              "model_id": "ea61f8a044bd4502bd4e0c8b745804db"
            }
          },
          "metadata": {}
        },
        {
          "output_type": "execute_result",
          "data": {
            "text/plain": [
              "(780, 0.16579757303063675)"
            ]
          },
          "metadata": {},
          "execution_count": 79
        }
      ],
      "source": [
        "BERT_model.train_model(train, eval_data=test, acc=accuracy_score)"
      ]
    },
    {
      "cell_type": "code",
      "execution_count": null,
      "metadata": {
        "id": "a1uIm8QUKaXj",
        "colab": {
          "base_uri": "https://localhost:8080/",
          "height": 304,
          "referenced_widgets": [
            "6fb1db85697c4129a2cf0749b7c9dffc",
            "97e6aec9ee4c4bba8b264d2c7171ddc6",
            "50fac4bd37f5450fa7ca6ffed00989d6",
            "33cd259446bd43a79d35633aafcca18a",
            "90075d98673243f4b5e03ea99fd8f13f",
            "264ee2b3cd6a45daa7a0795c8870d485",
            "aa139f9b2e084e81862d59870c2abafe",
            "b05ff48a89df49c1b9c1f045626cd652",
            "ee779d87a8de451ea79327bf1e6670fb",
            "a3f71ba3fbc44455b900c18225df8637",
            "d86fc2eb0d8c40d3a6456736fbc2248c",
            "b9616884fd8e401dac7dc2ad4e44c5ff",
            "64a999f5ff494429a4a10350bdbc0ab7",
            "6a76a86ab503463fbc20a4e97c705530",
            "6ba2a8154a4c45789ec123edb7fb2364",
            "1ab106a76bba427ca8c2d4a2e646bbd6",
            "d0c1d7ba47864e50905fbb2de72e950a",
            "7da317eddea84cbebfc83e77f0ca4d2e",
            "98e823c5879a4fa6b29bc0ded48044e4",
            "86b6f683ef3c4eb7aea124c9b82773f4",
            "3722ca658310476d8fdc645a64d83159",
            "2b833cc49b8840e9abdfd546adc09572",
            "cad4b6689e7449c28b1cc6790a915ca7",
            "9c9b394d210f4bd9a4a1b6251473c4ad",
            "02e92702c4e34a0e91949af07e6b1edf",
            "2352ebeec9e140f091ac4411a530de42",
            "a457a05d17434a5396231eaf0fe82cf7",
            "9531f7f5b5a947bc8767e6d58155325d",
            "1dab94ef306d4a0095fdfd19e646984b",
            "44c542e20fad4ca39600d4da258e3465",
            "cbc3c35b1e4647ba86ac860db5025acc",
            "33995067df624694832ab90893ad16e4",
            "0a068d7940944fb5bf5a4f6788e12176",
            "f424a1e0f5c94b6e8ade4eda25372ebf",
            "8e275766d3ec4ab58a7c69e94a1b23e0",
            "0d99b67732a142d19b510f90d8487669",
            "27b1a934a41c4538a0f78363747a0a69",
            "8347c882fe984887af4d3929907167ad",
            "ab58fe0387ff45fda4d25ca8d291a2ef",
            "b245687170e84b38810d2fba75c27bff",
            "6d82dbd2d77e411e9195abcc199d4410",
            "99e13541dcd4417dbe80d8f33529d5ee",
            "068d1ca1c28141759c9e3e02b61bb7f9",
            "9ce13c5241c446ea89b20259f0773e8f"
          ]
        },
        "outputId": "3691559b-b580-4f9c-d213-ee88b0c16cb0"
      },
      "outputs": [
        {
          "output_type": "stream",
          "name": "stderr",
          "text": [
            "/usr/local/lib/python3.10/dist-packages/simpletransformers/ner/ner_utils.py:190: FutureWarning:\n",
            "\n",
            "In a future version of pandas, a length 1 tuple will be returned when iterating over a groupby with a grouper equal to a list of length 1. Don't supply a list with a single grouper to avoid this warning.\n",
            "\n"
          ]
        },
        {
          "output_type": "display_data",
          "data": {
            "text/plain": [
              "  0%|          | 0/1 [00:00<?, ?it/s]"
            ],
            "application/vnd.jupyter.widget-view+json": {
              "version_major": 2,
              "version_minor": 0,
              "model_id": "6fb1db85697c4129a2cf0749b7c9dffc"
            }
          },
          "metadata": {}
        },
        {
          "output_type": "display_data",
          "data": {
            "text/plain": [
              "Running Evaluation:   0%|          | 0/14 [00:00<?, ?it/s]"
            ],
            "application/vnd.jupyter.widget-view+json": {
              "version_major": 2,
              "version_minor": 0,
              "model_id": "b9616884fd8e401dac7dc2ad4e44c5ff"
            }
          },
          "metadata": {}
        },
        {
          "output_type": "stream",
          "name": "stderr",
          "text": [
            "/usr/local/lib/python3.10/dist-packages/simpletransformers/ner/ner_utils.py:190: FutureWarning:\n",
            "\n",
            "In a future version of pandas, a length 1 tuple will be returned when iterating over a groupby with a grouper equal to a list of length 1. Don't supply a list with a single grouper to avoid this warning.\n",
            "\n"
          ]
        },
        {
          "output_type": "display_data",
          "data": {
            "text/plain": [
              "  0%|          | 0/2 [00:00<?, ?it/s]"
            ],
            "application/vnd.jupyter.widget-view+json": {
              "version_major": 2,
              "version_minor": 0,
              "model_id": "cad4b6689e7449c28b1cc6790a915ca7"
            }
          },
          "metadata": {}
        },
        {
          "output_type": "display_data",
          "data": {
            "text/plain": [
              "Running Evaluation:   0%|          | 0/52 [00:00<?, ?it/s]"
            ],
            "application/vnd.jupyter.widget-view+json": {
              "version_major": 2,
              "version_minor": 0,
              "model_id": "f424a1e0f5c94b6e8ade4eda25372ebf"
            }
          },
          "metadata": {}
        }
      ],
      "source": [
        "result_test, model_outputs_test, pred_list_test=BERT_model.eval_model(test)\n",
        "result_train, model_outputs_train, pred_list_train=BERT_model.eval_model(train)"
      ]
    },
    {
      "cell_type": "code",
      "execution_count": null,
      "metadata": {
        "id": "Lx1WDlUv8vHP",
        "colab": {
          "base_uri": "https://localhost:8080/"
        },
        "outputId": "1e5f2796-33bb-48ae-916c-0fdf8871ee1e"
      },
      "outputs": [
        {
          "output_type": "execute_result",
          "data": {
            "text/plain": [
              "{'eval_loss': 0.00841967019648739,\n",
              " 'precision': 0.987604812249362,\n",
              " 'recall': 0.9894083272461651,\n",
              " 'f1_score': 0.9885057471264369}"
            ]
          },
          "metadata": {},
          "execution_count": 81
        }
      ],
      "source": [
        "result_train"
      ]
    },
    {
      "cell_type": "code",
      "execution_count": null,
      "metadata": {
        "id": "e-1wFeiVKdOV",
        "colab": {
          "base_uri": "https://localhost:8080/"
        },
        "outputId": "f5122cf9-df3e-46c8-ab33-66c6e13cc3ac"
      },
      "outputs": [
        {
          "output_type": "execute_result",
          "data": {
            "text/plain": [
              "{'eval_loss': 0.695407047867775,\n",
              " 'precision': 0.6743589743589744,\n",
              " 'recall': 0.7690058479532164,\n",
              " 'f1_score': 0.7185792349726776}"
            ]
          },
          "metadata": {},
          "execution_count": 82
        }
      ],
      "source": [
        "result_test"
      ]
    },
    {
      "cell_type": "code",
      "execution_count": null,
      "metadata": {
        "id": "jPj5-hAXgCC2"
      },
      "outputs": [],
      "source": [
        "from itertools import chain\n",
        "flat_pred_train = list(chain.from_iterable(pred_list_train))\n",
        "flat_pred_test = list(chain.from_iterable(pred_list_test))"
      ]
    },
    {
      "cell_type": "code",
      "execution_count": null,
      "metadata": {
        "id": "yNI4420OgCzo",
        "colab": {
          "base_uri": "https://localhost:8080/"
        },
        "outputId": "e21669ff-29f9-4f2e-f8cf-25d96716953f"
      },
      "outputs": [
        {
          "output_type": "execute_result",
          "data": {
            "text/plain": [
              "0.48412381427858214"
            ]
          },
          "metadata": {},
          "execution_count": 84
        }
      ],
      "source": [
        "accuracy_train = accuracy_score(y_true=y_train,y_pred=flat_pred_train)\n",
        "accuracy_train"
      ]
    },
    {
      "cell_type": "code",
      "execution_count": null,
      "metadata": {
        "id": "BkBSmvkqgFNG",
        "colab": {
          "base_uri": "https://localhost:8080/"
        },
        "outputId": "91926aab-2212-41a5-b765-96f7d40c705c"
      },
      "outputs": [
        {
          "output_type": "execute_result",
          "data": {
            "text/plain": [
              "0.892164321034614"
            ]
          },
          "metadata": {},
          "execution_count": 85
        }
      ],
      "source": [
        "accuracy_test = accuracy_score(y_true=y_test,y_pred=flat_pred_test)\n",
        "accuracy_test"
      ]
    },
    {
      "cell_type": "code",
      "execution_count": null,
      "metadata": {
        "id": "tlpV2Auh1fiI"
      },
      "outputs": [],
      "source": [
        "BERT_model.save_model(output_dir='/content/' )"
      ]
    },
    {
      "cell_type": "markdown",
      "source": [
        "- The evaluation loss is a measure of how weel the model is performing on the validation set. A lower value indicates better performance. In this case, the evaluation loss is 0.6954 on the test set and 0.0084 on the train one, which suggests that the model is making accurate predictions.\n",
        "- Precision is the ratio of true positive predictions to the total number of predicted positives. It measures the accuracy of positive predictions. The precision of approximately 67.43% and 98.94% on the test and train dataset respectively indicate that about 67.43% and 98.94% of the predicted entities are correct.\n",
        "- Recall (or sensitivity) is the ratio of true positive predictions to the total number of actual positives. It measures the ability of the model to capture all positive instances. The recall of approximately 76.9% on the test dataset indicates that the model is capturing about 76.9% of the actual entities, the recall ratio of the train dataset is higer, with 98.94% of entities captured correctly.\n",
        "- The F1 score is the harmonic mean of precision and recall. It provides a balance between precision and recall. The F1 scores of approximately 71.86% on the test dataset and 98.85% on the train dataset indicate a reasonable trade-off between precision and recall.\n",
        "\n",
        "The model's performance has been evaluated through various metrics on both the test and train datasets. The evaluation loss, which measures how well the model is performing on the validation set, is notably low at 0.6954 for the test set and 0.0084 for the train set. This suggests that the model is making accurate predictions and generalizing well.\n",
        "\n",
        "In conclusion, the model performs well on both the test and train datasets, demonstrating accuracy in predictions, strong precision, and effective capture of actual positive instances. The balance achieved by the F1 score further reinforces the model's overall robustness in handling positive predictions and actual positive instances."
      ],
      "metadata": {
        "id": "ccZfMp7u1Wy1"
      }
    },
    {
      "cell_type": "markdown",
      "metadata": {
        "id": "flqeoVu-En0K"
      },
      "source": [
        "# Comparing both models"
      ]
    },
    {
      "cell_type": "markdown",
      "metadata": {
        "id": "3sSHnasJEtMO"
      },
      "source": [
        "In evaluating the named entity recognition performance of the BiLSTM and BERT models across training, test, and validation sets, we need to consider different factor before providing a definitive conclussion.\n",
        "\n",
        "The BiLSTM model displays variations in precision, recall, and F1-score among different named entity classes but achieves robust accuracy across sets, with values of 89.4%, 83.8%, and 84.5% on the training, test, and validation sets, respectively.\n",
        "\n",
        "In contrast, the BERT model demonstrates a low evaluation loss (0.6954 for the test set, 0.0084 for the training set), suggesting accurate predictions and generalization. Precision is notably high on both the test (67.43%) and training sets (98.94%), along with strong recall (76.9% on the test set, 98.94% on the training set). The model achieves an accuracy of 89.2% on the test set.\n",
        "\n",
        "In conclusion, the BiLSTM model demonstrates nuanced performance across named entity classes, while the BERT model excels in consistently high precision, recall, and F1 scores. The choice between these models falls on the specific requirements of the named entity recognition task, considering the tradeoff between precision and recall."
      ]
    }
  ],
  "metadata": {
    "accelerator": "GPU",
    "colab": {
      "provenance": [],
      "toc_visible": true,
      "include_colab_link": true
    },
    "kernelspec": {
      "display_name": "Python 3",
      "name": "python3"
    },
    "language_info": {
      "name": "python"
    },
    "widgets": {
      "application/vnd.jupyter.widget-state+json": {
        "73e31aeb15a0467ab70b5243854a1ca2": {
          "model_module": "@jupyter-widgets/controls",
          "model_name": "HBoxModel",
          "model_module_version": "1.5.0",
          "state": {
            "_dom_classes": [],
            "_model_module": "@jupyter-widgets/controls",
            "_model_module_version": "1.5.0",
            "_model_name": "HBoxModel",
            "_view_count": null,
            "_view_module": "@jupyter-widgets/controls",
            "_view_module_version": "1.5.0",
            "_view_name": "HBoxView",
            "box_style": "",
            "children": [
              "IPY_MODEL_3f687c434f6c4f9d95416330a707105f",
              "IPY_MODEL_71154c1619aa4648a35828350e7871ce",
              "IPY_MODEL_f51166f53c304a03b2fd3ca56557dd38"
            ],
            "layout": "IPY_MODEL_73d08106677f45afa46447a5969a541e"
          }
        },
        "3f687c434f6c4f9d95416330a707105f": {
          "model_module": "@jupyter-widgets/controls",
          "model_name": "HTMLModel",
          "model_module_version": "1.5.0",
          "state": {
            "_dom_classes": [],
            "_model_module": "@jupyter-widgets/controls",
            "_model_module_version": "1.5.0",
            "_model_name": "HTMLModel",
            "_view_count": null,
            "_view_module": "@jupyter-widgets/controls",
            "_view_module_version": "1.5.0",
            "_view_name": "HTMLView",
            "description": "",
            "description_tooltip": null,
            "layout": "IPY_MODEL_b884c908e7d4472ab8f58af653b95869",
            "placeholder": "​",
            "style": "IPY_MODEL_4e043d3da53a4603b84aba7d85b8d836",
            "value": "config.json: 100%"
          }
        },
        "71154c1619aa4648a35828350e7871ce": {
          "model_module": "@jupyter-widgets/controls",
          "model_name": "FloatProgressModel",
          "model_module_version": "1.5.0",
          "state": {
            "_dom_classes": [],
            "_model_module": "@jupyter-widgets/controls",
            "_model_module_version": "1.5.0",
            "_model_name": "FloatProgressModel",
            "_view_count": null,
            "_view_module": "@jupyter-widgets/controls",
            "_view_module_version": "1.5.0",
            "_view_name": "ProgressView",
            "bar_style": "success",
            "description": "",
            "description_tooltip": null,
            "layout": "IPY_MODEL_c4a34f3930e64428ba89ede092589412",
            "max": 570,
            "min": 0,
            "orientation": "horizontal",
            "style": "IPY_MODEL_653597b2a32c4cada125c7a5dea05fc0",
            "value": 570
          }
        },
        "f51166f53c304a03b2fd3ca56557dd38": {
          "model_module": "@jupyter-widgets/controls",
          "model_name": "HTMLModel",
          "model_module_version": "1.5.0",
          "state": {
            "_dom_classes": [],
            "_model_module": "@jupyter-widgets/controls",
            "_model_module_version": "1.5.0",
            "_model_name": "HTMLModel",
            "_view_count": null,
            "_view_module": "@jupyter-widgets/controls",
            "_view_module_version": "1.5.0",
            "_view_name": "HTMLView",
            "description": "",
            "description_tooltip": null,
            "layout": "IPY_MODEL_842281de308542dc9c13126017ab468f",
            "placeholder": "​",
            "style": "IPY_MODEL_d0e8f5888d074da0af872239758e3914",
            "value": " 570/570 [00:00&lt;00:00, 18.4kB/s]"
          }
        },
        "73d08106677f45afa46447a5969a541e": {
          "model_module": "@jupyter-widgets/base",
          "model_name": "LayoutModel",
          "model_module_version": "1.2.0",
          "state": {
            "_model_module": "@jupyter-widgets/base",
            "_model_module_version": "1.2.0",
            "_model_name": "LayoutModel",
            "_view_count": null,
            "_view_module": "@jupyter-widgets/base",
            "_view_module_version": "1.2.0",
            "_view_name": "LayoutView",
            "align_content": null,
            "align_items": null,
            "align_self": null,
            "border": null,
            "bottom": null,
            "display": null,
            "flex": null,
            "flex_flow": null,
            "grid_area": null,
            "grid_auto_columns": null,
            "grid_auto_flow": null,
            "grid_auto_rows": null,
            "grid_column": null,
            "grid_gap": null,
            "grid_row": null,
            "grid_template_areas": null,
            "grid_template_columns": null,
            "grid_template_rows": null,
            "height": null,
            "justify_content": null,
            "justify_items": null,
            "left": null,
            "margin": null,
            "max_height": null,
            "max_width": null,
            "min_height": null,
            "min_width": null,
            "object_fit": null,
            "object_position": null,
            "order": null,
            "overflow": null,
            "overflow_x": null,
            "overflow_y": null,
            "padding": null,
            "right": null,
            "top": null,
            "visibility": null,
            "width": null
          }
        },
        "b884c908e7d4472ab8f58af653b95869": {
          "model_module": "@jupyter-widgets/base",
          "model_name": "LayoutModel",
          "model_module_version": "1.2.0",
          "state": {
            "_model_module": "@jupyter-widgets/base",
            "_model_module_version": "1.2.0",
            "_model_name": "LayoutModel",
            "_view_count": null,
            "_view_module": "@jupyter-widgets/base",
            "_view_module_version": "1.2.0",
            "_view_name": "LayoutView",
            "align_content": null,
            "align_items": null,
            "align_self": null,
            "border": null,
            "bottom": null,
            "display": null,
            "flex": null,
            "flex_flow": null,
            "grid_area": null,
            "grid_auto_columns": null,
            "grid_auto_flow": null,
            "grid_auto_rows": null,
            "grid_column": null,
            "grid_gap": null,
            "grid_row": null,
            "grid_template_areas": null,
            "grid_template_columns": null,
            "grid_template_rows": null,
            "height": null,
            "justify_content": null,
            "justify_items": null,
            "left": null,
            "margin": null,
            "max_height": null,
            "max_width": null,
            "min_height": null,
            "min_width": null,
            "object_fit": null,
            "object_position": null,
            "order": null,
            "overflow": null,
            "overflow_x": null,
            "overflow_y": null,
            "padding": null,
            "right": null,
            "top": null,
            "visibility": null,
            "width": null
          }
        },
        "4e043d3da53a4603b84aba7d85b8d836": {
          "model_module": "@jupyter-widgets/controls",
          "model_name": "DescriptionStyleModel",
          "model_module_version": "1.5.0",
          "state": {
            "_model_module": "@jupyter-widgets/controls",
            "_model_module_version": "1.5.0",
            "_model_name": "DescriptionStyleModel",
            "_view_count": null,
            "_view_module": "@jupyter-widgets/base",
            "_view_module_version": "1.2.0",
            "_view_name": "StyleView",
            "description_width": ""
          }
        },
        "c4a34f3930e64428ba89ede092589412": {
          "model_module": "@jupyter-widgets/base",
          "model_name": "LayoutModel",
          "model_module_version": "1.2.0",
          "state": {
            "_model_module": "@jupyter-widgets/base",
            "_model_module_version": "1.2.0",
            "_model_name": "LayoutModel",
            "_view_count": null,
            "_view_module": "@jupyter-widgets/base",
            "_view_module_version": "1.2.0",
            "_view_name": "LayoutView",
            "align_content": null,
            "align_items": null,
            "align_self": null,
            "border": null,
            "bottom": null,
            "display": null,
            "flex": null,
            "flex_flow": null,
            "grid_area": null,
            "grid_auto_columns": null,
            "grid_auto_flow": null,
            "grid_auto_rows": null,
            "grid_column": null,
            "grid_gap": null,
            "grid_row": null,
            "grid_template_areas": null,
            "grid_template_columns": null,
            "grid_template_rows": null,
            "height": null,
            "justify_content": null,
            "justify_items": null,
            "left": null,
            "margin": null,
            "max_height": null,
            "max_width": null,
            "min_height": null,
            "min_width": null,
            "object_fit": null,
            "object_position": null,
            "order": null,
            "overflow": null,
            "overflow_x": null,
            "overflow_y": null,
            "padding": null,
            "right": null,
            "top": null,
            "visibility": null,
            "width": null
          }
        },
        "653597b2a32c4cada125c7a5dea05fc0": {
          "model_module": "@jupyter-widgets/controls",
          "model_name": "ProgressStyleModel",
          "model_module_version": "1.5.0",
          "state": {
            "_model_module": "@jupyter-widgets/controls",
            "_model_module_version": "1.5.0",
            "_model_name": "ProgressStyleModel",
            "_view_count": null,
            "_view_module": "@jupyter-widgets/base",
            "_view_module_version": "1.2.0",
            "_view_name": "StyleView",
            "bar_color": null,
            "description_width": ""
          }
        },
        "842281de308542dc9c13126017ab468f": {
          "model_module": "@jupyter-widgets/base",
          "model_name": "LayoutModel",
          "model_module_version": "1.2.0",
          "state": {
            "_model_module": "@jupyter-widgets/base",
            "_model_module_version": "1.2.0",
            "_model_name": "LayoutModel",
            "_view_count": null,
            "_view_module": "@jupyter-widgets/base",
            "_view_module_version": "1.2.0",
            "_view_name": "LayoutView",
            "align_content": null,
            "align_items": null,
            "align_self": null,
            "border": null,
            "bottom": null,
            "display": null,
            "flex": null,
            "flex_flow": null,
            "grid_area": null,
            "grid_auto_columns": null,
            "grid_auto_flow": null,
            "grid_auto_rows": null,
            "grid_column": null,
            "grid_gap": null,
            "grid_row": null,
            "grid_template_areas": null,
            "grid_template_columns": null,
            "grid_template_rows": null,
            "height": null,
            "justify_content": null,
            "justify_items": null,
            "left": null,
            "margin": null,
            "max_height": null,
            "max_width": null,
            "min_height": null,
            "min_width": null,
            "object_fit": null,
            "object_position": null,
            "order": null,
            "overflow": null,
            "overflow_x": null,
            "overflow_y": null,
            "padding": null,
            "right": null,
            "top": null,
            "visibility": null,
            "width": null
          }
        },
        "d0e8f5888d074da0af872239758e3914": {
          "model_module": "@jupyter-widgets/controls",
          "model_name": "DescriptionStyleModel",
          "model_module_version": "1.5.0",
          "state": {
            "_model_module": "@jupyter-widgets/controls",
            "_model_module_version": "1.5.0",
            "_model_name": "DescriptionStyleModel",
            "_view_count": null,
            "_view_module": "@jupyter-widgets/base",
            "_view_module_version": "1.2.0",
            "_view_name": "StyleView",
            "description_width": ""
          }
        },
        "0d7124b2a0bc4515ba8b0ce431fe364a": {
          "model_module": "@jupyter-widgets/controls",
          "model_name": "HBoxModel",
          "model_module_version": "1.5.0",
          "state": {
            "_dom_classes": [],
            "_model_module": "@jupyter-widgets/controls",
            "_model_module_version": "1.5.0",
            "_model_name": "HBoxModel",
            "_view_count": null,
            "_view_module": "@jupyter-widgets/controls",
            "_view_module_version": "1.5.0",
            "_view_name": "HBoxView",
            "box_style": "",
            "children": [
              "IPY_MODEL_c68d7fa5aacc40a29bd717735b89e6bb",
              "IPY_MODEL_d40f41d0cb874d32a31084142f649ffc",
              "IPY_MODEL_34d5591a9f2c4344a3527a932d132927"
            ],
            "layout": "IPY_MODEL_66d8a08a5b684400b588082885efdbbf"
          }
        },
        "c68d7fa5aacc40a29bd717735b89e6bb": {
          "model_module": "@jupyter-widgets/controls",
          "model_name": "HTMLModel",
          "model_module_version": "1.5.0",
          "state": {
            "_dom_classes": [],
            "_model_module": "@jupyter-widgets/controls",
            "_model_module_version": "1.5.0",
            "_model_name": "HTMLModel",
            "_view_count": null,
            "_view_module": "@jupyter-widgets/controls",
            "_view_module_version": "1.5.0",
            "_view_name": "HTMLView",
            "description": "",
            "description_tooltip": null,
            "layout": "IPY_MODEL_5316d7781a7f4b50afc947188988f048",
            "placeholder": "​",
            "style": "IPY_MODEL_f58808d32a8a4a51b86e1d92a8f80b33",
            "value": "model.safetensors: 100%"
          }
        },
        "d40f41d0cb874d32a31084142f649ffc": {
          "model_module": "@jupyter-widgets/controls",
          "model_name": "FloatProgressModel",
          "model_module_version": "1.5.0",
          "state": {
            "_dom_classes": [],
            "_model_module": "@jupyter-widgets/controls",
            "_model_module_version": "1.5.0",
            "_model_name": "FloatProgressModel",
            "_view_count": null,
            "_view_module": "@jupyter-widgets/controls",
            "_view_module_version": "1.5.0",
            "_view_name": "ProgressView",
            "bar_style": "success",
            "description": "",
            "description_tooltip": null,
            "layout": "IPY_MODEL_a802a7661642488fb4827db5f37db396",
            "max": 435755784,
            "min": 0,
            "orientation": "horizontal",
            "style": "IPY_MODEL_01028cb410dd4dfd8ca62ae65ae03d65",
            "value": 435755784
          }
        },
        "34d5591a9f2c4344a3527a932d132927": {
          "model_module": "@jupyter-widgets/controls",
          "model_name": "HTMLModel",
          "model_module_version": "1.5.0",
          "state": {
            "_dom_classes": [],
            "_model_module": "@jupyter-widgets/controls",
            "_model_module_version": "1.5.0",
            "_model_name": "HTMLModel",
            "_view_count": null,
            "_view_module": "@jupyter-widgets/controls",
            "_view_module_version": "1.5.0",
            "_view_name": "HTMLView",
            "description": "",
            "description_tooltip": null,
            "layout": "IPY_MODEL_86e63020e31b45959b8acc11e547ca8b",
            "placeholder": "​",
            "style": "IPY_MODEL_2cc2770af2304dfba9bc1ac2f2617a84",
            "value": " 436M/436M [00:01&lt;00:00, 367MB/s]"
          }
        },
        "66d8a08a5b684400b588082885efdbbf": {
          "model_module": "@jupyter-widgets/base",
          "model_name": "LayoutModel",
          "model_module_version": "1.2.0",
          "state": {
            "_model_module": "@jupyter-widgets/base",
            "_model_module_version": "1.2.0",
            "_model_name": "LayoutModel",
            "_view_count": null,
            "_view_module": "@jupyter-widgets/base",
            "_view_module_version": "1.2.0",
            "_view_name": "LayoutView",
            "align_content": null,
            "align_items": null,
            "align_self": null,
            "border": null,
            "bottom": null,
            "display": null,
            "flex": null,
            "flex_flow": null,
            "grid_area": null,
            "grid_auto_columns": null,
            "grid_auto_flow": null,
            "grid_auto_rows": null,
            "grid_column": null,
            "grid_gap": null,
            "grid_row": null,
            "grid_template_areas": null,
            "grid_template_columns": null,
            "grid_template_rows": null,
            "height": null,
            "justify_content": null,
            "justify_items": null,
            "left": null,
            "margin": null,
            "max_height": null,
            "max_width": null,
            "min_height": null,
            "min_width": null,
            "object_fit": null,
            "object_position": null,
            "order": null,
            "overflow": null,
            "overflow_x": null,
            "overflow_y": null,
            "padding": null,
            "right": null,
            "top": null,
            "visibility": null,
            "width": null
          }
        },
        "5316d7781a7f4b50afc947188988f048": {
          "model_module": "@jupyter-widgets/base",
          "model_name": "LayoutModel",
          "model_module_version": "1.2.0",
          "state": {
            "_model_module": "@jupyter-widgets/base",
            "_model_module_version": "1.2.0",
            "_model_name": "LayoutModel",
            "_view_count": null,
            "_view_module": "@jupyter-widgets/base",
            "_view_module_version": "1.2.0",
            "_view_name": "LayoutView",
            "align_content": null,
            "align_items": null,
            "align_self": null,
            "border": null,
            "bottom": null,
            "display": null,
            "flex": null,
            "flex_flow": null,
            "grid_area": null,
            "grid_auto_columns": null,
            "grid_auto_flow": null,
            "grid_auto_rows": null,
            "grid_column": null,
            "grid_gap": null,
            "grid_row": null,
            "grid_template_areas": null,
            "grid_template_columns": null,
            "grid_template_rows": null,
            "height": null,
            "justify_content": null,
            "justify_items": null,
            "left": null,
            "margin": null,
            "max_height": null,
            "max_width": null,
            "min_height": null,
            "min_width": null,
            "object_fit": null,
            "object_position": null,
            "order": null,
            "overflow": null,
            "overflow_x": null,
            "overflow_y": null,
            "padding": null,
            "right": null,
            "top": null,
            "visibility": null,
            "width": null
          }
        },
        "f58808d32a8a4a51b86e1d92a8f80b33": {
          "model_module": "@jupyter-widgets/controls",
          "model_name": "DescriptionStyleModel",
          "model_module_version": "1.5.0",
          "state": {
            "_model_module": "@jupyter-widgets/controls",
            "_model_module_version": "1.5.0",
            "_model_name": "DescriptionStyleModel",
            "_view_count": null,
            "_view_module": "@jupyter-widgets/base",
            "_view_module_version": "1.2.0",
            "_view_name": "StyleView",
            "description_width": ""
          }
        },
        "a802a7661642488fb4827db5f37db396": {
          "model_module": "@jupyter-widgets/base",
          "model_name": "LayoutModel",
          "model_module_version": "1.2.0",
          "state": {
            "_model_module": "@jupyter-widgets/base",
            "_model_module_version": "1.2.0",
            "_model_name": "LayoutModel",
            "_view_count": null,
            "_view_module": "@jupyter-widgets/base",
            "_view_module_version": "1.2.0",
            "_view_name": "LayoutView",
            "align_content": null,
            "align_items": null,
            "align_self": null,
            "border": null,
            "bottom": null,
            "display": null,
            "flex": null,
            "flex_flow": null,
            "grid_area": null,
            "grid_auto_columns": null,
            "grid_auto_flow": null,
            "grid_auto_rows": null,
            "grid_column": null,
            "grid_gap": null,
            "grid_row": null,
            "grid_template_areas": null,
            "grid_template_columns": null,
            "grid_template_rows": null,
            "height": null,
            "justify_content": null,
            "justify_items": null,
            "left": null,
            "margin": null,
            "max_height": null,
            "max_width": null,
            "min_height": null,
            "min_width": null,
            "object_fit": null,
            "object_position": null,
            "order": null,
            "overflow": null,
            "overflow_x": null,
            "overflow_y": null,
            "padding": null,
            "right": null,
            "top": null,
            "visibility": null,
            "width": null
          }
        },
        "01028cb410dd4dfd8ca62ae65ae03d65": {
          "model_module": "@jupyter-widgets/controls",
          "model_name": "ProgressStyleModel",
          "model_module_version": "1.5.0",
          "state": {
            "_model_module": "@jupyter-widgets/controls",
            "_model_module_version": "1.5.0",
            "_model_name": "ProgressStyleModel",
            "_view_count": null,
            "_view_module": "@jupyter-widgets/base",
            "_view_module_version": "1.2.0",
            "_view_name": "StyleView",
            "bar_color": null,
            "description_width": ""
          }
        },
        "86e63020e31b45959b8acc11e547ca8b": {
          "model_module": "@jupyter-widgets/base",
          "model_name": "LayoutModel",
          "model_module_version": "1.2.0",
          "state": {
            "_model_module": "@jupyter-widgets/base",
            "_model_module_version": "1.2.0",
            "_model_name": "LayoutModel",
            "_view_count": null,
            "_view_module": "@jupyter-widgets/base",
            "_view_module_version": "1.2.0",
            "_view_name": "LayoutView",
            "align_content": null,
            "align_items": null,
            "align_self": null,
            "border": null,
            "bottom": null,
            "display": null,
            "flex": null,
            "flex_flow": null,
            "grid_area": null,
            "grid_auto_columns": null,
            "grid_auto_flow": null,
            "grid_auto_rows": null,
            "grid_column": null,
            "grid_gap": null,
            "grid_row": null,
            "grid_template_areas": null,
            "grid_template_columns": null,
            "grid_template_rows": null,
            "height": null,
            "justify_content": null,
            "justify_items": null,
            "left": null,
            "margin": null,
            "max_height": null,
            "max_width": null,
            "min_height": null,
            "min_width": null,
            "object_fit": null,
            "object_position": null,
            "order": null,
            "overflow": null,
            "overflow_x": null,
            "overflow_y": null,
            "padding": null,
            "right": null,
            "top": null,
            "visibility": null,
            "width": null
          }
        },
        "2cc2770af2304dfba9bc1ac2f2617a84": {
          "model_module": "@jupyter-widgets/controls",
          "model_name": "DescriptionStyleModel",
          "model_module_version": "1.5.0",
          "state": {
            "_model_module": "@jupyter-widgets/controls",
            "_model_module_version": "1.5.0",
            "_model_name": "DescriptionStyleModel",
            "_view_count": null,
            "_view_module": "@jupyter-widgets/base",
            "_view_module_version": "1.2.0",
            "_view_name": "StyleView",
            "description_width": ""
          }
        },
        "b14b6b5dad294d93af53b146e40b2e7d": {
          "model_module": "@jupyter-widgets/controls",
          "model_name": "HBoxModel",
          "model_module_version": "1.5.0",
          "state": {
            "_dom_classes": [],
            "_model_module": "@jupyter-widgets/controls",
            "_model_module_version": "1.5.0",
            "_model_name": "HBoxModel",
            "_view_count": null,
            "_view_module": "@jupyter-widgets/controls",
            "_view_module_version": "1.5.0",
            "_view_name": "HBoxView",
            "box_style": "",
            "children": [
              "IPY_MODEL_e66a4b17389d47d090879f5fc40173b8",
              "IPY_MODEL_66e1a656aa9e408eb561ca4a100791c6",
              "IPY_MODEL_41d06f1e05684dfbbe7df95440d02988"
            ],
            "layout": "IPY_MODEL_0cbb2e32702d43ee88ea2a2c8e6125c9"
          }
        },
        "e66a4b17389d47d090879f5fc40173b8": {
          "model_module": "@jupyter-widgets/controls",
          "model_name": "HTMLModel",
          "model_module_version": "1.5.0",
          "state": {
            "_dom_classes": [],
            "_model_module": "@jupyter-widgets/controls",
            "_model_module_version": "1.5.0",
            "_model_name": "HTMLModel",
            "_view_count": null,
            "_view_module": "@jupyter-widgets/controls",
            "_view_module_version": "1.5.0",
            "_view_name": "HTMLView",
            "description": "",
            "description_tooltip": null,
            "layout": "IPY_MODEL_1f8300c8e43a4213b4c27d487c87fa08",
            "placeholder": "​",
            "style": "IPY_MODEL_922e756803b0466cbb6bc39992598b6b",
            "value": "tokenizer_config.json: 100%"
          }
        },
        "66e1a656aa9e408eb561ca4a100791c6": {
          "model_module": "@jupyter-widgets/controls",
          "model_name": "FloatProgressModel",
          "model_module_version": "1.5.0",
          "state": {
            "_dom_classes": [],
            "_model_module": "@jupyter-widgets/controls",
            "_model_module_version": "1.5.0",
            "_model_name": "FloatProgressModel",
            "_view_count": null,
            "_view_module": "@jupyter-widgets/controls",
            "_view_module_version": "1.5.0",
            "_view_name": "ProgressView",
            "bar_style": "success",
            "description": "",
            "description_tooltip": null,
            "layout": "IPY_MODEL_ec47166b4c674d028dd2d8cd91cc6c79",
            "max": 29,
            "min": 0,
            "orientation": "horizontal",
            "style": "IPY_MODEL_23b97acb04694fffa2717e419c986ade",
            "value": 29
          }
        },
        "41d06f1e05684dfbbe7df95440d02988": {
          "model_module": "@jupyter-widgets/controls",
          "model_name": "HTMLModel",
          "model_module_version": "1.5.0",
          "state": {
            "_dom_classes": [],
            "_model_module": "@jupyter-widgets/controls",
            "_model_module_version": "1.5.0",
            "_model_name": "HTMLModel",
            "_view_count": null,
            "_view_module": "@jupyter-widgets/controls",
            "_view_module_version": "1.5.0",
            "_view_name": "HTMLView",
            "description": "",
            "description_tooltip": null,
            "layout": "IPY_MODEL_c3eee3944b1346ce872f8b174d0e42bd",
            "placeholder": "​",
            "style": "IPY_MODEL_8d542e01e29c4e5a9b9ff93ab4643352",
            "value": " 29.0/29.0 [00:00&lt;00:00, 741B/s]"
          }
        },
        "0cbb2e32702d43ee88ea2a2c8e6125c9": {
          "model_module": "@jupyter-widgets/base",
          "model_name": "LayoutModel",
          "model_module_version": "1.2.0",
          "state": {
            "_model_module": "@jupyter-widgets/base",
            "_model_module_version": "1.2.0",
            "_model_name": "LayoutModel",
            "_view_count": null,
            "_view_module": "@jupyter-widgets/base",
            "_view_module_version": "1.2.0",
            "_view_name": "LayoutView",
            "align_content": null,
            "align_items": null,
            "align_self": null,
            "border": null,
            "bottom": null,
            "display": null,
            "flex": null,
            "flex_flow": null,
            "grid_area": null,
            "grid_auto_columns": null,
            "grid_auto_flow": null,
            "grid_auto_rows": null,
            "grid_column": null,
            "grid_gap": null,
            "grid_row": null,
            "grid_template_areas": null,
            "grid_template_columns": null,
            "grid_template_rows": null,
            "height": null,
            "justify_content": null,
            "justify_items": null,
            "left": null,
            "margin": null,
            "max_height": null,
            "max_width": null,
            "min_height": null,
            "min_width": null,
            "object_fit": null,
            "object_position": null,
            "order": null,
            "overflow": null,
            "overflow_x": null,
            "overflow_y": null,
            "padding": null,
            "right": null,
            "top": null,
            "visibility": null,
            "width": null
          }
        },
        "1f8300c8e43a4213b4c27d487c87fa08": {
          "model_module": "@jupyter-widgets/base",
          "model_name": "LayoutModel",
          "model_module_version": "1.2.0",
          "state": {
            "_model_module": "@jupyter-widgets/base",
            "_model_module_version": "1.2.0",
            "_model_name": "LayoutModel",
            "_view_count": null,
            "_view_module": "@jupyter-widgets/base",
            "_view_module_version": "1.2.0",
            "_view_name": "LayoutView",
            "align_content": null,
            "align_items": null,
            "align_self": null,
            "border": null,
            "bottom": null,
            "display": null,
            "flex": null,
            "flex_flow": null,
            "grid_area": null,
            "grid_auto_columns": null,
            "grid_auto_flow": null,
            "grid_auto_rows": null,
            "grid_column": null,
            "grid_gap": null,
            "grid_row": null,
            "grid_template_areas": null,
            "grid_template_columns": null,
            "grid_template_rows": null,
            "height": null,
            "justify_content": null,
            "justify_items": null,
            "left": null,
            "margin": null,
            "max_height": null,
            "max_width": null,
            "min_height": null,
            "min_width": null,
            "object_fit": null,
            "object_position": null,
            "order": null,
            "overflow": null,
            "overflow_x": null,
            "overflow_y": null,
            "padding": null,
            "right": null,
            "top": null,
            "visibility": null,
            "width": null
          }
        },
        "922e756803b0466cbb6bc39992598b6b": {
          "model_module": "@jupyter-widgets/controls",
          "model_name": "DescriptionStyleModel",
          "model_module_version": "1.5.0",
          "state": {
            "_model_module": "@jupyter-widgets/controls",
            "_model_module_version": "1.5.0",
            "_model_name": "DescriptionStyleModel",
            "_view_count": null,
            "_view_module": "@jupyter-widgets/base",
            "_view_module_version": "1.2.0",
            "_view_name": "StyleView",
            "description_width": ""
          }
        },
        "ec47166b4c674d028dd2d8cd91cc6c79": {
          "model_module": "@jupyter-widgets/base",
          "model_name": "LayoutModel",
          "model_module_version": "1.2.0",
          "state": {
            "_model_module": "@jupyter-widgets/base",
            "_model_module_version": "1.2.0",
            "_model_name": "LayoutModel",
            "_view_count": null,
            "_view_module": "@jupyter-widgets/base",
            "_view_module_version": "1.2.0",
            "_view_name": "LayoutView",
            "align_content": null,
            "align_items": null,
            "align_self": null,
            "border": null,
            "bottom": null,
            "display": null,
            "flex": null,
            "flex_flow": null,
            "grid_area": null,
            "grid_auto_columns": null,
            "grid_auto_flow": null,
            "grid_auto_rows": null,
            "grid_column": null,
            "grid_gap": null,
            "grid_row": null,
            "grid_template_areas": null,
            "grid_template_columns": null,
            "grid_template_rows": null,
            "height": null,
            "justify_content": null,
            "justify_items": null,
            "left": null,
            "margin": null,
            "max_height": null,
            "max_width": null,
            "min_height": null,
            "min_width": null,
            "object_fit": null,
            "object_position": null,
            "order": null,
            "overflow": null,
            "overflow_x": null,
            "overflow_y": null,
            "padding": null,
            "right": null,
            "top": null,
            "visibility": null,
            "width": null
          }
        },
        "23b97acb04694fffa2717e419c986ade": {
          "model_module": "@jupyter-widgets/controls",
          "model_name": "ProgressStyleModel",
          "model_module_version": "1.5.0",
          "state": {
            "_model_module": "@jupyter-widgets/controls",
            "_model_module_version": "1.5.0",
            "_model_name": "ProgressStyleModel",
            "_view_count": null,
            "_view_module": "@jupyter-widgets/base",
            "_view_module_version": "1.2.0",
            "_view_name": "StyleView",
            "bar_color": null,
            "description_width": ""
          }
        },
        "c3eee3944b1346ce872f8b174d0e42bd": {
          "model_module": "@jupyter-widgets/base",
          "model_name": "LayoutModel",
          "model_module_version": "1.2.0",
          "state": {
            "_model_module": "@jupyter-widgets/base",
            "_model_module_version": "1.2.0",
            "_model_name": "LayoutModel",
            "_view_count": null,
            "_view_module": "@jupyter-widgets/base",
            "_view_module_version": "1.2.0",
            "_view_name": "LayoutView",
            "align_content": null,
            "align_items": null,
            "align_self": null,
            "border": null,
            "bottom": null,
            "display": null,
            "flex": null,
            "flex_flow": null,
            "grid_area": null,
            "grid_auto_columns": null,
            "grid_auto_flow": null,
            "grid_auto_rows": null,
            "grid_column": null,
            "grid_gap": null,
            "grid_row": null,
            "grid_template_areas": null,
            "grid_template_columns": null,
            "grid_template_rows": null,
            "height": null,
            "justify_content": null,
            "justify_items": null,
            "left": null,
            "margin": null,
            "max_height": null,
            "max_width": null,
            "min_height": null,
            "min_width": null,
            "object_fit": null,
            "object_position": null,
            "order": null,
            "overflow": null,
            "overflow_x": null,
            "overflow_y": null,
            "padding": null,
            "right": null,
            "top": null,
            "visibility": null,
            "width": null
          }
        },
        "8d542e01e29c4e5a9b9ff93ab4643352": {
          "model_module": "@jupyter-widgets/controls",
          "model_name": "DescriptionStyleModel",
          "model_module_version": "1.5.0",
          "state": {
            "_model_module": "@jupyter-widgets/controls",
            "_model_module_version": "1.5.0",
            "_model_name": "DescriptionStyleModel",
            "_view_count": null,
            "_view_module": "@jupyter-widgets/base",
            "_view_module_version": "1.2.0",
            "_view_name": "StyleView",
            "description_width": ""
          }
        },
        "c474baf7c636445ebccda187b32bc5cf": {
          "model_module": "@jupyter-widgets/controls",
          "model_name": "HBoxModel",
          "model_module_version": "1.5.0",
          "state": {
            "_dom_classes": [],
            "_model_module": "@jupyter-widgets/controls",
            "_model_module_version": "1.5.0",
            "_model_name": "HBoxModel",
            "_view_count": null,
            "_view_module": "@jupyter-widgets/controls",
            "_view_module_version": "1.5.0",
            "_view_name": "HBoxView",
            "box_style": "",
            "children": [
              "IPY_MODEL_e0491a51d66c43c59bc009a910482053",
              "IPY_MODEL_42ec4054ce5d4675bd63cf4ced93fa7d",
              "IPY_MODEL_6cdf6de90ff741e5850fe183949ac390"
            ],
            "layout": "IPY_MODEL_1a3f49c42010451694fd503c6814be27"
          }
        },
        "e0491a51d66c43c59bc009a910482053": {
          "model_module": "@jupyter-widgets/controls",
          "model_name": "HTMLModel",
          "model_module_version": "1.5.0",
          "state": {
            "_dom_classes": [],
            "_model_module": "@jupyter-widgets/controls",
            "_model_module_version": "1.5.0",
            "_model_name": "HTMLModel",
            "_view_count": null,
            "_view_module": "@jupyter-widgets/controls",
            "_view_module_version": "1.5.0",
            "_view_name": "HTMLView",
            "description": "",
            "description_tooltip": null,
            "layout": "IPY_MODEL_0f0c6a47e65648138f96ce42ca7f825c",
            "placeholder": "​",
            "style": "IPY_MODEL_2ae4be66d3eb4d3fb0e74864c8c41385",
            "value": "vocab.txt: 100%"
          }
        },
        "42ec4054ce5d4675bd63cf4ced93fa7d": {
          "model_module": "@jupyter-widgets/controls",
          "model_name": "FloatProgressModel",
          "model_module_version": "1.5.0",
          "state": {
            "_dom_classes": [],
            "_model_module": "@jupyter-widgets/controls",
            "_model_module_version": "1.5.0",
            "_model_name": "FloatProgressModel",
            "_view_count": null,
            "_view_module": "@jupyter-widgets/controls",
            "_view_module_version": "1.5.0",
            "_view_name": "ProgressView",
            "bar_style": "success",
            "description": "",
            "description_tooltip": null,
            "layout": "IPY_MODEL_2e6dda0e3a7f49619a509f18f7a5f03b",
            "max": 213450,
            "min": 0,
            "orientation": "horizontal",
            "style": "IPY_MODEL_fcf4d059357f438b85b0455f3a52a9b8",
            "value": 213450
          }
        },
        "6cdf6de90ff741e5850fe183949ac390": {
          "model_module": "@jupyter-widgets/controls",
          "model_name": "HTMLModel",
          "model_module_version": "1.5.0",
          "state": {
            "_dom_classes": [],
            "_model_module": "@jupyter-widgets/controls",
            "_model_module_version": "1.5.0",
            "_model_name": "HTMLModel",
            "_view_count": null,
            "_view_module": "@jupyter-widgets/controls",
            "_view_module_version": "1.5.0",
            "_view_name": "HTMLView",
            "description": "",
            "description_tooltip": null,
            "layout": "IPY_MODEL_6566f44d299f43e5b431287ee3bfb501",
            "placeholder": "​",
            "style": "IPY_MODEL_504b21b12b8044c9995a480027a61b02",
            "value": " 213k/213k [00:00&lt;00:00, 869kB/s]"
          }
        },
        "1a3f49c42010451694fd503c6814be27": {
          "model_module": "@jupyter-widgets/base",
          "model_name": "LayoutModel",
          "model_module_version": "1.2.0",
          "state": {
            "_model_module": "@jupyter-widgets/base",
            "_model_module_version": "1.2.0",
            "_model_name": "LayoutModel",
            "_view_count": null,
            "_view_module": "@jupyter-widgets/base",
            "_view_module_version": "1.2.0",
            "_view_name": "LayoutView",
            "align_content": null,
            "align_items": null,
            "align_self": null,
            "border": null,
            "bottom": null,
            "display": null,
            "flex": null,
            "flex_flow": null,
            "grid_area": null,
            "grid_auto_columns": null,
            "grid_auto_flow": null,
            "grid_auto_rows": null,
            "grid_column": null,
            "grid_gap": null,
            "grid_row": null,
            "grid_template_areas": null,
            "grid_template_columns": null,
            "grid_template_rows": null,
            "height": null,
            "justify_content": null,
            "justify_items": null,
            "left": null,
            "margin": null,
            "max_height": null,
            "max_width": null,
            "min_height": null,
            "min_width": null,
            "object_fit": null,
            "object_position": null,
            "order": null,
            "overflow": null,
            "overflow_x": null,
            "overflow_y": null,
            "padding": null,
            "right": null,
            "top": null,
            "visibility": null,
            "width": null
          }
        },
        "0f0c6a47e65648138f96ce42ca7f825c": {
          "model_module": "@jupyter-widgets/base",
          "model_name": "LayoutModel",
          "model_module_version": "1.2.0",
          "state": {
            "_model_module": "@jupyter-widgets/base",
            "_model_module_version": "1.2.0",
            "_model_name": "LayoutModel",
            "_view_count": null,
            "_view_module": "@jupyter-widgets/base",
            "_view_module_version": "1.2.0",
            "_view_name": "LayoutView",
            "align_content": null,
            "align_items": null,
            "align_self": null,
            "border": null,
            "bottom": null,
            "display": null,
            "flex": null,
            "flex_flow": null,
            "grid_area": null,
            "grid_auto_columns": null,
            "grid_auto_flow": null,
            "grid_auto_rows": null,
            "grid_column": null,
            "grid_gap": null,
            "grid_row": null,
            "grid_template_areas": null,
            "grid_template_columns": null,
            "grid_template_rows": null,
            "height": null,
            "justify_content": null,
            "justify_items": null,
            "left": null,
            "margin": null,
            "max_height": null,
            "max_width": null,
            "min_height": null,
            "min_width": null,
            "object_fit": null,
            "object_position": null,
            "order": null,
            "overflow": null,
            "overflow_x": null,
            "overflow_y": null,
            "padding": null,
            "right": null,
            "top": null,
            "visibility": null,
            "width": null
          }
        },
        "2ae4be66d3eb4d3fb0e74864c8c41385": {
          "model_module": "@jupyter-widgets/controls",
          "model_name": "DescriptionStyleModel",
          "model_module_version": "1.5.0",
          "state": {
            "_model_module": "@jupyter-widgets/controls",
            "_model_module_version": "1.5.0",
            "_model_name": "DescriptionStyleModel",
            "_view_count": null,
            "_view_module": "@jupyter-widgets/base",
            "_view_module_version": "1.2.0",
            "_view_name": "StyleView",
            "description_width": ""
          }
        },
        "2e6dda0e3a7f49619a509f18f7a5f03b": {
          "model_module": "@jupyter-widgets/base",
          "model_name": "LayoutModel",
          "model_module_version": "1.2.0",
          "state": {
            "_model_module": "@jupyter-widgets/base",
            "_model_module_version": "1.2.0",
            "_model_name": "LayoutModel",
            "_view_count": null,
            "_view_module": "@jupyter-widgets/base",
            "_view_module_version": "1.2.0",
            "_view_name": "LayoutView",
            "align_content": null,
            "align_items": null,
            "align_self": null,
            "border": null,
            "bottom": null,
            "display": null,
            "flex": null,
            "flex_flow": null,
            "grid_area": null,
            "grid_auto_columns": null,
            "grid_auto_flow": null,
            "grid_auto_rows": null,
            "grid_column": null,
            "grid_gap": null,
            "grid_row": null,
            "grid_template_areas": null,
            "grid_template_columns": null,
            "grid_template_rows": null,
            "height": null,
            "justify_content": null,
            "justify_items": null,
            "left": null,
            "margin": null,
            "max_height": null,
            "max_width": null,
            "min_height": null,
            "min_width": null,
            "object_fit": null,
            "object_position": null,
            "order": null,
            "overflow": null,
            "overflow_x": null,
            "overflow_y": null,
            "padding": null,
            "right": null,
            "top": null,
            "visibility": null,
            "width": null
          }
        },
        "fcf4d059357f438b85b0455f3a52a9b8": {
          "model_module": "@jupyter-widgets/controls",
          "model_name": "ProgressStyleModel",
          "model_module_version": "1.5.0",
          "state": {
            "_model_module": "@jupyter-widgets/controls",
            "_model_module_version": "1.5.0",
            "_model_name": "ProgressStyleModel",
            "_view_count": null,
            "_view_module": "@jupyter-widgets/base",
            "_view_module_version": "1.2.0",
            "_view_name": "StyleView",
            "bar_color": null,
            "description_width": ""
          }
        },
        "6566f44d299f43e5b431287ee3bfb501": {
          "model_module": "@jupyter-widgets/base",
          "model_name": "LayoutModel",
          "model_module_version": "1.2.0",
          "state": {
            "_model_module": "@jupyter-widgets/base",
            "_model_module_version": "1.2.0",
            "_model_name": "LayoutModel",
            "_view_count": null,
            "_view_module": "@jupyter-widgets/base",
            "_view_module_version": "1.2.0",
            "_view_name": "LayoutView",
            "align_content": null,
            "align_items": null,
            "align_self": null,
            "border": null,
            "bottom": null,
            "display": null,
            "flex": null,
            "flex_flow": null,
            "grid_area": null,
            "grid_auto_columns": null,
            "grid_auto_flow": null,
            "grid_auto_rows": null,
            "grid_column": null,
            "grid_gap": null,
            "grid_row": null,
            "grid_template_areas": null,
            "grid_template_columns": null,
            "grid_template_rows": null,
            "height": null,
            "justify_content": null,
            "justify_items": null,
            "left": null,
            "margin": null,
            "max_height": null,
            "max_width": null,
            "min_height": null,
            "min_width": null,
            "object_fit": null,
            "object_position": null,
            "order": null,
            "overflow": null,
            "overflow_x": null,
            "overflow_y": null,
            "padding": null,
            "right": null,
            "top": null,
            "visibility": null,
            "width": null
          }
        },
        "504b21b12b8044c9995a480027a61b02": {
          "model_module": "@jupyter-widgets/controls",
          "model_name": "DescriptionStyleModel",
          "model_module_version": "1.5.0",
          "state": {
            "_model_module": "@jupyter-widgets/controls",
            "_model_module_version": "1.5.0",
            "_model_name": "DescriptionStyleModel",
            "_view_count": null,
            "_view_module": "@jupyter-widgets/base",
            "_view_module_version": "1.2.0",
            "_view_name": "StyleView",
            "description_width": ""
          }
        },
        "9146217fd43e41d19db49382f5058f73": {
          "model_module": "@jupyter-widgets/controls",
          "model_name": "HBoxModel",
          "model_module_version": "1.5.0",
          "state": {
            "_dom_classes": [],
            "_model_module": "@jupyter-widgets/controls",
            "_model_module_version": "1.5.0",
            "_model_name": "HBoxModel",
            "_view_count": null,
            "_view_module": "@jupyter-widgets/controls",
            "_view_module_version": "1.5.0",
            "_view_name": "HBoxView",
            "box_style": "",
            "children": [
              "IPY_MODEL_3c2719339e704e939a3ddf200bb154a6",
              "IPY_MODEL_357fff308a35485aac440fdbcc724fe9",
              "IPY_MODEL_b2d80c80afb449839f573f875270027b"
            ],
            "layout": "IPY_MODEL_fb50d4eabac241edbbef320e2bf3e442"
          }
        },
        "3c2719339e704e939a3ddf200bb154a6": {
          "model_module": "@jupyter-widgets/controls",
          "model_name": "HTMLModel",
          "model_module_version": "1.5.0",
          "state": {
            "_dom_classes": [],
            "_model_module": "@jupyter-widgets/controls",
            "_model_module_version": "1.5.0",
            "_model_name": "HTMLModel",
            "_view_count": null,
            "_view_module": "@jupyter-widgets/controls",
            "_view_module_version": "1.5.0",
            "_view_name": "HTMLView",
            "description": "",
            "description_tooltip": null,
            "layout": "IPY_MODEL_bd31500b08f44b42a5fa5ca17ff481f6",
            "placeholder": "​",
            "style": "IPY_MODEL_295541b2052c4ddb88f40eac38914ac2",
            "value": "tokenizer.json: 100%"
          }
        },
        "357fff308a35485aac440fdbcc724fe9": {
          "model_module": "@jupyter-widgets/controls",
          "model_name": "FloatProgressModel",
          "model_module_version": "1.5.0",
          "state": {
            "_dom_classes": [],
            "_model_module": "@jupyter-widgets/controls",
            "_model_module_version": "1.5.0",
            "_model_name": "FloatProgressModel",
            "_view_count": null,
            "_view_module": "@jupyter-widgets/controls",
            "_view_module_version": "1.5.0",
            "_view_name": "ProgressView",
            "bar_style": "success",
            "description": "",
            "description_tooltip": null,
            "layout": "IPY_MODEL_bf4344da68014f35b061721c0fd30112",
            "max": 435797,
            "min": 0,
            "orientation": "horizontal",
            "style": "IPY_MODEL_5b507eb03e08423ea5b1557139f78fc8",
            "value": 435797
          }
        },
        "b2d80c80afb449839f573f875270027b": {
          "model_module": "@jupyter-widgets/controls",
          "model_name": "HTMLModel",
          "model_module_version": "1.5.0",
          "state": {
            "_dom_classes": [],
            "_model_module": "@jupyter-widgets/controls",
            "_model_module_version": "1.5.0",
            "_model_name": "HTMLModel",
            "_view_count": null,
            "_view_module": "@jupyter-widgets/controls",
            "_view_module_version": "1.5.0",
            "_view_name": "HTMLView",
            "description": "",
            "description_tooltip": null,
            "layout": "IPY_MODEL_8bbc52d2433e4746983d99889b6b1ca4",
            "placeholder": "​",
            "style": "IPY_MODEL_2236e304c4c34d10874df745c3657905",
            "value": " 436k/436k [00:00&lt;00:00, 9.54MB/s]"
          }
        },
        "fb50d4eabac241edbbef320e2bf3e442": {
          "model_module": "@jupyter-widgets/base",
          "model_name": "LayoutModel",
          "model_module_version": "1.2.0",
          "state": {
            "_model_module": "@jupyter-widgets/base",
            "_model_module_version": "1.2.0",
            "_model_name": "LayoutModel",
            "_view_count": null,
            "_view_module": "@jupyter-widgets/base",
            "_view_module_version": "1.2.0",
            "_view_name": "LayoutView",
            "align_content": null,
            "align_items": null,
            "align_self": null,
            "border": null,
            "bottom": null,
            "display": null,
            "flex": null,
            "flex_flow": null,
            "grid_area": null,
            "grid_auto_columns": null,
            "grid_auto_flow": null,
            "grid_auto_rows": null,
            "grid_column": null,
            "grid_gap": null,
            "grid_row": null,
            "grid_template_areas": null,
            "grid_template_columns": null,
            "grid_template_rows": null,
            "height": null,
            "justify_content": null,
            "justify_items": null,
            "left": null,
            "margin": null,
            "max_height": null,
            "max_width": null,
            "min_height": null,
            "min_width": null,
            "object_fit": null,
            "object_position": null,
            "order": null,
            "overflow": null,
            "overflow_x": null,
            "overflow_y": null,
            "padding": null,
            "right": null,
            "top": null,
            "visibility": null,
            "width": null
          }
        },
        "bd31500b08f44b42a5fa5ca17ff481f6": {
          "model_module": "@jupyter-widgets/base",
          "model_name": "LayoutModel",
          "model_module_version": "1.2.0",
          "state": {
            "_model_module": "@jupyter-widgets/base",
            "_model_module_version": "1.2.0",
            "_model_name": "LayoutModel",
            "_view_count": null,
            "_view_module": "@jupyter-widgets/base",
            "_view_module_version": "1.2.0",
            "_view_name": "LayoutView",
            "align_content": null,
            "align_items": null,
            "align_self": null,
            "border": null,
            "bottom": null,
            "display": null,
            "flex": null,
            "flex_flow": null,
            "grid_area": null,
            "grid_auto_columns": null,
            "grid_auto_flow": null,
            "grid_auto_rows": null,
            "grid_column": null,
            "grid_gap": null,
            "grid_row": null,
            "grid_template_areas": null,
            "grid_template_columns": null,
            "grid_template_rows": null,
            "height": null,
            "justify_content": null,
            "justify_items": null,
            "left": null,
            "margin": null,
            "max_height": null,
            "max_width": null,
            "min_height": null,
            "min_width": null,
            "object_fit": null,
            "object_position": null,
            "order": null,
            "overflow": null,
            "overflow_x": null,
            "overflow_y": null,
            "padding": null,
            "right": null,
            "top": null,
            "visibility": null,
            "width": null
          }
        },
        "295541b2052c4ddb88f40eac38914ac2": {
          "model_module": "@jupyter-widgets/controls",
          "model_name": "DescriptionStyleModel",
          "model_module_version": "1.5.0",
          "state": {
            "_model_module": "@jupyter-widgets/controls",
            "_model_module_version": "1.5.0",
            "_model_name": "DescriptionStyleModel",
            "_view_count": null,
            "_view_module": "@jupyter-widgets/base",
            "_view_module_version": "1.2.0",
            "_view_name": "StyleView",
            "description_width": ""
          }
        },
        "bf4344da68014f35b061721c0fd30112": {
          "model_module": "@jupyter-widgets/base",
          "model_name": "LayoutModel",
          "model_module_version": "1.2.0",
          "state": {
            "_model_module": "@jupyter-widgets/base",
            "_model_module_version": "1.2.0",
            "_model_name": "LayoutModel",
            "_view_count": null,
            "_view_module": "@jupyter-widgets/base",
            "_view_module_version": "1.2.0",
            "_view_name": "LayoutView",
            "align_content": null,
            "align_items": null,
            "align_self": null,
            "border": null,
            "bottom": null,
            "display": null,
            "flex": null,
            "flex_flow": null,
            "grid_area": null,
            "grid_auto_columns": null,
            "grid_auto_flow": null,
            "grid_auto_rows": null,
            "grid_column": null,
            "grid_gap": null,
            "grid_row": null,
            "grid_template_areas": null,
            "grid_template_columns": null,
            "grid_template_rows": null,
            "height": null,
            "justify_content": null,
            "justify_items": null,
            "left": null,
            "margin": null,
            "max_height": null,
            "max_width": null,
            "min_height": null,
            "min_width": null,
            "object_fit": null,
            "object_position": null,
            "order": null,
            "overflow": null,
            "overflow_x": null,
            "overflow_y": null,
            "padding": null,
            "right": null,
            "top": null,
            "visibility": null,
            "width": null
          }
        },
        "5b507eb03e08423ea5b1557139f78fc8": {
          "model_module": "@jupyter-widgets/controls",
          "model_name": "ProgressStyleModel",
          "model_module_version": "1.5.0",
          "state": {
            "_model_module": "@jupyter-widgets/controls",
            "_model_module_version": "1.5.0",
            "_model_name": "ProgressStyleModel",
            "_view_count": null,
            "_view_module": "@jupyter-widgets/base",
            "_view_module_version": "1.2.0",
            "_view_name": "StyleView",
            "bar_color": null,
            "description_width": ""
          }
        },
        "8bbc52d2433e4746983d99889b6b1ca4": {
          "model_module": "@jupyter-widgets/base",
          "model_name": "LayoutModel",
          "model_module_version": "1.2.0",
          "state": {
            "_model_module": "@jupyter-widgets/base",
            "_model_module_version": "1.2.0",
            "_model_name": "LayoutModel",
            "_view_count": null,
            "_view_module": "@jupyter-widgets/base",
            "_view_module_version": "1.2.0",
            "_view_name": "LayoutView",
            "align_content": null,
            "align_items": null,
            "align_self": null,
            "border": null,
            "bottom": null,
            "display": null,
            "flex": null,
            "flex_flow": null,
            "grid_area": null,
            "grid_auto_columns": null,
            "grid_auto_flow": null,
            "grid_auto_rows": null,
            "grid_column": null,
            "grid_gap": null,
            "grid_row": null,
            "grid_template_areas": null,
            "grid_template_columns": null,
            "grid_template_rows": null,
            "height": null,
            "justify_content": null,
            "justify_items": null,
            "left": null,
            "margin": null,
            "max_height": null,
            "max_width": null,
            "min_height": null,
            "min_width": null,
            "object_fit": null,
            "object_position": null,
            "order": null,
            "overflow": null,
            "overflow_x": null,
            "overflow_y": null,
            "padding": null,
            "right": null,
            "top": null,
            "visibility": null,
            "width": null
          }
        },
        "2236e304c4c34d10874df745c3657905": {
          "model_module": "@jupyter-widgets/controls",
          "model_name": "DescriptionStyleModel",
          "model_module_version": "1.5.0",
          "state": {
            "_model_module": "@jupyter-widgets/controls",
            "_model_module_version": "1.5.0",
            "_model_name": "DescriptionStyleModel",
            "_view_count": null,
            "_view_module": "@jupyter-widgets/base",
            "_view_module_version": "1.2.0",
            "_view_name": "StyleView",
            "description_width": ""
          }
        },
        "ca0b73f81f904b6bb40a9e998ae377bd": {
          "model_module": "@jupyter-widgets/controls",
          "model_name": "HBoxModel",
          "model_module_version": "1.5.0",
          "state": {
            "_dom_classes": [],
            "_model_module": "@jupyter-widgets/controls",
            "_model_module_version": "1.5.0",
            "_model_name": "HBoxModel",
            "_view_count": null,
            "_view_module": "@jupyter-widgets/controls",
            "_view_module_version": "1.5.0",
            "_view_name": "HBoxView",
            "box_style": "",
            "children": [
              "IPY_MODEL_f770e7e1799b4c0dbd4636ab8049e981",
              "IPY_MODEL_d10a106ec0b84cefa4337c1bd5c4ebf0",
              "IPY_MODEL_e1abc2b5cbe740139ce3b82cfad76351"
            ],
            "layout": "IPY_MODEL_f656c0ea1d874c4d89d8c73964a4c422"
          }
        },
        "f770e7e1799b4c0dbd4636ab8049e981": {
          "model_module": "@jupyter-widgets/controls",
          "model_name": "HTMLModel",
          "model_module_version": "1.5.0",
          "state": {
            "_dom_classes": [],
            "_model_module": "@jupyter-widgets/controls",
            "_model_module_version": "1.5.0",
            "_model_name": "HTMLModel",
            "_view_count": null,
            "_view_module": "@jupyter-widgets/controls",
            "_view_module_version": "1.5.0",
            "_view_name": "HTMLView",
            "description": "",
            "description_tooltip": null,
            "layout": "IPY_MODEL_84d319ee34954b1cb7580b1478d55d6a",
            "placeholder": "​",
            "style": "IPY_MODEL_948b042b551c4edc91de525655339e27",
            "value": "100%"
          }
        },
        "d10a106ec0b84cefa4337c1bd5c4ebf0": {
          "model_module": "@jupyter-widgets/controls",
          "model_name": "FloatProgressModel",
          "model_module_version": "1.5.0",
          "state": {
            "_dom_classes": [],
            "_model_module": "@jupyter-widgets/controls",
            "_model_module_version": "1.5.0",
            "_model_name": "FloatProgressModel",
            "_view_count": null,
            "_view_module": "@jupyter-widgets/controls",
            "_view_module_version": "1.5.0",
            "_view_name": "ProgressView",
            "bar_style": "success",
            "description": "",
            "description_tooltip": null,
            "layout": "IPY_MODEL_b907b50d4a18404e994582e596803566",
            "max": 2,
            "min": 0,
            "orientation": "horizontal",
            "style": "IPY_MODEL_15dc2c128233472692b47acc9668d157",
            "value": 2
          }
        },
        "e1abc2b5cbe740139ce3b82cfad76351": {
          "model_module": "@jupyter-widgets/controls",
          "model_name": "HTMLModel",
          "model_module_version": "1.5.0",
          "state": {
            "_dom_classes": [],
            "_model_module": "@jupyter-widgets/controls",
            "_model_module_version": "1.5.0",
            "_model_name": "HTMLModel",
            "_view_count": null,
            "_view_module": "@jupyter-widgets/controls",
            "_view_module_version": "1.5.0",
            "_view_name": "HTMLView",
            "description": "",
            "description_tooltip": null,
            "layout": "IPY_MODEL_3c676648afa64aed825d3a5381980f9f",
            "placeholder": "​",
            "style": "IPY_MODEL_8ca98c08eee443f6be6367ae44e0e669",
            "value": " 2/2 [00:01&lt;00:00,  1.16it/s]"
          }
        },
        "f656c0ea1d874c4d89d8c73964a4c422": {
          "model_module": "@jupyter-widgets/base",
          "model_name": "LayoutModel",
          "model_module_version": "1.2.0",
          "state": {
            "_model_module": "@jupyter-widgets/base",
            "_model_module_version": "1.2.0",
            "_model_name": "LayoutModel",
            "_view_count": null,
            "_view_module": "@jupyter-widgets/base",
            "_view_module_version": "1.2.0",
            "_view_name": "LayoutView",
            "align_content": null,
            "align_items": null,
            "align_self": null,
            "border": null,
            "bottom": null,
            "display": null,
            "flex": null,
            "flex_flow": null,
            "grid_area": null,
            "grid_auto_columns": null,
            "grid_auto_flow": null,
            "grid_auto_rows": null,
            "grid_column": null,
            "grid_gap": null,
            "grid_row": null,
            "grid_template_areas": null,
            "grid_template_columns": null,
            "grid_template_rows": null,
            "height": null,
            "justify_content": null,
            "justify_items": null,
            "left": null,
            "margin": null,
            "max_height": null,
            "max_width": null,
            "min_height": null,
            "min_width": null,
            "object_fit": null,
            "object_position": null,
            "order": null,
            "overflow": null,
            "overflow_x": null,
            "overflow_y": null,
            "padding": null,
            "right": null,
            "top": null,
            "visibility": null,
            "width": null
          }
        },
        "84d319ee34954b1cb7580b1478d55d6a": {
          "model_module": "@jupyter-widgets/base",
          "model_name": "LayoutModel",
          "model_module_version": "1.2.0",
          "state": {
            "_model_module": "@jupyter-widgets/base",
            "_model_module_version": "1.2.0",
            "_model_name": "LayoutModel",
            "_view_count": null,
            "_view_module": "@jupyter-widgets/base",
            "_view_module_version": "1.2.0",
            "_view_name": "LayoutView",
            "align_content": null,
            "align_items": null,
            "align_self": null,
            "border": null,
            "bottom": null,
            "display": null,
            "flex": null,
            "flex_flow": null,
            "grid_area": null,
            "grid_auto_columns": null,
            "grid_auto_flow": null,
            "grid_auto_rows": null,
            "grid_column": null,
            "grid_gap": null,
            "grid_row": null,
            "grid_template_areas": null,
            "grid_template_columns": null,
            "grid_template_rows": null,
            "height": null,
            "justify_content": null,
            "justify_items": null,
            "left": null,
            "margin": null,
            "max_height": null,
            "max_width": null,
            "min_height": null,
            "min_width": null,
            "object_fit": null,
            "object_position": null,
            "order": null,
            "overflow": null,
            "overflow_x": null,
            "overflow_y": null,
            "padding": null,
            "right": null,
            "top": null,
            "visibility": null,
            "width": null
          }
        },
        "948b042b551c4edc91de525655339e27": {
          "model_module": "@jupyter-widgets/controls",
          "model_name": "DescriptionStyleModel",
          "model_module_version": "1.5.0",
          "state": {
            "_model_module": "@jupyter-widgets/controls",
            "_model_module_version": "1.5.0",
            "_model_name": "DescriptionStyleModel",
            "_view_count": null,
            "_view_module": "@jupyter-widgets/base",
            "_view_module_version": "1.2.0",
            "_view_name": "StyleView",
            "description_width": ""
          }
        },
        "b907b50d4a18404e994582e596803566": {
          "model_module": "@jupyter-widgets/base",
          "model_name": "LayoutModel",
          "model_module_version": "1.2.0",
          "state": {
            "_model_module": "@jupyter-widgets/base",
            "_model_module_version": "1.2.0",
            "_model_name": "LayoutModel",
            "_view_count": null,
            "_view_module": "@jupyter-widgets/base",
            "_view_module_version": "1.2.0",
            "_view_name": "LayoutView",
            "align_content": null,
            "align_items": null,
            "align_self": null,
            "border": null,
            "bottom": null,
            "display": null,
            "flex": null,
            "flex_flow": null,
            "grid_area": null,
            "grid_auto_columns": null,
            "grid_auto_flow": null,
            "grid_auto_rows": null,
            "grid_column": null,
            "grid_gap": null,
            "grid_row": null,
            "grid_template_areas": null,
            "grid_template_columns": null,
            "grid_template_rows": null,
            "height": null,
            "justify_content": null,
            "justify_items": null,
            "left": null,
            "margin": null,
            "max_height": null,
            "max_width": null,
            "min_height": null,
            "min_width": null,
            "object_fit": null,
            "object_position": null,
            "order": null,
            "overflow": null,
            "overflow_x": null,
            "overflow_y": null,
            "padding": null,
            "right": null,
            "top": null,
            "visibility": null,
            "width": null
          }
        },
        "15dc2c128233472692b47acc9668d157": {
          "model_module": "@jupyter-widgets/controls",
          "model_name": "ProgressStyleModel",
          "model_module_version": "1.5.0",
          "state": {
            "_model_module": "@jupyter-widgets/controls",
            "_model_module_version": "1.5.0",
            "_model_name": "ProgressStyleModel",
            "_view_count": null,
            "_view_module": "@jupyter-widgets/base",
            "_view_module_version": "1.2.0",
            "_view_name": "StyleView",
            "bar_color": null,
            "description_width": ""
          }
        },
        "3c676648afa64aed825d3a5381980f9f": {
          "model_module": "@jupyter-widgets/base",
          "model_name": "LayoutModel",
          "model_module_version": "1.2.0",
          "state": {
            "_model_module": "@jupyter-widgets/base",
            "_model_module_version": "1.2.0",
            "_model_name": "LayoutModel",
            "_view_count": null,
            "_view_module": "@jupyter-widgets/base",
            "_view_module_version": "1.2.0",
            "_view_name": "LayoutView",
            "align_content": null,
            "align_items": null,
            "align_self": null,
            "border": null,
            "bottom": null,
            "display": null,
            "flex": null,
            "flex_flow": null,
            "grid_area": null,
            "grid_auto_columns": null,
            "grid_auto_flow": null,
            "grid_auto_rows": null,
            "grid_column": null,
            "grid_gap": null,
            "grid_row": null,
            "grid_template_areas": null,
            "grid_template_columns": null,
            "grid_template_rows": null,
            "height": null,
            "justify_content": null,
            "justify_items": null,
            "left": null,
            "margin": null,
            "max_height": null,
            "max_width": null,
            "min_height": null,
            "min_width": null,
            "object_fit": null,
            "object_position": null,
            "order": null,
            "overflow": null,
            "overflow_x": null,
            "overflow_y": null,
            "padding": null,
            "right": null,
            "top": null,
            "visibility": null,
            "width": null
          }
        },
        "8ca98c08eee443f6be6367ae44e0e669": {
          "model_module": "@jupyter-widgets/controls",
          "model_name": "DescriptionStyleModel",
          "model_module_version": "1.5.0",
          "state": {
            "_model_module": "@jupyter-widgets/controls",
            "_model_module_version": "1.5.0",
            "_model_name": "DescriptionStyleModel",
            "_view_count": null,
            "_view_module": "@jupyter-widgets/base",
            "_view_module_version": "1.2.0",
            "_view_name": "StyleView",
            "description_width": ""
          }
        },
        "429d01a80c164103891e3af40da2b606": {
          "model_module": "@jupyter-widgets/controls",
          "model_name": "HBoxModel",
          "model_module_version": "1.5.0",
          "state": {
            "_dom_classes": [],
            "_model_module": "@jupyter-widgets/controls",
            "_model_module_version": "1.5.0",
            "_model_name": "HBoxModel",
            "_view_count": null,
            "_view_module": "@jupyter-widgets/controls",
            "_view_module_version": "1.5.0",
            "_view_name": "HBoxView",
            "box_style": "",
            "children": [
              "IPY_MODEL_00a82237a95a4207813b4aaee4a79144",
              "IPY_MODEL_d08b2c4530d14581a8ec01a14f6018d9",
              "IPY_MODEL_403518148f464a0485cdb10cc26450df"
            ],
            "layout": "IPY_MODEL_c8c039a2848241108d813be93e1703b5"
          }
        },
        "00a82237a95a4207813b4aaee4a79144": {
          "model_module": "@jupyter-widgets/controls",
          "model_name": "HTMLModel",
          "model_module_version": "1.5.0",
          "state": {
            "_dom_classes": [],
            "_model_module": "@jupyter-widgets/controls",
            "_model_module_version": "1.5.0",
            "_model_name": "HTMLModel",
            "_view_count": null,
            "_view_module": "@jupyter-widgets/controls",
            "_view_module_version": "1.5.0",
            "_view_name": "HTMLView",
            "description": "",
            "description_tooltip": null,
            "layout": "IPY_MODEL_9edb28620e9647afa7f6bfa21bb62ae1",
            "placeholder": "​",
            "style": "IPY_MODEL_47d4d8db0b36451789e67eb367395df0",
            "value": "Epoch 15 of 15: 100%"
          }
        },
        "d08b2c4530d14581a8ec01a14f6018d9": {
          "model_module": "@jupyter-widgets/controls",
          "model_name": "FloatProgressModel",
          "model_module_version": "1.5.0",
          "state": {
            "_dom_classes": [],
            "_model_module": "@jupyter-widgets/controls",
            "_model_module_version": "1.5.0",
            "_model_name": "FloatProgressModel",
            "_view_count": null,
            "_view_module": "@jupyter-widgets/controls",
            "_view_module_version": "1.5.0",
            "_view_name": "ProgressView",
            "bar_style": "success",
            "description": "",
            "description_tooltip": null,
            "layout": "IPY_MODEL_baa45497930743ab9b650a39718a30b2",
            "max": 15,
            "min": 0,
            "orientation": "horizontal",
            "style": "IPY_MODEL_653815912a3d4fa88d318c397f53932d",
            "value": 15
          }
        },
        "403518148f464a0485cdb10cc26450df": {
          "model_module": "@jupyter-widgets/controls",
          "model_name": "HTMLModel",
          "model_module_version": "1.5.0",
          "state": {
            "_dom_classes": [],
            "_model_module": "@jupyter-widgets/controls",
            "_model_module_version": "1.5.0",
            "_model_name": "HTMLModel",
            "_view_count": null,
            "_view_module": "@jupyter-widgets/controls",
            "_view_module_version": "1.5.0",
            "_view_name": "HTMLView",
            "description": "",
            "description_tooltip": null,
            "layout": "IPY_MODEL_88027103711448d3a838bb1b652d9f2c",
            "placeholder": "​",
            "style": "IPY_MODEL_ec5c3a14340c4f9fa516c13623c453d7",
            "value": " 15/15 [04:34&lt;00:00, 16.25s/it]"
          }
        },
        "c8c039a2848241108d813be93e1703b5": {
          "model_module": "@jupyter-widgets/base",
          "model_name": "LayoutModel",
          "model_module_version": "1.2.0",
          "state": {
            "_model_module": "@jupyter-widgets/base",
            "_model_module_version": "1.2.0",
            "_model_name": "LayoutModel",
            "_view_count": null,
            "_view_module": "@jupyter-widgets/base",
            "_view_module_version": "1.2.0",
            "_view_name": "LayoutView",
            "align_content": null,
            "align_items": null,
            "align_self": null,
            "border": null,
            "bottom": null,
            "display": null,
            "flex": null,
            "flex_flow": null,
            "grid_area": null,
            "grid_auto_columns": null,
            "grid_auto_flow": null,
            "grid_auto_rows": null,
            "grid_column": null,
            "grid_gap": null,
            "grid_row": null,
            "grid_template_areas": null,
            "grid_template_columns": null,
            "grid_template_rows": null,
            "height": null,
            "justify_content": null,
            "justify_items": null,
            "left": null,
            "margin": null,
            "max_height": null,
            "max_width": null,
            "min_height": null,
            "min_width": null,
            "object_fit": null,
            "object_position": null,
            "order": null,
            "overflow": null,
            "overflow_x": null,
            "overflow_y": null,
            "padding": null,
            "right": null,
            "top": null,
            "visibility": null,
            "width": null
          }
        },
        "9edb28620e9647afa7f6bfa21bb62ae1": {
          "model_module": "@jupyter-widgets/base",
          "model_name": "LayoutModel",
          "model_module_version": "1.2.0",
          "state": {
            "_model_module": "@jupyter-widgets/base",
            "_model_module_version": "1.2.0",
            "_model_name": "LayoutModel",
            "_view_count": null,
            "_view_module": "@jupyter-widgets/base",
            "_view_module_version": "1.2.0",
            "_view_name": "LayoutView",
            "align_content": null,
            "align_items": null,
            "align_self": null,
            "border": null,
            "bottom": null,
            "display": null,
            "flex": null,
            "flex_flow": null,
            "grid_area": null,
            "grid_auto_columns": null,
            "grid_auto_flow": null,
            "grid_auto_rows": null,
            "grid_column": null,
            "grid_gap": null,
            "grid_row": null,
            "grid_template_areas": null,
            "grid_template_columns": null,
            "grid_template_rows": null,
            "height": null,
            "justify_content": null,
            "justify_items": null,
            "left": null,
            "margin": null,
            "max_height": null,
            "max_width": null,
            "min_height": null,
            "min_width": null,
            "object_fit": null,
            "object_position": null,
            "order": null,
            "overflow": null,
            "overflow_x": null,
            "overflow_y": null,
            "padding": null,
            "right": null,
            "top": null,
            "visibility": null,
            "width": null
          }
        },
        "47d4d8db0b36451789e67eb367395df0": {
          "model_module": "@jupyter-widgets/controls",
          "model_name": "DescriptionStyleModel",
          "model_module_version": "1.5.0",
          "state": {
            "_model_module": "@jupyter-widgets/controls",
            "_model_module_version": "1.5.0",
            "_model_name": "DescriptionStyleModel",
            "_view_count": null,
            "_view_module": "@jupyter-widgets/base",
            "_view_module_version": "1.2.0",
            "_view_name": "StyleView",
            "description_width": ""
          }
        },
        "baa45497930743ab9b650a39718a30b2": {
          "model_module": "@jupyter-widgets/base",
          "model_name": "LayoutModel",
          "model_module_version": "1.2.0",
          "state": {
            "_model_module": "@jupyter-widgets/base",
            "_model_module_version": "1.2.0",
            "_model_name": "LayoutModel",
            "_view_count": null,
            "_view_module": "@jupyter-widgets/base",
            "_view_module_version": "1.2.0",
            "_view_name": "LayoutView",
            "align_content": null,
            "align_items": null,
            "align_self": null,
            "border": null,
            "bottom": null,
            "display": null,
            "flex": null,
            "flex_flow": null,
            "grid_area": null,
            "grid_auto_columns": null,
            "grid_auto_flow": null,
            "grid_auto_rows": null,
            "grid_column": null,
            "grid_gap": null,
            "grid_row": null,
            "grid_template_areas": null,
            "grid_template_columns": null,
            "grid_template_rows": null,
            "height": null,
            "justify_content": null,
            "justify_items": null,
            "left": null,
            "margin": null,
            "max_height": null,
            "max_width": null,
            "min_height": null,
            "min_width": null,
            "object_fit": null,
            "object_position": null,
            "order": null,
            "overflow": null,
            "overflow_x": null,
            "overflow_y": null,
            "padding": null,
            "right": null,
            "top": null,
            "visibility": null,
            "width": null
          }
        },
        "653815912a3d4fa88d318c397f53932d": {
          "model_module": "@jupyter-widgets/controls",
          "model_name": "ProgressStyleModel",
          "model_module_version": "1.5.0",
          "state": {
            "_model_module": "@jupyter-widgets/controls",
            "_model_module_version": "1.5.0",
            "_model_name": "ProgressStyleModel",
            "_view_count": null,
            "_view_module": "@jupyter-widgets/base",
            "_view_module_version": "1.2.0",
            "_view_name": "StyleView",
            "bar_color": null,
            "description_width": ""
          }
        },
        "88027103711448d3a838bb1b652d9f2c": {
          "model_module": "@jupyter-widgets/base",
          "model_name": "LayoutModel",
          "model_module_version": "1.2.0",
          "state": {
            "_model_module": "@jupyter-widgets/base",
            "_model_module_version": "1.2.0",
            "_model_name": "LayoutModel",
            "_view_count": null,
            "_view_module": "@jupyter-widgets/base",
            "_view_module_version": "1.2.0",
            "_view_name": "LayoutView",
            "align_content": null,
            "align_items": null,
            "align_self": null,
            "border": null,
            "bottom": null,
            "display": null,
            "flex": null,
            "flex_flow": null,
            "grid_area": null,
            "grid_auto_columns": null,
            "grid_auto_flow": null,
            "grid_auto_rows": null,
            "grid_column": null,
            "grid_gap": null,
            "grid_row": null,
            "grid_template_areas": null,
            "grid_template_columns": null,
            "grid_template_rows": null,
            "height": null,
            "justify_content": null,
            "justify_items": null,
            "left": null,
            "margin": null,
            "max_height": null,
            "max_width": null,
            "min_height": null,
            "min_width": null,
            "object_fit": null,
            "object_position": null,
            "order": null,
            "overflow": null,
            "overflow_x": null,
            "overflow_y": null,
            "padding": null,
            "right": null,
            "top": null,
            "visibility": null,
            "width": null
          }
        },
        "ec5c3a14340c4f9fa516c13623c453d7": {
          "model_module": "@jupyter-widgets/controls",
          "model_name": "DescriptionStyleModel",
          "model_module_version": "1.5.0",
          "state": {
            "_model_module": "@jupyter-widgets/controls",
            "_model_module_version": "1.5.0",
            "_model_name": "DescriptionStyleModel",
            "_view_count": null,
            "_view_module": "@jupyter-widgets/base",
            "_view_module_version": "1.2.0",
            "_view_name": "StyleView",
            "description_width": ""
          }
        },
        "2a556bd5e0de42cc85aa93cce9a6dae1": {
          "model_module": "@jupyter-widgets/controls",
          "model_name": "HBoxModel",
          "model_module_version": "1.5.0",
          "state": {
            "_dom_classes": [],
            "_model_module": "@jupyter-widgets/controls",
            "_model_module_version": "1.5.0",
            "_model_name": "HBoxModel",
            "_view_count": null,
            "_view_module": "@jupyter-widgets/controls",
            "_view_module_version": "1.5.0",
            "_view_name": "HBoxView",
            "box_style": "",
            "children": [
              "IPY_MODEL_f2d8e7f81f454e138fd207cb50f852d0",
              "IPY_MODEL_61e92f98f1694c7aab85893f9a26d163",
              "IPY_MODEL_6820cb9317584381a79b717b413fb1ee"
            ],
            "layout": "IPY_MODEL_0e3b78a9481746bd9ed7dcab7b57732b"
          }
        },
        "f2d8e7f81f454e138fd207cb50f852d0": {
          "model_module": "@jupyter-widgets/controls",
          "model_name": "HTMLModel",
          "model_module_version": "1.5.0",
          "state": {
            "_dom_classes": [],
            "_model_module": "@jupyter-widgets/controls",
            "_model_module_version": "1.5.0",
            "_model_name": "HTMLModel",
            "_view_count": null,
            "_view_module": "@jupyter-widgets/controls",
            "_view_module_version": "1.5.0",
            "_view_name": "HTMLView",
            "description": "",
            "description_tooltip": null,
            "layout": "IPY_MODEL_33be9fee6f724cfebb0b5b2715180310",
            "placeholder": "​",
            "style": "IPY_MODEL_0b8347d61e404f52b3e764d01ada1119",
            "value": "Epochs 0/15. Running Loss:    0.4299: 100%"
          }
        },
        "61e92f98f1694c7aab85893f9a26d163": {
          "model_module": "@jupyter-widgets/controls",
          "model_name": "FloatProgressModel",
          "model_module_version": "1.5.0",
          "state": {
            "_dom_classes": [],
            "_model_module": "@jupyter-widgets/controls",
            "_model_module_version": "1.5.0",
            "_model_name": "FloatProgressModel",
            "_view_count": null,
            "_view_module": "@jupyter-widgets/controls",
            "_view_module_version": "1.5.0",
            "_view_name": "ProgressView",
            "bar_style": "success",
            "description": "",
            "description_tooltip": null,
            "layout": "IPY_MODEL_138711baf12a46558f46673986b38184",
            "max": 52,
            "min": 0,
            "orientation": "horizontal",
            "style": "IPY_MODEL_5fd690611eeb4261add298c640f19dff",
            "value": 52
          }
        },
        "6820cb9317584381a79b717b413fb1ee": {
          "model_module": "@jupyter-widgets/controls",
          "model_name": "HTMLModel",
          "model_module_version": "1.5.0",
          "state": {
            "_dom_classes": [],
            "_model_module": "@jupyter-widgets/controls",
            "_model_module_version": "1.5.0",
            "_model_name": "HTMLModel",
            "_view_count": null,
            "_view_module": "@jupyter-widgets/controls",
            "_view_module_version": "1.5.0",
            "_view_name": "HTMLView",
            "description": "",
            "description_tooltip": null,
            "layout": "IPY_MODEL_3133343c210f434187bdd620daef77ad",
            "placeholder": "​",
            "style": "IPY_MODEL_6c4469559dc8482392d63da7e0b33dba",
            "value": " 52/52 [00:10&lt;00:00,  6.23it/s]"
          }
        },
        "0e3b78a9481746bd9ed7dcab7b57732b": {
          "model_module": "@jupyter-widgets/base",
          "model_name": "LayoutModel",
          "model_module_version": "1.2.0",
          "state": {
            "_model_module": "@jupyter-widgets/base",
            "_model_module_version": "1.2.0",
            "_model_name": "LayoutModel",
            "_view_count": null,
            "_view_module": "@jupyter-widgets/base",
            "_view_module_version": "1.2.0",
            "_view_name": "LayoutView",
            "align_content": null,
            "align_items": null,
            "align_self": null,
            "border": null,
            "bottom": null,
            "display": null,
            "flex": null,
            "flex_flow": null,
            "grid_area": null,
            "grid_auto_columns": null,
            "grid_auto_flow": null,
            "grid_auto_rows": null,
            "grid_column": null,
            "grid_gap": null,
            "grid_row": null,
            "grid_template_areas": null,
            "grid_template_columns": null,
            "grid_template_rows": null,
            "height": null,
            "justify_content": null,
            "justify_items": null,
            "left": null,
            "margin": null,
            "max_height": null,
            "max_width": null,
            "min_height": null,
            "min_width": null,
            "object_fit": null,
            "object_position": null,
            "order": null,
            "overflow": null,
            "overflow_x": null,
            "overflow_y": null,
            "padding": null,
            "right": null,
            "top": null,
            "visibility": null,
            "width": null
          }
        },
        "33be9fee6f724cfebb0b5b2715180310": {
          "model_module": "@jupyter-widgets/base",
          "model_name": "LayoutModel",
          "model_module_version": "1.2.0",
          "state": {
            "_model_module": "@jupyter-widgets/base",
            "_model_module_version": "1.2.0",
            "_model_name": "LayoutModel",
            "_view_count": null,
            "_view_module": "@jupyter-widgets/base",
            "_view_module_version": "1.2.0",
            "_view_name": "LayoutView",
            "align_content": null,
            "align_items": null,
            "align_self": null,
            "border": null,
            "bottom": null,
            "display": null,
            "flex": null,
            "flex_flow": null,
            "grid_area": null,
            "grid_auto_columns": null,
            "grid_auto_flow": null,
            "grid_auto_rows": null,
            "grid_column": null,
            "grid_gap": null,
            "grid_row": null,
            "grid_template_areas": null,
            "grid_template_columns": null,
            "grid_template_rows": null,
            "height": null,
            "justify_content": null,
            "justify_items": null,
            "left": null,
            "margin": null,
            "max_height": null,
            "max_width": null,
            "min_height": null,
            "min_width": null,
            "object_fit": null,
            "object_position": null,
            "order": null,
            "overflow": null,
            "overflow_x": null,
            "overflow_y": null,
            "padding": null,
            "right": null,
            "top": null,
            "visibility": null,
            "width": null
          }
        },
        "0b8347d61e404f52b3e764d01ada1119": {
          "model_module": "@jupyter-widgets/controls",
          "model_name": "DescriptionStyleModel",
          "model_module_version": "1.5.0",
          "state": {
            "_model_module": "@jupyter-widgets/controls",
            "_model_module_version": "1.5.0",
            "_model_name": "DescriptionStyleModel",
            "_view_count": null,
            "_view_module": "@jupyter-widgets/base",
            "_view_module_version": "1.2.0",
            "_view_name": "StyleView",
            "description_width": ""
          }
        },
        "138711baf12a46558f46673986b38184": {
          "model_module": "@jupyter-widgets/base",
          "model_name": "LayoutModel",
          "model_module_version": "1.2.0",
          "state": {
            "_model_module": "@jupyter-widgets/base",
            "_model_module_version": "1.2.0",
            "_model_name": "LayoutModel",
            "_view_count": null,
            "_view_module": "@jupyter-widgets/base",
            "_view_module_version": "1.2.0",
            "_view_name": "LayoutView",
            "align_content": null,
            "align_items": null,
            "align_self": null,
            "border": null,
            "bottom": null,
            "display": null,
            "flex": null,
            "flex_flow": null,
            "grid_area": null,
            "grid_auto_columns": null,
            "grid_auto_flow": null,
            "grid_auto_rows": null,
            "grid_column": null,
            "grid_gap": null,
            "grid_row": null,
            "grid_template_areas": null,
            "grid_template_columns": null,
            "grid_template_rows": null,
            "height": null,
            "justify_content": null,
            "justify_items": null,
            "left": null,
            "margin": null,
            "max_height": null,
            "max_width": null,
            "min_height": null,
            "min_width": null,
            "object_fit": null,
            "object_position": null,
            "order": null,
            "overflow": null,
            "overflow_x": null,
            "overflow_y": null,
            "padding": null,
            "right": null,
            "top": null,
            "visibility": null,
            "width": null
          }
        },
        "5fd690611eeb4261add298c640f19dff": {
          "model_module": "@jupyter-widgets/controls",
          "model_name": "ProgressStyleModel",
          "model_module_version": "1.5.0",
          "state": {
            "_model_module": "@jupyter-widgets/controls",
            "_model_module_version": "1.5.0",
            "_model_name": "ProgressStyleModel",
            "_view_count": null,
            "_view_module": "@jupyter-widgets/base",
            "_view_module_version": "1.2.0",
            "_view_name": "StyleView",
            "bar_color": null,
            "description_width": ""
          }
        },
        "3133343c210f434187bdd620daef77ad": {
          "model_module": "@jupyter-widgets/base",
          "model_name": "LayoutModel",
          "model_module_version": "1.2.0",
          "state": {
            "_model_module": "@jupyter-widgets/base",
            "_model_module_version": "1.2.0",
            "_model_name": "LayoutModel",
            "_view_count": null,
            "_view_module": "@jupyter-widgets/base",
            "_view_module_version": "1.2.0",
            "_view_name": "LayoutView",
            "align_content": null,
            "align_items": null,
            "align_self": null,
            "border": null,
            "bottom": null,
            "display": null,
            "flex": null,
            "flex_flow": null,
            "grid_area": null,
            "grid_auto_columns": null,
            "grid_auto_flow": null,
            "grid_auto_rows": null,
            "grid_column": null,
            "grid_gap": null,
            "grid_row": null,
            "grid_template_areas": null,
            "grid_template_columns": null,
            "grid_template_rows": null,
            "height": null,
            "justify_content": null,
            "justify_items": null,
            "left": null,
            "margin": null,
            "max_height": null,
            "max_width": null,
            "min_height": null,
            "min_width": null,
            "object_fit": null,
            "object_position": null,
            "order": null,
            "overflow": null,
            "overflow_x": null,
            "overflow_y": null,
            "padding": null,
            "right": null,
            "top": null,
            "visibility": null,
            "width": null
          }
        },
        "6c4469559dc8482392d63da7e0b33dba": {
          "model_module": "@jupyter-widgets/controls",
          "model_name": "DescriptionStyleModel",
          "model_module_version": "1.5.0",
          "state": {
            "_model_module": "@jupyter-widgets/controls",
            "_model_module_version": "1.5.0",
            "_model_name": "DescriptionStyleModel",
            "_view_count": null,
            "_view_module": "@jupyter-widgets/base",
            "_view_module_version": "1.2.0",
            "_view_name": "StyleView",
            "description_width": ""
          }
        },
        "48c38cd3a341442d85564fee5e3963a7": {
          "model_module": "@jupyter-widgets/controls",
          "model_name": "HBoxModel",
          "model_module_version": "1.5.0",
          "state": {
            "_dom_classes": [],
            "_model_module": "@jupyter-widgets/controls",
            "_model_module_version": "1.5.0",
            "_model_name": "HBoxModel",
            "_view_count": null,
            "_view_module": "@jupyter-widgets/controls",
            "_view_module_version": "1.5.0",
            "_view_name": "HBoxView",
            "box_style": "",
            "children": [
              "IPY_MODEL_594a97ddf1cb41b5b53442b1e15b262a",
              "IPY_MODEL_f325d74fe1b54c4b8970fffe89ec375e",
              "IPY_MODEL_a872cc90d4d54a868d29a39528b2d8f9"
            ],
            "layout": "IPY_MODEL_5230b31ea7c24168b5fcdffc1be7aac7"
          }
        },
        "594a97ddf1cb41b5b53442b1e15b262a": {
          "model_module": "@jupyter-widgets/controls",
          "model_name": "HTMLModel",
          "model_module_version": "1.5.0",
          "state": {
            "_dom_classes": [],
            "_model_module": "@jupyter-widgets/controls",
            "_model_module_version": "1.5.0",
            "_model_name": "HTMLModel",
            "_view_count": null,
            "_view_module": "@jupyter-widgets/controls",
            "_view_module_version": "1.5.0",
            "_view_name": "HTMLView",
            "description": "",
            "description_tooltip": null,
            "layout": "IPY_MODEL_131bf9825ad44577bee03de7a65fd342",
            "placeholder": "​",
            "style": "IPY_MODEL_86751a2d58da46b6b11b6ebbc2b8b7db",
            "value": "Epochs 1/15. Running Loss:    0.3622: 100%"
          }
        },
        "f325d74fe1b54c4b8970fffe89ec375e": {
          "model_module": "@jupyter-widgets/controls",
          "model_name": "FloatProgressModel",
          "model_module_version": "1.5.0",
          "state": {
            "_dom_classes": [],
            "_model_module": "@jupyter-widgets/controls",
            "_model_module_version": "1.5.0",
            "_model_name": "FloatProgressModel",
            "_view_count": null,
            "_view_module": "@jupyter-widgets/controls",
            "_view_module_version": "1.5.0",
            "_view_name": "ProgressView",
            "bar_style": "success",
            "description": "",
            "description_tooltip": null,
            "layout": "IPY_MODEL_39b01633b1b9496793051a84d97f2c20",
            "max": 52,
            "min": 0,
            "orientation": "horizontal",
            "style": "IPY_MODEL_22801fae32f841abbd0320f7ab194c6a",
            "value": 52
          }
        },
        "a872cc90d4d54a868d29a39528b2d8f9": {
          "model_module": "@jupyter-widgets/controls",
          "model_name": "HTMLModel",
          "model_module_version": "1.5.0",
          "state": {
            "_dom_classes": [],
            "_model_module": "@jupyter-widgets/controls",
            "_model_module_version": "1.5.0",
            "_model_name": "HTMLModel",
            "_view_count": null,
            "_view_module": "@jupyter-widgets/controls",
            "_view_module_version": "1.5.0",
            "_view_name": "HTMLView",
            "description": "",
            "description_tooltip": null,
            "layout": "IPY_MODEL_f757e9c8e2644c46a0ba4dbc0a4f215d",
            "placeholder": "​",
            "style": "IPY_MODEL_577faf20734c4116a914cd7b8ce032af",
            "value": " 52/52 [00:08&lt;00:00,  8.02it/s]"
          }
        },
        "5230b31ea7c24168b5fcdffc1be7aac7": {
          "model_module": "@jupyter-widgets/base",
          "model_name": "LayoutModel",
          "model_module_version": "1.2.0",
          "state": {
            "_model_module": "@jupyter-widgets/base",
            "_model_module_version": "1.2.0",
            "_model_name": "LayoutModel",
            "_view_count": null,
            "_view_module": "@jupyter-widgets/base",
            "_view_module_version": "1.2.0",
            "_view_name": "LayoutView",
            "align_content": null,
            "align_items": null,
            "align_self": null,
            "border": null,
            "bottom": null,
            "display": null,
            "flex": null,
            "flex_flow": null,
            "grid_area": null,
            "grid_auto_columns": null,
            "grid_auto_flow": null,
            "grid_auto_rows": null,
            "grid_column": null,
            "grid_gap": null,
            "grid_row": null,
            "grid_template_areas": null,
            "grid_template_columns": null,
            "grid_template_rows": null,
            "height": null,
            "justify_content": null,
            "justify_items": null,
            "left": null,
            "margin": null,
            "max_height": null,
            "max_width": null,
            "min_height": null,
            "min_width": null,
            "object_fit": null,
            "object_position": null,
            "order": null,
            "overflow": null,
            "overflow_x": null,
            "overflow_y": null,
            "padding": null,
            "right": null,
            "top": null,
            "visibility": null,
            "width": null
          }
        },
        "131bf9825ad44577bee03de7a65fd342": {
          "model_module": "@jupyter-widgets/base",
          "model_name": "LayoutModel",
          "model_module_version": "1.2.0",
          "state": {
            "_model_module": "@jupyter-widgets/base",
            "_model_module_version": "1.2.0",
            "_model_name": "LayoutModel",
            "_view_count": null,
            "_view_module": "@jupyter-widgets/base",
            "_view_module_version": "1.2.0",
            "_view_name": "LayoutView",
            "align_content": null,
            "align_items": null,
            "align_self": null,
            "border": null,
            "bottom": null,
            "display": null,
            "flex": null,
            "flex_flow": null,
            "grid_area": null,
            "grid_auto_columns": null,
            "grid_auto_flow": null,
            "grid_auto_rows": null,
            "grid_column": null,
            "grid_gap": null,
            "grid_row": null,
            "grid_template_areas": null,
            "grid_template_columns": null,
            "grid_template_rows": null,
            "height": null,
            "justify_content": null,
            "justify_items": null,
            "left": null,
            "margin": null,
            "max_height": null,
            "max_width": null,
            "min_height": null,
            "min_width": null,
            "object_fit": null,
            "object_position": null,
            "order": null,
            "overflow": null,
            "overflow_x": null,
            "overflow_y": null,
            "padding": null,
            "right": null,
            "top": null,
            "visibility": null,
            "width": null
          }
        },
        "86751a2d58da46b6b11b6ebbc2b8b7db": {
          "model_module": "@jupyter-widgets/controls",
          "model_name": "DescriptionStyleModel",
          "model_module_version": "1.5.0",
          "state": {
            "_model_module": "@jupyter-widgets/controls",
            "_model_module_version": "1.5.0",
            "_model_name": "DescriptionStyleModel",
            "_view_count": null,
            "_view_module": "@jupyter-widgets/base",
            "_view_module_version": "1.2.0",
            "_view_name": "StyleView",
            "description_width": ""
          }
        },
        "39b01633b1b9496793051a84d97f2c20": {
          "model_module": "@jupyter-widgets/base",
          "model_name": "LayoutModel",
          "model_module_version": "1.2.0",
          "state": {
            "_model_module": "@jupyter-widgets/base",
            "_model_module_version": "1.2.0",
            "_model_name": "LayoutModel",
            "_view_count": null,
            "_view_module": "@jupyter-widgets/base",
            "_view_module_version": "1.2.0",
            "_view_name": "LayoutView",
            "align_content": null,
            "align_items": null,
            "align_self": null,
            "border": null,
            "bottom": null,
            "display": null,
            "flex": null,
            "flex_flow": null,
            "grid_area": null,
            "grid_auto_columns": null,
            "grid_auto_flow": null,
            "grid_auto_rows": null,
            "grid_column": null,
            "grid_gap": null,
            "grid_row": null,
            "grid_template_areas": null,
            "grid_template_columns": null,
            "grid_template_rows": null,
            "height": null,
            "justify_content": null,
            "justify_items": null,
            "left": null,
            "margin": null,
            "max_height": null,
            "max_width": null,
            "min_height": null,
            "min_width": null,
            "object_fit": null,
            "object_position": null,
            "order": null,
            "overflow": null,
            "overflow_x": null,
            "overflow_y": null,
            "padding": null,
            "right": null,
            "top": null,
            "visibility": null,
            "width": null
          }
        },
        "22801fae32f841abbd0320f7ab194c6a": {
          "model_module": "@jupyter-widgets/controls",
          "model_name": "ProgressStyleModel",
          "model_module_version": "1.5.0",
          "state": {
            "_model_module": "@jupyter-widgets/controls",
            "_model_module_version": "1.5.0",
            "_model_name": "ProgressStyleModel",
            "_view_count": null,
            "_view_module": "@jupyter-widgets/base",
            "_view_module_version": "1.2.0",
            "_view_name": "StyleView",
            "bar_color": null,
            "description_width": ""
          }
        },
        "f757e9c8e2644c46a0ba4dbc0a4f215d": {
          "model_module": "@jupyter-widgets/base",
          "model_name": "LayoutModel",
          "model_module_version": "1.2.0",
          "state": {
            "_model_module": "@jupyter-widgets/base",
            "_model_module_version": "1.2.0",
            "_model_name": "LayoutModel",
            "_view_count": null,
            "_view_module": "@jupyter-widgets/base",
            "_view_module_version": "1.2.0",
            "_view_name": "LayoutView",
            "align_content": null,
            "align_items": null,
            "align_self": null,
            "border": null,
            "bottom": null,
            "display": null,
            "flex": null,
            "flex_flow": null,
            "grid_area": null,
            "grid_auto_columns": null,
            "grid_auto_flow": null,
            "grid_auto_rows": null,
            "grid_column": null,
            "grid_gap": null,
            "grid_row": null,
            "grid_template_areas": null,
            "grid_template_columns": null,
            "grid_template_rows": null,
            "height": null,
            "justify_content": null,
            "justify_items": null,
            "left": null,
            "margin": null,
            "max_height": null,
            "max_width": null,
            "min_height": null,
            "min_width": null,
            "object_fit": null,
            "object_position": null,
            "order": null,
            "overflow": null,
            "overflow_x": null,
            "overflow_y": null,
            "padding": null,
            "right": null,
            "top": null,
            "visibility": null,
            "width": null
          }
        },
        "577faf20734c4116a914cd7b8ce032af": {
          "model_module": "@jupyter-widgets/controls",
          "model_name": "DescriptionStyleModel",
          "model_module_version": "1.5.0",
          "state": {
            "_model_module": "@jupyter-widgets/controls",
            "_model_module_version": "1.5.0",
            "_model_name": "DescriptionStyleModel",
            "_view_count": null,
            "_view_module": "@jupyter-widgets/base",
            "_view_module_version": "1.2.0",
            "_view_name": "StyleView",
            "description_width": ""
          }
        },
        "4ba7048ac4144e65bcf5e0c9ee1d302c": {
          "model_module": "@jupyter-widgets/controls",
          "model_name": "HBoxModel",
          "model_module_version": "1.5.0",
          "state": {
            "_dom_classes": [],
            "_model_module": "@jupyter-widgets/controls",
            "_model_module_version": "1.5.0",
            "_model_name": "HBoxModel",
            "_view_count": null,
            "_view_module": "@jupyter-widgets/controls",
            "_view_module_version": "1.5.0",
            "_view_name": "HBoxView",
            "box_style": "",
            "children": [
              "IPY_MODEL_eb6afe17e76a460db8425a21d1c99632",
              "IPY_MODEL_79406a53565d47ec8baca9d0e464b5e9",
              "IPY_MODEL_7c59e47ed0e141f3b88a6aabc5db507f"
            ],
            "layout": "IPY_MODEL_06870aff0a89460ba2f5d6280e183019"
          }
        },
        "eb6afe17e76a460db8425a21d1c99632": {
          "model_module": "@jupyter-widgets/controls",
          "model_name": "HTMLModel",
          "model_module_version": "1.5.0",
          "state": {
            "_dom_classes": [],
            "_model_module": "@jupyter-widgets/controls",
            "_model_module_version": "1.5.0",
            "_model_name": "HTMLModel",
            "_view_count": null,
            "_view_module": "@jupyter-widgets/controls",
            "_view_module_version": "1.5.0",
            "_view_name": "HTMLView",
            "description": "",
            "description_tooltip": null,
            "layout": "IPY_MODEL_eaa8226b9be4480088a18b8923cdbba2",
            "placeholder": "​",
            "style": "IPY_MODEL_87a748eaa95c48efbbf73c5675a36ab2",
            "value": "Epochs 2/15. Running Loss:    0.4819: 100%"
          }
        },
        "79406a53565d47ec8baca9d0e464b5e9": {
          "model_module": "@jupyter-widgets/controls",
          "model_name": "FloatProgressModel",
          "model_module_version": "1.5.0",
          "state": {
            "_dom_classes": [],
            "_model_module": "@jupyter-widgets/controls",
            "_model_module_version": "1.5.0",
            "_model_name": "FloatProgressModel",
            "_view_count": null,
            "_view_module": "@jupyter-widgets/controls",
            "_view_module_version": "1.5.0",
            "_view_name": "ProgressView",
            "bar_style": "success",
            "description": "",
            "description_tooltip": null,
            "layout": "IPY_MODEL_c2ec519405f74472a7a27b19ee00955f",
            "max": 52,
            "min": 0,
            "orientation": "horizontal",
            "style": "IPY_MODEL_1b55d98414c74f7f93fb6df828e011a3",
            "value": 52
          }
        },
        "7c59e47ed0e141f3b88a6aabc5db507f": {
          "model_module": "@jupyter-widgets/controls",
          "model_name": "HTMLModel",
          "model_module_version": "1.5.0",
          "state": {
            "_dom_classes": [],
            "_model_module": "@jupyter-widgets/controls",
            "_model_module_version": "1.5.0",
            "_model_name": "HTMLModel",
            "_view_count": null,
            "_view_module": "@jupyter-widgets/controls",
            "_view_module_version": "1.5.0",
            "_view_name": "HTMLView",
            "description": "",
            "description_tooltip": null,
            "layout": "IPY_MODEL_c0cf0d36a2c5487eb9baa2edee13c13b",
            "placeholder": "​",
            "style": "IPY_MODEL_dd59fc2b11d14116a579d1f46e4d216c",
            "value": " 52/52 [00:06&lt;00:00,  7.90it/s]"
          }
        },
        "06870aff0a89460ba2f5d6280e183019": {
          "model_module": "@jupyter-widgets/base",
          "model_name": "LayoutModel",
          "model_module_version": "1.2.0",
          "state": {
            "_model_module": "@jupyter-widgets/base",
            "_model_module_version": "1.2.0",
            "_model_name": "LayoutModel",
            "_view_count": null,
            "_view_module": "@jupyter-widgets/base",
            "_view_module_version": "1.2.0",
            "_view_name": "LayoutView",
            "align_content": null,
            "align_items": null,
            "align_self": null,
            "border": null,
            "bottom": null,
            "display": null,
            "flex": null,
            "flex_flow": null,
            "grid_area": null,
            "grid_auto_columns": null,
            "grid_auto_flow": null,
            "grid_auto_rows": null,
            "grid_column": null,
            "grid_gap": null,
            "grid_row": null,
            "grid_template_areas": null,
            "grid_template_columns": null,
            "grid_template_rows": null,
            "height": null,
            "justify_content": null,
            "justify_items": null,
            "left": null,
            "margin": null,
            "max_height": null,
            "max_width": null,
            "min_height": null,
            "min_width": null,
            "object_fit": null,
            "object_position": null,
            "order": null,
            "overflow": null,
            "overflow_x": null,
            "overflow_y": null,
            "padding": null,
            "right": null,
            "top": null,
            "visibility": null,
            "width": null
          }
        },
        "eaa8226b9be4480088a18b8923cdbba2": {
          "model_module": "@jupyter-widgets/base",
          "model_name": "LayoutModel",
          "model_module_version": "1.2.0",
          "state": {
            "_model_module": "@jupyter-widgets/base",
            "_model_module_version": "1.2.0",
            "_model_name": "LayoutModel",
            "_view_count": null,
            "_view_module": "@jupyter-widgets/base",
            "_view_module_version": "1.2.0",
            "_view_name": "LayoutView",
            "align_content": null,
            "align_items": null,
            "align_self": null,
            "border": null,
            "bottom": null,
            "display": null,
            "flex": null,
            "flex_flow": null,
            "grid_area": null,
            "grid_auto_columns": null,
            "grid_auto_flow": null,
            "grid_auto_rows": null,
            "grid_column": null,
            "grid_gap": null,
            "grid_row": null,
            "grid_template_areas": null,
            "grid_template_columns": null,
            "grid_template_rows": null,
            "height": null,
            "justify_content": null,
            "justify_items": null,
            "left": null,
            "margin": null,
            "max_height": null,
            "max_width": null,
            "min_height": null,
            "min_width": null,
            "object_fit": null,
            "object_position": null,
            "order": null,
            "overflow": null,
            "overflow_x": null,
            "overflow_y": null,
            "padding": null,
            "right": null,
            "top": null,
            "visibility": null,
            "width": null
          }
        },
        "87a748eaa95c48efbbf73c5675a36ab2": {
          "model_module": "@jupyter-widgets/controls",
          "model_name": "DescriptionStyleModel",
          "model_module_version": "1.5.0",
          "state": {
            "_model_module": "@jupyter-widgets/controls",
            "_model_module_version": "1.5.0",
            "_model_name": "DescriptionStyleModel",
            "_view_count": null,
            "_view_module": "@jupyter-widgets/base",
            "_view_module_version": "1.2.0",
            "_view_name": "StyleView",
            "description_width": ""
          }
        },
        "c2ec519405f74472a7a27b19ee00955f": {
          "model_module": "@jupyter-widgets/base",
          "model_name": "LayoutModel",
          "model_module_version": "1.2.0",
          "state": {
            "_model_module": "@jupyter-widgets/base",
            "_model_module_version": "1.2.0",
            "_model_name": "LayoutModel",
            "_view_count": null,
            "_view_module": "@jupyter-widgets/base",
            "_view_module_version": "1.2.0",
            "_view_name": "LayoutView",
            "align_content": null,
            "align_items": null,
            "align_self": null,
            "border": null,
            "bottom": null,
            "display": null,
            "flex": null,
            "flex_flow": null,
            "grid_area": null,
            "grid_auto_columns": null,
            "grid_auto_flow": null,
            "grid_auto_rows": null,
            "grid_column": null,
            "grid_gap": null,
            "grid_row": null,
            "grid_template_areas": null,
            "grid_template_columns": null,
            "grid_template_rows": null,
            "height": null,
            "justify_content": null,
            "justify_items": null,
            "left": null,
            "margin": null,
            "max_height": null,
            "max_width": null,
            "min_height": null,
            "min_width": null,
            "object_fit": null,
            "object_position": null,
            "order": null,
            "overflow": null,
            "overflow_x": null,
            "overflow_y": null,
            "padding": null,
            "right": null,
            "top": null,
            "visibility": null,
            "width": null
          }
        },
        "1b55d98414c74f7f93fb6df828e011a3": {
          "model_module": "@jupyter-widgets/controls",
          "model_name": "ProgressStyleModel",
          "model_module_version": "1.5.0",
          "state": {
            "_model_module": "@jupyter-widgets/controls",
            "_model_module_version": "1.5.0",
            "_model_name": "ProgressStyleModel",
            "_view_count": null,
            "_view_module": "@jupyter-widgets/base",
            "_view_module_version": "1.2.0",
            "_view_name": "StyleView",
            "bar_color": null,
            "description_width": ""
          }
        },
        "c0cf0d36a2c5487eb9baa2edee13c13b": {
          "model_module": "@jupyter-widgets/base",
          "model_name": "LayoutModel",
          "model_module_version": "1.2.0",
          "state": {
            "_model_module": "@jupyter-widgets/base",
            "_model_module_version": "1.2.0",
            "_model_name": "LayoutModel",
            "_view_count": null,
            "_view_module": "@jupyter-widgets/base",
            "_view_module_version": "1.2.0",
            "_view_name": "LayoutView",
            "align_content": null,
            "align_items": null,
            "align_self": null,
            "border": null,
            "bottom": null,
            "display": null,
            "flex": null,
            "flex_flow": null,
            "grid_area": null,
            "grid_auto_columns": null,
            "grid_auto_flow": null,
            "grid_auto_rows": null,
            "grid_column": null,
            "grid_gap": null,
            "grid_row": null,
            "grid_template_areas": null,
            "grid_template_columns": null,
            "grid_template_rows": null,
            "height": null,
            "justify_content": null,
            "justify_items": null,
            "left": null,
            "margin": null,
            "max_height": null,
            "max_width": null,
            "min_height": null,
            "min_width": null,
            "object_fit": null,
            "object_position": null,
            "order": null,
            "overflow": null,
            "overflow_x": null,
            "overflow_y": null,
            "padding": null,
            "right": null,
            "top": null,
            "visibility": null,
            "width": null
          }
        },
        "dd59fc2b11d14116a579d1f46e4d216c": {
          "model_module": "@jupyter-widgets/controls",
          "model_name": "DescriptionStyleModel",
          "model_module_version": "1.5.0",
          "state": {
            "_model_module": "@jupyter-widgets/controls",
            "_model_module_version": "1.5.0",
            "_model_name": "DescriptionStyleModel",
            "_view_count": null,
            "_view_module": "@jupyter-widgets/base",
            "_view_module_version": "1.2.0",
            "_view_name": "StyleView",
            "description_width": ""
          }
        },
        "5eef6ce3957546b98c6a6ff863265fd9": {
          "model_module": "@jupyter-widgets/controls",
          "model_name": "HBoxModel",
          "model_module_version": "1.5.0",
          "state": {
            "_dom_classes": [],
            "_model_module": "@jupyter-widgets/controls",
            "_model_module_version": "1.5.0",
            "_model_name": "HBoxModel",
            "_view_count": null,
            "_view_module": "@jupyter-widgets/controls",
            "_view_module_version": "1.5.0",
            "_view_name": "HBoxView",
            "box_style": "",
            "children": [
              "IPY_MODEL_bfef4a9306424ae8ae90ead573f82085",
              "IPY_MODEL_479e086ad5d04ccca5dca6847066e0b1",
              "IPY_MODEL_971f386f763e4696a18b9fe45c7551ca"
            ],
            "layout": "IPY_MODEL_7e7661f88076470087dd2698fd38c6c7"
          }
        },
        "bfef4a9306424ae8ae90ead573f82085": {
          "model_module": "@jupyter-widgets/controls",
          "model_name": "HTMLModel",
          "model_module_version": "1.5.0",
          "state": {
            "_dom_classes": [],
            "_model_module": "@jupyter-widgets/controls",
            "_model_module_version": "1.5.0",
            "_model_name": "HTMLModel",
            "_view_count": null,
            "_view_module": "@jupyter-widgets/controls",
            "_view_module_version": "1.5.0",
            "_view_name": "HTMLView",
            "description": "",
            "description_tooltip": null,
            "layout": "IPY_MODEL_d6f415baf9584c3494abdace2bf2d0d8",
            "placeholder": "​",
            "style": "IPY_MODEL_9850e527526844e5bf52b90d5cee72f3",
            "value": "Epochs 3/15. Running Loss:    0.1451: 100%"
          }
        },
        "479e086ad5d04ccca5dca6847066e0b1": {
          "model_module": "@jupyter-widgets/controls",
          "model_name": "FloatProgressModel",
          "model_module_version": "1.5.0",
          "state": {
            "_dom_classes": [],
            "_model_module": "@jupyter-widgets/controls",
            "_model_module_version": "1.5.0",
            "_model_name": "FloatProgressModel",
            "_view_count": null,
            "_view_module": "@jupyter-widgets/controls",
            "_view_module_version": "1.5.0",
            "_view_name": "ProgressView",
            "bar_style": "success",
            "description": "",
            "description_tooltip": null,
            "layout": "IPY_MODEL_a652ccd77f6c4c5180cab92f6d9762d8",
            "max": 52,
            "min": 0,
            "orientation": "horizontal",
            "style": "IPY_MODEL_ebd4f3c55cbf4433911ee3bc392d9559",
            "value": 52
          }
        },
        "971f386f763e4696a18b9fe45c7551ca": {
          "model_module": "@jupyter-widgets/controls",
          "model_name": "HTMLModel",
          "model_module_version": "1.5.0",
          "state": {
            "_dom_classes": [],
            "_model_module": "@jupyter-widgets/controls",
            "_model_module_version": "1.5.0",
            "_model_name": "HTMLModel",
            "_view_count": null,
            "_view_module": "@jupyter-widgets/controls",
            "_view_module_version": "1.5.0",
            "_view_name": "HTMLView",
            "description": "",
            "description_tooltip": null,
            "layout": "IPY_MODEL_af6e503451b1469796587fbf702edb50",
            "placeholder": "​",
            "style": "IPY_MODEL_a82dda6d7af94ccca8638c3c56c6a535",
            "value": " 52/52 [00:06&lt;00:00,  8.16it/s]"
          }
        },
        "7e7661f88076470087dd2698fd38c6c7": {
          "model_module": "@jupyter-widgets/base",
          "model_name": "LayoutModel",
          "model_module_version": "1.2.0",
          "state": {
            "_model_module": "@jupyter-widgets/base",
            "_model_module_version": "1.2.0",
            "_model_name": "LayoutModel",
            "_view_count": null,
            "_view_module": "@jupyter-widgets/base",
            "_view_module_version": "1.2.0",
            "_view_name": "LayoutView",
            "align_content": null,
            "align_items": null,
            "align_self": null,
            "border": null,
            "bottom": null,
            "display": null,
            "flex": null,
            "flex_flow": null,
            "grid_area": null,
            "grid_auto_columns": null,
            "grid_auto_flow": null,
            "grid_auto_rows": null,
            "grid_column": null,
            "grid_gap": null,
            "grid_row": null,
            "grid_template_areas": null,
            "grid_template_columns": null,
            "grid_template_rows": null,
            "height": null,
            "justify_content": null,
            "justify_items": null,
            "left": null,
            "margin": null,
            "max_height": null,
            "max_width": null,
            "min_height": null,
            "min_width": null,
            "object_fit": null,
            "object_position": null,
            "order": null,
            "overflow": null,
            "overflow_x": null,
            "overflow_y": null,
            "padding": null,
            "right": null,
            "top": null,
            "visibility": null,
            "width": null
          }
        },
        "d6f415baf9584c3494abdace2bf2d0d8": {
          "model_module": "@jupyter-widgets/base",
          "model_name": "LayoutModel",
          "model_module_version": "1.2.0",
          "state": {
            "_model_module": "@jupyter-widgets/base",
            "_model_module_version": "1.2.0",
            "_model_name": "LayoutModel",
            "_view_count": null,
            "_view_module": "@jupyter-widgets/base",
            "_view_module_version": "1.2.0",
            "_view_name": "LayoutView",
            "align_content": null,
            "align_items": null,
            "align_self": null,
            "border": null,
            "bottom": null,
            "display": null,
            "flex": null,
            "flex_flow": null,
            "grid_area": null,
            "grid_auto_columns": null,
            "grid_auto_flow": null,
            "grid_auto_rows": null,
            "grid_column": null,
            "grid_gap": null,
            "grid_row": null,
            "grid_template_areas": null,
            "grid_template_columns": null,
            "grid_template_rows": null,
            "height": null,
            "justify_content": null,
            "justify_items": null,
            "left": null,
            "margin": null,
            "max_height": null,
            "max_width": null,
            "min_height": null,
            "min_width": null,
            "object_fit": null,
            "object_position": null,
            "order": null,
            "overflow": null,
            "overflow_x": null,
            "overflow_y": null,
            "padding": null,
            "right": null,
            "top": null,
            "visibility": null,
            "width": null
          }
        },
        "9850e527526844e5bf52b90d5cee72f3": {
          "model_module": "@jupyter-widgets/controls",
          "model_name": "DescriptionStyleModel",
          "model_module_version": "1.5.0",
          "state": {
            "_model_module": "@jupyter-widgets/controls",
            "_model_module_version": "1.5.0",
            "_model_name": "DescriptionStyleModel",
            "_view_count": null,
            "_view_module": "@jupyter-widgets/base",
            "_view_module_version": "1.2.0",
            "_view_name": "StyleView",
            "description_width": ""
          }
        },
        "a652ccd77f6c4c5180cab92f6d9762d8": {
          "model_module": "@jupyter-widgets/base",
          "model_name": "LayoutModel",
          "model_module_version": "1.2.0",
          "state": {
            "_model_module": "@jupyter-widgets/base",
            "_model_module_version": "1.2.0",
            "_model_name": "LayoutModel",
            "_view_count": null,
            "_view_module": "@jupyter-widgets/base",
            "_view_module_version": "1.2.0",
            "_view_name": "LayoutView",
            "align_content": null,
            "align_items": null,
            "align_self": null,
            "border": null,
            "bottom": null,
            "display": null,
            "flex": null,
            "flex_flow": null,
            "grid_area": null,
            "grid_auto_columns": null,
            "grid_auto_flow": null,
            "grid_auto_rows": null,
            "grid_column": null,
            "grid_gap": null,
            "grid_row": null,
            "grid_template_areas": null,
            "grid_template_columns": null,
            "grid_template_rows": null,
            "height": null,
            "justify_content": null,
            "justify_items": null,
            "left": null,
            "margin": null,
            "max_height": null,
            "max_width": null,
            "min_height": null,
            "min_width": null,
            "object_fit": null,
            "object_position": null,
            "order": null,
            "overflow": null,
            "overflow_x": null,
            "overflow_y": null,
            "padding": null,
            "right": null,
            "top": null,
            "visibility": null,
            "width": null
          }
        },
        "ebd4f3c55cbf4433911ee3bc392d9559": {
          "model_module": "@jupyter-widgets/controls",
          "model_name": "ProgressStyleModel",
          "model_module_version": "1.5.0",
          "state": {
            "_model_module": "@jupyter-widgets/controls",
            "_model_module_version": "1.5.0",
            "_model_name": "ProgressStyleModel",
            "_view_count": null,
            "_view_module": "@jupyter-widgets/base",
            "_view_module_version": "1.2.0",
            "_view_name": "StyleView",
            "bar_color": null,
            "description_width": ""
          }
        },
        "af6e503451b1469796587fbf702edb50": {
          "model_module": "@jupyter-widgets/base",
          "model_name": "LayoutModel",
          "model_module_version": "1.2.0",
          "state": {
            "_model_module": "@jupyter-widgets/base",
            "_model_module_version": "1.2.0",
            "_model_name": "LayoutModel",
            "_view_count": null,
            "_view_module": "@jupyter-widgets/base",
            "_view_module_version": "1.2.0",
            "_view_name": "LayoutView",
            "align_content": null,
            "align_items": null,
            "align_self": null,
            "border": null,
            "bottom": null,
            "display": null,
            "flex": null,
            "flex_flow": null,
            "grid_area": null,
            "grid_auto_columns": null,
            "grid_auto_flow": null,
            "grid_auto_rows": null,
            "grid_column": null,
            "grid_gap": null,
            "grid_row": null,
            "grid_template_areas": null,
            "grid_template_columns": null,
            "grid_template_rows": null,
            "height": null,
            "justify_content": null,
            "justify_items": null,
            "left": null,
            "margin": null,
            "max_height": null,
            "max_width": null,
            "min_height": null,
            "min_width": null,
            "object_fit": null,
            "object_position": null,
            "order": null,
            "overflow": null,
            "overflow_x": null,
            "overflow_y": null,
            "padding": null,
            "right": null,
            "top": null,
            "visibility": null,
            "width": null
          }
        },
        "a82dda6d7af94ccca8638c3c56c6a535": {
          "model_module": "@jupyter-widgets/controls",
          "model_name": "DescriptionStyleModel",
          "model_module_version": "1.5.0",
          "state": {
            "_model_module": "@jupyter-widgets/controls",
            "_model_module_version": "1.5.0",
            "_model_name": "DescriptionStyleModel",
            "_view_count": null,
            "_view_module": "@jupyter-widgets/base",
            "_view_module_version": "1.2.0",
            "_view_name": "StyleView",
            "description_width": ""
          }
        },
        "54acad78c9604e17a5ce868b33f3723a": {
          "model_module": "@jupyter-widgets/controls",
          "model_name": "HBoxModel",
          "model_module_version": "1.5.0",
          "state": {
            "_dom_classes": [],
            "_model_module": "@jupyter-widgets/controls",
            "_model_module_version": "1.5.0",
            "_model_name": "HBoxModel",
            "_view_count": null,
            "_view_module": "@jupyter-widgets/controls",
            "_view_module_version": "1.5.0",
            "_view_name": "HBoxView",
            "box_style": "",
            "children": [
              "IPY_MODEL_87c4b9132fac4b6986bdec4d9c19c4f1",
              "IPY_MODEL_979850c45aa44a26be6454f3b4723d70",
              "IPY_MODEL_822ab94b918f469ea993cf0e10cbbead"
            ],
            "layout": "IPY_MODEL_c0d8da727c274fad970fe75ad20f7842"
          }
        },
        "87c4b9132fac4b6986bdec4d9c19c4f1": {
          "model_module": "@jupyter-widgets/controls",
          "model_name": "HTMLModel",
          "model_module_version": "1.5.0",
          "state": {
            "_dom_classes": [],
            "_model_module": "@jupyter-widgets/controls",
            "_model_module_version": "1.5.0",
            "_model_name": "HTMLModel",
            "_view_count": null,
            "_view_module": "@jupyter-widgets/controls",
            "_view_module_version": "1.5.0",
            "_view_name": "HTMLView",
            "description": "",
            "description_tooltip": null,
            "layout": "IPY_MODEL_5dd51f34e7084da88be7c65d80748345",
            "placeholder": "​",
            "style": "IPY_MODEL_7b3c926752f24d9bb243d40c27558647",
            "value": "Epochs 4/15. Running Loss:    0.0753: 100%"
          }
        },
        "979850c45aa44a26be6454f3b4723d70": {
          "model_module": "@jupyter-widgets/controls",
          "model_name": "FloatProgressModel",
          "model_module_version": "1.5.0",
          "state": {
            "_dom_classes": [],
            "_model_module": "@jupyter-widgets/controls",
            "_model_module_version": "1.5.0",
            "_model_name": "FloatProgressModel",
            "_view_count": null,
            "_view_module": "@jupyter-widgets/controls",
            "_view_module_version": "1.5.0",
            "_view_name": "ProgressView",
            "bar_style": "success",
            "description": "",
            "description_tooltip": null,
            "layout": "IPY_MODEL_8bd3556f91ac4e2eb6624ffb05b80122",
            "max": 52,
            "min": 0,
            "orientation": "horizontal",
            "style": "IPY_MODEL_d020d05312eb496a8471ea70b5e17fa2",
            "value": 52
          }
        },
        "822ab94b918f469ea993cf0e10cbbead": {
          "model_module": "@jupyter-widgets/controls",
          "model_name": "HTMLModel",
          "model_module_version": "1.5.0",
          "state": {
            "_dom_classes": [],
            "_model_module": "@jupyter-widgets/controls",
            "_model_module_version": "1.5.0",
            "_model_name": "HTMLModel",
            "_view_count": null,
            "_view_module": "@jupyter-widgets/controls",
            "_view_module_version": "1.5.0",
            "_view_name": "HTMLView",
            "description": "",
            "description_tooltip": null,
            "layout": "IPY_MODEL_ab2449b7db904a35881ca2a4975a2d20",
            "placeholder": "​",
            "style": "IPY_MODEL_305e3890fcea42238bc966f6a882648f",
            "value": " 52/52 [00:06&lt;00:00,  8.10it/s]"
          }
        },
        "c0d8da727c274fad970fe75ad20f7842": {
          "model_module": "@jupyter-widgets/base",
          "model_name": "LayoutModel",
          "model_module_version": "1.2.0",
          "state": {
            "_model_module": "@jupyter-widgets/base",
            "_model_module_version": "1.2.0",
            "_model_name": "LayoutModel",
            "_view_count": null,
            "_view_module": "@jupyter-widgets/base",
            "_view_module_version": "1.2.0",
            "_view_name": "LayoutView",
            "align_content": null,
            "align_items": null,
            "align_self": null,
            "border": null,
            "bottom": null,
            "display": null,
            "flex": null,
            "flex_flow": null,
            "grid_area": null,
            "grid_auto_columns": null,
            "grid_auto_flow": null,
            "grid_auto_rows": null,
            "grid_column": null,
            "grid_gap": null,
            "grid_row": null,
            "grid_template_areas": null,
            "grid_template_columns": null,
            "grid_template_rows": null,
            "height": null,
            "justify_content": null,
            "justify_items": null,
            "left": null,
            "margin": null,
            "max_height": null,
            "max_width": null,
            "min_height": null,
            "min_width": null,
            "object_fit": null,
            "object_position": null,
            "order": null,
            "overflow": null,
            "overflow_x": null,
            "overflow_y": null,
            "padding": null,
            "right": null,
            "top": null,
            "visibility": null,
            "width": null
          }
        },
        "5dd51f34e7084da88be7c65d80748345": {
          "model_module": "@jupyter-widgets/base",
          "model_name": "LayoutModel",
          "model_module_version": "1.2.0",
          "state": {
            "_model_module": "@jupyter-widgets/base",
            "_model_module_version": "1.2.0",
            "_model_name": "LayoutModel",
            "_view_count": null,
            "_view_module": "@jupyter-widgets/base",
            "_view_module_version": "1.2.0",
            "_view_name": "LayoutView",
            "align_content": null,
            "align_items": null,
            "align_self": null,
            "border": null,
            "bottom": null,
            "display": null,
            "flex": null,
            "flex_flow": null,
            "grid_area": null,
            "grid_auto_columns": null,
            "grid_auto_flow": null,
            "grid_auto_rows": null,
            "grid_column": null,
            "grid_gap": null,
            "grid_row": null,
            "grid_template_areas": null,
            "grid_template_columns": null,
            "grid_template_rows": null,
            "height": null,
            "justify_content": null,
            "justify_items": null,
            "left": null,
            "margin": null,
            "max_height": null,
            "max_width": null,
            "min_height": null,
            "min_width": null,
            "object_fit": null,
            "object_position": null,
            "order": null,
            "overflow": null,
            "overflow_x": null,
            "overflow_y": null,
            "padding": null,
            "right": null,
            "top": null,
            "visibility": null,
            "width": null
          }
        },
        "7b3c926752f24d9bb243d40c27558647": {
          "model_module": "@jupyter-widgets/controls",
          "model_name": "DescriptionStyleModel",
          "model_module_version": "1.5.0",
          "state": {
            "_model_module": "@jupyter-widgets/controls",
            "_model_module_version": "1.5.0",
            "_model_name": "DescriptionStyleModel",
            "_view_count": null,
            "_view_module": "@jupyter-widgets/base",
            "_view_module_version": "1.2.0",
            "_view_name": "StyleView",
            "description_width": ""
          }
        },
        "8bd3556f91ac4e2eb6624ffb05b80122": {
          "model_module": "@jupyter-widgets/base",
          "model_name": "LayoutModel",
          "model_module_version": "1.2.0",
          "state": {
            "_model_module": "@jupyter-widgets/base",
            "_model_module_version": "1.2.0",
            "_model_name": "LayoutModel",
            "_view_count": null,
            "_view_module": "@jupyter-widgets/base",
            "_view_module_version": "1.2.0",
            "_view_name": "LayoutView",
            "align_content": null,
            "align_items": null,
            "align_self": null,
            "border": null,
            "bottom": null,
            "display": null,
            "flex": null,
            "flex_flow": null,
            "grid_area": null,
            "grid_auto_columns": null,
            "grid_auto_flow": null,
            "grid_auto_rows": null,
            "grid_column": null,
            "grid_gap": null,
            "grid_row": null,
            "grid_template_areas": null,
            "grid_template_columns": null,
            "grid_template_rows": null,
            "height": null,
            "justify_content": null,
            "justify_items": null,
            "left": null,
            "margin": null,
            "max_height": null,
            "max_width": null,
            "min_height": null,
            "min_width": null,
            "object_fit": null,
            "object_position": null,
            "order": null,
            "overflow": null,
            "overflow_x": null,
            "overflow_y": null,
            "padding": null,
            "right": null,
            "top": null,
            "visibility": null,
            "width": null
          }
        },
        "d020d05312eb496a8471ea70b5e17fa2": {
          "model_module": "@jupyter-widgets/controls",
          "model_name": "ProgressStyleModel",
          "model_module_version": "1.5.0",
          "state": {
            "_model_module": "@jupyter-widgets/controls",
            "_model_module_version": "1.5.0",
            "_model_name": "ProgressStyleModel",
            "_view_count": null,
            "_view_module": "@jupyter-widgets/base",
            "_view_module_version": "1.2.0",
            "_view_name": "StyleView",
            "bar_color": null,
            "description_width": ""
          }
        },
        "ab2449b7db904a35881ca2a4975a2d20": {
          "model_module": "@jupyter-widgets/base",
          "model_name": "LayoutModel",
          "model_module_version": "1.2.0",
          "state": {
            "_model_module": "@jupyter-widgets/base",
            "_model_module_version": "1.2.0",
            "_model_name": "LayoutModel",
            "_view_count": null,
            "_view_module": "@jupyter-widgets/base",
            "_view_module_version": "1.2.0",
            "_view_name": "LayoutView",
            "align_content": null,
            "align_items": null,
            "align_self": null,
            "border": null,
            "bottom": null,
            "display": null,
            "flex": null,
            "flex_flow": null,
            "grid_area": null,
            "grid_auto_columns": null,
            "grid_auto_flow": null,
            "grid_auto_rows": null,
            "grid_column": null,
            "grid_gap": null,
            "grid_row": null,
            "grid_template_areas": null,
            "grid_template_columns": null,
            "grid_template_rows": null,
            "height": null,
            "justify_content": null,
            "justify_items": null,
            "left": null,
            "margin": null,
            "max_height": null,
            "max_width": null,
            "min_height": null,
            "min_width": null,
            "object_fit": null,
            "object_position": null,
            "order": null,
            "overflow": null,
            "overflow_x": null,
            "overflow_y": null,
            "padding": null,
            "right": null,
            "top": null,
            "visibility": null,
            "width": null
          }
        },
        "305e3890fcea42238bc966f6a882648f": {
          "model_module": "@jupyter-widgets/controls",
          "model_name": "DescriptionStyleModel",
          "model_module_version": "1.5.0",
          "state": {
            "_model_module": "@jupyter-widgets/controls",
            "_model_module_version": "1.5.0",
            "_model_name": "DescriptionStyleModel",
            "_view_count": null,
            "_view_module": "@jupyter-widgets/base",
            "_view_module_version": "1.2.0",
            "_view_name": "StyleView",
            "description_width": ""
          }
        },
        "eebc25016e444891b64dd8f10fa78432": {
          "model_module": "@jupyter-widgets/controls",
          "model_name": "HBoxModel",
          "model_module_version": "1.5.0",
          "state": {
            "_dom_classes": [],
            "_model_module": "@jupyter-widgets/controls",
            "_model_module_version": "1.5.0",
            "_model_name": "HBoxModel",
            "_view_count": null,
            "_view_module": "@jupyter-widgets/controls",
            "_view_module_version": "1.5.0",
            "_view_name": "HBoxView",
            "box_style": "",
            "children": [
              "IPY_MODEL_52f3d757ab32487aa818d3176c75590a",
              "IPY_MODEL_f8983d3a85ba424b9c63d6b622f7b530",
              "IPY_MODEL_e846df3b38a54753bb56939fe431b908"
            ],
            "layout": "IPY_MODEL_67fe810608fe4191a7a22bd032277817"
          }
        },
        "52f3d757ab32487aa818d3176c75590a": {
          "model_module": "@jupyter-widgets/controls",
          "model_name": "HTMLModel",
          "model_module_version": "1.5.0",
          "state": {
            "_dom_classes": [],
            "_model_module": "@jupyter-widgets/controls",
            "_model_module_version": "1.5.0",
            "_model_name": "HTMLModel",
            "_view_count": null,
            "_view_module": "@jupyter-widgets/controls",
            "_view_module_version": "1.5.0",
            "_view_name": "HTMLView",
            "description": "",
            "description_tooltip": null,
            "layout": "IPY_MODEL_f5fcbf877070420c8052cdd70a4a8287",
            "placeholder": "​",
            "style": "IPY_MODEL_64e2a9628e2b486ab73890261a326223",
            "value": "Epochs 5/15. Running Loss:    0.0632: 100%"
          }
        },
        "f8983d3a85ba424b9c63d6b622f7b530": {
          "model_module": "@jupyter-widgets/controls",
          "model_name": "FloatProgressModel",
          "model_module_version": "1.5.0",
          "state": {
            "_dom_classes": [],
            "_model_module": "@jupyter-widgets/controls",
            "_model_module_version": "1.5.0",
            "_model_name": "FloatProgressModel",
            "_view_count": null,
            "_view_module": "@jupyter-widgets/controls",
            "_view_module_version": "1.5.0",
            "_view_name": "ProgressView",
            "bar_style": "success",
            "description": "",
            "description_tooltip": null,
            "layout": "IPY_MODEL_41e283db4a7046cba4ce0335b248a9bf",
            "max": 52,
            "min": 0,
            "orientation": "horizontal",
            "style": "IPY_MODEL_0a0f645e18e1481ea5b3d0b0d4eeb28f",
            "value": 52
          }
        },
        "e846df3b38a54753bb56939fe431b908": {
          "model_module": "@jupyter-widgets/controls",
          "model_name": "HTMLModel",
          "model_module_version": "1.5.0",
          "state": {
            "_dom_classes": [],
            "_model_module": "@jupyter-widgets/controls",
            "_model_module_version": "1.5.0",
            "_model_name": "HTMLModel",
            "_view_count": null,
            "_view_module": "@jupyter-widgets/controls",
            "_view_module_version": "1.5.0",
            "_view_name": "HTMLView",
            "description": "",
            "description_tooltip": null,
            "layout": "IPY_MODEL_34c358abca63435196b117610d634dc0",
            "placeholder": "​",
            "style": "IPY_MODEL_d30f211c7a6b45ed8881202d0c8988c0",
            "value": " 52/52 [00:07&lt;00:00,  7.82it/s]"
          }
        },
        "67fe810608fe4191a7a22bd032277817": {
          "model_module": "@jupyter-widgets/base",
          "model_name": "LayoutModel",
          "model_module_version": "1.2.0",
          "state": {
            "_model_module": "@jupyter-widgets/base",
            "_model_module_version": "1.2.0",
            "_model_name": "LayoutModel",
            "_view_count": null,
            "_view_module": "@jupyter-widgets/base",
            "_view_module_version": "1.2.0",
            "_view_name": "LayoutView",
            "align_content": null,
            "align_items": null,
            "align_self": null,
            "border": null,
            "bottom": null,
            "display": null,
            "flex": null,
            "flex_flow": null,
            "grid_area": null,
            "grid_auto_columns": null,
            "grid_auto_flow": null,
            "grid_auto_rows": null,
            "grid_column": null,
            "grid_gap": null,
            "grid_row": null,
            "grid_template_areas": null,
            "grid_template_columns": null,
            "grid_template_rows": null,
            "height": null,
            "justify_content": null,
            "justify_items": null,
            "left": null,
            "margin": null,
            "max_height": null,
            "max_width": null,
            "min_height": null,
            "min_width": null,
            "object_fit": null,
            "object_position": null,
            "order": null,
            "overflow": null,
            "overflow_x": null,
            "overflow_y": null,
            "padding": null,
            "right": null,
            "top": null,
            "visibility": null,
            "width": null
          }
        },
        "f5fcbf877070420c8052cdd70a4a8287": {
          "model_module": "@jupyter-widgets/base",
          "model_name": "LayoutModel",
          "model_module_version": "1.2.0",
          "state": {
            "_model_module": "@jupyter-widgets/base",
            "_model_module_version": "1.2.0",
            "_model_name": "LayoutModel",
            "_view_count": null,
            "_view_module": "@jupyter-widgets/base",
            "_view_module_version": "1.2.0",
            "_view_name": "LayoutView",
            "align_content": null,
            "align_items": null,
            "align_self": null,
            "border": null,
            "bottom": null,
            "display": null,
            "flex": null,
            "flex_flow": null,
            "grid_area": null,
            "grid_auto_columns": null,
            "grid_auto_flow": null,
            "grid_auto_rows": null,
            "grid_column": null,
            "grid_gap": null,
            "grid_row": null,
            "grid_template_areas": null,
            "grid_template_columns": null,
            "grid_template_rows": null,
            "height": null,
            "justify_content": null,
            "justify_items": null,
            "left": null,
            "margin": null,
            "max_height": null,
            "max_width": null,
            "min_height": null,
            "min_width": null,
            "object_fit": null,
            "object_position": null,
            "order": null,
            "overflow": null,
            "overflow_x": null,
            "overflow_y": null,
            "padding": null,
            "right": null,
            "top": null,
            "visibility": null,
            "width": null
          }
        },
        "64e2a9628e2b486ab73890261a326223": {
          "model_module": "@jupyter-widgets/controls",
          "model_name": "DescriptionStyleModel",
          "model_module_version": "1.5.0",
          "state": {
            "_model_module": "@jupyter-widgets/controls",
            "_model_module_version": "1.5.0",
            "_model_name": "DescriptionStyleModel",
            "_view_count": null,
            "_view_module": "@jupyter-widgets/base",
            "_view_module_version": "1.2.0",
            "_view_name": "StyleView",
            "description_width": ""
          }
        },
        "41e283db4a7046cba4ce0335b248a9bf": {
          "model_module": "@jupyter-widgets/base",
          "model_name": "LayoutModel",
          "model_module_version": "1.2.0",
          "state": {
            "_model_module": "@jupyter-widgets/base",
            "_model_module_version": "1.2.0",
            "_model_name": "LayoutModel",
            "_view_count": null,
            "_view_module": "@jupyter-widgets/base",
            "_view_module_version": "1.2.0",
            "_view_name": "LayoutView",
            "align_content": null,
            "align_items": null,
            "align_self": null,
            "border": null,
            "bottom": null,
            "display": null,
            "flex": null,
            "flex_flow": null,
            "grid_area": null,
            "grid_auto_columns": null,
            "grid_auto_flow": null,
            "grid_auto_rows": null,
            "grid_column": null,
            "grid_gap": null,
            "grid_row": null,
            "grid_template_areas": null,
            "grid_template_columns": null,
            "grid_template_rows": null,
            "height": null,
            "justify_content": null,
            "justify_items": null,
            "left": null,
            "margin": null,
            "max_height": null,
            "max_width": null,
            "min_height": null,
            "min_width": null,
            "object_fit": null,
            "object_position": null,
            "order": null,
            "overflow": null,
            "overflow_x": null,
            "overflow_y": null,
            "padding": null,
            "right": null,
            "top": null,
            "visibility": null,
            "width": null
          }
        },
        "0a0f645e18e1481ea5b3d0b0d4eeb28f": {
          "model_module": "@jupyter-widgets/controls",
          "model_name": "ProgressStyleModel",
          "model_module_version": "1.5.0",
          "state": {
            "_model_module": "@jupyter-widgets/controls",
            "_model_module_version": "1.5.0",
            "_model_name": "ProgressStyleModel",
            "_view_count": null,
            "_view_module": "@jupyter-widgets/base",
            "_view_module_version": "1.2.0",
            "_view_name": "StyleView",
            "bar_color": null,
            "description_width": ""
          }
        },
        "34c358abca63435196b117610d634dc0": {
          "model_module": "@jupyter-widgets/base",
          "model_name": "LayoutModel",
          "model_module_version": "1.2.0",
          "state": {
            "_model_module": "@jupyter-widgets/base",
            "_model_module_version": "1.2.0",
            "_model_name": "LayoutModel",
            "_view_count": null,
            "_view_module": "@jupyter-widgets/base",
            "_view_module_version": "1.2.0",
            "_view_name": "LayoutView",
            "align_content": null,
            "align_items": null,
            "align_self": null,
            "border": null,
            "bottom": null,
            "display": null,
            "flex": null,
            "flex_flow": null,
            "grid_area": null,
            "grid_auto_columns": null,
            "grid_auto_flow": null,
            "grid_auto_rows": null,
            "grid_column": null,
            "grid_gap": null,
            "grid_row": null,
            "grid_template_areas": null,
            "grid_template_columns": null,
            "grid_template_rows": null,
            "height": null,
            "justify_content": null,
            "justify_items": null,
            "left": null,
            "margin": null,
            "max_height": null,
            "max_width": null,
            "min_height": null,
            "min_width": null,
            "object_fit": null,
            "object_position": null,
            "order": null,
            "overflow": null,
            "overflow_x": null,
            "overflow_y": null,
            "padding": null,
            "right": null,
            "top": null,
            "visibility": null,
            "width": null
          }
        },
        "d30f211c7a6b45ed8881202d0c8988c0": {
          "model_module": "@jupyter-widgets/controls",
          "model_name": "DescriptionStyleModel",
          "model_module_version": "1.5.0",
          "state": {
            "_model_module": "@jupyter-widgets/controls",
            "_model_module_version": "1.5.0",
            "_model_name": "DescriptionStyleModel",
            "_view_count": null,
            "_view_module": "@jupyter-widgets/base",
            "_view_module_version": "1.2.0",
            "_view_name": "StyleView",
            "description_width": ""
          }
        },
        "ecc6ecfb835347d780449a3d8f9e091d": {
          "model_module": "@jupyter-widgets/controls",
          "model_name": "HBoxModel",
          "model_module_version": "1.5.0",
          "state": {
            "_dom_classes": [],
            "_model_module": "@jupyter-widgets/controls",
            "_model_module_version": "1.5.0",
            "_model_name": "HBoxModel",
            "_view_count": null,
            "_view_module": "@jupyter-widgets/controls",
            "_view_module_version": "1.5.0",
            "_view_name": "HBoxView",
            "box_style": "",
            "children": [
              "IPY_MODEL_24d19db38a8c4964ae32155b4afcbe8d",
              "IPY_MODEL_da0250f8196a42a1aac0a93f01864247",
              "IPY_MODEL_7379b83c3454405e8535bb7746d347c1"
            ],
            "layout": "IPY_MODEL_d3a11e2ff1b54a878ccca65fd82e7db1"
          }
        },
        "24d19db38a8c4964ae32155b4afcbe8d": {
          "model_module": "@jupyter-widgets/controls",
          "model_name": "HTMLModel",
          "model_module_version": "1.5.0",
          "state": {
            "_dom_classes": [],
            "_model_module": "@jupyter-widgets/controls",
            "_model_module_version": "1.5.0",
            "_model_name": "HTMLModel",
            "_view_count": null,
            "_view_module": "@jupyter-widgets/controls",
            "_view_module_version": "1.5.0",
            "_view_name": "HTMLView",
            "description": "",
            "description_tooltip": null,
            "layout": "IPY_MODEL_524d8e3e8f9a4914bdcc437f47d0dc1d",
            "placeholder": "​",
            "style": "IPY_MODEL_b57dde5a68d345c1a351209276947ec2",
            "value": "Epochs 6/15. Running Loss:    0.0064: 100%"
          }
        },
        "da0250f8196a42a1aac0a93f01864247": {
          "model_module": "@jupyter-widgets/controls",
          "model_name": "FloatProgressModel",
          "model_module_version": "1.5.0",
          "state": {
            "_dom_classes": [],
            "_model_module": "@jupyter-widgets/controls",
            "_model_module_version": "1.5.0",
            "_model_name": "FloatProgressModel",
            "_view_count": null,
            "_view_module": "@jupyter-widgets/controls",
            "_view_module_version": "1.5.0",
            "_view_name": "ProgressView",
            "bar_style": "success",
            "description": "",
            "description_tooltip": null,
            "layout": "IPY_MODEL_18aa7e3cfcf84d58933dc91f28a346db",
            "max": 52,
            "min": 0,
            "orientation": "horizontal",
            "style": "IPY_MODEL_ac9d3ad413cb445aac4ddf62353c23cd",
            "value": 52
          }
        },
        "7379b83c3454405e8535bb7746d347c1": {
          "model_module": "@jupyter-widgets/controls",
          "model_name": "HTMLModel",
          "model_module_version": "1.5.0",
          "state": {
            "_dom_classes": [],
            "_model_module": "@jupyter-widgets/controls",
            "_model_module_version": "1.5.0",
            "_model_name": "HTMLModel",
            "_view_count": null,
            "_view_module": "@jupyter-widgets/controls",
            "_view_module_version": "1.5.0",
            "_view_name": "HTMLView",
            "description": "",
            "description_tooltip": null,
            "layout": "IPY_MODEL_c1424d6bf4cd4dfc8b58f83132db439b",
            "placeholder": "​",
            "style": "IPY_MODEL_4a9b3bd2cbf740baa05526a1e2ab582a",
            "value": " 52/52 [00:06&lt;00:00,  8.14it/s]"
          }
        },
        "d3a11e2ff1b54a878ccca65fd82e7db1": {
          "model_module": "@jupyter-widgets/base",
          "model_name": "LayoutModel",
          "model_module_version": "1.2.0",
          "state": {
            "_model_module": "@jupyter-widgets/base",
            "_model_module_version": "1.2.0",
            "_model_name": "LayoutModel",
            "_view_count": null,
            "_view_module": "@jupyter-widgets/base",
            "_view_module_version": "1.2.0",
            "_view_name": "LayoutView",
            "align_content": null,
            "align_items": null,
            "align_self": null,
            "border": null,
            "bottom": null,
            "display": null,
            "flex": null,
            "flex_flow": null,
            "grid_area": null,
            "grid_auto_columns": null,
            "grid_auto_flow": null,
            "grid_auto_rows": null,
            "grid_column": null,
            "grid_gap": null,
            "grid_row": null,
            "grid_template_areas": null,
            "grid_template_columns": null,
            "grid_template_rows": null,
            "height": null,
            "justify_content": null,
            "justify_items": null,
            "left": null,
            "margin": null,
            "max_height": null,
            "max_width": null,
            "min_height": null,
            "min_width": null,
            "object_fit": null,
            "object_position": null,
            "order": null,
            "overflow": null,
            "overflow_x": null,
            "overflow_y": null,
            "padding": null,
            "right": null,
            "top": null,
            "visibility": null,
            "width": null
          }
        },
        "524d8e3e8f9a4914bdcc437f47d0dc1d": {
          "model_module": "@jupyter-widgets/base",
          "model_name": "LayoutModel",
          "model_module_version": "1.2.0",
          "state": {
            "_model_module": "@jupyter-widgets/base",
            "_model_module_version": "1.2.0",
            "_model_name": "LayoutModel",
            "_view_count": null,
            "_view_module": "@jupyter-widgets/base",
            "_view_module_version": "1.2.0",
            "_view_name": "LayoutView",
            "align_content": null,
            "align_items": null,
            "align_self": null,
            "border": null,
            "bottom": null,
            "display": null,
            "flex": null,
            "flex_flow": null,
            "grid_area": null,
            "grid_auto_columns": null,
            "grid_auto_flow": null,
            "grid_auto_rows": null,
            "grid_column": null,
            "grid_gap": null,
            "grid_row": null,
            "grid_template_areas": null,
            "grid_template_columns": null,
            "grid_template_rows": null,
            "height": null,
            "justify_content": null,
            "justify_items": null,
            "left": null,
            "margin": null,
            "max_height": null,
            "max_width": null,
            "min_height": null,
            "min_width": null,
            "object_fit": null,
            "object_position": null,
            "order": null,
            "overflow": null,
            "overflow_x": null,
            "overflow_y": null,
            "padding": null,
            "right": null,
            "top": null,
            "visibility": null,
            "width": null
          }
        },
        "b57dde5a68d345c1a351209276947ec2": {
          "model_module": "@jupyter-widgets/controls",
          "model_name": "DescriptionStyleModel",
          "model_module_version": "1.5.0",
          "state": {
            "_model_module": "@jupyter-widgets/controls",
            "_model_module_version": "1.5.0",
            "_model_name": "DescriptionStyleModel",
            "_view_count": null,
            "_view_module": "@jupyter-widgets/base",
            "_view_module_version": "1.2.0",
            "_view_name": "StyleView",
            "description_width": ""
          }
        },
        "18aa7e3cfcf84d58933dc91f28a346db": {
          "model_module": "@jupyter-widgets/base",
          "model_name": "LayoutModel",
          "model_module_version": "1.2.0",
          "state": {
            "_model_module": "@jupyter-widgets/base",
            "_model_module_version": "1.2.0",
            "_model_name": "LayoutModel",
            "_view_count": null,
            "_view_module": "@jupyter-widgets/base",
            "_view_module_version": "1.2.0",
            "_view_name": "LayoutView",
            "align_content": null,
            "align_items": null,
            "align_self": null,
            "border": null,
            "bottom": null,
            "display": null,
            "flex": null,
            "flex_flow": null,
            "grid_area": null,
            "grid_auto_columns": null,
            "grid_auto_flow": null,
            "grid_auto_rows": null,
            "grid_column": null,
            "grid_gap": null,
            "grid_row": null,
            "grid_template_areas": null,
            "grid_template_columns": null,
            "grid_template_rows": null,
            "height": null,
            "justify_content": null,
            "justify_items": null,
            "left": null,
            "margin": null,
            "max_height": null,
            "max_width": null,
            "min_height": null,
            "min_width": null,
            "object_fit": null,
            "object_position": null,
            "order": null,
            "overflow": null,
            "overflow_x": null,
            "overflow_y": null,
            "padding": null,
            "right": null,
            "top": null,
            "visibility": null,
            "width": null
          }
        },
        "ac9d3ad413cb445aac4ddf62353c23cd": {
          "model_module": "@jupyter-widgets/controls",
          "model_name": "ProgressStyleModel",
          "model_module_version": "1.5.0",
          "state": {
            "_model_module": "@jupyter-widgets/controls",
            "_model_module_version": "1.5.0",
            "_model_name": "ProgressStyleModel",
            "_view_count": null,
            "_view_module": "@jupyter-widgets/base",
            "_view_module_version": "1.2.0",
            "_view_name": "StyleView",
            "bar_color": null,
            "description_width": ""
          }
        },
        "c1424d6bf4cd4dfc8b58f83132db439b": {
          "model_module": "@jupyter-widgets/base",
          "model_name": "LayoutModel",
          "model_module_version": "1.2.0",
          "state": {
            "_model_module": "@jupyter-widgets/base",
            "_model_module_version": "1.2.0",
            "_model_name": "LayoutModel",
            "_view_count": null,
            "_view_module": "@jupyter-widgets/base",
            "_view_module_version": "1.2.0",
            "_view_name": "LayoutView",
            "align_content": null,
            "align_items": null,
            "align_self": null,
            "border": null,
            "bottom": null,
            "display": null,
            "flex": null,
            "flex_flow": null,
            "grid_area": null,
            "grid_auto_columns": null,
            "grid_auto_flow": null,
            "grid_auto_rows": null,
            "grid_column": null,
            "grid_gap": null,
            "grid_row": null,
            "grid_template_areas": null,
            "grid_template_columns": null,
            "grid_template_rows": null,
            "height": null,
            "justify_content": null,
            "justify_items": null,
            "left": null,
            "margin": null,
            "max_height": null,
            "max_width": null,
            "min_height": null,
            "min_width": null,
            "object_fit": null,
            "object_position": null,
            "order": null,
            "overflow": null,
            "overflow_x": null,
            "overflow_y": null,
            "padding": null,
            "right": null,
            "top": null,
            "visibility": null,
            "width": null
          }
        },
        "4a9b3bd2cbf740baa05526a1e2ab582a": {
          "model_module": "@jupyter-widgets/controls",
          "model_name": "DescriptionStyleModel",
          "model_module_version": "1.5.0",
          "state": {
            "_model_module": "@jupyter-widgets/controls",
            "_model_module_version": "1.5.0",
            "_model_name": "DescriptionStyleModel",
            "_view_count": null,
            "_view_module": "@jupyter-widgets/base",
            "_view_module_version": "1.2.0",
            "_view_name": "StyleView",
            "description_width": ""
          }
        },
        "2565b919f7f443db8c78aefd4394c379": {
          "model_module": "@jupyter-widgets/controls",
          "model_name": "HBoxModel",
          "model_module_version": "1.5.0",
          "state": {
            "_dom_classes": [],
            "_model_module": "@jupyter-widgets/controls",
            "_model_module_version": "1.5.0",
            "_model_name": "HBoxModel",
            "_view_count": null,
            "_view_module": "@jupyter-widgets/controls",
            "_view_module_version": "1.5.0",
            "_view_name": "HBoxView",
            "box_style": "",
            "children": [
              "IPY_MODEL_cd126ec702e74a55b6d3f965e98ffb69",
              "IPY_MODEL_4d1fcc4f423144e28e4ccbe3efbfa09b",
              "IPY_MODEL_6b9d1f3417e44d38a777a1edd2eb2c5e"
            ],
            "layout": "IPY_MODEL_88b6930432274ffabf5c16d345702223"
          }
        },
        "cd126ec702e74a55b6d3f965e98ffb69": {
          "model_module": "@jupyter-widgets/controls",
          "model_name": "HTMLModel",
          "model_module_version": "1.5.0",
          "state": {
            "_dom_classes": [],
            "_model_module": "@jupyter-widgets/controls",
            "_model_module_version": "1.5.0",
            "_model_name": "HTMLModel",
            "_view_count": null,
            "_view_module": "@jupyter-widgets/controls",
            "_view_module_version": "1.5.0",
            "_view_name": "HTMLView",
            "description": "",
            "description_tooltip": null,
            "layout": "IPY_MODEL_9703b31b9a814737a5355de49f059417",
            "placeholder": "​",
            "style": "IPY_MODEL_bcfe56cef4bf4d0fb4b87ccfcbb06658",
            "value": "Epochs 7/15. Running Loss:    0.0050: 100%"
          }
        },
        "4d1fcc4f423144e28e4ccbe3efbfa09b": {
          "model_module": "@jupyter-widgets/controls",
          "model_name": "FloatProgressModel",
          "model_module_version": "1.5.0",
          "state": {
            "_dom_classes": [],
            "_model_module": "@jupyter-widgets/controls",
            "_model_module_version": "1.5.0",
            "_model_name": "FloatProgressModel",
            "_view_count": null,
            "_view_module": "@jupyter-widgets/controls",
            "_view_module_version": "1.5.0",
            "_view_name": "ProgressView",
            "bar_style": "success",
            "description": "",
            "description_tooltip": null,
            "layout": "IPY_MODEL_b1b9b6cc48cb48df9ebb8b94723fa083",
            "max": 52,
            "min": 0,
            "orientation": "horizontal",
            "style": "IPY_MODEL_b58679a56c32471788ccf516b48240d3",
            "value": 52
          }
        },
        "6b9d1f3417e44d38a777a1edd2eb2c5e": {
          "model_module": "@jupyter-widgets/controls",
          "model_name": "HTMLModel",
          "model_module_version": "1.5.0",
          "state": {
            "_dom_classes": [],
            "_model_module": "@jupyter-widgets/controls",
            "_model_module_version": "1.5.0",
            "_model_name": "HTMLModel",
            "_view_count": null,
            "_view_module": "@jupyter-widgets/controls",
            "_view_module_version": "1.5.0",
            "_view_name": "HTMLView",
            "description": "",
            "description_tooltip": null,
            "layout": "IPY_MODEL_e32a3b4eddbe498cbcb5e37879a8b329",
            "placeholder": "​",
            "style": "IPY_MODEL_5cfeb60aeb1c43d9aa7215d080c3db12",
            "value": " 52/52 [00:07&lt;00:00,  8.09it/s]"
          }
        },
        "88b6930432274ffabf5c16d345702223": {
          "model_module": "@jupyter-widgets/base",
          "model_name": "LayoutModel",
          "model_module_version": "1.2.0",
          "state": {
            "_model_module": "@jupyter-widgets/base",
            "_model_module_version": "1.2.0",
            "_model_name": "LayoutModel",
            "_view_count": null,
            "_view_module": "@jupyter-widgets/base",
            "_view_module_version": "1.2.0",
            "_view_name": "LayoutView",
            "align_content": null,
            "align_items": null,
            "align_self": null,
            "border": null,
            "bottom": null,
            "display": null,
            "flex": null,
            "flex_flow": null,
            "grid_area": null,
            "grid_auto_columns": null,
            "grid_auto_flow": null,
            "grid_auto_rows": null,
            "grid_column": null,
            "grid_gap": null,
            "grid_row": null,
            "grid_template_areas": null,
            "grid_template_columns": null,
            "grid_template_rows": null,
            "height": null,
            "justify_content": null,
            "justify_items": null,
            "left": null,
            "margin": null,
            "max_height": null,
            "max_width": null,
            "min_height": null,
            "min_width": null,
            "object_fit": null,
            "object_position": null,
            "order": null,
            "overflow": null,
            "overflow_x": null,
            "overflow_y": null,
            "padding": null,
            "right": null,
            "top": null,
            "visibility": null,
            "width": null
          }
        },
        "9703b31b9a814737a5355de49f059417": {
          "model_module": "@jupyter-widgets/base",
          "model_name": "LayoutModel",
          "model_module_version": "1.2.0",
          "state": {
            "_model_module": "@jupyter-widgets/base",
            "_model_module_version": "1.2.0",
            "_model_name": "LayoutModel",
            "_view_count": null,
            "_view_module": "@jupyter-widgets/base",
            "_view_module_version": "1.2.0",
            "_view_name": "LayoutView",
            "align_content": null,
            "align_items": null,
            "align_self": null,
            "border": null,
            "bottom": null,
            "display": null,
            "flex": null,
            "flex_flow": null,
            "grid_area": null,
            "grid_auto_columns": null,
            "grid_auto_flow": null,
            "grid_auto_rows": null,
            "grid_column": null,
            "grid_gap": null,
            "grid_row": null,
            "grid_template_areas": null,
            "grid_template_columns": null,
            "grid_template_rows": null,
            "height": null,
            "justify_content": null,
            "justify_items": null,
            "left": null,
            "margin": null,
            "max_height": null,
            "max_width": null,
            "min_height": null,
            "min_width": null,
            "object_fit": null,
            "object_position": null,
            "order": null,
            "overflow": null,
            "overflow_x": null,
            "overflow_y": null,
            "padding": null,
            "right": null,
            "top": null,
            "visibility": null,
            "width": null
          }
        },
        "bcfe56cef4bf4d0fb4b87ccfcbb06658": {
          "model_module": "@jupyter-widgets/controls",
          "model_name": "DescriptionStyleModel",
          "model_module_version": "1.5.0",
          "state": {
            "_model_module": "@jupyter-widgets/controls",
            "_model_module_version": "1.5.0",
            "_model_name": "DescriptionStyleModel",
            "_view_count": null,
            "_view_module": "@jupyter-widgets/base",
            "_view_module_version": "1.2.0",
            "_view_name": "StyleView",
            "description_width": ""
          }
        },
        "b1b9b6cc48cb48df9ebb8b94723fa083": {
          "model_module": "@jupyter-widgets/base",
          "model_name": "LayoutModel",
          "model_module_version": "1.2.0",
          "state": {
            "_model_module": "@jupyter-widgets/base",
            "_model_module_version": "1.2.0",
            "_model_name": "LayoutModel",
            "_view_count": null,
            "_view_module": "@jupyter-widgets/base",
            "_view_module_version": "1.2.0",
            "_view_name": "LayoutView",
            "align_content": null,
            "align_items": null,
            "align_self": null,
            "border": null,
            "bottom": null,
            "display": null,
            "flex": null,
            "flex_flow": null,
            "grid_area": null,
            "grid_auto_columns": null,
            "grid_auto_flow": null,
            "grid_auto_rows": null,
            "grid_column": null,
            "grid_gap": null,
            "grid_row": null,
            "grid_template_areas": null,
            "grid_template_columns": null,
            "grid_template_rows": null,
            "height": null,
            "justify_content": null,
            "justify_items": null,
            "left": null,
            "margin": null,
            "max_height": null,
            "max_width": null,
            "min_height": null,
            "min_width": null,
            "object_fit": null,
            "object_position": null,
            "order": null,
            "overflow": null,
            "overflow_x": null,
            "overflow_y": null,
            "padding": null,
            "right": null,
            "top": null,
            "visibility": null,
            "width": null
          }
        },
        "b58679a56c32471788ccf516b48240d3": {
          "model_module": "@jupyter-widgets/controls",
          "model_name": "ProgressStyleModel",
          "model_module_version": "1.5.0",
          "state": {
            "_model_module": "@jupyter-widgets/controls",
            "_model_module_version": "1.5.0",
            "_model_name": "ProgressStyleModel",
            "_view_count": null,
            "_view_module": "@jupyter-widgets/base",
            "_view_module_version": "1.2.0",
            "_view_name": "StyleView",
            "bar_color": null,
            "description_width": ""
          }
        },
        "e32a3b4eddbe498cbcb5e37879a8b329": {
          "model_module": "@jupyter-widgets/base",
          "model_name": "LayoutModel",
          "model_module_version": "1.2.0",
          "state": {
            "_model_module": "@jupyter-widgets/base",
            "_model_module_version": "1.2.0",
            "_model_name": "LayoutModel",
            "_view_count": null,
            "_view_module": "@jupyter-widgets/base",
            "_view_module_version": "1.2.0",
            "_view_name": "LayoutView",
            "align_content": null,
            "align_items": null,
            "align_self": null,
            "border": null,
            "bottom": null,
            "display": null,
            "flex": null,
            "flex_flow": null,
            "grid_area": null,
            "grid_auto_columns": null,
            "grid_auto_flow": null,
            "grid_auto_rows": null,
            "grid_column": null,
            "grid_gap": null,
            "grid_row": null,
            "grid_template_areas": null,
            "grid_template_columns": null,
            "grid_template_rows": null,
            "height": null,
            "justify_content": null,
            "justify_items": null,
            "left": null,
            "margin": null,
            "max_height": null,
            "max_width": null,
            "min_height": null,
            "min_width": null,
            "object_fit": null,
            "object_position": null,
            "order": null,
            "overflow": null,
            "overflow_x": null,
            "overflow_y": null,
            "padding": null,
            "right": null,
            "top": null,
            "visibility": null,
            "width": null
          }
        },
        "5cfeb60aeb1c43d9aa7215d080c3db12": {
          "model_module": "@jupyter-widgets/controls",
          "model_name": "DescriptionStyleModel",
          "model_module_version": "1.5.0",
          "state": {
            "_model_module": "@jupyter-widgets/controls",
            "_model_module_version": "1.5.0",
            "_model_name": "DescriptionStyleModel",
            "_view_count": null,
            "_view_module": "@jupyter-widgets/base",
            "_view_module_version": "1.2.0",
            "_view_name": "StyleView",
            "description_width": ""
          }
        },
        "214adcceccdd4867b7fd89c36c07e3bb": {
          "model_module": "@jupyter-widgets/controls",
          "model_name": "HBoxModel",
          "model_module_version": "1.5.0",
          "state": {
            "_dom_classes": [],
            "_model_module": "@jupyter-widgets/controls",
            "_model_module_version": "1.5.0",
            "_model_name": "HBoxModel",
            "_view_count": null,
            "_view_module": "@jupyter-widgets/controls",
            "_view_module_version": "1.5.0",
            "_view_name": "HBoxView",
            "box_style": "",
            "children": [
              "IPY_MODEL_6537588d3d23487986acbf8317835223",
              "IPY_MODEL_731af7e859e64930bb8c1b07f825f523",
              "IPY_MODEL_dcf5a214ca564088adbaa1e706d11ddb"
            ],
            "layout": "IPY_MODEL_9bb06d92e6224908817f45a870b95870"
          }
        },
        "6537588d3d23487986acbf8317835223": {
          "model_module": "@jupyter-widgets/controls",
          "model_name": "HTMLModel",
          "model_module_version": "1.5.0",
          "state": {
            "_dom_classes": [],
            "_model_module": "@jupyter-widgets/controls",
            "_model_module_version": "1.5.0",
            "_model_name": "HTMLModel",
            "_view_count": null,
            "_view_module": "@jupyter-widgets/controls",
            "_view_module_version": "1.5.0",
            "_view_name": "HTMLView",
            "description": "",
            "description_tooltip": null,
            "layout": "IPY_MODEL_34aedb91a20d4549a498d2f7b4dc6ea1",
            "placeholder": "​",
            "style": "IPY_MODEL_9488a00ff5ec4197b841cfece1b76070",
            "value": "Epochs 8/15. Running Loss:    0.0025: 100%"
          }
        },
        "731af7e859e64930bb8c1b07f825f523": {
          "model_module": "@jupyter-widgets/controls",
          "model_name": "FloatProgressModel",
          "model_module_version": "1.5.0",
          "state": {
            "_dom_classes": [],
            "_model_module": "@jupyter-widgets/controls",
            "_model_module_version": "1.5.0",
            "_model_name": "FloatProgressModel",
            "_view_count": null,
            "_view_module": "@jupyter-widgets/controls",
            "_view_module_version": "1.5.0",
            "_view_name": "ProgressView",
            "bar_style": "success",
            "description": "",
            "description_tooltip": null,
            "layout": "IPY_MODEL_f3ed65332ea34ae8b23686b7f35f019f",
            "max": 52,
            "min": 0,
            "orientation": "horizontal",
            "style": "IPY_MODEL_eb2b3ad291a7466a953fc24578e3bd5e",
            "value": 52
          }
        },
        "dcf5a214ca564088adbaa1e706d11ddb": {
          "model_module": "@jupyter-widgets/controls",
          "model_name": "HTMLModel",
          "model_module_version": "1.5.0",
          "state": {
            "_dom_classes": [],
            "_model_module": "@jupyter-widgets/controls",
            "_model_module_version": "1.5.0",
            "_model_name": "HTMLModel",
            "_view_count": null,
            "_view_module": "@jupyter-widgets/controls",
            "_view_module_version": "1.5.0",
            "_view_name": "HTMLView",
            "description": "",
            "description_tooltip": null,
            "layout": "IPY_MODEL_ae390c6b79134e72b7d8e502b879f18d",
            "placeholder": "​",
            "style": "IPY_MODEL_66690aff96ca4b9ba5ed491f80781f86",
            "value": " 52/52 [00:07&lt;00:00,  7.89it/s]"
          }
        },
        "9bb06d92e6224908817f45a870b95870": {
          "model_module": "@jupyter-widgets/base",
          "model_name": "LayoutModel",
          "model_module_version": "1.2.0",
          "state": {
            "_model_module": "@jupyter-widgets/base",
            "_model_module_version": "1.2.0",
            "_model_name": "LayoutModel",
            "_view_count": null,
            "_view_module": "@jupyter-widgets/base",
            "_view_module_version": "1.2.0",
            "_view_name": "LayoutView",
            "align_content": null,
            "align_items": null,
            "align_self": null,
            "border": null,
            "bottom": null,
            "display": null,
            "flex": null,
            "flex_flow": null,
            "grid_area": null,
            "grid_auto_columns": null,
            "grid_auto_flow": null,
            "grid_auto_rows": null,
            "grid_column": null,
            "grid_gap": null,
            "grid_row": null,
            "grid_template_areas": null,
            "grid_template_columns": null,
            "grid_template_rows": null,
            "height": null,
            "justify_content": null,
            "justify_items": null,
            "left": null,
            "margin": null,
            "max_height": null,
            "max_width": null,
            "min_height": null,
            "min_width": null,
            "object_fit": null,
            "object_position": null,
            "order": null,
            "overflow": null,
            "overflow_x": null,
            "overflow_y": null,
            "padding": null,
            "right": null,
            "top": null,
            "visibility": null,
            "width": null
          }
        },
        "34aedb91a20d4549a498d2f7b4dc6ea1": {
          "model_module": "@jupyter-widgets/base",
          "model_name": "LayoutModel",
          "model_module_version": "1.2.0",
          "state": {
            "_model_module": "@jupyter-widgets/base",
            "_model_module_version": "1.2.0",
            "_model_name": "LayoutModel",
            "_view_count": null,
            "_view_module": "@jupyter-widgets/base",
            "_view_module_version": "1.2.0",
            "_view_name": "LayoutView",
            "align_content": null,
            "align_items": null,
            "align_self": null,
            "border": null,
            "bottom": null,
            "display": null,
            "flex": null,
            "flex_flow": null,
            "grid_area": null,
            "grid_auto_columns": null,
            "grid_auto_flow": null,
            "grid_auto_rows": null,
            "grid_column": null,
            "grid_gap": null,
            "grid_row": null,
            "grid_template_areas": null,
            "grid_template_columns": null,
            "grid_template_rows": null,
            "height": null,
            "justify_content": null,
            "justify_items": null,
            "left": null,
            "margin": null,
            "max_height": null,
            "max_width": null,
            "min_height": null,
            "min_width": null,
            "object_fit": null,
            "object_position": null,
            "order": null,
            "overflow": null,
            "overflow_x": null,
            "overflow_y": null,
            "padding": null,
            "right": null,
            "top": null,
            "visibility": null,
            "width": null
          }
        },
        "9488a00ff5ec4197b841cfece1b76070": {
          "model_module": "@jupyter-widgets/controls",
          "model_name": "DescriptionStyleModel",
          "model_module_version": "1.5.0",
          "state": {
            "_model_module": "@jupyter-widgets/controls",
            "_model_module_version": "1.5.0",
            "_model_name": "DescriptionStyleModel",
            "_view_count": null,
            "_view_module": "@jupyter-widgets/base",
            "_view_module_version": "1.2.0",
            "_view_name": "StyleView",
            "description_width": ""
          }
        },
        "f3ed65332ea34ae8b23686b7f35f019f": {
          "model_module": "@jupyter-widgets/base",
          "model_name": "LayoutModel",
          "model_module_version": "1.2.0",
          "state": {
            "_model_module": "@jupyter-widgets/base",
            "_model_module_version": "1.2.0",
            "_model_name": "LayoutModel",
            "_view_count": null,
            "_view_module": "@jupyter-widgets/base",
            "_view_module_version": "1.2.0",
            "_view_name": "LayoutView",
            "align_content": null,
            "align_items": null,
            "align_self": null,
            "border": null,
            "bottom": null,
            "display": null,
            "flex": null,
            "flex_flow": null,
            "grid_area": null,
            "grid_auto_columns": null,
            "grid_auto_flow": null,
            "grid_auto_rows": null,
            "grid_column": null,
            "grid_gap": null,
            "grid_row": null,
            "grid_template_areas": null,
            "grid_template_columns": null,
            "grid_template_rows": null,
            "height": null,
            "justify_content": null,
            "justify_items": null,
            "left": null,
            "margin": null,
            "max_height": null,
            "max_width": null,
            "min_height": null,
            "min_width": null,
            "object_fit": null,
            "object_position": null,
            "order": null,
            "overflow": null,
            "overflow_x": null,
            "overflow_y": null,
            "padding": null,
            "right": null,
            "top": null,
            "visibility": null,
            "width": null
          }
        },
        "eb2b3ad291a7466a953fc24578e3bd5e": {
          "model_module": "@jupyter-widgets/controls",
          "model_name": "ProgressStyleModel",
          "model_module_version": "1.5.0",
          "state": {
            "_model_module": "@jupyter-widgets/controls",
            "_model_module_version": "1.5.0",
            "_model_name": "ProgressStyleModel",
            "_view_count": null,
            "_view_module": "@jupyter-widgets/base",
            "_view_module_version": "1.2.0",
            "_view_name": "StyleView",
            "bar_color": null,
            "description_width": ""
          }
        },
        "ae390c6b79134e72b7d8e502b879f18d": {
          "model_module": "@jupyter-widgets/base",
          "model_name": "LayoutModel",
          "model_module_version": "1.2.0",
          "state": {
            "_model_module": "@jupyter-widgets/base",
            "_model_module_version": "1.2.0",
            "_model_name": "LayoutModel",
            "_view_count": null,
            "_view_module": "@jupyter-widgets/base",
            "_view_module_version": "1.2.0",
            "_view_name": "LayoutView",
            "align_content": null,
            "align_items": null,
            "align_self": null,
            "border": null,
            "bottom": null,
            "display": null,
            "flex": null,
            "flex_flow": null,
            "grid_area": null,
            "grid_auto_columns": null,
            "grid_auto_flow": null,
            "grid_auto_rows": null,
            "grid_column": null,
            "grid_gap": null,
            "grid_row": null,
            "grid_template_areas": null,
            "grid_template_columns": null,
            "grid_template_rows": null,
            "height": null,
            "justify_content": null,
            "justify_items": null,
            "left": null,
            "margin": null,
            "max_height": null,
            "max_width": null,
            "min_height": null,
            "min_width": null,
            "object_fit": null,
            "object_position": null,
            "order": null,
            "overflow": null,
            "overflow_x": null,
            "overflow_y": null,
            "padding": null,
            "right": null,
            "top": null,
            "visibility": null,
            "width": null
          }
        },
        "66690aff96ca4b9ba5ed491f80781f86": {
          "model_module": "@jupyter-widgets/controls",
          "model_name": "DescriptionStyleModel",
          "model_module_version": "1.5.0",
          "state": {
            "_model_module": "@jupyter-widgets/controls",
            "_model_module_version": "1.5.0",
            "_model_name": "DescriptionStyleModel",
            "_view_count": null,
            "_view_module": "@jupyter-widgets/base",
            "_view_module_version": "1.2.0",
            "_view_name": "StyleView",
            "description_width": ""
          }
        },
        "3b25384d324a485282357b116660e3e5": {
          "model_module": "@jupyter-widgets/controls",
          "model_name": "HBoxModel",
          "model_module_version": "1.5.0",
          "state": {
            "_dom_classes": [],
            "_model_module": "@jupyter-widgets/controls",
            "_model_module_version": "1.5.0",
            "_model_name": "HBoxModel",
            "_view_count": null,
            "_view_module": "@jupyter-widgets/controls",
            "_view_module_version": "1.5.0",
            "_view_name": "HBoxView",
            "box_style": "",
            "children": [
              "IPY_MODEL_7ac1e4ac5ec847d5b315a88b04207e57",
              "IPY_MODEL_62ce7add796241889321adedcbcd893e",
              "IPY_MODEL_7afe1bfaef914c12b8ae75b681177244"
            ],
            "layout": "IPY_MODEL_8b47856d4561406da30bc2c3d83b062a"
          }
        },
        "7ac1e4ac5ec847d5b315a88b04207e57": {
          "model_module": "@jupyter-widgets/controls",
          "model_name": "HTMLModel",
          "model_module_version": "1.5.0",
          "state": {
            "_dom_classes": [],
            "_model_module": "@jupyter-widgets/controls",
            "_model_module_version": "1.5.0",
            "_model_name": "HTMLModel",
            "_view_count": null,
            "_view_module": "@jupyter-widgets/controls",
            "_view_module_version": "1.5.0",
            "_view_name": "HTMLView",
            "description": "",
            "description_tooltip": null,
            "layout": "IPY_MODEL_09221f3a808d41de82ec3e82a56f9fac",
            "placeholder": "​",
            "style": "IPY_MODEL_e7dd9ae58a784113bacb759ab9bd9896",
            "value": "Epochs 9/15. Running Loss:    0.0032: 100%"
          }
        },
        "62ce7add796241889321adedcbcd893e": {
          "model_module": "@jupyter-widgets/controls",
          "model_name": "FloatProgressModel",
          "model_module_version": "1.5.0",
          "state": {
            "_dom_classes": [],
            "_model_module": "@jupyter-widgets/controls",
            "_model_module_version": "1.5.0",
            "_model_name": "FloatProgressModel",
            "_view_count": null,
            "_view_module": "@jupyter-widgets/controls",
            "_view_module_version": "1.5.0",
            "_view_name": "ProgressView",
            "bar_style": "success",
            "description": "",
            "description_tooltip": null,
            "layout": "IPY_MODEL_25cd55bee7b740b383cade808536b132",
            "max": 52,
            "min": 0,
            "orientation": "horizontal",
            "style": "IPY_MODEL_d51f691c301b401b9c2c27452fa4765c",
            "value": 52
          }
        },
        "7afe1bfaef914c12b8ae75b681177244": {
          "model_module": "@jupyter-widgets/controls",
          "model_name": "HTMLModel",
          "model_module_version": "1.5.0",
          "state": {
            "_dom_classes": [],
            "_model_module": "@jupyter-widgets/controls",
            "_model_module_version": "1.5.0",
            "_model_name": "HTMLModel",
            "_view_count": null,
            "_view_module": "@jupyter-widgets/controls",
            "_view_module_version": "1.5.0",
            "_view_name": "HTMLView",
            "description": "",
            "description_tooltip": null,
            "layout": "IPY_MODEL_5ec8f906713d4eea832472d3e4fa1939",
            "placeholder": "​",
            "style": "IPY_MODEL_d03bee27d3344e8cb9ec5bd8eebe06db",
            "value": " 52/52 [00:07&lt;00:00,  8.04it/s]"
          }
        },
        "8b47856d4561406da30bc2c3d83b062a": {
          "model_module": "@jupyter-widgets/base",
          "model_name": "LayoutModel",
          "model_module_version": "1.2.0",
          "state": {
            "_model_module": "@jupyter-widgets/base",
            "_model_module_version": "1.2.0",
            "_model_name": "LayoutModel",
            "_view_count": null,
            "_view_module": "@jupyter-widgets/base",
            "_view_module_version": "1.2.0",
            "_view_name": "LayoutView",
            "align_content": null,
            "align_items": null,
            "align_self": null,
            "border": null,
            "bottom": null,
            "display": null,
            "flex": null,
            "flex_flow": null,
            "grid_area": null,
            "grid_auto_columns": null,
            "grid_auto_flow": null,
            "grid_auto_rows": null,
            "grid_column": null,
            "grid_gap": null,
            "grid_row": null,
            "grid_template_areas": null,
            "grid_template_columns": null,
            "grid_template_rows": null,
            "height": null,
            "justify_content": null,
            "justify_items": null,
            "left": null,
            "margin": null,
            "max_height": null,
            "max_width": null,
            "min_height": null,
            "min_width": null,
            "object_fit": null,
            "object_position": null,
            "order": null,
            "overflow": null,
            "overflow_x": null,
            "overflow_y": null,
            "padding": null,
            "right": null,
            "top": null,
            "visibility": null,
            "width": null
          }
        },
        "09221f3a808d41de82ec3e82a56f9fac": {
          "model_module": "@jupyter-widgets/base",
          "model_name": "LayoutModel",
          "model_module_version": "1.2.0",
          "state": {
            "_model_module": "@jupyter-widgets/base",
            "_model_module_version": "1.2.0",
            "_model_name": "LayoutModel",
            "_view_count": null,
            "_view_module": "@jupyter-widgets/base",
            "_view_module_version": "1.2.0",
            "_view_name": "LayoutView",
            "align_content": null,
            "align_items": null,
            "align_self": null,
            "border": null,
            "bottom": null,
            "display": null,
            "flex": null,
            "flex_flow": null,
            "grid_area": null,
            "grid_auto_columns": null,
            "grid_auto_flow": null,
            "grid_auto_rows": null,
            "grid_column": null,
            "grid_gap": null,
            "grid_row": null,
            "grid_template_areas": null,
            "grid_template_columns": null,
            "grid_template_rows": null,
            "height": null,
            "justify_content": null,
            "justify_items": null,
            "left": null,
            "margin": null,
            "max_height": null,
            "max_width": null,
            "min_height": null,
            "min_width": null,
            "object_fit": null,
            "object_position": null,
            "order": null,
            "overflow": null,
            "overflow_x": null,
            "overflow_y": null,
            "padding": null,
            "right": null,
            "top": null,
            "visibility": null,
            "width": null
          }
        },
        "e7dd9ae58a784113bacb759ab9bd9896": {
          "model_module": "@jupyter-widgets/controls",
          "model_name": "DescriptionStyleModel",
          "model_module_version": "1.5.0",
          "state": {
            "_model_module": "@jupyter-widgets/controls",
            "_model_module_version": "1.5.0",
            "_model_name": "DescriptionStyleModel",
            "_view_count": null,
            "_view_module": "@jupyter-widgets/base",
            "_view_module_version": "1.2.0",
            "_view_name": "StyleView",
            "description_width": ""
          }
        },
        "25cd55bee7b740b383cade808536b132": {
          "model_module": "@jupyter-widgets/base",
          "model_name": "LayoutModel",
          "model_module_version": "1.2.0",
          "state": {
            "_model_module": "@jupyter-widgets/base",
            "_model_module_version": "1.2.0",
            "_model_name": "LayoutModel",
            "_view_count": null,
            "_view_module": "@jupyter-widgets/base",
            "_view_module_version": "1.2.0",
            "_view_name": "LayoutView",
            "align_content": null,
            "align_items": null,
            "align_self": null,
            "border": null,
            "bottom": null,
            "display": null,
            "flex": null,
            "flex_flow": null,
            "grid_area": null,
            "grid_auto_columns": null,
            "grid_auto_flow": null,
            "grid_auto_rows": null,
            "grid_column": null,
            "grid_gap": null,
            "grid_row": null,
            "grid_template_areas": null,
            "grid_template_columns": null,
            "grid_template_rows": null,
            "height": null,
            "justify_content": null,
            "justify_items": null,
            "left": null,
            "margin": null,
            "max_height": null,
            "max_width": null,
            "min_height": null,
            "min_width": null,
            "object_fit": null,
            "object_position": null,
            "order": null,
            "overflow": null,
            "overflow_x": null,
            "overflow_y": null,
            "padding": null,
            "right": null,
            "top": null,
            "visibility": null,
            "width": null
          }
        },
        "d51f691c301b401b9c2c27452fa4765c": {
          "model_module": "@jupyter-widgets/controls",
          "model_name": "ProgressStyleModel",
          "model_module_version": "1.5.0",
          "state": {
            "_model_module": "@jupyter-widgets/controls",
            "_model_module_version": "1.5.0",
            "_model_name": "ProgressStyleModel",
            "_view_count": null,
            "_view_module": "@jupyter-widgets/base",
            "_view_module_version": "1.2.0",
            "_view_name": "StyleView",
            "bar_color": null,
            "description_width": ""
          }
        },
        "5ec8f906713d4eea832472d3e4fa1939": {
          "model_module": "@jupyter-widgets/base",
          "model_name": "LayoutModel",
          "model_module_version": "1.2.0",
          "state": {
            "_model_module": "@jupyter-widgets/base",
            "_model_module_version": "1.2.0",
            "_model_name": "LayoutModel",
            "_view_count": null,
            "_view_module": "@jupyter-widgets/base",
            "_view_module_version": "1.2.0",
            "_view_name": "LayoutView",
            "align_content": null,
            "align_items": null,
            "align_self": null,
            "border": null,
            "bottom": null,
            "display": null,
            "flex": null,
            "flex_flow": null,
            "grid_area": null,
            "grid_auto_columns": null,
            "grid_auto_flow": null,
            "grid_auto_rows": null,
            "grid_column": null,
            "grid_gap": null,
            "grid_row": null,
            "grid_template_areas": null,
            "grid_template_columns": null,
            "grid_template_rows": null,
            "height": null,
            "justify_content": null,
            "justify_items": null,
            "left": null,
            "margin": null,
            "max_height": null,
            "max_width": null,
            "min_height": null,
            "min_width": null,
            "object_fit": null,
            "object_position": null,
            "order": null,
            "overflow": null,
            "overflow_x": null,
            "overflow_y": null,
            "padding": null,
            "right": null,
            "top": null,
            "visibility": null,
            "width": null
          }
        },
        "d03bee27d3344e8cb9ec5bd8eebe06db": {
          "model_module": "@jupyter-widgets/controls",
          "model_name": "DescriptionStyleModel",
          "model_module_version": "1.5.0",
          "state": {
            "_model_module": "@jupyter-widgets/controls",
            "_model_module_version": "1.5.0",
            "_model_name": "DescriptionStyleModel",
            "_view_count": null,
            "_view_module": "@jupyter-widgets/base",
            "_view_module_version": "1.2.0",
            "_view_name": "StyleView",
            "description_width": ""
          }
        },
        "e944bb40939b489089e71d58fd0448d2": {
          "model_module": "@jupyter-widgets/controls",
          "model_name": "HBoxModel",
          "model_module_version": "1.5.0",
          "state": {
            "_dom_classes": [],
            "_model_module": "@jupyter-widgets/controls",
            "_model_module_version": "1.5.0",
            "_model_name": "HBoxModel",
            "_view_count": null,
            "_view_module": "@jupyter-widgets/controls",
            "_view_module_version": "1.5.0",
            "_view_name": "HBoxView",
            "box_style": "",
            "children": [
              "IPY_MODEL_2c2236f58cd54e7eabe7f8a70ca12065",
              "IPY_MODEL_98631527432b4594b85fde3da589d082",
              "IPY_MODEL_d93d284d99fd4281834ccc1839356304"
            ],
            "layout": "IPY_MODEL_03487eec59454907aefaa107f81ed972"
          }
        },
        "2c2236f58cd54e7eabe7f8a70ca12065": {
          "model_module": "@jupyter-widgets/controls",
          "model_name": "HTMLModel",
          "model_module_version": "1.5.0",
          "state": {
            "_dom_classes": [],
            "_model_module": "@jupyter-widgets/controls",
            "_model_module_version": "1.5.0",
            "_model_name": "HTMLModel",
            "_view_count": null,
            "_view_module": "@jupyter-widgets/controls",
            "_view_module_version": "1.5.0",
            "_view_name": "HTMLView",
            "description": "",
            "description_tooltip": null,
            "layout": "IPY_MODEL_5f997a9bb2f74474acace05e9847d9f7",
            "placeholder": "​",
            "style": "IPY_MODEL_bda2a62f7ae7440bbe6de57ff7db3b79",
            "value": "Epochs 10/15. Running Loss:    0.0014: 100%"
          }
        },
        "98631527432b4594b85fde3da589d082": {
          "model_module": "@jupyter-widgets/controls",
          "model_name": "FloatProgressModel",
          "model_module_version": "1.5.0",
          "state": {
            "_dom_classes": [],
            "_model_module": "@jupyter-widgets/controls",
            "_model_module_version": "1.5.0",
            "_model_name": "FloatProgressModel",
            "_view_count": null,
            "_view_module": "@jupyter-widgets/controls",
            "_view_module_version": "1.5.0",
            "_view_name": "ProgressView",
            "bar_style": "success",
            "description": "",
            "description_tooltip": null,
            "layout": "IPY_MODEL_f77499da70a544acad45c00770086279",
            "max": 52,
            "min": 0,
            "orientation": "horizontal",
            "style": "IPY_MODEL_cdc3f532b08c472bbfa02f2b44929a79",
            "value": 52
          }
        },
        "d93d284d99fd4281834ccc1839356304": {
          "model_module": "@jupyter-widgets/controls",
          "model_name": "HTMLModel",
          "model_module_version": "1.5.0",
          "state": {
            "_dom_classes": [],
            "_model_module": "@jupyter-widgets/controls",
            "_model_module_version": "1.5.0",
            "_model_name": "HTMLModel",
            "_view_count": null,
            "_view_module": "@jupyter-widgets/controls",
            "_view_module_version": "1.5.0",
            "_view_name": "HTMLView",
            "description": "",
            "description_tooltip": null,
            "layout": "IPY_MODEL_81a1da2800244249a7277ba7ca7ba21b",
            "placeholder": "​",
            "style": "IPY_MODEL_1ce0e276b1964c56a449880c9b433104",
            "value": " 52/52 [00:07&lt;00:00,  7.80it/s]"
          }
        },
        "03487eec59454907aefaa107f81ed972": {
          "model_module": "@jupyter-widgets/base",
          "model_name": "LayoutModel",
          "model_module_version": "1.2.0",
          "state": {
            "_model_module": "@jupyter-widgets/base",
            "_model_module_version": "1.2.0",
            "_model_name": "LayoutModel",
            "_view_count": null,
            "_view_module": "@jupyter-widgets/base",
            "_view_module_version": "1.2.0",
            "_view_name": "LayoutView",
            "align_content": null,
            "align_items": null,
            "align_self": null,
            "border": null,
            "bottom": null,
            "display": null,
            "flex": null,
            "flex_flow": null,
            "grid_area": null,
            "grid_auto_columns": null,
            "grid_auto_flow": null,
            "grid_auto_rows": null,
            "grid_column": null,
            "grid_gap": null,
            "grid_row": null,
            "grid_template_areas": null,
            "grid_template_columns": null,
            "grid_template_rows": null,
            "height": null,
            "justify_content": null,
            "justify_items": null,
            "left": null,
            "margin": null,
            "max_height": null,
            "max_width": null,
            "min_height": null,
            "min_width": null,
            "object_fit": null,
            "object_position": null,
            "order": null,
            "overflow": null,
            "overflow_x": null,
            "overflow_y": null,
            "padding": null,
            "right": null,
            "top": null,
            "visibility": null,
            "width": null
          }
        },
        "5f997a9bb2f74474acace05e9847d9f7": {
          "model_module": "@jupyter-widgets/base",
          "model_name": "LayoutModel",
          "model_module_version": "1.2.0",
          "state": {
            "_model_module": "@jupyter-widgets/base",
            "_model_module_version": "1.2.0",
            "_model_name": "LayoutModel",
            "_view_count": null,
            "_view_module": "@jupyter-widgets/base",
            "_view_module_version": "1.2.0",
            "_view_name": "LayoutView",
            "align_content": null,
            "align_items": null,
            "align_self": null,
            "border": null,
            "bottom": null,
            "display": null,
            "flex": null,
            "flex_flow": null,
            "grid_area": null,
            "grid_auto_columns": null,
            "grid_auto_flow": null,
            "grid_auto_rows": null,
            "grid_column": null,
            "grid_gap": null,
            "grid_row": null,
            "grid_template_areas": null,
            "grid_template_columns": null,
            "grid_template_rows": null,
            "height": null,
            "justify_content": null,
            "justify_items": null,
            "left": null,
            "margin": null,
            "max_height": null,
            "max_width": null,
            "min_height": null,
            "min_width": null,
            "object_fit": null,
            "object_position": null,
            "order": null,
            "overflow": null,
            "overflow_x": null,
            "overflow_y": null,
            "padding": null,
            "right": null,
            "top": null,
            "visibility": null,
            "width": null
          }
        },
        "bda2a62f7ae7440bbe6de57ff7db3b79": {
          "model_module": "@jupyter-widgets/controls",
          "model_name": "DescriptionStyleModel",
          "model_module_version": "1.5.0",
          "state": {
            "_model_module": "@jupyter-widgets/controls",
            "_model_module_version": "1.5.0",
            "_model_name": "DescriptionStyleModel",
            "_view_count": null,
            "_view_module": "@jupyter-widgets/base",
            "_view_module_version": "1.2.0",
            "_view_name": "StyleView",
            "description_width": ""
          }
        },
        "f77499da70a544acad45c00770086279": {
          "model_module": "@jupyter-widgets/base",
          "model_name": "LayoutModel",
          "model_module_version": "1.2.0",
          "state": {
            "_model_module": "@jupyter-widgets/base",
            "_model_module_version": "1.2.0",
            "_model_name": "LayoutModel",
            "_view_count": null,
            "_view_module": "@jupyter-widgets/base",
            "_view_module_version": "1.2.0",
            "_view_name": "LayoutView",
            "align_content": null,
            "align_items": null,
            "align_self": null,
            "border": null,
            "bottom": null,
            "display": null,
            "flex": null,
            "flex_flow": null,
            "grid_area": null,
            "grid_auto_columns": null,
            "grid_auto_flow": null,
            "grid_auto_rows": null,
            "grid_column": null,
            "grid_gap": null,
            "grid_row": null,
            "grid_template_areas": null,
            "grid_template_columns": null,
            "grid_template_rows": null,
            "height": null,
            "justify_content": null,
            "justify_items": null,
            "left": null,
            "margin": null,
            "max_height": null,
            "max_width": null,
            "min_height": null,
            "min_width": null,
            "object_fit": null,
            "object_position": null,
            "order": null,
            "overflow": null,
            "overflow_x": null,
            "overflow_y": null,
            "padding": null,
            "right": null,
            "top": null,
            "visibility": null,
            "width": null
          }
        },
        "cdc3f532b08c472bbfa02f2b44929a79": {
          "model_module": "@jupyter-widgets/controls",
          "model_name": "ProgressStyleModel",
          "model_module_version": "1.5.0",
          "state": {
            "_model_module": "@jupyter-widgets/controls",
            "_model_module_version": "1.5.0",
            "_model_name": "ProgressStyleModel",
            "_view_count": null,
            "_view_module": "@jupyter-widgets/base",
            "_view_module_version": "1.2.0",
            "_view_name": "StyleView",
            "bar_color": null,
            "description_width": ""
          }
        },
        "81a1da2800244249a7277ba7ca7ba21b": {
          "model_module": "@jupyter-widgets/base",
          "model_name": "LayoutModel",
          "model_module_version": "1.2.0",
          "state": {
            "_model_module": "@jupyter-widgets/base",
            "_model_module_version": "1.2.0",
            "_model_name": "LayoutModel",
            "_view_count": null,
            "_view_module": "@jupyter-widgets/base",
            "_view_module_version": "1.2.0",
            "_view_name": "LayoutView",
            "align_content": null,
            "align_items": null,
            "align_self": null,
            "border": null,
            "bottom": null,
            "display": null,
            "flex": null,
            "flex_flow": null,
            "grid_area": null,
            "grid_auto_columns": null,
            "grid_auto_flow": null,
            "grid_auto_rows": null,
            "grid_column": null,
            "grid_gap": null,
            "grid_row": null,
            "grid_template_areas": null,
            "grid_template_columns": null,
            "grid_template_rows": null,
            "height": null,
            "justify_content": null,
            "justify_items": null,
            "left": null,
            "margin": null,
            "max_height": null,
            "max_width": null,
            "min_height": null,
            "min_width": null,
            "object_fit": null,
            "object_position": null,
            "order": null,
            "overflow": null,
            "overflow_x": null,
            "overflow_y": null,
            "padding": null,
            "right": null,
            "top": null,
            "visibility": null,
            "width": null
          }
        },
        "1ce0e276b1964c56a449880c9b433104": {
          "model_module": "@jupyter-widgets/controls",
          "model_name": "DescriptionStyleModel",
          "model_module_version": "1.5.0",
          "state": {
            "_model_module": "@jupyter-widgets/controls",
            "_model_module_version": "1.5.0",
            "_model_name": "DescriptionStyleModel",
            "_view_count": null,
            "_view_module": "@jupyter-widgets/base",
            "_view_module_version": "1.2.0",
            "_view_name": "StyleView",
            "description_width": ""
          }
        },
        "2416abdc7a9042dc94895dc76b5a95e1": {
          "model_module": "@jupyter-widgets/controls",
          "model_name": "HBoxModel",
          "model_module_version": "1.5.0",
          "state": {
            "_dom_classes": [],
            "_model_module": "@jupyter-widgets/controls",
            "_model_module_version": "1.5.0",
            "_model_name": "HBoxModel",
            "_view_count": null,
            "_view_module": "@jupyter-widgets/controls",
            "_view_module_version": "1.5.0",
            "_view_name": "HBoxView",
            "box_style": "",
            "children": [
              "IPY_MODEL_046473738a0d4ad9a42187da35606d32",
              "IPY_MODEL_9ebc89d7e11b490297d99a80464cc180",
              "IPY_MODEL_b20f74a03a134a0ea50d3e5314543885"
            ],
            "layout": "IPY_MODEL_0db07bbc00cb406f8bdeebac3a54f664"
          }
        },
        "046473738a0d4ad9a42187da35606d32": {
          "model_module": "@jupyter-widgets/controls",
          "model_name": "HTMLModel",
          "model_module_version": "1.5.0",
          "state": {
            "_dom_classes": [],
            "_model_module": "@jupyter-widgets/controls",
            "_model_module_version": "1.5.0",
            "_model_name": "HTMLModel",
            "_view_count": null,
            "_view_module": "@jupyter-widgets/controls",
            "_view_module_version": "1.5.0",
            "_view_name": "HTMLView",
            "description": "",
            "description_tooltip": null,
            "layout": "IPY_MODEL_aa394d2cf3e34257a72ad4fe092f09c9",
            "placeholder": "​",
            "style": "IPY_MODEL_92baec113831454c81e191c44dd19371",
            "value": "Epochs 11/15. Running Loss:    0.0020: 100%"
          }
        },
        "9ebc89d7e11b490297d99a80464cc180": {
          "model_module": "@jupyter-widgets/controls",
          "model_name": "FloatProgressModel",
          "model_module_version": "1.5.0",
          "state": {
            "_dom_classes": [],
            "_model_module": "@jupyter-widgets/controls",
            "_model_module_version": "1.5.0",
            "_model_name": "FloatProgressModel",
            "_view_count": null,
            "_view_module": "@jupyter-widgets/controls",
            "_view_module_version": "1.5.0",
            "_view_name": "ProgressView",
            "bar_style": "success",
            "description": "",
            "description_tooltip": null,
            "layout": "IPY_MODEL_a7cc4b0dcf054f2ca2213b66ac37ba4c",
            "max": 52,
            "min": 0,
            "orientation": "horizontal",
            "style": "IPY_MODEL_ba6dc1d1e4ad486cb7afa80d8523c246",
            "value": 52
          }
        },
        "b20f74a03a134a0ea50d3e5314543885": {
          "model_module": "@jupyter-widgets/controls",
          "model_name": "HTMLModel",
          "model_module_version": "1.5.0",
          "state": {
            "_dom_classes": [],
            "_model_module": "@jupyter-widgets/controls",
            "_model_module_version": "1.5.0",
            "_model_name": "HTMLModel",
            "_view_count": null,
            "_view_module": "@jupyter-widgets/controls",
            "_view_module_version": "1.5.0",
            "_view_name": "HTMLView",
            "description": "",
            "description_tooltip": null,
            "layout": "IPY_MODEL_f45488b0d5d24f3bad2ca0ea7391a6f2",
            "placeholder": "​",
            "style": "IPY_MODEL_38f56d281ad54d4b895dc4402e3274f4",
            "value": " 52/52 [00:07&lt;00:00,  7.96it/s]"
          }
        },
        "0db07bbc00cb406f8bdeebac3a54f664": {
          "model_module": "@jupyter-widgets/base",
          "model_name": "LayoutModel",
          "model_module_version": "1.2.0",
          "state": {
            "_model_module": "@jupyter-widgets/base",
            "_model_module_version": "1.2.0",
            "_model_name": "LayoutModel",
            "_view_count": null,
            "_view_module": "@jupyter-widgets/base",
            "_view_module_version": "1.2.0",
            "_view_name": "LayoutView",
            "align_content": null,
            "align_items": null,
            "align_self": null,
            "border": null,
            "bottom": null,
            "display": null,
            "flex": null,
            "flex_flow": null,
            "grid_area": null,
            "grid_auto_columns": null,
            "grid_auto_flow": null,
            "grid_auto_rows": null,
            "grid_column": null,
            "grid_gap": null,
            "grid_row": null,
            "grid_template_areas": null,
            "grid_template_columns": null,
            "grid_template_rows": null,
            "height": null,
            "justify_content": null,
            "justify_items": null,
            "left": null,
            "margin": null,
            "max_height": null,
            "max_width": null,
            "min_height": null,
            "min_width": null,
            "object_fit": null,
            "object_position": null,
            "order": null,
            "overflow": null,
            "overflow_x": null,
            "overflow_y": null,
            "padding": null,
            "right": null,
            "top": null,
            "visibility": null,
            "width": null
          }
        },
        "aa394d2cf3e34257a72ad4fe092f09c9": {
          "model_module": "@jupyter-widgets/base",
          "model_name": "LayoutModel",
          "model_module_version": "1.2.0",
          "state": {
            "_model_module": "@jupyter-widgets/base",
            "_model_module_version": "1.2.0",
            "_model_name": "LayoutModel",
            "_view_count": null,
            "_view_module": "@jupyter-widgets/base",
            "_view_module_version": "1.2.0",
            "_view_name": "LayoutView",
            "align_content": null,
            "align_items": null,
            "align_self": null,
            "border": null,
            "bottom": null,
            "display": null,
            "flex": null,
            "flex_flow": null,
            "grid_area": null,
            "grid_auto_columns": null,
            "grid_auto_flow": null,
            "grid_auto_rows": null,
            "grid_column": null,
            "grid_gap": null,
            "grid_row": null,
            "grid_template_areas": null,
            "grid_template_columns": null,
            "grid_template_rows": null,
            "height": null,
            "justify_content": null,
            "justify_items": null,
            "left": null,
            "margin": null,
            "max_height": null,
            "max_width": null,
            "min_height": null,
            "min_width": null,
            "object_fit": null,
            "object_position": null,
            "order": null,
            "overflow": null,
            "overflow_x": null,
            "overflow_y": null,
            "padding": null,
            "right": null,
            "top": null,
            "visibility": null,
            "width": null
          }
        },
        "92baec113831454c81e191c44dd19371": {
          "model_module": "@jupyter-widgets/controls",
          "model_name": "DescriptionStyleModel",
          "model_module_version": "1.5.0",
          "state": {
            "_model_module": "@jupyter-widgets/controls",
            "_model_module_version": "1.5.0",
            "_model_name": "DescriptionStyleModel",
            "_view_count": null,
            "_view_module": "@jupyter-widgets/base",
            "_view_module_version": "1.2.0",
            "_view_name": "StyleView",
            "description_width": ""
          }
        },
        "a7cc4b0dcf054f2ca2213b66ac37ba4c": {
          "model_module": "@jupyter-widgets/base",
          "model_name": "LayoutModel",
          "model_module_version": "1.2.0",
          "state": {
            "_model_module": "@jupyter-widgets/base",
            "_model_module_version": "1.2.0",
            "_model_name": "LayoutModel",
            "_view_count": null,
            "_view_module": "@jupyter-widgets/base",
            "_view_module_version": "1.2.0",
            "_view_name": "LayoutView",
            "align_content": null,
            "align_items": null,
            "align_self": null,
            "border": null,
            "bottom": null,
            "display": null,
            "flex": null,
            "flex_flow": null,
            "grid_area": null,
            "grid_auto_columns": null,
            "grid_auto_flow": null,
            "grid_auto_rows": null,
            "grid_column": null,
            "grid_gap": null,
            "grid_row": null,
            "grid_template_areas": null,
            "grid_template_columns": null,
            "grid_template_rows": null,
            "height": null,
            "justify_content": null,
            "justify_items": null,
            "left": null,
            "margin": null,
            "max_height": null,
            "max_width": null,
            "min_height": null,
            "min_width": null,
            "object_fit": null,
            "object_position": null,
            "order": null,
            "overflow": null,
            "overflow_x": null,
            "overflow_y": null,
            "padding": null,
            "right": null,
            "top": null,
            "visibility": null,
            "width": null
          }
        },
        "ba6dc1d1e4ad486cb7afa80d8523c246": {
          "model_module": "@jupyter-widgets/controls",
          "model_name": "ProgressStyleModel",
          "model_module_version": "1.5.0",
          "state": {
            "_model_module": "@jupyter-widgets/controls",
            "_model_module_version": "1.5.0",
            "_model_name": "ProgressStyleModel",
            "_view_count": null,
            "_view_module": "@jupyter-widgets/base",
            "_view_module_version": "1.2.0",
            "_view_name": "StyleView",
            "bar_color": null,
            "description_width": ""
          }
        },
        "f45488b0d5d24f3bad2ca0ea7391a6f2": {
          "model_module": "@jupyter-widgets/base",
          "model_name": "LayoutModel",
          "model_module_version": "1.2.0",
          "state": {
            "_model_module": "@jupyter-widgets/base",
            "_model_module_version": "1.2.0",
            "_model_name": "LayoutModel",
            "_view_count": null,
            "_view_module": "@jupyter-widgets/base",
            "_view_module_version": "1.2.0",
            "_view_name": "LayoutView",
            "align_content": null,
            "align_items": null,
            "align_self": null,
            "border": null,
            "bottom": null,
            "display": null,
            "flex": null,
            "flex_flow": null,
            "grid_area": null,
            "grid_auto_columns": null,
            "grid_auto_flow": null,
            "grid_auto_rows": null,
            "grid_column": null,
            "grid_gap": null,
            "grid_row": null,
            "grid_template_areas": null,
            "grid_template_columns": null,
            "grid_template_rows": null,
            "height": null,
            "justify_content": null,
            "justify_items": null,
            "left": null,
            "margin": null,
            "max_height": null,
            "max_width": null,
            "min_height": null,
            "min_width": null,
            "object_fit": null,
            "object_position": null,
            "order": null,
            "overflow": null,
            "overflow_x": null,
            "overflow_y": null,
            "padding": null,
            "right": null,
            "top": null,
            "visibility": null,
            "width": null
          }
        },
        "38f56d281ad54d4b895dc4402e3274f4": {
          "model_module": "@jupyter-widgets/controls",
          "model_name": "DescriptionStyleModel",
          "model_module_version": "1.5.0",
          "state": {
            "_model_module": "@jupyter-widgets/controls",
            "_model_module_version": "1.5.0",
            "_model_name": "DescriptionStyleModel",
            "_view_count": null,
            "_view_module": "@jupyter-widgets/base",
            "_view_module_version": "1.2.0",
            "_view_name": "StyleView",
            "description_width": ""
          }
        },
        "398b0fbe1c194555bc9cf3fae05c18f1": {
          "model_module": "@jupyter-widgets/controls",
          "model_name": "HBoxModel",
          "model_module_version": "1.5.0",
          "state": {
            "_dom_classes": [],
            "_model_module": "@jupyter-widgets/controls",
            "_model_module_version": "1.5.0",
            "_model_name": "HBoxModel",
            "_view_count": null,
            "_view_module": "@jupyter-widgets/controls",
            "_view_module_version": "1.5.0",
            "_view_name": "HBoxView",
            "box_style": "",
            "children": [
              "IPY_MODEL_1b98b6396dae468cbe5a7e3a543bd904",
              "IPY_MODEL_2e529b267bf841fe9ed9c34835db476f",
              "IPY_MODEL_62cd7bd706a3434daa4940a3e5b3de64"
            ],
            "layout": "IPY_MODEL_0051cd2d79004c5198aae8e0d436d112"
          }
        },
        "1b98b6396dae468cbe5a7e3a543bd904": {
          "model_module": "@jupyter-widgets/controls",
          "model_name": "HTMLModel",
          "model_module_version": "1.5.0",
          "state": {
            "_dom_classes": [],
            "_model_module": "@jupyter-widgets/controls",
            "_model_module_version": "1.5.0",
            "_model_name": "HTMLModel",
            "_view_count": null,
            "_view_module": "@jupyter-widgets/controls",
            "_view_module_version": "1.5.0",
            "_view_name": "HTMLView",
            "description": "",
            "description_tooltip": null,
            "layout": "IPY_MODEL_5d0f4973090d4405beeaff662f86e144",
            "placeholder": "​",
            "style": "IPY_MODEL_98bfe10456484eed826bd17db57736fe",
            "value": "Epochs 12/15. Running Loss:    0.0024: 100%"
          }
        },
        "2e529b267bf841fe9ed9c34835db476f": {
          "model_module": "@jupyter-widgets/controls",
          "model_name": "FloatProgressModel",
          "model_module_version": "1.5.0",
          "state": {
            "_dom_classes": [],
            "_model_module": "@jupyter-widgets/controls",
            "_model_module_version": "1.5.0",
            "_model_name": "FloatProgressModel",
            "_view_count": null,
            "_view_module": "@jupyter-widgets/controls",
            "_view_module_version": "1.5.0",
            "_view_name": "ProgressView",
            "bar_style": "success",
            "description": "",
            "description_tooltip": null,
            "layout": "IPY_MODEL_aaee81bfec1942a288a5c8a53a30b6fc",
            "max": 52,
            "min": 0,
            "orientation": "horizontal",
            "style": "IPY_MODEL_52a9b041e5c945b8b7557c4cd722e21a",
            "value": 52
          }
        },
        "62cd7bd706a3434daa4940a3e5b3de64": {
          "model_module": "@jupyter-widgets/controls",
          "model_name": "HTMLModel",
          "model_module_version": "1.5.0",
          "state": {
            "_dom_classes": [],
            "_model_module": "@jupyter-widgets/controls",
            "_model_module_version": "1.5.0",
            "_model_name": "HTMLModel",
            "_view_count": null,
            "_view_module": "@jupyter-widgets/controls",
            "_view_module_version": "1.5.0",
            "_view_name": "HTMLView",
            "description": "",
            "description_tooltip": null,
            "layout": "IPY_MODEL_350aa0a6fc7344e8b210a9c7b0f97379",
            "placeholder": "​",
            "style": "IPY_MODEL_53312797668543a7bcbbdbf82a5aae40",
            "value": " 52/52 [00:07&lt;00:00,  8.02it/s]"
          }
        },
        "0051cd2d79004c5198aae8e0d436d112": {
          "model_module": "@jupyter-widgets/base",
          "model_name": "LayoutModel",
          "model_module_version": "1.2.0",
          "state": {
            "_model_module": "@jupyter-widgets/base",
            "_model_module_version": "1.2.0",
            "_model_name": "LayoutModel",
            "_view_count": null,
            "_view_module": "@jupyter-widgets/base",
            "_view_module_version": "1.2.0",
            "_view_name": "LayoutView",
            "align_content": null,
            "align_items": null,
            "align_self": null,
            "border": null,
            "bottom": null,
            "display": null,
            "flex": null,
            "flex_flow": null,
            "grid_area": null,
            "grid_auto_columns": null,
            "grid_auto_flow": null,
            "grid_auto_rows": null,
            "grid_column": null,
            "grid_gap": null,
            "grid_row": null,
            "grid_template_areas": null,
            "grid_template_columns": null,
            "grid_template_rows": null,
            "height": null,
            "justify_content": null,
            "justify_items": null,
            "left": null,
            "margin": null,
            "max_height": null,
            "max_width": null,
            "min_height": null,
            "min_width": null,
            "object_fit": null,
            "object_position": null,
            "order": null,
            "overflow": null,
            "overflow_x": null,
            "overflow_y": null,
            "padding": null,
            "right": null,
            "top": null,
            "visibility": null,
            "width": null
          }
        },
        "5d0f4973090d4405beeaff662f86e144": {
          "model_module": "@jupyter-widgets/base",
          "model_name": "LayoutModel",
          "model_module_version": "1.2.0",
          "state": {
            "_model_module": "@jupyter-widgets/base",
            "_model_module_version": "1.2.0",
            "_model_name": "LayoutModel",
            "_view_count": null,
            "_view_module": "@jupyter-widgets/base",
            "_view_module_version": "1.2.0",
            "_view_name": "LayoutView",
            "align_content": null,
            "align_items": null,
            "align_self": null,
            "border": null,
            "bottom": null,
            "display": null,
            "flex": null,
            "flex_flow": null,
            "grid_area": null,
            "grid_auto_columns": null,
            "grid_auto_flow": null,
            "grid_auto_rows": null,
            "grid_column": null,
            "grid_gap": null,
            "grid_row": null,
            "grid_template_areas": null,
            "grid_template_columns": null,
            "grid_template_rows": null,
            "height": null,
            "justify_content": null,
            "justify_items": null,
            "left": null,
            "margin": null,
            "max_height": null,
            "max_width": null,
            "min_height": null,
            "min_width": null,
            "object_fit": null,
            "object_position": null,
            "order": null,
            "overflow": null,
            "overflow_x": null,
            "overflow_y": null,
            "padding": null,
            "right": null,
            "top": null,
            "visibility": null,
            "width": null
          }
        },
        "98bfe10456484eed826bd17db57736fe": {
          "model_module": "@jupyter-widgets/controls",
          "model_name": "DescriptionStyleModel",
          "model_module_version": "1.5.0",
          "state": {
            "_model_module": "@jupyter-widgets/controls",
            "_model_module_version": "1.5.0",
            "_model_name": "DescriptionStyleModel",
            "_view_count": null,
            "_view_module": "@jupyter-widgets/base",
            "_view_module_version": "1.2.0",
            "_view_name": "StyleView",
            "description_width": ""
          }
        },
        "aaee81bfec1942a288a5c8a53a30b6fc": {
          "model_module": "@jupyter-widgets/base",
          "model_name": "LayoutModel",
          "model_module_version": "1.2.0",
          "state": {
            "_model_module": "@jupyter-widgets/base",
            "_model_module_version": "1.2.0",
            "_model_name": "LayoutModel",
            "_view_count": null,
            "_view_module": "@jupyter-widgets/base",
            "_view_module_version": "1.2.0",
            "_view_name": "LayoutView",
            "align_content": null,
            "align_items": null,
            "align_self": null,
            "border": null,
            "bottom": null,
            "display": null,
            "flex": null,
            "flex_flow": null,
            "grid_area": null,
            "grid_auto_columns": null,
            "grid_auto_flow": null,
            "grid_auto_rows": null,
            "grid_column": null,
            "grid_gap": null,
            "grid_row": null,
            "grid_template_areas": null,
            "grid_template_columns": null,
            "grid_template_rows": null,
            "height": null,
            "justify_content": null,
            "justify_items": null,
            "left": null,
            "margin": null,
            "max_height": null,
            "max_width": null,
            "min_height": null,
            "min_width": null,
            "object_fit": null,
            "object_position": null,
            "order": null,
            "overflow": null,
            "overflow_x": null,
            "overflow_y": null,
            "padding": null,
            "right": null,
            "top": null,
            "visibility": null,
            "width": null
          }
        },
        "52a9b041e5c945b8b7557c4cd722e21a": {
          "model_module": "@jupyter-widgets/controls",
          "model_name": "ProgressStyleModel",
          "model_module_version": "1.5.0",
          "state": {
            "_model_module": "@jupyter-widgets/controls",
            "_model_module_version": "1.5.0",
            "_model_name": "ProgressStyleModel",
            "_view_count": null,
            "_view_module": "@jupyter-widgets/base",
            "_view_module_version": "1.2.0",
            "_view_name": "StyleView",
            "bar_color": null,
            "description_width": ""
          }
        },
        "350aa0a6fc7344e8b210a9c7b0f97379": {
          "model_module": "@jupyter-widgets/base",
          "model_name": "LayoutModel",
          "model_module_version": "1.2.0",
          "state": {
            "_model_module": "@jupyter-widgets/base",
            "_model_module_version": "1.2.0",
            "_model_name": "LayoutModel",
            "_view_count": null,
            "_view_module": "@jupyter-widgets/base",
            "_view_module_version": "1.2.0",
            "_view_name": "LayoutView",
            "align_content": null,
            "align_items": null,
            "align_self": null,
            "border": null,
            "bottom": null,
            "display": null,
            "flex": null,
            "flex_flow": null,
            "grid_area": null,
            "grid_auto_columns": null,
            "grid_auto_flow": null,
            "grid_auto_rows": null,
            "grid_column": null,
            "grid_gap": null,
            "grid_row": null,
            "grid_template_areas": null,
            "grid_template_columns": null,
            "grid_template_rows": null,
            "height": null,
            "justify_content": null,
            "justify_items": null,
            "left": null,
            "margin": null,
            "max_height": null,
            "max_width": null,
            "min_height": null,
            "min_width": null,
            "object_fit": null,
            "object_position": null,
            "order": null,
            "overflow": null,
            "overflow_x": null,
            "overflow_y": null,
            "padding": null,
            "right": null,
            "top": null,
            "visibility": null,
            "width": null
          }
        },
        "53312797668543a7bcbbdbf82a5aae40": {
          "model_module": "@jupyter-widgets/controls",
          "model_name": "DescriptionStyleModel",
          "model_module_version": "1.5.0",
          "state": {
            "_model_module": "@jupyter-widgets/controls",
            "_model_module_version": "1.5.0",
            "_model_name": "DescriptionStyleModel",
            "_view_count": null,
            "_view_module": "@jupyter-widgets/base",
            "_view_module_version": "1.2.0",
            "_view_name": "StyleView",
            "description_width": ""
          }
        },
        "7f8d4e725c2041749399cd5b245416da": {
          "model_module": "@jupyter-widgets/controls",
          "model_name": "HBoxModel",
          "model_module_version": "1.5.0",
          "state": {
            "_dom_classes": [],
            "_model_module": "@jupyter-widgets/controls",
            "_model_module_version": "1.5.0",
            "_model_name": "HBoxModel",
            "_view_count": null,
            "_view_module": "@jupyter-widgets/controls",
            "_view_module_version": "1.5.0",
            "_view_name": "HBoxView",
            "box_style": "",
            "children": [
              "IPY_MODEL_b5750e4a8b13475b92fa9e662a6d15f2",
              "IPY_MODEL_31f616e365a541a085a012b986cb60fc",
              "IPY_MODEL_5e69f096e97744dca3ad976b47c8553c"
            ],
            "layout": "IPY_MODEL_7e8ca92e9ae049f7a347b16fa3536332"
          }
        },
        "b5750e4a8b13475b92fa9e662a6d15f2": {
          "model_module": "@jupyter-widgets/controls",
          "model_name": "HTMLModel",
          "model_module_version": "1.5.0",
          "state": {
            "_dom_classes": [],
            "_model_module": "@jupyter-widgets/controls",
            "_model_module_version": "1.5.0",
            "_model_name": "HTMLModel",
            "_view_count": null,
            "_view_module": "@jupyter-widgets/controls",
            "_view_module_version": "1.5.0",
            "_view_name": "HTMLView",
            "description": "",
            "description_tooltip": null,
            "layout": "IPY_MODEL_600d3a696cba447fb18fcf1699319980",
            "placeholder": "​",
            "style": "IPY_MODEL_262fe531fe47407f8f16c73a655a6313",
            "value": "Epochs 13/15. Running Loss:    0.0011: 100%"
          }
        },
        "31f616e365a541a085a012b986cb60fc": {
          "model_module": "@jupyter-widgets/controls",
          "model_name": "FloatProgressModel",
          "model_module_version": "1.5.0",
          "state": {
            "_dom_classes": [],
            "_model_module": "@jupyter-widgets/controls",
            "_model_module_version": "1.5.0",
            "_model_name": "FloatProgressModel",
            "_view_count": null,
            "_view_module": "@jupyter-widgets/controls",
            "_view_module_version": "1.5.0",
            "_view_name": "ProgressView",
            "bar_style": "success",
            "description": "",
            "description_tooltip": null,
            "layout": "IPY_MODEL_833cfbd029bb44efb8c4dcdcbca4cee6",
            "max": 52,
            "min": 0,
            "orientation": "horizontal",
            "style": "IPY_MODEL_90fcef38f1ab4b638f684f36a9fc6dc7",
            "value": 52
          }
        },
        "5e69f096e97744dca3ad976b47c8553c": {
          "model_module": "@jupyter-widgets/controls",
          "model_name": "HTMLModel",
          "model_module_version": "1.5.0",
          "state": {
            "_dom_classes": [],
            "_model_module": "@jupyter-widgets/controls",
            "_model_module_version": "1.5.0",
            "_model_name": "HTMLModel",
            "_view_count": null,
            "_view_module": "@jupyter-widgets/controls",
            "_view_module_version": "1.5.0",
            "_view_name": "HTMLView",
            "description": "",
            "description_tooltip": null,
            "layout": "IPY_MODEL_7ee028c1e242455d9dfbfa8a486edb4e",
            "placeholder": "​",
            "style": "IPY_MODEL_e2badc05300e445ab168632c68e10117",
            "value": " 52/52 [00:07&lt;00:00,  7.74it/s]"
          }
        },
        "7e8ca92e9ae049f7a347b16fa3536332": {
          "model_module": "@jupyter-widgets/base",
          "model_name": "LayoutModel",
          "model_module_version": "1.2.0",
          "state": {
            "_model_module": "@jupyter-widgets/base",
            "_model_module_version": "1.2.0",
            "_model_name": "LayoutModel",
            "_view_count": null,
            "_view_module": "@jupyter-widgets/base",
            "_view_module_version": "1.2.0",
            "_view_name": "LayoutView",
            "align_content": null,
            "align_items": null,
            "align_self": null,
            "border": null,
            "bottom": null,
            "display": null,
            "flex": null,
            "flex_flow": null,
            "grid_area": null,
            "grid_auto_columns": null,
            "grid_auto_flow": null,
            "grid_auto_rows": null,
            "grid_column": null,
            "grid_gap": null,
            "grid_row": null,
            "grid_template_areas": null,
            "grid_template_columns": null,
            "grid_template_rows": null,
            "height": null,
            "justify_content": null,
            "justify_items": null,
            "left": null,
            "margin": null,
            "max_height": null,
            "max_width": null,
            "min_height": null,
            "min_width": null,
            "object_fit": null,
            "object_position": null,
            "order": null,
            "overflow": null,
            "overflow_x": null,
            "overflow_y": null,
            "padding": null,
            "right": null,
            "top": null,
            "visibility": null,
            "width": null
          }
        },
        "600d3a696cba447fb18fcf1699319980": {
          "model_module": "@jupyter-widgets/base",
          "model_name": "LayoutModel",
          "model_module_version": "1.2.0",
          "state": {
            "_model_module": "@jupyter-widgets/base",
            "_model_module_version": "1.2.0",
            "_model_name": "LayoutModel",
            "_view_count": null,
            "_view_module": "@jupyter-widgets/base",
            "_view_module_version": "1.2.0",
            "_view_name": "LayoutView",
            "align_content": null,
            "align_items": null,
            "align_self": null,
            "border": null,
            "bottom": null,
            "display": null,
            "flex": null,
            "flex_flow": null,
            "grid_area": null,
            "grid_auto_columns": null,
            "grid_auto_flow": null,
            "grid_auto_rows": null,
            "grid_column": null,
            "grid_gap": null,
            "grid_row": null,
            "grid_template_areas": null,
            "grid_template_columns": null,
            "grid_template_rows": null,
            "height": null,
            "justify_content": null,
            "justify_items": null,
            "left": null,
            "margin": null,
            "max_height": null,
            "max_width": null,
            "min_height": null,
            "min_width": null,
            "object_fit": null,
            "object_position": null,
            "order": null,
            "overflow": null,
            "overflow_x": null,
            "overflow_y": null,
            "padding": null,
            "right": null,
            "top": null,
            "visibility": null,
            "width": null
          }
        },
        "262fe531fe47407f8f16c73a655a6313": {
          "model_module": "@jupyter-widgets/controls",
          "model_name": "DescriptionStyleModel",
          "model_module_version": "1.5.0",
          "state": {
            "_model_module": "@jupyter-widgets/controls",
            "_model_module_version": "1.5.0",
            "_model_name": "DescriptionStyleModel",
            "_view_count": null,
            "_view_module": "@jupyter-widgets/base",
            "_view_module_version": "1.2.0",
            "_view_name": "StyleView",
            "description_width": ""
          }
        },
        "833cfbd029bb44efb8c4dcdcbca4cee6": {
          "model_module": "@jupyter-widgets/base",
          "model_name": "LayoutModel",
          "model_module_version": "1.2.0",
          "state": {
            "_model_module": "@jupyter-widgets/base",
            "_model_module_version": "1.2.0",
            "_model_name": "LayoutModel",
            "_view_count": null,
            "_view_module": "@jupyter-widgets/base",
            "_view_module_version": "1.2.0",
            "_view_name": "LayoutView",
            "align_content": null,
            "align_items": null,
            "align_self": null,
            "border": null,
            "bottom": null,
            "display": null,
            "flex": null,
            "flex_flow": null,
            "grid_area": null,
            "grid_auto_columns": null,
            "grid_auto_flow": null,
            "grid_auto_rows": null,
            "grid_column": null,
            "grid_gap": null,
            "grid_row": null,
            "grid_template_areas": null,
            "grid_template_columns": null,
            "grid_template_rows": null,
            "height": null,
            "justify_content": null,
            "justify_items": null,
            "left": null,
            "margin": null,
            "max_height": null,
            "max_width": null,
            "min_height": null,
            "min_width": null,
            "object_fit": null,
            "object_position": null,
            "order": null,
            "overflow": null,
            "overflow_x": null,
            "overflow_y": null,
            "padding": null,
            "right": null,
            "top": null,
            "visibility": null,
            "width": null
          }
        },
        "90fcef38f1ab4b638f684f36a9fc6dc7": {
          "model_module": "@jupyter-widgets/controls",
          "model_name": "ProgressStyleModel",
          "model_module_version": "1.5.0",
          "state": {
            "_model_module": "@jupyter-widgets/controls",
            "_model_module_version": "1.5.0",
            "_model_name": "ProgressStyleModel",
            "_view_count": null,
            "_view_module": "@jupyter-widgets/base",
            "_view_module_version": "1.2.0",
            "_view_name": "StyleView",
            "bar_color": null,
            "description_width": ""
          }
        },
        "7ee028c1e242455d9dfbfa8a486edb4e": {
          "model_module": "@jupyter-widgets/base",
          "model_name": "LayoutModel",
          "model_module_version": "1.2.0",
          "state": {
            "_model_module": "@jupyter-widgets/base",
            "_model_module_version": "1.2.0",
            "_model_name": "LayoutModel",
            "_view_count": null,
            "_view_module": "@jupyter-widgets/base",
            "_view_module_version": "1.2.0",
            "_view_name": "LayoutView",
            "align_content": null,
            "align_items": null,
            "align_self": null,
            "border": null,
            "bottom": null,
            "display": null,
            "flex": null,
            "flex_flow": null,
            "grid_area": null,
            "grid_auto_columns": null,
            "grid_auto_flow": null,
            "grid_auto_rows": null,
            "grid_column": null,
            "grid_gap": null,
            "grid_row": null,
            "grid_template_areas": null,
            "grid_template_columns": null,
            "grid_template_rows": null,
            "height": null,
            "justify_content": null,
            "justify_items": null,
            "left": null,
            "margin": null,
            "max_height": null,
            "max_width": null,
            "min_height": null,
            "min_width": null,
            "object_fit": null,
            "object_position": null,
            "order": null,
            "overflow": null,
            "overflow_x": null,
            "overflow_y": null,
            "padding": null,
            "right": null,
            "top": null,
            "visibility": null,
            "width": null
          }
        },
        "e2badc05300e445ab168632c68e10117": {
          "model_module": "@jupyter-widgets/controls",
          "model_name": "DescriptionStyleModel",
          "model_module_version": "1.5.0",
          "state": {
            "_model_module": "@jupyter-widgets/controls",
            "_model_module_version": "1.5.0",
            "_model_name": "DescriptionStyleModel",
            "_view_count": null,
            "_view_module": "@jupyter-widgets/base",
            "_view_module_version": "1.2.0",
            "_view_name": "StyleView",
            "description_width": ""
          }
        },
        "ea61f8a044bd4502bd4e0c8b745804db": {
          "model_module": "@jupyter-widgets/controls",
          "model_name": "HBoxModel",
          "model_module_version": "1.5.0",
          "state": {
            "_dom_classes": [],
            "_model_module": "@jupyter-widgets/controls",
            "_model_module_version": "1.5.0",
            "_model_name": "HBoxModel",
            "_view_count": null,
            "_view_module": "@jupyter-widgets/controls",
            "_view_module_version": "1.5.0",
            "_view_name": "HBoxView",
            "box_style": "",
            "children": [
              "IPY_MODEL_b9196034b4714a8ead333f4c18da31be",
              "IPY_MODEL_4fd07ae3b82e41f9b8523c6085c850ea",
              "IPY_MODEL_b39a025b1f794c0a85f83a4017f39839"
            ],
            "layout": "IPY_MODEL_6c9a10496c0a458080356ff9745e4302"
          }
        },
        "b9196034b4714a8ead333f4c18da31be": {
          "model_module": "@jupyter-widgets/controls",
          "model_name": "HTMLModel",
          "model_module_version": "1.5.0",
          "state": {
            "_dom_classes": [],
            "_model_module": "@jupyter-widgets/controls",
            "_model_module_version": "1.5.0",
            "_model_name": "HTMLModel",
            "_view_count": null,
            "_view_module": "@jupyter-widgets/controls",
            "_view_module_version": "1.5.0",
            "_view_name": "HTMLView",
            "description": "",
            "description_tooltip": null,
            "layout": "IPY_MODEL_b79a42ca5f624fb5b2558d11ae6b5af1",
            "placeholder": "​",
            "style": "IPY_MODEL_4d2557f49d7d4c63bd4b95afd5c5a19b",
            "value": "Epochs 14/15. Running Loss:    0.0019: 100%"
          }
        },
        "4fd07ae3b82e41f9b8523c6085c850ea": {
          "model_module": "@jupyter-widgets/controls",
          "model_name": "FloatProgressModel",
          "model_module_version": "1.5.0",
          "state": {
            "_dom_classes": [],
            "_model_module": "@jupyter-widgets/controls",
            "_model_module_version": "1.5.0",
            "_model_name": "FloatProgressModel",
            "_view_count": null,
            "_view_module": "@jupyter-widgets/controls",
            "_view_module_version": "1.5.0",
            "_view_name": "ProgressView",
            "bar_style": "success",
            "description": "",
            "description_tooltip": null,
            "layout": "IPY_MODEL_dfcf88dc780b42fbaf75d1e675956c64",
            "max": 52,
            "min": 0,
            "orientation": "horizontal",
            "style": "IPY_MODEL_2c0624b54e1649e2b751f8e1df84268a",
            "value": 52
          }
        },
        "b39a025b1f794c0a85f83a4017f39839": {
          "model_module": "@jupyter-widgets/controls",
          "model_name": "HTMLModel",
          "model_module_version": "1.5.0",
          "state": {
            "_dom_classes": [],
            "_model_module": "@jupyter-widgets/controls",
            "_model_module_version": "1.5.0",
            "_model_name": "HTMLModel",
            "_view_count": null,
            "_view_module": "@jupyter-widgets/controls",
            "_view_module_version": "1.5.0",
            "_view_name": "HTMLView",
            "description": "",
            "description_tooltip": null,
            "layout": "IPY_MODEL_a6cb22100e2248fcb233984870b001ef",
            "placeholder": "​",
            "style": "IPY_MODEL_dd313523d88741d3ac492091e7f6c3a2",
            "value": " 52/52 [00:07&lt;00:00,  8.07it/s]"
          }
        },
        "6c9a10496c0a458080356ff9745e4302": {
          "model_module": "@jupyter-widgets/base",
          "model_name": "LayoutModel",
          "model_module_version": "1.2.0",
          "state": {
            "_model_module": "@jupyter-widgets/base",
            "_model_module_version": "1.2.0",
            "_model_name": "LayoutModel",
            "_view_count": null,
            "_view_module": "@jupyter-widgets/base",
            "_view_module_version": "1.2.0",
            "_view_name": "LayoutView",
            "align_content": null,
            "align_items": null,
            "align_self": null,
            "border": null,
            "bottom": null,
            "display": null,
            "flex": null,
            "flex_flow": null,
            "grid_area": null,
            "grid_auto_columns": null,
            "grid_auto_flow": null,
            "grid_auto_rows": null,
            "grid_column": null,
            "grid_gap": null,
            "grid_row": null,
            "grid_template_areas": null,
            "grid_template_columns": null,
            "grid_template_rows": null,
            "height": null,
            "justify_content": null,
            "justify_items": null,
            "left": null,
            "margin": null,
            "max_height": null,
            "max_width": null,
            "min_height": null,
            "min_width": null,
            "object_fit": null,
            "object_position": null,
            "order": null,
            "overflow": null,
            "overflow_x": null,
            "overflow_y": null,
            "padding": null,
            "right": null,
            "top": null,
            "visibility": null,
            "width": null
          }
        },
        "b79a42ca5f624fb5b2558d11ae6b5af1": {
          "model_module": "@jupyter-widgets/base",
          "model_name": "LayoutModel",
          "model_module_version": "1.2.0",
          "state": {
            "_model_module": "@jupyter-widgets/base",
            "_model_module_version": "1.2.0",
            "_model_name": "LayoutModel",
            "_view_count": null,
            "_view_module": "@jupyter-widgets/base",
            "_view_module_version": "1.2.0",
            "_view_name": "LayoutView",
            "align_content": null,
            "align_items": null,
            "align_self": null,
            "border": null,
            "bottom": null,
            "display": null,
            "flex": null,
            "flex_flow": null,
            "grid_area": null,
            "grid_auto_columns": null,
            "grid_auto_flow": null,
            "grid_auto_rows": null,
            "grid_column": null,
            "grid_gap": null,
            "grid_row": null,
            "grid_template_areas": null,
            "grid_template_columns": null,
            "grid_template_rows": null,
            "height": null,
            "justify_content": null,
            "justify_items": null,
            "left": null,
            "margin": null,
            "max_height": null,
            "max_width": null,
            "min_height": null,
            "min_width": null,
            "object_fit": null,
            "object_position": null,
            "order": null,
            "overflow": null,
            "overflow_x": null,
            "overflow_y": null,
            "padding": null,
            "right": null,
            "top": null,
            "visibility": null,
            "width": null
          }
        },
        "4d2557f49d7d4c63bd4b95afd5c5a19b": {
          "model_module": "@jupyter-widgets/controls",
          "model_name": "DescriptionStyleModel",
          "model_module_version": "1.5.0",
          "state": {
            "_model_module": "@jupyter-widgets/controls",
            "_model_module_version": "1.5.0",
            "_model_name": "DescriptionStyleModel",
            "_view_count": null,
            "_view_module": "@jupyter-widgets/base",
            "_view_module_version": "1.2.0",
            "_view_name": "StyleView",
            "description_width": ""
          }
        },
        "dfcf88dc780b42fbaf75d1e675956c64": {
          "model_module": "@jupyter-widgets/base",
          "model_name": "LayoutModel",
          "model_module_version": "1.2.0",
          "state": {
            "_model_module": "@jupyter-widgets/base",
            "_model_module_version": "1.2.0",
            "_model_name": "LayoutModel",
            "_view_count": null,
            "_view_module": "@jupyter-widgets/base",
            "_view_module_version": "1.2.0",
            "_view_name": "LayoutView",
            "align_content": null,
            "align_items": null,
            "align_self": null,
            "border": null,
            "bottom": null,
            "display": null,
            "flex": null,
            "flex_flow": null,
            "grid_area": null,
            "grid_auto_columns": null,
            "grid_auto_flow": null,
            "grid_auto_rows": null,
            "grid_column": null,
            "grid_gap": null,
            "grid_row": null,
            "grid_template_areas": null,
            "grid_template_columns": null,
            "grid_template_rows": null,
            "height": null,
            "justify_content": null,
            "justify_items": null,
            "left": null,
            "margin": null,
            "max_height": null,
            "max_width": null,
            "min_height": null,
            "min_width": null,
            "object_fit": null,
            "object_position": null,
            "order": null,
            "overflow": null,
            "overflow_x": null,
            "overflow_y": null,
            "padding": null,
            "right": null,
            "top": null,
            "visibility": null,
            "width": null
          }
        },
        "2c0624b54e1649e2b751f8e1df84268a": {
          "model_module": "@jupyter-widgets/controls",
          "model_name": "ProgressStyleModel",
          "model_module_version": "1.5.0",
          "state": {
            "_model_module": "@jupyter-widgets/controls",
            "_model_module_version": "1.5.0",
            "_model_name": "ProgressStyleModel",
            "_view_count": null,
            "_view_module": "@jupyter-widgets/base",
            "_view_module_version": "1.2.0",
            "_view_name": "StyleView",
            "bar_color": null,
            "description_width": ""
          }
        },
        "a6cb22100e2248fcb233984870b001ef": {
          "model_module": "@jupyter-widgets/base",
          "model_name": "LayoutModel",
          "model_module_version": "1.2.0",
          "state": {
            "_model_module": "@jupyter-widgets/base",
            "_model_module_version": "1.2.0",
            "_model_name": "LayoutModel",
            "_view_count": null,
            "_view_module": "@jupyter-widgets/base",
            "_view_module_version": "1.2.0",
            "_view_name": "LayoutView",
            "align_content": null,
            "align_items": null,
            "align_self": null,
            "border": null,
            "bottom": null,
            "display": null,
            "flex": null,
            "flex_flow": null,
            "grid_area": null,
            "grid_auto_columns": null,
            "grid_auto_flow": null,
            "grid_auto_rows": null,
            "grid_column": null,
            "grid_gap": null,
            "grid_row": null,
            "grid_template_areas": null,
            "grid_template_columns": null,
            "grid_template_rows": null,
            "height": null,
            "justify_content": null,
            "justify_items": null,
            "left": null,
            "margin": null,
            "max_height": null,
            "max_width": null,
            "min_height": null,
            "min_width": null,
            "object_fit": null,
            "object_position": null,
            "order": null,
            "overflow": null,
            "overflow_x": null,
            "overflow_y": null,
            "padding": null,
            "right": null,
            "top": null,
            "visibility": null,
            "width": null
          }
        },
        "dd313523d88741d3ac492091e7f6c3a2": {
          "model_module": "@jupyter-widgets/controls",
          "model_name": "DescriptionStyleModel",
          "model_module_version": "1.5.0",
          "state": {
            "_model_module": "@jupyter-widgets/controls",
            "_model_module_version": "1.5.0",
            "_model_name": "DescriptionStyleModel",
            "_view_count": null,
            "_view_module": "@jupyter-widgets/base",
            "_view_module_version": "1.2.0",
            "_view_name": "StyleView",
            "description_width": ""
          }
        },
        "6fb1db85697c4129a2cf0749b7c9dffc": {
          "model_module": "@jupyter-widgets/controls",
          "model_name": "HBoxModel",
          "model_module_version": "1.5.0",
          "state": {
            "_dom_classes": [],
            "_model_module": "@jupyter-widgets/controls",
            "_model_module_version": "1.5.0",
            "_model_name": "HBoxModel",
            "_view_count": null,
            "_view_module": "@jupyter-widgets/controls",
            "_view_module_version": "1.5.0",
            "_view_name": "HBoxView",
            "box_style": "",
            "children": [
              "IPY_MODEL_97e6aec9ee4c4bba8b264d2c7171ddc6",
              "IPY_MODEL_50fac4bd37f5450fa7ca6ffed00989d6",
              "IPY_MODEL_33cd259446bd43a79d35633aafcca18a"
            ],
            "layout": "IPY_MODEL_90075d98673243f4b5e03ea99fd8f13f"
          }
        },
        "97e6aec9ee4c4bba8b264d2c7171ddc6": {
          "model_module": "@jupyter-widgets/controls",
          "model_name": "HTMLModel",
          "model_module_version": "1.5.0",
          "state": {
            "_dom_classes": [],
            "_model_module": "@jupyter-widgets/controls",
            "_model_module_version": "1.5.0",
            "_model_name": "HTMLModel",
            "_view_count": null,
            "_view_module": "@jupyter-widgets/controls",
            "_view_module_version": "1.5.0",
            "_view_name": "HTMLView",
            "description": "",
            "description_tooltip": null,
            "layout": "IPY_MODEL_264ee2b3cd6a45daa7a0795c8870d485",
            "placeholder": "​",
            "style": "IPY_MODEL_aa139f9b2e084e81862d59870c2abafe",
            "value": "100%"
          }
        },
        "50fac4bd37f5450fa7ca6ffed00989d6": {
          "model_module": "@jupyter-widgets/controls",
          "model_name": "FloatProgressModel",
          "model_module_version": "1.5.0",
          "state": {
            "_dom_classes": [],
            "_model_module": "@jupyter-widgets/controls",
            "_model_module_version": "1.5.0",
            "_model_name": "FloatProgressModel",
            "_view_count": null,
            "_view_module": "@jupyter-widgets/controls",
            "_view_module_version": "1.5.0",
            "_view_name": "ProgressView",
            "bar_style": "success",
            "description": "",
            "description_tooltip": null,
            "layout": "IPY_MODEL_b05ff48a89df49c1b9c1f045626cd652",
            "max": 1,
            "min": 0,
            "orientation": "horizontal",
            "style": "IPY_MODEL_ee779d87a8de451ea79327bf1e6670fb",
            "value": 1
          }
        },
        "33cd259446bd43a79d35633aafcca18a": {
          "model_module": "@jupyter-widgets/controls",
          "model_name": "HTMLModel",
          "model_module_version": "1.5.0",
          "state": {
            "_dom_classes": [],
            "_model_module": "@jupyter-widgets/controls",
            "_model_module_version": "1.5.0",
            "_model_name": "HTMLModel",
            "_view_count": null,
            "_view_module": "@jupyter-widgets/controls",
            "_view_module_version": "1.5.0",
            "_view_name": "HTMLView",
            "description": "",
            "description_tooltip": null,
            "layout": "IPY_MODEL_a3f71ba3fbc44455b900c18225df8637",
            "placeholder": "​",
            "style": "IPY_MODEL_d86fc2eb0d8c40d3a6456736fbc2248c",
            "value": " 1/1 [00:00&lt;00:00,  2.22it/s]"
          }
        },
        "90075d98673243f4b5e03ea99fd8f13f": {
          "model_module": "@jupyter-widgets/base",
          "model_name": "LayoutModel",
          "model_module_version": "1.2.0",
          "state": {
            "_model_module": "@jupyter-widgets/base",
            "_model_module_version": "1.2.0",
            "_model_name": "LayoutModel",
            "_view_count": null,
            "_view_module": "@jupyter-widgets/base",
            "_view_module_version": "1.2.0",
            "_view_name": "LayoutView",
            "align_content": null,
            "align_items": null,
            "align_self": null,
            "border": null,
            "bottom": null,
            "display": null,
            "flex": null,
            "flex_flow": null,
            "grid_area": null,
            "grid_auto_columns": null,
            "grid_auto_flow": null,
            "grid_auto_rows": null,
            "grid_column": null,
            "grid_gap": null,
            "grid_row": null,
            "grid_template_areas": null,
            "grid_template_columns": null,
            "grid_template_rows": null,
            "height": null,
            "justify_content": null,
            "justify_items": null,
            "left": null,
            "margin": null,
            "max_height": null,
            "max_width": null,
            "min_height": null,
            "min_width": null,
            "object_fit": null,
            "object_position": null,
            "order": null,
            "overflow": null,
            "overflow_x": null,
            "overflow_y": null,
            "padding": null,
            "right": null,
            "top": null,
            "visibility": null,
            "width": null
          }
        },
        "264ee2b3cd6a45daa7a0795c8870d485": {
          "model_module": "@jupyter-widgets/base",
          "model_name": "LayoutModel",
          "model_module_version": "1.2.0",
          "state": {
            "_model_module": "@jupyter-widgets/base",
            "_model_module_version": "1.2.0",
            "_model_name": "LayoutModel",
            "_view_count": null,
            "_view_module": "@jupyter-widgets/base",
            "_view_module_version": "1.2.0",
            "_view_name": "LayoutView",
            "align_content": null,
            "align_items": null,
            "align_self": null,
            "border": null,
            "bottom": null,
            "display": null,
            "flex": null,
            "flex_flow": null,
            "grid_area": null,
            "grid_auto_columns": null,
            "grid_auto_flow": null,
            "grid_auto_rows": null,
            "grid_column": null,
            "grid_gap": null,
            "grid_row": null,
            "grid_template_areas": null,
            "grid_template_columns": null,
            "grid_template_rows": null,
            "height": null,
            "justify_content": null,
            "justify_items": null,
            "left": null,
            "margin": null,
            "max_height": null,
            "max_width": null,
            "min_height": null,
            "min_width": null,
            "object_fit": null,
            "object_position": null,
            "order": null,
            "overflow": null,
            "overflow_x": null,
            "overflow_y": null,
            "padding": null,
            "right": null,
            "top": null,
            "visibility": null,
            "width": null
          }
        },
        "aa139f9b2e084e81862d59870c2abafe": {
          "model_module": "@jupyter-widgets/controls",
          "model_name": "DescriptionStyleModel",
          "model_module_version": "1.5.0",
          "state": {
            "_model_module": "@jupyter-widgets/controls",
            "_model_module_version": "1.5.0",
            "_model_name": "DescriptionStyleModel",
            "_view_count": null,
            "_view_module": "@jupyter-widgets/base",
            "_view_module_version": "1.2.0",
            "_view_name": "StyleView",
            "description_width": ""
          }
        },
        "b05ff48a89df49c1b9c1f045626cd652": {
          "model_module": "@jupyter-widgets/base",
          "model_name": "LayoutModel",
          "model_module_version": "1.2.0",
          "state": {
            "_model_module": "@jupyter-widgets/base",
            "_model_module_version": "1.2.0",
            "_model_name": "LayoutModel",
            "_view_count": null,
            "_view_module": "@jupyter-widgets/base",
            "_view_module_version": "1.2.0",
            "_view_name": "LayoutView",
            "align_content": null,
            "align_items": null,
            "align_self": null,
            "border": null,
            "bottom": null,
            "display": null,
            "flex": null,
            "flex_flow": null,
            "grid_area": null,
            "grid_auto_columns": null,
            "grid_auto_flow": null,
            "grid_auto_rows": null,
            "grid_column": null,
            "grid_gap": null,
            "grid_row": null,
            "grid_template_areas": null,
            "grid_template_columns": null,
            "grid_template_rows": null,
            "height": null,
            "justify_content": null,
            "justify_items": null,
            "left": null,
            "margin": null,
            "max_height": null,
            "max_width": null,
            "min_height": null,
            "min_width": null,
            "object_fit": null,
            "object_position": null,
            "order": null,
            "overflow": null,
            "overflow_x": null,
            "overflow_y": null,
            "padding": null,
            "right": null,
            "top": null,
            "visibility": null,
            "width": null
          }
        },
        "ee779d87a8de451ea79327bf1e6670fb": {
          "model_module": "@jupyter-widgets/controls",
          "model_name": "ProgressStyleModel",
          "model_module_version": "1.5.0",
          "state": {
            "_model_module": "@jupyter-widgets/controls",
            "_model_module_version": "1.5.0",
            "_model_name": "ProgressStyleModel",
            "_view_count": null,
            "_view_module": "@jupyter-widgets/base",
            "_view_module_version": "1.2.0",
            "_view_name": "StyleView",
            "bar_color": null,
            "description_width": ""
          }
        },
        "a3f71ba3fbc44455b900c18225df8637": {
          "model_module": "@jupyter-widgets/base",
          "model_name": "LayoutModel",
          "model_module_version": "1.2.0",
          "state": {
            "_model_module": "@jupyter-widgets/base",
            "_model_module_version": "1.2.0",
            "_model_name": "LayoutModel",
            "_view_count": null,
            "_view_module": "@jupyter-widgets/base",
            "_view_module_version": "1.2.0",
            "_view_name": "LayoutView",
            "align_content": null,
            "align_items": null,
            "align_self": null,
            "border": null,
            "bottom": null,
            "display": null,
            "flex": null,
            "flex_flow": null,
            "grid_area": null,
            "grid_auto_columns": null,
            "grid_auto_flow": null,
            "grid_auto_rows": null,
            "grid_column": null,
            "grid_gap": null,
            "grid_row": null,
            "grid_template_areas": null,
            "grid_template_columns": null,
            "grid_template_rows": null,
            "height": null,
            "justify_content": null,
            "justify_items": null,
            "left": null,
            "margin": null,
            "max_height": null,
            "max_width": null,
            "min_height": null,
            "min_width": null,
            "object_fit": null,
            "object_position": null,
            "order": null,
            "overflow": null,
            "overflow_x": null,
            "overflow_y": null,
            "padding": null,
            "right": null,
            "top": null,
            "visibility": null,
            "width": null
          }
        },
        "d86fc2eb0d8c40d3a6456736fbc2248c": {
          "model_module": "@jupyter-widgets/controls",
          "model_name": "DescriptionStyleModel",
          "model_module_version": "1.5.0",
          "state": {
            "_model_module": "@jupyter-widgets/controls",
            "_model_module_version": "1.5.0",
            "_model_name": "DescriptionStyleModel",
            "_view_count": null,
            "_view_module": "@jupyter-widgets/base",
            "_view_module_version": "1.2.0",
            "_view_name": "StyleView",
            "description_width": ""
          }
        },
        "b9616884fd8e401dac7dc2ad4e44c5ff": {
          "model_module": "@jupyter-widgets/controls",
          "model_name": "HBoxModel",
          "model_module_version": "1.5.0",
          "state": {
            "_dom_classes": [],
            "_model_module": "@jupyter-widgets/controls",
            "_model_module_version": "1.5.0",
            "_model_name": "HBoxModel",
            "_view_count": null,
            "_view_module": "@jupyter-widgets/controls",
            "_view_module_version": "1.5.0",
            "_view_name": "HBoxView",
            "box_style": "",
            "children": [
              "IPY_MODEL_64a999f5ff494429a4a10350bdbc0ab7",
              "IPY_MODEL_6a76a86ab503463fbc20a4e97c705530",
              "IPY_MODEL_6ba2a8154a4c45789ec123edb7fb2364"
            ],
            "layout": "IPY_MODEL_1ab106a76bba427ca8c2d4a2e646bbd6"
          }
        },
        "64a999f5ff494429a4a10350bdbc0ab7": {
          "model_module": "@jupyter-widgets/controls",
          "model_name": "HTMLModel",
          "model_module_version": "1.5.0",
          "state": {
            "_dom_classes": [],
            "_model_module": "@jupyter-widgets/controls",
            "_model_module_version": "1.5.0",
            "_model_name": "HTMLModel",
            "_view_count": null,
            "_view_module": "@jupyter-widgets/controls",
            "_view_module_version": "1.5.0",
            "_view_name": "HTMLView",
            "description": "",
            "description_tooltip": null,
            "layout": "IPY_MODEL_d0c1d7ba47864e50905fbb2de72e950a",
            "placeholder": "​",
            "style": "IPY_MODEL_7da317eddea84cbebfc83e77f0ca4d2e",
            "value": "Running Evaluation: 100%"
          }
        },
        "6a76a86ab503463fbc20a4e97c705530": {
          "model_module": "@jupyter-widgets/controls",
          "model_name": "FloatProgressModel",
          "model_module_version": "1.5.0",
          "state": {
            "_dom_classes": [],
            "_model_module": "@jupyter-widgets/controls",
            "_model_module_version": "1.5.0",
            "_model_name": "FloatProgressModel",
            "_view_count": null,
            "_view_module": "@jupyter-widgets/controls",
            "_view_module_version": "1.5.0",
            "_view_name": "ProgressView",
            "bar_style": "success",
            "description": "",
            "description_tooltip": null,
            "layout": "IPY_MODEL_98e823c5879a4fa6b29bc0ded48044e4",
            "max": 14,
            "min": 0,
            "orientation": "horizontal",
            "style": "IPY_MODEL_86b6f683ef3c4eb7aea124c9b82773f4",
            "value": 14
          }
        },
        "6ba2a8154a4c45789ec123edb7fb2364": {
          "model_module": "@jupyter-widgets/controls",
          "model_name": "HTMLModel",
          "model_module_version": "1.5.0",
          "state": {
            "_dom_classes": [],
            "_model_module": "@jupyter-widgets/controls",
            "_model_module_version": "1.5.0",
            "_model_name": "HTMLModel",
            "_view_count": null,
            "_view_module": "@jupyter-widgets/controls",
            "_view_module_version": "1.5.0",
            "_view_name": "HTMLView",
            "description": "",
            "description_tooltip": null,
            "layout": "IPY_MODEL_3722ca658310476d8fdc645a64d83159",
            "placeholder": "​",
            "style": "IPY_MODEL_2b833cc49b8840e9abdfd546adc09572",
            "value": " 14/14 [00:00&lt;00:00, 24.91it/s]"
          }
        },
        "1ab106a76bba427ca8c2d4a2e646bbd6": {
          "model_module": "@jupyter-widgets/base",
          "model_name": "LayoutModel",
          "model_module_version": "1.2.0",
          "state": {
            "_model_module": "@jupyter-widgets/base",
            "_model_module_version": "1.2.0",
            "_model_name": "LayoutModel",
            "_view_count": null,
            "_view_module": "@jupyter-widgets/base",
            "_view_module_version": "1.2.0",
            "_view_name": "LayoutView",
            "align_content": null,
            "align_items": null,
            "align_self": null,
            "border": null,
            "bottom": null,
            "display": null,
            "flex": null,
            "flex_flow": null,
            "grid_area": null,
            "grid_auto_columns": null,
            "grid_auto_flow": null,
            "grid_auto_rows": null,
            "grid_column": null,
            "grid_gap": null,
            "grid_row": null,
            "grid_template_areas": null,
            "grid_template_columns": null,
            "grid_template_rows": null,
            "height": null,
            "justify_content": null,
            "justify_items": null,
            "left": null,
            "margin": null,
            "max_height": null,
            "max_width": null,
            "min_height": null,
            "min_width": null,
            "object_fit": null,
            "object_position": null,
            "order": null,
            "overflow": null,
            "overflow_x": null,
            "overflow_y": null,
            "padding": null,
            "right": null,
            "top": null,
            "visibility": null,
            "width": null
          }
        },
        "d0c1d7ba47864e50905fbb2de72e950a": {
          "model_module": "@jupyter-widgets/base",
          "model_name": "LayoutModel",
          "model_module_version": "1.2.0",
          "state": {
            "_model_module": "@jupyter-widgets/base",
            "_model_module_version": "1.2.0",
            "_model_name": "LayoutModel",
            "_view_count": null,
            "_view_module": "@jupyter-widgets/base",
            "_view_module_version": "1.2.0",
            "_view_name": "LayoutView",
            "align_content": null,
            "align_items": null,
            "align_self": null,
            "border": null,
            "bottom": null,
            "display": null,
            "flex": null,
            "flex_flow": null,
            "grid_area": null,
            "grid_auto_columns": null,
            "grid_auto_flow": null,
            "grid_auto_rows": null,
            "grid_column": null,
            "grid_gap": null,
            "grid_row": null,
            "grid_template_areas": null,
            "grid_template_columns": null,
            "grid_template_rows": null,
            "height": null,
            "justify_content": null,
            "justify_items": null,
            "left": null,
            "margin": null,
            "max_height": null,
            "max_width": null,
            "min_height": null,
            "min_width": null,
            "object_fit": null,
            "object_position": null,
            "order": null,
            "overflow": null,
            "overflow_x": null,
            "overflow_y": null,
            "padding": null,
            "right": null,
            "top": null,
            "visibility": null,
            "width": null
          }
        },
        "7da317eddea84cbebfc83e77f0ca4d2e": {
          "model_module": "@jupyter-widgets/controls",
          "model_name": "DescriptionStyleModel",
          "model_module_version": "1.5.0",
          "state": {
            "_model_module": "@jupyter-widgets/controls",
            "_model_module_version": "1.5.0",
            "_model_name": "DescriptionStyleModel",
            "_view_count": null,
            "_view_module": "@jupyter-widgets/base",
            "_view_module_version": "1.2.0",
            "_view_name": "StyleView",
            "description_width": ""
          }
        },
        "98e823c5879a4fa6b29bc0ded48044e4": {
          "model_module": "@jupyter-widgets/base",
          "model_name": "LayoutModel",
          "model_module_version": "1.2.0",
          "state": {
            "_model_module": "@jupyter-widgets/base",
            "_model_module_version": "1.2.0",
            "_model_name": "LayoutModel",
            "_view_count": null,
            "_view_module": "@jupyter-widgets/base",
            "_view_module_version": "1.2.0",
            "_view_name": "LayoutView",
            "align_content": null,
            "align_items": null,
            "align_self": null,
            "border": null,
            "bottom": null,
            "display": null,
            "flex": null,
            "flex_flow": null,
            "grid_area": null,
            "grid_auto_columns": null,
            "grid_auto_flow": null,
            "grid_auto_rows": null,
            "grid_column": null,
            "grid_gap": null,
            "grid_row": null,
            "grid_template_areas": null,
            "grid_template_columns": null,
            "grid_template_rows": null,
            "height": null,
            "justify_content": null,
            "justify_items": null,
            "left": null,
            "margin": null,
            "max_height": null,
            "max_width": null,
            "min_height": null,
            "min_width": null,
            "object_fit": null,
            "object_position": null,
            "order": null,
            "overflow": null,
            "overflow_x": null,
            "overflow_y": null,
            "padding": null,
            "right": null,
            "top": null,
            "visibility": null,
            "width": null
          }
        },
        "86b6f683ef3c4eb7aea124c9b82773f4": {
          "model_module": "@jupyter-widgets/controls",
          "model_name": "ProgressStyleModel",
          "model_module_version": "1.5.0",
          "state": {
            "_model_module": "@jupyter-widgets/controls",
            "_model_module_version": "1.5.0",
            "_model_name": "ProgressStyleModel",
            "_view_count": null,
            "_view_module": "@jupyter-widgets/base",
            "_view_module_version": "1.2.0",
            "_view_name": "StyleView",
            "bar_color": null,
            "description_width": ""
          }
        },
        "3722ca658310476d8fdc645a64d83159": {
          "model_module": "@jupyter-widgets/base",
          "model_name": "LayoutModel",
          "model_module_version": "1.2.0",
          "state": {
            "_model_module": "@jupyter-widgets/base",
            "_model_module_version": "1.2.0",
            "_model_name": "LayoutModel",
            "_view_count": null,
            "_view_module": "@jupyter-widgets/base",
            "_view_module_version": "1.2.0",
            "_view_name": "LayoutView",
            "align_content": null,
            "align_items": null,
            "align_self": null,
            "border": null,
            "bottom": null,
            "display": null,
            "flex": null,
            "flex_flow": null,
            "grid_area": null,
            "grid_auto_columns": null,
            "grid_auto_flow": null,
            "grid_auto_rows": null,
            "grid_column": null,
            "grid_gap": null,
            "grid_row": null,
            "grid_template_areas": null,
            "grid_template_columns": null,
            "grid_template_rows": null,
            "height": null,
            "justify_content": null,
            "justify_items": null,
            "left": null,
            "margin": null,
            "max_height": null,
            "max_width": null,
            "min_height": null,
            "min_width": null,
            "object_fit": null,
            "object_position": null,
            "order": null,
            "overflow": null,
            "overflow_x": null,
            "overflow_y": null,
            "padding": null,
            "right": null,
            "top": null,
            "visibility": null,
            "width": null
          }
        },
        "2b833cc49b8840e9abdfd546adc09572": {
          "model_module": "@jupyter-widgets/controls",
          "model_name": "DescriptionStyleModel",
          "model_module_version": "1.5.0",
          "state": {
            "_model_module": "@jupyter-widgets/controls",
            "_model_module_version": "1.5.0",
            "_model_name": "DescriptionStyleModel",
            "_view_count": null,
            "_view_module": "@jupyter-widgets/base",
            "_view_module_version": "1.2.0",
            "_view_name": "StyleView",
            "description_width": ""
          }
        },
        "cad4b6689e7449c28b1cc6790a915ca7": {
          "model_module": "@jupyter-widgets/controls",
          "model_name": "HBoxModel",
          "model_module_version": "1.5.0",
          "state": {
            "_dom_classes": [],
            "_model_module": "@jupyter-widgets/controls",
            "_model_module_version": "1.5.0",
            "_model_name": "HBoxModel",
            "_view_count": null,
            "_view_module": "@jupyter-widgets/controls",
            "_view_module_version": "1.5.0",
            "_view_name": "HBoxView",
            "box_style": "",
            "children": [
              "IPY_MODEL_9c9b394d210f4bd9a4a1b6251473c4ad",
              "IPY_MODEL_02e92702c4e34a0e91949af07e6b1edf",
              "IPY_MODEL_2352ebeec9e140f091ac4411a530de42"
            ],
            "layout": "IPY_MODEL_a457a05d17434a5396231eaf0fe82cf7"
          }
        },
        "9c9b394d210f4bd9a4a1b6251473c4ad": {
          "model_module": "@jupyter-widgets/controls",
          "model_name": "HTMLModel",
          "model_module_version": "1.5.0",
          "state": {
            "_dom_classes": [],
            "_model_module": "@jupyter-widgets/controls",
            "_model_module_version": "1.5.0",
            "_model_name": "HTMLModel",
            "_view_count": null,
            "_view_module": "@jupyter-widgets/controls",
            "_view_module_version": "1.5.0",
            "_view_name": "HTMLView",
            "description": "",
            "description_tooltip": null,
            "layout": "IPY_MODEL_9531f7f5b5a947bc8767e6d58155325d",
            "placeholder": "​",
            "style": "IPY_MODEL_1dab94ef306d4a0095fdfd19e646984b",
            "value": "100%"
          }
        },
        "02e92702c4e34a0e91949af07e6b1edf": {
          "model_module": "@jupyter-widgets/controls",
          "model_name": "FloatProgressModel",
          "model_module_version": "1.5.0",
          "state": {
            "_dom_classes": [],
            "_model_module": "@jupyter-widgets/controls",
            "_model_module_version": "1.5.0",
            "_model_name": "FloatProgressModel",
            "_view_count": null,
            "_view_module": "@jupyter-widgets/controls",
            "_view_module_version": "1.5.0",
            "_view_name": "ProgressView",
            "bar_style": "success",
            "description": "",
            "description_tooltip": null,
            "layout": "IPY_MODEL_44c542e20fad4ca39600d4da258e3465",
            "max": 2,
            "min": 0,
            "orientation": "horizontal",
            "style": "IPY_MODEL_cbc3c35b1e4647ba86ac860db5025acc",
            "value": 2
          }
        },
        "2352ebeec9e140f091ac4411a530de42": {
          "model_module": "@jupyter-widgets/controls",
          "model_name": "HTMLModel",
          "model_module_version": "1.5.0",
          "state": {
            "_dom_classes": [],
            "_model_module": "@jupyter-widgets/controls",
            "_model_module_version": "1.5.0",
            "_model_name": "HTMLModel",
            "_view_count": null,
            "_view_module": "@jupyter-widgets/controls",
            "_view_module_version": "1.5.0",
            "_view_name": "HTMLView",
            "description": "",
            "description_tooltip": null,
            "layout": "IPY_MODEL_33995067df624694832ab90893ad16e4",
            "placeholder": "​",
            "style": "IPY_MODEL_0a068d7940944fb5bf5a4f6788e12176",
            "value": " 2/2 [00:01&lt;00:00,  1.76it/s]"
          }
        },
        "a457a05d17434a5396231eaf0fe82cf7": {
          "model_module": "@jupyter-widgets/base",
          "model_name": "LayoutModel",
          "model_module_version": "1.2.0",
          "state": {
            "_model_module": "@jupyter-widgets/base",
            "_model_module_version": "1.2.0",
            "_model_name": "LayoutModel",
            "_view_count": null,
            "_view_module": "@jupyter-widgets/base",
            "_view_module_version": "1.2.0",
            "_view_name": "LayoutView",
            "align_content": null,
            "align_items": null,
            "align_self": null,
            "border": null,
            "bottom": null,
            "display": null,
            "flex": null,
            "flex_flow": null,
            "grid_area": null,
            "grid_auto_columns": null,
            "grid_auto_flow": null,
            "grid_auto_rows": null,
            "grid_column": null,
            "grid_gap": null,
            "grid_row": null,
            "grid_template_areas": null,
            "grid_template_columns": null,
            "grid_template_rows": null,
            "height": null,
            "justify_content": null,
            "justify_items": null,
            "left": null,
            "margin": null,
            "max_height": null,
            "max_width": null,
            "min_height": null,
            "min_width": null,
            "object_fit": null,
            "object_position": null,
            "order": null,
            "overflow": null,
            "overflow_x": null,
            "overflow_y": null,
            "padding": null,
            "right": null,
            "top": null,
            "visibility": null,
            "width": null
          }
        },
        "9531f7f5b5a947bc8767e6d58155325d": {
          "model_module": "@jupyter-widgets/base",
          "model_name": "LayoutModel",
          "model_module_version": "1.2.0",
          "state": {
            "_model_module": "@jupyter-widgets/base",
            "_model_module_version": "1.2.0",
            "_model_name": "LayoutModel",
            "_view_count": null,
            "_view_module": "@jupyter-widgets/base",
            "_view_module_version": "1.2.0",
            "_view_name": "LayoutView",
            "align_content": null,
            "align_items": null,
            "align_self": null,
            "border": null,
            "bottom": null,
            "display": null,
            "flex": null,
            "flex_flow": null,
            "grid_area": null,
            "grid_auto_columns": null,
            "grid_auto_flow": null,
            "grid_auto_rows": null,
            "grid_column": null,
            "grid_gap": null,
            "grid_row": null,
            "grid_template_areas": null,
            "grid_template_columns": null,
            "grid_template_rows": null,
            "height": null,
            "justify_content": null,
            "justify_items": null,
            "left": null,
            "margin": null,
            "max_height": null,
            "max_width": null,
            "min_height": null,
            "min_width": null,
            "object_fit": null,
            "object_position": null,
            "order": null,
            "overflow": null,
            "overflow_x": null,
            "overflow_y": null,
            "padding": null,
            "right": null,
            "top": null,
            "visibility": null,
            "width": null
          }
        },
        "1dab94ef306d4a0095fdfd19e646984b": {
          "model_module": "@jupyter-widgets/controls",
          "model_name": "DescriptionStyleModel",
          "model_module_version": "1.5.0",
          "state": {
            "_model_module": "@jupyter-widgets/controls",
            "_model_module_version": "1.5.0",
            "_model_name": "DescriptionStyleModel",
            "_view_count": null,
            "_view_module": "@jupyter-widgets/base",
            "_view_module_version": "1.2.0",
            "_view_name": "StyleView",
            "description_width": ""
          }
        },
        "44c542e20fad4ca39600d4da258e3465": {
          "model_module": "@jupyter-widgets/base",
          "model_name": "LayoutModel",
          "model_module_version": "1.2.0",
          "state": {
            "_model_module": "@jupyter-widgets/base",
            "_model_module_version": "1.2.0",
            "_model_name": "LayoutModel",
            "_view_count": null,
            "_view_module": "@jupyter-widgets/base",
            "_view_module_version": "1.2.0",
            "_view_name": "LayoutView",
            "align_content": null,
            "align_items": null,
            "align_self": null,
            "border": null,
            "bottom": null,
            "display": null,
            "flex": null,
            "flex_flow": null,
            "grid_area": null,
            "grid_auto_columns": null,
            "grid_auto_flow": null,
            "grid_auto_rows": null,
            "grid_column": null,
            "grid_gap": null,
            "grid_row": null,
            "grid_template_areas": null,
            "grid_template_columns": null,
            "grid_template_rows": null,
            "height": null,
            "justify_content": null,
            "justify_items": null,
            "left": null,
            "margin": null,
            "max_height": null,
            "max_width": null,
            "min_height": null,
            "min_width": null,
            "object_fit": null,
            "object_position": null,
            "order": null,
            "overflow": null,
            "overflow_x": null,
            "overflow_y": null,
            "padding": null,
            "right": null,
            "top": null,
            "visibility": null,
            "width": null
          }
        },
        "cbc3c35b1e4647ba86ac860db5025acc": {
          "model_module": "@jupyter-widgets/controls",
          "model_name": "ProgressStyleModel",
          "model_module_version": "1.5.0",
          "state": {
            "_model_module": "@jupyter-widgets/controls",
            "_model_module_version": "1.5.0",
            "_model_name": "ProgressStyleModel",
            "_view_count": null,
            "_view_module": "@jupyter-widgets/base",
            "_view_module_version": "1.2.0",
            "_view_name": "StyleView",
            "bar_color": null,
            "description_width": ""
          }
        },
        "33995067df624694832ab90893ad16e4": {
          "model_module": "@jupyter-widgets/base",
          "model_name": "LayoutModel",
          "model_module_version": "1.2.0",
          "state": {
            "_model_module": "@jupyter-widgets/base",
            "_model_module_version": "1.2.0",
            "_model_name": "LayoutModel",
            "_view_count": null,
            "_view_module": "@jupyter-widgets/base",
            "_view_module_version": "1.2.0",
            "_view_name": "LayoutView",
            "align_content": null,
            "align_items": null,
            "align_self": null,
            "border": null,
            "bottom": null,
            "display": null,
            "flex": null,
            "flex_flow": null,
            "grid_area": null,
            "grid_auto_columns": null,
            "grid_auto_flow": null,
            "grid_auto_rows": null,
            "grid_column": null,
            "grid_gap": null,
            "grid_row": null,
            "grid_template_areas": null,
            "grid_template_columns": null,
            "grid_template_rows": null,
            "height": null,
            "justify_content": null,
            "justify_items": null,
            "left": null,
            "margin": null,
            "max_height": null,
            "max_width": null,
            "min_height": null,
            "min_width": null,
            "object_fit": null,
            "object_position": null,
            "order": null,
            "overflow": null,
            "overflow_x": null,
            "overflow_y": null,
            "padding": null,
            "right": null,
            "top": null,
            "visibility": null,
            "width": null
          }
        },
        "0a068d7940944fb5bf5a4f6788e12176": {
          "model_module": "@jupyter-widgets/controls",
          "model_name": "DescriptionStyleModel",
          "model_module_version": "1.5.0",
          "state": {
            "_model_module": "@jupyter-widgets/controls",
            "_model_module_version": "1.5.0",
            "_model_name": "DescriptionStyleModel",
            "_view_count": null,
            "_view_module": "@jupyter-widgets/base",
            "_view_module_version": "1.2.0",
            "_view_name": "StyleView",
            "description_width": ""
          }
        },
        "f424a1e0f5c94b6e8ade4eda25372ebf": {
          "model_module": "@jupyter-widgets/controls",
          "model_name": "HBoxModel",
          "model_module_version": "1.5.0",
          "state": {
            "_dom_classes": [],
            "_model_module": "@jupyter-widgets/controls",
            "_model_module_version": "1.5.0",
            "_model_name": "HBoxModel",
            "_view_count": null,
            "_view_module": "@jupyter-widgets/controls",
            "_view_module_version": "1.5.0",
            "_view_name": "HBoxView",
            "box_style": "",
            "children": [
              "IPY_MODEL_8e275766d3ec4ab58a7c69e94a1b23e0",
              "IPY_MODEL_0d99b67732a142d19b510f90d8487669",
              "IPY_MODEL_27b1a934a41c4538a0f78363747a0a69"
            ],
            "layout": "IPY_MODEL_8347c882fe984887af4d3929907167ad"
          }
        },
        "8e275766d3ec4ab58a7c69e94a1b23e0": {
          "model_module": "@jupyter-widgets/controls",
          "model_name": "HTMLModel",
          "model_module_version": "1.5.0",
          "state": {
            "_dom_classes": [],
            "_model_module": "@jupyter-widgets/controls",
            "_model_module_version": "1.5.0",
            "_model_name": "HTMLModel",
            "_view_count": null,
            "_view_module": "@jupyter-widgets/controls",
            "_view_module_version": "1.5.0",
            "_view_name": "HTMLView",
            "description": "",
            "description_tooltip": null,
            "layout": "IPY_MODEL_ab58fe0387ff45fda4d25ca8d291a2ef",
            "placeholder": "​",
            "style": "IPY_MODEL_b245687170e84b38810d2fba75c27bff",
            "value": "Running Evaluation: 100%"
          }
        },
        "0d99b67732a142d19b510f90d8487669": {
          "model_module": "@jupyter-widgets/controls",
          "model_name": "FloatProgressModel",
          "model_module_version": "1.5.0",
          "state": {
            "_dom_classes": [],
            "_model_module": "@jupyter-widgets/controls",
            "_model_module_version": "1.5.0",
            "_model_name": "FloatProgressModel",
            "_view_count": null,
            "_view_module": "@jupyter-widgets/controls",
            "_view_module_version": "1.5.0",
            "_view_name": "ProgressView",
            "bar_style": "success",
            "description": "",
            "description_tooltip": null,
            "layout": "IPY_MODEL_6d82dbd2d77e411e9195abcc199d4410",
            "max": 52,
            "min": 0,
            "orientation": "horizontal",
            "style": "IPY_MODEL_99e13541dcd4417dbe80d8f33529d5ee",
            "value": 52
          }
        },
        "27b1a934a41c4538a0f78363747a0a69": {
          "model_module": "@jupyter-widgets/controls",
          "model_name": "HTMLModel",
          "model_module_version": "1.5.0",
          "state": {
            "_dom_classes": [],
            "_model_module": "@jupyter-widgets/controls",
            "_model_module_version": "1.5.0",
            "_model_name": "HTMLModel",
            "_view_count": null,
            "_view_module": "@jupyter-widgets/controls",
            "_view_module_version": "1.5.0",
            "_view_name": "HTMLView",
            "description": "",
            "description_tooltip": null,
            "layout": "IPY_MODEL_068d1ca1c28141759c9e3e02b61bb7f9",
            "placeholder": "​",
            "style": "IPY_MODEL_9ce13c5241c446ea89b20259f0773e8f",
            "value": " 52/52 [00:01&lt;00:00, 28.38it/s]"
          }
        },
        "8347c882fe984887af4d3929907167ad": {
          "model_module": "@jupyter-widgets/base",
          "model_name": "LayoutModel",
          "model_module_version": "1.2.0",
          "state": {
            "_model_module": "@jupyter-widgets/base",
            "_model_module_version": "1.2.0",
            "_model_name": "LayoutModel",
            "_view_count": null,
            "_view_module": "@jupyter-widgets/base",
            "_view_module_version": "1.2.0",
            "_view_name": "LayoutView",
            "align_content": null,
            "align_items": null,
            "align_self": null,
            "border": null,
            "bottom": null,
            "display": null,
            "flex": null,
            "flex_flow": null,
            "grid_area": null,
            "grid_auto_columns": null,
            "grid_auto_flow": null,
            "grid_auto_rows": null,
            "grid_column": null,
            "grid_gap": null,
            "grid_row": null,
            "grid_template_areas": null,
            "grid_template_columns": null,
            "grid_template_rows": null,
            "height": null,
            "justify_content": null,
            "justify_items": null,
            "left": null,
            "margin": null,
            "max_height": null,
            "max_width": null,
            "min_height": null,
            "min_width": null,
            "object_fit": null,
            "object_position": null,
            "order": null,
            "overflow": null,
            "overflow_x": null,
            "overflow_y": null,
            "padding": null,
            "right": null,
            "top": null,
            "visibility": null,
            "width": null
          }
        },
        "ab58fe0387ff45fda4d25ca8d291a2ef": {
          "model_module": "@jupyter-widgets/base",
          "model_name": "LayoutModel",
          "model_module_version": "1.2.0",
          "state": {
            "_model_module": "@jupyter-widgets/base",
            "_model_module_version": "1.2.0",
            "_model_name": "LayoutModel",
            "_view_count": null,
            "_view_module": "@jupyter-widgets/base",
            "_view_module_version": "1.2.0",
            "_view_name": "LayoutView",
            "align_content": null,
            "align_items": null,
            "align_self": null,
            "border": null,
            "bottom": null,
            "display": null,
            "flex": null,
            "flex_flow": null,
            "grid_area": null,
            "grid_auto_columns": null,
            "grid_auto_flow": null,
            "grid_auto_rows": null,
            "grid_column": null,
            "grid_gap": null,
            "grid_row": null,
            "grid_template_areas": null,
            "grid_template_columns": null,
            "grid_template_rows": null,
            "height": null,
            "justify_content": null,
            "justify_items": null,
            "left": null,
            "margin": null,
            "max_height": null,
            "max_width": null,
            "min_height": null,
            "min_width": null,
            "object_fit": null,
            "object_position": null,
            "order": null,
            "overflow": null,
            "overflow_x": null,
            "overflow_y": null,
            "padding": null,
            "right": null,
            "top": null,
            "visibility": null,
            "width": null
          }
        },
        "b245687170e84b38810d2fba75c27bff": {
          "model_module": "@jupyter-widgets/controls",
          "model_name": "DescriptionStyleModel",
          "model_module_version": "1.5.0",
          "state": {
            "_model_module": "@jupyter-widgets/controls",
            "_model_module_version": "1.5.0",
            "_model_name": "DescriptionStyleModel",
            "_view_count": null,
            "_view_module": "@jupyter-widgets/base",
            "_view_module_version": "1.2.0",
            "_view_name": "StyleView",
            "description_width": ""
          }
        },
        "6d82dbd2d77e411e9195abcc199d4410": {
          "model_module": "@jupyter-widgets/base",
          "model_name": "LayoutModel",
          "model_module_version": "1.2.0",
          "state": {
            "_model_module": "@jupyter-widgets/base",
            "_model_module_version": "1.2.0",
            "_model_name": "LayoutModel",
            "_view_count": null,
            "_view_module": "@jupyter-widgets/base",
            "_view_module_version": "1.2.0",
            "_view_name": "LayoutView",
            "align_content": null,
            "align_items": null,
            "align_self": null,
            "border": null,
            "bottom": null,
            "display": null,
            "flex": null,
            "flex_flow": null,
            "grid_area": null,
            "grid_auto_columns": null,
            "grid_auto_flow": null,
            "grid_auto_rows": null,
            "grid_column": null,
            "grid_gap": null,
            "grid_row": null,
            "grid_template_areas": null,
            "grid_template_columns": null,
            "grid_template_rows": null,
            "height": null,
            "justify_content": null,
            "justify_items": null,
            "left": null,
            "margin": null,
            "max_height": null,
            "max_width": null,
            "min_height": null,
            "min_width": null,
            "object_fit": null,
            "object_position": null,
            "order": null,
            "overflow": null,
            "overflow_x": null,
            "overflow_y": null,
            "padding": null,
            "right": null,
            "top": null,
            "visibility": null,
            "width": null
          }
        },
        "99e13541dcd4417dbe80d8f33529d5ee": {
          "model_module": "@jupyter-widgets/controls",
          "model_name": "ProgressStyleModel",
          "model_module_version": "1.5.0",
          "state": {
            "_model_module": "@jupyter-widgets/controls",
            "_model_module_version": "1.5.0",
            "_model_name": "ProgressStyleModel",
            "_view_count": null,
            "_view_module": "@jupyter-widgets/base",
            "_view_module_version": "1.2.0",
            "_view_name": "StyleView",
            "bar_color": null,
            "description_width": ""
          }
        },
        "068d1ca1c28141759c9e3e02b61bb7f9": {
          "model_module": "@jupyter-widgets/base",
          "model_name": "LayoutModel",
          "model_module_version": "1.2.0",
          "state": {
            "_model_module": "@jupyter-widgets/base",
            "_model_module_version": "1.2.0",
            "_model_name": "LayoutModel",
            "_view_count": null,
            "_view_module": "@jupyter-widgets/base",
            "_view_module_version": "1.2.0",
            "_view_name": "LayoutView",
            "align_content": null,
            "align_items": null,
            "align_self": null,
            "border": null,
            "bottom": null,
            "display": null,
            "flex": null,
            "flex_flow": null,
            "grid_area": null,
            "grid_auto_columns": null,
            "grid_auto_flow": null,
            "grid_auto_rows": null,
            "grid_column": null,
            "grid_gap": null,
            "grid_row": null,
            "grid_template_areas": null,
            "grid_template_columns": null,
            "grid_template_rows": null,
            "height": null,
            "justify_content": null,
            "justify_items": null,
            "left": null,
            "margin": null,
            "max_height": null,
            "max_width": null,
            "min_height": null,
            "min_width": null,
            "object_fit": null,
            "object_position": null,
            "order": null,
            "overflow": null,
            "overflow_x": null,
            "overflow_y": null,
            "padding": null,
            "right": null,
            "top": null,
            "visibility": null,
            "width": null
          }
        },
        "9ce13c5241c446ea89b20259f0773e8f": {
          "model_module": "@jupyter-widgets/controls",
          "model_name": "DescriptionStyleModel",
          "model_module_version": "1.5.0",
          "state": {
            "_model_module": "@jupyter-widgets/controls",
            "_model_module_version": "1.5.0",
            "_model_name": "DescriptionStyleModel",
            "_view_count": null,
            "_view_module": "@jupyter-widgets/base",
            "_view_module_version": "1.2.0",
            "_view_name": "StyleView",
            "description_width": ""
          }
        },
        "3858c59c93944ee19aa359e7acf07cc8": {
          "model_module": "@jupyter-widgets/controls",
          "model_name": "VBoxModel",
          "model_module_version": "1.5.0",
          "state": {
            "_dom_classes": [],
            "_model_module": "@jupyter-widgets/controls",
            "_model_module_version": "1.5.0",
            "_model_name": "VBoxModel",
            "_view_count": null,
            "_view_module": "@jupyter-widgets/controls",
            "_view_module_version": "1.5.0",
            "_view_name": "VBoxView",
            "box_style": "",
            "children": [
              "IPY_MODEL_380545abf6a34b01aa4fd65912dba1c2",
              "IPY_MODEL_99f0cd50e9454e0798f17a7b925961e5"
            ],
            "layout": "IPY_MODEL_4076897e00b644228c8be722babe52f6"
          }
        },
        "380545abf6a34b01aa4fd65912dba1c2": {
          "model_module": "@jupyter-widgets/controls",
          "model_name": "BoundedIntTextModel",
          "model_module_version": "1.5.0",
          "state": {
            "_dom_classes": [],
            "_model_module": "@jupyter-widgets/controls",
            "_model_module_version": "1.5.0",
            "_model_name": "BoundedIntTextModel",
            "_view_count": null,
            "_view_module": "@jupyter-widgets/controls",
            "_view_module_version": "1.5.0",
            "_view_name": "IntTextView",
            "continuous_update": false,
            "description": "Sentence:",
            "description_tooltip": null,
            "disabled": false,
            "layout": "IPY_MODEL_dee935487e3d4b88aaf23c6debc48e20",
            "max": 763,
            "min": 0,
            "step": 1,
            "style": "IPY_MODEL_448ff99ce5da4374a6b36252c12168d7",
            "value": 1
          }
        },
        "99f0cd50e9454e0798f17a7b925961e5": {
          "model_module": "@jupyter-widgets/output",
          "model_name": "OutputModel",
          "model_module_version": "1.0.0",
          "state": {
            "_dom_classes": [],
            "_model_module": "@jupyter-widgets/output",
            "_model_module_version": "1.0.0",
            "_model_name": "OutputModel",
            "_view_count": null,
            "_view_module": "@jupyter-widgets/output",
            "_view_module_version": "1.0.0",
            "_view_name": "OutputView",
            "layout": "IPY_MODEL_c0cb4713fc9b414fafa6b06735b822ce",
            "msg_id": "",
            "outputs": [
              {
                "output_type": "display_data",
                "data": {
                  "text/plain": "<IPython.core.display.HTML object>",
                  "text/html": "<span class=\"tex2jax_ignore\"><div class=\"entities\" style=\"line-height: 2.5; direction: ltr\">The operation was important in that it was the first large scale deployment of \n<mark class=\"entity\" style=\"background: #d06615; padding: 0.45em 0.6em; margin: 0 0.25em; line-height: 1; border-radius: 0.35em;\">\n    the\n    <span style=\"font-size: 0.8em; font-weight: bold; line-height: 1; border-radius: 0.35em; vertical-align: middle; margin-left: 0.5rem\">Organisation</span>\n</mark>\n \n<mark class=\"entity\" style=\"background: #d06615; padding: 0.45em 0.6em; margin: 0 0.25em; line-height: 1; border-radius: 0.35em;\">\n    New\n    <span style=\"font-size: 0.8em; font-weight: bold; line-height: 1; border-radius: 0.35em; vertical-align: middle; margin-left: 0.5rem\">Organisation</span>\n</mark>\n \n<mark class=\"entity\" style=\"background: #d06615; padding: 0.45em 0.6em; margin: 0 0.25em; line-height: 1; border-radius: 0.35em;\">\n    Iraqi\n    <span style=\"font-size: 0.8em; font-weight: bold; line-height: 1; border-radius: 0.35em; vertical-align: middle; margin-left: 0.5rem\">Organisation</span>\n</mark>\n \n<mark class=\"entity\" style=\"background: #d06615; padding: 0.45em 0.6em; margin: 0 0.25em; line-height: 1; border-radius: 0.35em;\">\n    Army\n    <span style=\"font-size: 0.8em; font-weight: bold; line-height: 1; border-radius: 0.35em; vertical-align: middle; margin-left: 0.5rem\">Organisation</span>\n</mark>\n . </div></span>"
                },
                "metadata": {}
              },
              {
                "output_type": "stream",
                "name": "stdout",
                "text": [
                  "The: O\n",
                  "operation: O\n",
                  "was: O\n",
                  "important: O\n",
                  "in: O\n",
                  "that: O\n",
                  "it: O\n",
                  "was: O\n",
                  "the: O\n",
                  "first: O\n",
                  "large: O\n",
                  "scale: O\n",
                  "deployment: O\n",
                  "of: O\n",
                  "the: B-Organisation\n",
                  "New: I-Organisation\n",
                  "Iraqi: I-Organisation\n",
                  "Army: I-Organisation\n",
                  ".: O\n"
                ]
              }
            ]
          }
        },
        "4076897e00b644228c8be722babe52f6": {
          "model_module": "@jupyter-widgets/base",
          "model_name": "LayoutModel",
          "model_module_version": "1.2.0",
          "state": {
            "_model_module": "@jupyter-widgets/base",
            "_model_module_version": "1.2.0",
            "_model_name": "LayoutModel",
            "_view_count": null,
            "_view_module": "@jupyter-widgets/base",
            "_view_module_version": "1.2.0",
            "_view_name": "LayoutView",
            "align_content": null,
            "align_items": null,
            "align_self": null,
            "border": null,
            "bottom": null,
            "display": null,
            "flex": null,
            "flex_flow": null,
            "grid_area": null,
            "grid_auto_columns": null,
            "grid_auto_flow": null,
            "grid_auto_rows": null,
            "grid_column": null,
            "grid_gap": null,
            "grid_row": null,
            "grid_template_areas": null,
            "grid_template_columns": null,
            "grid_template_rows": null,
            "height": null,
            "justify_content": null,
            "justify_items": null,
            "left": null,
            "margin": null,
            "max_height": null,
            "max_width": null,
            "min_height": null,
            "min_width": null,
            "object_fit": null,
            "object_position": null,
            "order": null,
            "overflow": null,
            "overflow_x": null,
            "overflow_y": null,
            "padding": null,
            "right": null,
            "top": null,
            "visibility": null,
            "width": null
          }
        },
        "dee935487e3d4b88aaf23c6debc48e20": {
          "model_module": "@jupyter-widgets/base",
          "model_name": "LayoutModel",
          "model_module_version": "1.2.0",
          "state": {
            "_model_module": "@jupyter-widgets/base",
            "_model_module_version": "1.2.0",
            "_model_name": "LayoutModel",
            "_view_count": null,
            "_view_module": "@jupyter-widgets/base",
            "_view_module_version": "1.2.0",
            "_view_name": "LayoutView",
            "align_content": null,
            "align_items": null,
            "align_self": null,
            "border": null,
            "bottom": null,
            "display": null,
            "flex": null,
            "flex_flow": null,
            "grid_area": null,
            "grid_auto_columns": null,
            "grid_auto_flow": null,
            "grid_auto_rows": null,
            "grid_column": null,
            "grid_gap": null,
            "grid_row": null,
            "grid_template_areas": null,
            "grid_template_columns": null,
            "grid_template_rows": null,
            "height": null,
            "justify_content": null,
            "justify_items": null,
            "left": null,
            "margin": null,
            "max_height": null,
            "max_width": null,
            "min_height": null,
            "min_width": null,
            "object_fit": null,
            "object_position": null,
            "order": null,
            "overflow": null,
            "overflow_x": null,
            "overflow_y": null,
            "padding": null,
            "right": null,
            "top": null,
            "visibility": null,
            "width": null
          }
        },
        "448ff99ce5da4374a6b36252c12168d7": {
          "model_module": "@jupyter-widgets/controls",
          "model_name": "DescriptionStyleModel",
          "model_module_version": "1.5.0",
          "state": {
            "_model_module": "@jupyter-widgets/controls",
            "_model_module_version": "1.5.0",
            "_model_name": "DescriptionStyleModel",
            "_view_count": null,
            "_view_module": "@jupyter-widgets/base",
            "_view_module_version": "1.2.0",
            "_view_name": "StyleView",
            "description_width": ""
          }
        },
        "c0cb4713fc9b414fafa6b06735b822ce": {
          "model_module": "@jupyter-widgets/base",
          "model_name": "LayoutModel",
          "model_module_version": "1.2.0",
          "state": {
            "_model_module": "@jupyter-widgets/base",
            "_model_module_version": "1.2.0",
            "_model_name": "LayoutModel",
            "_view_count": null,
            "_view_module": "@jupyter-widgets/base",
            "_view_module_version": "1.2.0",
            "_view_name": "LayoutView",
            "align_content": null,
            "align_items": null,
            "align_self": null,
            "border": null,
            "bottom": null,
            "display": null,
            "flex": null,
            "flex_flow": null,
            "grid_area": null,
            "grid_auto_columns": null,
            "grid_auto_flow": null,
            "grid_auto_rows": null,
            "grid_column": null,
            "grid_gap": null,
            "grid_row": null,
            "grid_template_areas": null,
            "grid_template_columns": null,
            "grid_template_rows": null,
            "height": null,
            "justify_content": null,
            "justify_items": null,
            "left": null,
            "margin": null,
            "max_height": null,
            "max_width": null,
            "min_height": null,
            "min_width": null,
            "object_fit": null,
            "object_position": null,
            "order": null,
            "overflow": null,
            "overflow_x": null,
            "overflow_y": null,
            "padding": null,
            "right": null,
            "top": null,
            "visibility": null,
            "width": null
          }
        }
      }
    }
  },
  "nbformat": 4,
  "nbformat_minor": 0
}